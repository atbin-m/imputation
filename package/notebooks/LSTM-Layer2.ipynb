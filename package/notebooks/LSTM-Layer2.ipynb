{
 "cells": [
  {
   "cell_type": "markdown",
   "metadata": {},
   "source": [
    "1. LSTM multiinput-series: https://www.aiproblog.com/index.php/2018/11/13/how-to-develop-lstm-models-for-time-series-forecasting/\n",
    "2. LSTM train/test: https://machinelearningmastery.com/time-series-prediction-lstm-recurrent-neural-networks-python-keras/\n",
    "3. Loss plotting: https://machinelearningmastery.com/display-deep-learning-model-training-history-in-keras/\n",
    "4. Overfit/Underfit: https://machinelearningmastery.com/diagnose-overfitting-underfitting-lstm-models/"
   ]
  },
  {
   "cell_type": "code",
   "execution_count": 66,
   "metadata": {},
   "outputs": [],
   "source": [
    "import pandas as pd\n",
    "import numpy as np\n",
    "import matplotlib.pyplot as plt\n",
    "%matplotlib inline\n",
    "\n",
    "from sklearn.model_selection import KFold, cross_val_score, train_test_split, RandomizedSearchCV\n",
    "from sklearn.preprocessing import StandardScaler\n",
    "from keras.models import Sequential\n",
    "from keras.layers import Dense\n",
    "from keras.wrappers.scikit_learn import KerasRegressor\n",
    "from keras.layers import LSTM\n",
    "from keras.layers import Dense\n",
    "import lightgbm as lgb\n",
    "from scipy.stats import uniform, randint"
   ]
  },
  {
   "cell_type": "code",
   "execution_count": 67,
   "metadata": {},
   "outputs": [],
   "source": [
    "def diagnostic_stats(ytrue, ypred):\n",
    "    \"\"\"\n",
    "    https://stats.stackexchange.com/questions/142248/difference-between-r-square-and-rmse-in-linear-regression\n",
    "    \n",
    "    https://www.sciencedirect.com/topics/engineering/mean-bias-error\n",
    "    \"\"\"\n",
    "    n = len(ytrue)\n",
    "\n",
    "    # Check that the ytrue and ypred are equal length vector.\n",
    "    assert n == len(ypred)\n",
    "    \n",
    "    # sum squared error\n",
    "    sse = np.sum((ytrue - ypred)**2)\n",
    "    \n",
    "    # root mean square error\n",
    "    rmse = np.sqrt(sse/n)\n",
    "\n",
    "    # total sum of squares\n",
    "    tss = np.sum((ytrue - np.mean(ytrue))**2)\n",
    "    tst = np.sum((ypred - np.mean(ypred))**2)\n",
    "    tstp = tst**0.5\n",
    "    tssp = tss**0.5\n",
    "    \n",
    "    soorat = np.sum((ytrue-np.mean(ytrue))*(ypred-np.mean(ypred)))\n",
    "    \n",
    "    # Rsquare\n",
    "    ##rsqr = 1 - sse/tss\n",
    "    rsqr = (soorat/(tssp*tstp))**2\n",
    "\n",
    "    # Mean biased error\n",
    "    mbe = np.mean(ytrue - ypred)\n",
    "    \n",
    "    # IOAD\n",
    "    num = np.sum((ytrue - ypred)**2)\n",
    "    denom = np.abs(ytrue - ypred) + np.abs(ytrue + ypred)\n",
    "    ioad = 1 - num/np.sum(denom**2)\n",
    "\n",
    "    print(\"RMSE: %1.3f, R^2: %1.3f, MBE: %1.3f, IOAD: %1.3f\"%(rmse, rsqr, mbe, ioad))\n",
    "    \n",
    "    return rmse, rsqr, mbe, ioad"
   ]
  },
  {
   "cell_type": "code",
   "execution_count": 68,
   "metadata": {},
   "outputs": [],
   "source": [
    "train_df = pd.read_csv('train_layer2.csv', \n",
    "                 parse_dates=['DateTime'], index_col='DateTime')\n",
    "train_df.drop('Unnamed: 0', axis=1, inplace=True)\n",
    "train_df.sort_index(inplace=True)\n",
    "\n",
    "test_df = pd.read_csv('test_layer2.csv', \n",
    "                 parse_dates=['DateTime'], index_col='DateTime')\n",
    "test_df.drop('Unnamed: 0', axis=1, inplace=True)\n",
    "test_df.sort_index(inplace=True)"
   ]
  },
  {
   "cell_type": "code",
   "execution_count": 69,
   "metadata": {},
   "outputs": [
    {
     "data": {
      "text/html": [
       "<div>\n",
       "<style scoped>\n",
       "    .dataframe tbody tr th:only-of-type {\n",
       "        vertical-align: middle;\n",
       "    }\n",
       "\n",
       "    .dataframe tbody tr th {\n",
       "        vertical-align: top;\n",
       "    }\n",
       "\n",
       "    .dataframe thead th {\n",
       "        text-align: right;\n",
       "    }\n",
       "</style>\n",
       "<table border=\"1\" class=\"dataframe\">\n",
       "  <thead>\n",
       "    <tr style=\"text-align: right;\">\n",
       "      <th></th>\n",
       "      <th>0</th>\n",
       "      <th>1</th>\n",
       "      <th>2</th>\n",
       "      <th>3</th>\n",
       "      <th>4</th>\n",
       "      <th>5</th>\n",
       "      <th>Fc</th>\n",
       "    </tr>\n",
       "    <tr>\n",
       "      <th>DateTime</th>\n",
       "      <th></th>\n",
       "      <th></th>\n",
       "      <th></th>\n",
       "      <th></th>\n",
       "      <th></th>\n",
       "      <th></th>\n",
       "      <th></th>\n",
       "    </tr>\n",
       "  </thead>\n",
       "  <tbody>\n",
       "    <tr>\n",
       "      <td>2013-01-01 01:00:00</td>\n",
       "      <td>0.846773</td>\n",
       "      <td>0.918132</td>\n",
       "      <td>0.875012</td>\n",
       "      <td>0.883520</td>\n",
       "      <td>0.386506</td>\n",
       "      <td>0.730006</td>\n",
       "      <td>1.067198</td>\n",
       "    </tr>\n",
       "    <tr>\n",
       "      <td>2013-01-01 01:30:00</td>\n",
       "      <td>0.830835</td>\n",
       "      <td>0.868667</td>\n",
       "      <td>0.902072</td>\n",
       "      <td>0.871775</td>\n",
       "      <td>0.445869</td>\n",
       "      <td>0.735292</td>\n",
       "      <td>1.041434</td>\n",
       "    </tr>\n",
       "    <tr>\n",
       "      <td>2013-01-01 07:00:00</td>\n",
       "      <td>0.477854</td>\n",
       "      <td>0.376036</td>\n",
       "      <td>-0.285410</td>\n",
       "      <td>0.523461</td>\n",
       "      <td>0.539703</td>\n",
       "      <td>0.539797</td>\n",
       "      <td>0.391297</td>\n",
       "    </tr>\n",
       "    <tr>\n",
       "      <td>2013-01-01 07:30:00</td>\n",
       "      <td>-0.274316</td>\n",
       "      <td>0.163167</td>\n",
       "      <td>-0.431348</td>\n",
       "      <td>0.132327</td>\n",
       "      <td>0.257334</td>\n",
       "      <td>0.278477</td>\n",
       "      <td>1.339480</td>\n",
       "    </tr>\n",
       "    <tr>\n",
       "      <td>2013-01-01 08:00:00</td>\n",
       "      <td>-0.233189</td>\n",
       "      <td>-0.029411</td>\n",
       "      <td>-0.511897</td>\n",
       "      <td>-0.106105</td>\n",
       "      <td>0.043812</td>\n",
       "      <td>0.067382</td>\n",
       "      <td>1.230345</td>\n",
       "    </tr>\n",
       "  </tbody>\n",
       "</table>\n",
       "</div>"
      ],
      "text/plain": [
       "                            0         1         2         3         4  \\\n",
       "DateTime                                                                \n",
       "2013-01-01 01:00:00  0.846773  0.918132  0.875012  0.883520  0.386506   \n",
       "2013-01-01 01:30:00  0.830835  0.868667  0.902072  0.871775  0.445869   \n",
       "2013-01-01 07:00:00  0.477854  0.376036 -0.285410  0.523461  0.539703   \n",
       "2013-01-01 07:30:00 -0.274316  0.163167 -0.431348  0.132327  0.257334   \n",
       "2013-01-01 08:00:00 -0.233189 -0.029411 -0.511897 -0.106105  0.043812   \n",
       "\n",
       "                            5        Fc  \n",
       "DateTime                                 \n",
       "2013-01-01 01:00:00  0.730006  1.067198  \n",
       "2013-01-01 01:30:00  0.735292  1.041434  \n",
       "2013-01-01 07:00:00  0.539797  0.391297  \n",
       "2013-01-01 07:30:00  0.278477  1.339480  \n",
       "2013-01-01 08:00:00  0.067382  1.230345  "
      ]
     },
     "execution_count": 69,
     "metadata": {},
     "output_type": "execute_result"
    }
   ],
   "source": [
    "train_df.head()"
   ]
  },
  {
   "cell_type": "code",
   "execution_count": 70,
   "metadata": {},
   "outputs": [
    {
     "data": {
      "text/html": [
       "<div>\n",
       "<style scoped>\n",
       "    .dataframe tbody tr th:only-of-type {\n",
       "        vertical-align: middle;\n",
       "    }\n",
       "\n",
       "    .dataframe tbody tr th {\n",
       "        vertical-align: top;\n",
       "    }\n",
       "\n",
       "    .dataframe thead th {\n",
       "        text-align: right;\n",
       "    }\n",
       "</style>\n",
       "<table border=\"1\" class=\"dataframe\">\n",
       "  <thead>\n",
       "    <tr style=\"text-align: right;\">\n",
       "      <th></th>\n",
       "      <th>0</th>\n",
       "      <th>1</th>\n",
       "      <th>2</th>\n",
       "      <th>3</th>\n",
       "      <th>4</th>\n",
       "      <th>5</th>\n",
       "      <th>Fc</th>\n",
       "    </tr>\n",
       "    <tr>\n",
       "      <th>DateTime</th>\n",
       "      <th></th>\n",
       "      <th></th>\n",
       "      <th></th>\n",
       "      <th></th>\n",
       "      <th></th>\n",
       "      <th></th>\n",
       "      <th></th>\n",
       "    </tr>\n",
       "  </thead>\n",
       "  <tbody>\n",
       "    <tr>\n",
       "      <td>2013-03-21 02:30:00</td>\n",
       "      <td>1.223779</td>\n",
       "      <td>0.961175</td>\n",
       "      <td>1.041231</td>\n",
       "      <td>0.636519</td>\n",
       "      <td>0.516030</td>\n",
       "      <td>1.089910</td>\n",
       "      <td>2.088809</td>\n",
       "    </tr>\n",
       "    <tr>\n",
       "      <td>2013-03-21 03:00:00</td>\n",
       "      <td>0.951709</td>\n",
       "      <td>0.937124</td>\n",
       "      <td>0.965334</td>\n",
       "      <td>0.608987</td>\n",
       "      <td>0.615727</td>\n",
       "      <td>0.755521</td>\n",
       "      <td>0.552344</td>\n",
       "    </tr>\n",
       "    <tr>\n",
       "      <td>2013-03-21 04:00:00</td>\n",
       "      <td>1.138612</td>\n",
       "      <td>1.000614</td>\n",
       "      <td>0.964442</td>\n",
       "      <td>0.657209</td>\n",
       "      <td>0.586111</td>\n",
       "      <td>0.662852</td>\n",
       "      <td>1.241243</td>\n",
       "    </tr>\n",
       "    <tr>\n",
       "      <td>2013-03-21 08:00:00</td>\n",
       "      <td>0.546598</td>\n",
       "      <td>0.635507</td>\n",
       "      <td>0.659244</td>\n",
       "      <td>0.228027</td>\n",
       "      <td>0.463615</td>\n",
       "      <td>0.319815</td>\n",
       "      <td>0.410104</td>\n",
       "    </tr>\n",
       "    <tr>\n",
       "      <td>2013-03-21 08:30:00</td>\n",
       "      <td>-0.081457</td>\n",
       "      <td>0.215423</td>\n",
       "      <td>-0.397104</td>\n",
       "      <td>-0.311811</td>\n",
       "      <td>-0.030562</td>\n",
       "      <td>-0.427432</td>\n",
       "      <td>-0.338063</td>\n",
       "    </tr>\n",
       "  </tbody>\n",
       "</table>\n",
       "</div>"
      ],
      "text/plain": [
       "                            0         1         2         3         4  \\\n",
       "DateTime                                                                \n",
       "2013-03-21 02:30:00  1.223779  0.961175  1.041231  0.636519  0.516030   \n",
       "2013-03-21 03:00:00  0.951709  0.937124  0.965334  0.608987  0.615727   \n",
       "2013-03-21 04:00:00  1.138612  1.000614  0.964442  0.657209  0.586111   \n",
       "2013-03-21 08:00:00  0.546598  0.635507  0.659244  0.228027  0.463615   \n",
       "2013-03-21 08:30:00 -0.081457  0.215423 -0.397104 -0.311811 -0.030562   \n",
       "\n",
       "                            5        Fc  \n",
       "DateTime                                 \n",
       "2013-03-21 02:30:00  1.089910  2.088809  \n",
       "2013-03-21 03:00:00  0.755521  0.552344  \n",
       "2013-03-21 04:00:00  0.662852  1.241243  \n",
       "2013-03-21 08:00:00  0.319815  0.410104  \n",
       "2013-03-21 08:30:00 -0.427432 -0.338063  "
      ]
     },
     "execution_count": 70,
     "metadata": {},
     "output_type": "execute_result"
    }
   ],
   "source": [
    "test_df.head()"
   ]
  },
  {
   "cell_type": "code",
   "execution_count": 71,
   "metadata": {},
   "outputs": [],
   "source": [
    "Xvar = ['0','1','2','3','4','5']\n",
    "yvar = 'Fc'"
   ]
  },
  {
   "cell_type": "markdown",
   "metadata": {},
   "source": [
    "### LSTM "
   ]
  },
  {
   "cell_type": "markdown",
   "metadata": {},
   "source": [
    "#### Data preparation"
   ]
  },
  {
   "cell_type": "code",
   "execution_count": 72,
   "metadata": {},
   "outputs": [
    {
     "name": "stdout",
     "output_type": "stream",
     "text": [
      "Train: (3824, 7) Test: (1367, 7)\n",
      "X_train: (3824, 6) y_train: (3824,)\n",
      "Index(['0', '1', '2', '3', '4', '5'], dtype='object')\n"
     ]
    }
   ],
   "source": [
    "# split into input (X) and output (Y) variables\n",
    "print('Train:', train_df.shape, 'Test:', test_df.shape)\n",
    "\n",
    "X_train, y_train = train_df[Xvar], train_df[yvar]\n",
    "X_test, y_test = test_df[Xvar], test_df[yvar]\n",
    "\n",
    "print('X_train:', X_train.shape, 'y_train:', y_train.shape)\n",
    "print(X_train.keys())\n",
    "\n",
    "scaler1 = StandardScaler()\n",
    "X_train_scaled = scaler1.fit_transform(X_train)\n",
    "scaler2 = StandardScaler()\n",
    "y_train_scaled = scaler2.fit_transform(y_train.values.reshape(-1,1))\n",
    "y_train_std, y_train_mean = np.std(y_train.values), np.mean(y_train.values)\n",
    "\n",
    "scaler3 = StandardScaler()\n",
    "X_test_scaled = scaler3.fit_transform(X_test)\n",
    "scaler4 = StandardScaler()\n",
    "y_test_scaled = scaler4.fit_transform(y_test.values.reshape(-1,1))\n",
    "y_test_std, y_test_mean = np.std(y_test.values), np.mean(y_test.values)\n"
   ]
  },
  {
   "cell_type": "code",
   "execution_count": 73,
   "metadata": {},
   "outputs": [
    {
     "data": {
      "text/plain": [
       "((3824, 6), (3824,))"
      ]
     },
     "execution_count": 73,
     "metadata": {},
     "output_type": "execute_result"
    }
   ],
   "source": [
    "X_train_scaled.shape, y_train_scaled.squeeze().shape"
   ]
  },
  {
   "cell_type": "code",
   "execution_count": 74,
   "metadata": {},
   "outputs": [
    {
     "name": "stdout",
     "output_type": "stream",
     "text": [
      "(3824, 7) (1367, 7)\n"
     ]
    }
   ],
   "source": [
    "dataset_train = np.column_stack((X_train_scaled, y_train_scaled.squeeze()))\n",
    "dataset_test = np.column_stack((X_test_scaled, y_test_scaled.squeeze()))\n",
    "\n",
    "print(dataset_train.shape, dataset_test.shape)"
   ]
  },
  {
   "cell_type": "code",
   "execution_count": 75,
   "metadata": {},
   "outputs": [],
   "source": [
    "NSTEPS = 5\n",
    "NFEATURES = len(Xvar)"
   ]
  },
  {
   "cell_type": "code",
   "execution_count": 76,
   "metadata": {},
   "outputs": [],
   "source": [
    "# split a multivariate sequence into samples\n",
    "def split_sequences(sequences, n_steps):\n",
    "\tX, y = list(), list()\n",
    "\tfor i in range(len(sequences)):\n",
    "\t\t# find the end of this pattern\n",
    "\t\tend_ix = i + n_steps\n",
    "\t\t# check if we are beyond the dataset\n",
    "\t\tif end_ix > len(sequences):\n",
    "\t\t\tbreak\n",
    "\t\t# gather input and output parts of the pattern\n",
    "\t\tseq_x, seq_y = sequences[i:end_ix, :-1], sequences[end_ix-1, -1]\n",
    "\t\tX.append(seq_x)\n",
    "\t\ty.append(seq_y)\n",
    "\treturn np.array(X), np.array(y)"
   ]
  },
  {
   "cell_type": "code",
   "execution_count": 77,
   "metadata": {},
   "outputs": [
    {
     "name": "stdout",
     "output_type": "stream",
     "text": [
      "(3820, 5, 6) (3820,)\n"
     ]
    }
   ],
   "source": [
    "# convert into input/output sequences\n",
    "dataset_trainX, dataset_trainy = split_sequences(dataset_train, n_steps=NSTEPS)\n",
    "print(dataset_trainX.shape, dataset_trainy.shape)"
   ]
  },
  {
   "cell_type": "code",
   "execution_count": 78,
   "metadata": {},
   "outputs": [
    {
     "data": {
      "text/plain": [
       "array([ 1.21976292,  0.3395728 , -0.37986877, ...,  0.86154897,\n",
       "        0.78428415,  0.50438018])"
      ]
     },
     "execution_count": 78,
     "metadata": {},
     "output_type": "execute_result"
    }
   ],
   "source": [
    "dataset_trainy"
   ]
  },
  {
   "cell_type": "markdown",
   "metadata": {},
   "source": [
    "#### Model fitting"
   ]
  },
  {
   "cell_type": "code",
   "execution_count": 79,
   "metadata": {
    "scrolled": true
   },
   "outputs": [
    {
     "name": "stdout",
     "output_type": "stream",
     "text": [
      "Train on 2674 samples, validate on 1146 samples\n",
      "Epoch 1/100\n",
      " - 3s - loss: 0.9777 - val_loss: 0.8979\n",
      "Epoch 2/100\n",
      " - 0s - loss: 0.9277 - val_loss: 0.8161\n",
      "Epoch 3/100\n",
      " - 0s - loss: 0.8664 - val_loss: 0.7200\n",
      "Epoch 4/100\n",
      " - 0s - loss: 0.7987 - val_loss: 0.6187\n",
      "Epoch 5/100\n",
      " - 0s - loss: 0.7325 - val_loss: 0.5228\n",
      "Epoch 6/100\n",
      " - 0s - loss: 0.6762 - val_loss: 0.4420\n",
      "Epoch 7/100\n",
      " - 0s - loss: 0.6347 - val_loss: 0.3800\n",
      "Epoch 8/100\n",
      " - 0s - loss: 0.6072 - val_loss: 0.3352\n",
      "Epoch 9/100\n",
      " - 0s - loss: 0.5896 - val_loss: 0.3040\n",
      "Epoch 10/100\n",
      " - 0s - loss: 0.5775 - val_loss: 0.2823\n",
      "Epoch 11/100\n",
      " - 0s - loss: 0.5689 - val_loss: 0.2665\n",
      "Epoch 12/100\n",
      " - 0s - loss: 0.5626 - val_loss: 0.2545\n",
      "Epoch 13/100\n",
      " - 0s - loss: 0.5581 - val_loss: 0.2447\n",
      "Epoch 14/100\n",
      " - 0s - loss: 0.5547 - val_loss: 0.2368\n",
      "Epoch 15/100\n",
      " - 0s - loss: 0.5523 - val_loss: 0.2308\n",
      "Epoch 16/100\n",
      " - 0s - loss: 0.5505 - val_loss: 0.2262\n",
      "Epoch 17/100\n",
      " - 0s - loss: 0.5491 - val_loss: 0.2225\n",
      "Epoch 18/100\n",
      " - 0s - loss: 0.5479 - val_loss: 0.2196\n",
      "Epoch 19/100\n",
      " - 0s - loss: 0.5468 - val_loss: 0.2170\n",
      "Epoch 20/100\n",
      " - 0s - loss: 0.5459 - val_loss: 0.2147\n",
      "Epoch 21/100\n",
      " - 0s - loss: 0.5450 - val_loss: 0.2127\n",
      "Epoch 22/100\n",
      " - 0s - loss: 0.5442 - val_loss: 0.2111\n",
      "Epoch 23/100\n",
      " - 0s - loss: 0.5435 - val_loss: 0.2097\n",
      "Epoch 24/100\n",
      " - 0s - loss: 0.5429 - val_loss: 0.2085\n",
      "Epoch 25/100\n",
      " - 0s - loss: 0.5424 - val_loss: 0.2074\n",
      "Epoch 26/100\n",
      " - 0s - loss: 0.5419 - val_loss: 0.2065\n",
      "Epoch 27/100\n",
      " - 0s - loss: 0.5414 - val_loss: 0.2056\n",
      "Epoch 28/100\n",
      " - 0s - loss: 0.5410 - val_loss: 0.2049\n",
      "Epoch 29/100\n",
      " - 0s - loss: 0.5406 - val_loss: 0.2043\n",
      "Epoch 30/100\n",
      " - 0s - loss: 0.5402 - val_loss: 0.2037\n",
      "Epoch 31/100\n",
      " - 0s - loss: 0.5399 - val_loss: 0.2031\n",
      "Epoch 32/100\n",
      " - 0s - loss: 0.5395 - val_loss: 0.2027\n",
      "Epoch 33/100\n",
      " - 0s - loss: 0.5392 - val_loss: 0.2023\n",
      "Epoch 34/100\n",
      " - 0s - loss: 0.5389 - val_loss: 0.2019\n",
      "Epoch 35/100\n",
      " - 0s - loss: 0.5387 - val_loss: 0.2017\n",
      "Epoch 36/100\n",
      " - 0s - loss: 0.5384 - val_loss: 0.2015\n",
      "Epoch 37/100\n",
      " - 0s - loss: 0.5382 - val_loss: 0.2013\n",
      "Epoch 38/100\n",
      " - 0s - loss: 0.5379 - val_loss: 0.2011\n",
      "Epoch 39/100\n",
      " - 0s - loss: 0.5377 - val_loss: 0.2009\n",
      "Epoch 40/100\n",
      " - 0s - loss: 0.5375 - val_loss: 0.2008\n",
      "Epoch 41/100\n",
      " - 0s - loss: 0.5373 - val_loss: 0.2007\n",
      "Epoch 42/100\n",
      " - 0s - loss: 0.5370 - val_loss: 0.2006\n",
      "Epoch 43/100\n",
      " - 0s - loss: 0.5368 - val_loss: 0.2005\n",
      "Epoch 44/100\n",
      " - 0s - loss: 0.5366 - val_loss: 0.2004\n",
      "Epoch 45/100\n",
      " - 0s - loss: 0.5364 - val_loss: 0.2003\n",
      "Epoch 46/100\n",
      " - 0s - loss: 0.5362 - val_loss: 0.2002\n",
      "Epoch 47/100\n",
      " - 0s - loss: 0.5360 - val_loss: 0.2001\n",
      "Epoch 48/100\n",
      " - 0s - loss: 0.5358 - val_loss: 0.2000\n",
      "Epoch 49/100\n",
      " - 0s - loss: 0.5356 - val_loss: 0.1999\n",
      "Epoch 50/100\n",
      " - 0s - loss: 0.5354 - val_loss: 0.1998\n",
      "Epoch 51/100\n",
      " - 0s - loss: 0.5352 - val_loss: 0.1998\n",
      "Epoch 52/100\n",
      " - 0s - loss: 0.5350 - val_loss: 0.1996\n",
      "Epoch 53/100\n",
      " - 0s - loss: 0.5348 - val_loss: 0.1995\n",
      "Epoch 54/100\n",
      " - 0s - loss: 0.5346 - val_loss: 0.1994\n",
      "Epoch 55/100\n",
      " - 0s - loss: 0.5344 - val_loss: 0.1993\n",
      "Epoch 56/100\n",
      " - 0s - loss: 0.5342 - val_loss: 0.1992\n",
      "Epoch 57/100\n",
      " - 0s - loss: 0.5341 - val_loss: 0.1990\n",
      "Epoch 58/100\n",
      " - 0s - loss: 0.5339 - val_loss: 0.1989\n",
      "Epoch 59/100\n",
      " - 0s - loss: 0.5337 - val_loss: 0.1988\n",
      "Epoch 60/100\n",
      " - 0s - loss: 0.5335 - val_loss: 0.1988\n",
      "Epoch 61/100\n",
      " - 0s - loss: 0.5333 - val_loss: 0.1987\n",
      "Epoch 62/100\n",
      " - 0s - loss: 0.5332 - val_loss: 0.1986\n",
      "Epoch 63/100\n",
      " - 0s - loss: 0.5330 - val_loss: 0.1986\n",
      "Epoch 64/100\n",
      " - 0s - loss: 0.5328 - val_loss: 0.1986\n",
      "Epoch 65/100\n",
      " - 0s - loss: 0.5327 - val_loss: 0.1986\n",
      "Epoch 66/100\n",
      " - 0s - loss: 0.5325 - val_loss: 0.1986\n",
      "Epoch 67/100\n",
      " - 0s - loss: 0.5323 - val_loss: 0.1985\n",
      "Epoch 68/100\n",
      " - 0s - loss: 0.5322 - val_loss: 0.1985\n",
      "Epoch 69/100\n",
      " - 0s - loss: 0.5320 - val_loss: 0.1984\n",
      "Epoch 70/100\n",
      " - 0s - loss: 0.5319 - val_loss: 0.1984\n",
      "Epoch 71/100\n",
      " - 0s - loss: 0.5317 - val_loss: 0.1984\n",
      "Epoch 72/100\n",
      " - 0s - loss: 0.5315 - val_loss: 0.1983\n",
      "Epoch 73/100\n",
      " - 0s - loss: 0.5314 - val_loss: 0.1982\n",
      "Epoch 74/100\n",
      " - 0s - loss: 0.5312 - val_loss: 0.1983\n",
      "Epoch 75/100\n",
      " - 0s - loss: 0.5310 - val_loss: 0.1982\n",
      "Epoch 76/100\n",
      " - 0s - loss: 0.5309 - val_loss: 0.1982\n",
      "Epoch 77/100\n",
      " - 0s - loss: 0.5307 - val_loss: 0.1981\n",
      "Epoch 78/100\n",
      " - 0s - loss: 0.5306 - val_loss: 0.1981\n",
      "Epoch 79/100\n",
      " - 0s - loss: 0.5304 - val_loss: 0.1981\n",
      "Epoch 80/100\n",
      " - 0s - loss: 0.5303 - val_loss: 0.1981\n",
      "Epoch 81/100\n",
      " - 0s - loss: 0.5301 - val_loss: 0.1981\n",
      "Epoch 82/100\n",
      " - 0s - loss: 0.5300 - val_loss: 0.1982\n",
      "Epoch 83/100\n",
      " - 0s - loss: 0.5298 - val_loss: 0.1982\n",
      "Epoch 84/100\n",
      " - 0s - loss: 0.5297 - val_loss: 0.1983\n",
      "Epoch 85/100\n",
      " - 0s - loss: 0.5295 - val_loss: 0.1983\n",
      "Epoch 86/100\n",
      " - 0s - loss: 0.5294 - val_loss: 0.1984\n",
      "Epoch 87/100\n",
      " - 0s - loss: 0.5293 - val_loss: 0.1985\n",
      "Epoch 88/100\n",
      " - 0s - loss: 0.5291 - val_loss: 0.1984\n",
      "Epoch 89/100\n",
      " - 0s - loss: 0.5290 - val_loss: 0.1984\n",
      "Epoch 90/100\n",
      " - 0s - loss: 0.5288 - val_loss: 0.1985\n",
      "Epoch 91/100\n",
      " - 0s - loss: 0.5287 - val_loss: 0.1986\n",
      "Epoch 92/100\n",
      " - 0s - loss: 0.5286 - val_loss: 0.1986\n",
      "Epoch 93/100\n",
      " - 0s - loss: 0.5284 - val_loss: 0.1987\n",
      "Epoch 94/100\n",
      " - 0s - loss: 0.5283 - val_loss: 0.1988\n",
      "Epoch 95/100\n",
      " - 0s - loss: 0.5281 - val_loss: 0.1988\n",
      "Epoch 96/100\n",
      " - 0s - loss: 0.5280 - val_loss: 0.1989\n",
      "Epoch 97/100\n",
      " - 0s - loss: 0.5279 - val_loss: 0.1990\n",
      "Epoch 98/100\n",
      " - 0s - loss: 0.5277 - val_loss: 0.1990\n",
      "Epoch 99/100\n",
      " - 0s - loss: 0.5276 - val_loss: 0.1991\n",
      "Epoch 100/100\n",
      " - 0s - loss: 0.5275 - val_loss: 0.1992\n"
     ]
    }
   ],
   "source": [
    "# define model\n",
    "model = Sequential()\n",
    "#model.add(LSTM(2, activation='relu', input_shape=(NSTEPS, NFEATURES)))\n",
    "model.add(LSTM(5, input_shape=(NSTEPS, NFEATURES)))\n",
    "model.add(Dense(4, kernel_initializer='normal', activation='relu'))\n",
    "model.add(Dense(1))    \n",
    "model.compile(optimizer='adam', loss='mean_squared_error')\n",
    "history = model.fit(dataset_trainX, dataset_trainy, \n",
    "                    validation_split=0.3, shuffle=False, \n",
    "                    epochs=100, batch_size=100, verbose=2)"
   ]
  },
  {
   "cell_type": "code",
   "execution_count": 80,
   "metadata": {},
   "outputs": [
    {
     "data": {
      "image/png": "[encoded data removed]",
      "text/plain": [
       "<Figure size 432x288 with 1 Axes>"
      ]
     },
     "metadata": {
      "needs_background": "light"
     },
     "output_type": "display_data"
    }
   ],
   "source": [
    "plt.plot(history.history['loss'], label='train')\n",
    "plt.plot(history.history['val_loss'], label='val')\n",
    "plt.title('model loss')\n",
    "plt.ylabel('loss')\n",
    "plt.xlabel('epoch')\n",
    "plt.legend()\n",
    "plt.show()"
   ]
  },
  {
   "cell_type": "code",
   "execution_count": 81,
   "metadata": {},
   "outputs": [],
   "source": [
    "dataset_testX, dataset_testy = split_sequences(dataset_test, n_steps=NSTEPS)\n",
    "yhat_test = model.predict(dataset_testX, verbose=0)"
   ]
  },
  {
   "cell_type": "code",
   "execution_count": 82,
   "metadata": {},
   "outputs": [
    {
     "data": {
      "text/plain": [
       "((1363, 1), (1363,))"
      ]
     },
     "execution_count": 82,
     "metadata": {},
     "output_type": "execute_result"
    }
   ],
   "source": [
    "yhat_test.shape, dataset_testy.shape"
   ]
  },
  {
   "cell_type": "code",
   "execution_count": 83,
   "metadata": {},
   "outputs": [
    {
     "data": {
      "text/plain": [
       "[<matplotlib.lines.Line2D at 0x1a4f26a780>]"
      ]
     },
     "execution_count": 83,
     "metadata": {},
     "output_type": "execute_result"
    },
    {
     "data": {
      "image/png": "[encoded data removed]",
      "text/plain": [
       "<Figure size 432x288 with 1 Axes>"
      ]
     },
     "metadata": {
      "needs_background": "light"
     },
     "output_type": "display_data"
    }
   ],
   "source": [
    "plt.plot(yhat_test.squeeze(), dataset_testy, 'o')\n",
    "plt.plot([-2,2],[-2,2])"
   ]
  },
  {
   "cell_type": "code",
   "execution_count": 84,
   "metadata": {},
   "outputs": [
    {
     "data": {
      "text/plain": [
       "[<matplotlib.lines.Line2D at 0x1a4f3c3a90>]"
      ]
     },
     "execution_count": 84,
     "metadata": {},
     "output_type": "execute_result"
    },
    {
     "data": {
      "image/png": "[encoded data removed]",
      "text/plain": [
       "<Figure size 432x288 with 1 Axes>"
      ]
     },
     "metadata": {
      "needs_background": "light"
     },
     "output_type": "display_data"
    }
   ],
   "source": [
    "plt.hexbin(yhat_test.squeeze(), dataset_testy, mincnt=2, gridsize=30, bins='log')\n",
    "plt.plot([-2,2],[-2,2])\n",
    "\n",
    "#plt.plot([-2,2], [-2,2], 'r', lw=2)"
   ]
  },
  {
   "cell_type": "code",
   "execution_count": 90,
   "metadata": {},
   "outputs": [
    {
     "name": "stdout",
     "output_type": "stream",
     "text": [
      "LSTM: \n",
      "RMSE: 0.718, R^2: 0.484, MBE: -0.012, IOAD: 0.884\n"
     ]
    }
   ],
   "source": [
    "print('LSTM: ')\n",
    "diagnostic_stats(dataset_testy*y_test_std + y_test_mean, \n",
    "                 yhat_test.squeeze()*y_test_std + y_test_mean);"
   ]
  },
  {
   "cell_type": "markdown",
   "metadata": {},
   "source": [
    "#### Classical learning"
   ]
  },
  {
   "cell_type": "code",
   "execution_count": 86,
   "metadata": {},
   "outputs": [],
   "source": [
    "def rmsle_randomsearchcv(model, params, X_train, y_train, n_folds, random_state=0):\n",
    "    clf = RandomizedSearchCV(model, params, random_state=random_state, cv=n_folds, return_train_score=True, \n",
    "                         scoring=\"neg_mean_squared_error\")\n",
    "    search = clf.fit(X_train, y_train)\n",
    "    rmse= np.sqrt(-search.best_score_)\n",
    "    return rmse, search\n"
   ]
  },
  {
   "cell_type": "code",
   "execution_count": 87,
   "metadata": {},
   "outputs": [
    {
     "name": "stdout",
     "output_type": "stream",
     "text": [
      "\n",
      "LightGBM score: 0.6699 (+/-0.0000)\n",
      "\n"
     ]
    }
   ],
   "source": [
    "# Hyperparameter Optz\n",
    "params = dict(num_leaves = randint(2,10), \n",
    "              n_estimators = randint(100,1000),\n",
    "              learning_rate = uniform(1e-3, 1),\n",
    "              min_data_in_leaf = randint(2,10),\n",
    "              objective=['regression'])\n",
    "\n",
    "model_lgb = lgb.LGBMRegressor()\n",
    "score_lgb, model_lgb = rmsle_randomsearchcv(model_lgb, params, dataset_train[:,:-1], \n",
    "                                            dataset_train[:,-1], 5)\n",
    "print(\"\\nLightGBM score: {:.4f} (+/-{:.4f})\\n\".format(score_lgb.mean(), score_lgb.std()))"
   ]
  },
  {
   "cell_type": "code",
   "execution_count": 88,
   "metadata": {},
   "outputs": [
    {
     "name": "stdout",
     "output_type": "stream",
     "text": [
      "RMSE: 0.732, R^2: 0.466, MBE: -0.012, IOAD: 0.884\n"
     ]
    },
    {
     "data": {
      "text/plain": [
       "(0.7324523678462369,\n",
       " 0.4663323909291778,\n",
       " -0.011602293906724718,\n",
       " 0.8836502793660482)"
      ]
     },
     "execution_count": 88,
     "metadata": {},
     "output_type": "execute_result"
    }
   ],
   "source": [
    "yhat_lgbm = model_lgb.predict(dataset_test[:,:-1])\n",
    "\n",
    "print('LGBM')\n",
    "diagnostic_stats(dataset_test[:,-1]*y_test_std + y_test_mean, \n",
    "                 yhat_lgbm*y_test_std + y_test_mean);"
   ]
  },
  {
   "cell_type": "code",
   "execution_count": 89,
   "metadata": {},
   "outputs": [
    {
     "data": {
      "text/plain": [
       "[<matplotlib.lines.Line2D at 0x1a4f45d6d8>]"
      ]
     },
     "execution_count": 89,
     "metadata": {},
     "output_type": "execute_result"
    },
    {
     "data": {
      "image/png": "[encoded data removed]",
      "text/plain": [
       "<Figure size 432x288 with 1 Axes>"
      ]
     },
     "metadata": {
      "needs_background": "light"
     },
     "output_type": "display_data"
    }
   ],
   "source": [
    "plt.plot(yhat_lgbm.squeeze(), dataset_test[:,-1], 'o')\n",
    "plt.plot([-2,2],[-2,2])"
   ]
  },
  {
   "cell_type": "code",
   "execution_count": 91,
   "metadata": {},
   "outputs": [
    {
     "name": "stdout",
     "output_type": "stream",
     "text": [
      "LSTM: \n",
      "RMSE: 0.718, R^2: 0.484, MBE: -0.012, IOAD: 0.884\n",
      "LGBM\n",
      "RMSE: 0.732, R^2: 0.466, MBE: -0.012, IOAD: 0.884\n"
     ]
    }
   ],
   "source": [
    "print('LSTM: ')\n",
    "diagnostic_stats(dataset_testy*y_test_std + y_test_mean, \n",
    "                 yhat_test.squeeze()*y_test_std + y_test_mean);\n",
    "print('LGBM')\n",
    "diagnostic_stats(dataset_test[:,-1]*y_test_std + y_test_mean, \n",
    "                 yhat_lgbm*y_test_std + y_test_mean);"
   ]
  },
  {
   "cell_type": "code",
   "execution_count": null,
   "metadata": {},
   "outputs": [],
   "source": []
  }
 ],
 "metadata": {
  "kernelspec": {
   "display_name": "Python 3",
   "language": "python",
   "name": "python3"
  },
  "language_info": {
   "codemirror_mode": {
    "name": "ipython",
    "version": 3
   },
   "file_extension": ".py",
   "mimetype": "text/x-python",
   "name": "python",
   "nbconvert_exporter": "python",
   "pygments_lexer": "ipython3",
   "version": "3.7.3"
  },
  "toc": {
   "base_numbering": 1,
   "nav_menu": {},
   "number_sections": true,
   "sideBar": true,
   "skip_h1_title": false,
   "title_cell": "Table of Contents",
   "title_sidebar": "Contents",
   "toc_cell": false,
   "toc_position": {},
   "toc_section_display": true,
   "toc_window_display": false
  }
 },
 "nbformat": 4,
 "nbformat_minor": 2
}
