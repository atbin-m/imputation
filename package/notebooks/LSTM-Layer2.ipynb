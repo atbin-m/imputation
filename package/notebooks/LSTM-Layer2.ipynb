{
 "cells": [
  {
   "cell_type": "markdown",
   "metadata": {},
   "source": [
    "1. LSTM multiinput-series: https://www.aiproblog.com/index.php/2018/11/13/how-to-develop-lstm-models-for-time-series-forecasting/\n",
    "2. LSTM train/test: https://machinelearningmastery.com/time-series-prediction-lstm-recurrent-neural-networks-python-keras/\n",
    "3. Loss plotting: https://machinelearningmastery.com/display-deep-learning-model-training-history-in-keras/\n",
    "4. Overfit/Underfit: https://machinelearningmastery.com/diagnose-overfitting-underfitting-lstm-models/"
   ]
  },
  {
   "cell_type": "code",
   "execution_count": 136,
   "metadata": {},
   "outputs": [],
   "source": [
    "import pandas as pd\n",
    "import numpy as np\n",
    "import matplotlib.pyplot as plt\n",
    "%matplotlib inline\n",
    "\n",
    "from sklearn.model_selection import KFold, cross_val_score, train_test_split, RandomizedSearchCV\n",
    "from sklearn.preprocessing import StandardScaler\n",
    "from keras.models import Sequential\n",
    "from keras.layers import Dense\n",
    "from keras.wrappers.scikit_learn import KerasRegressor\n",
    "from keras.layers import LSTM\n",
    "from keras.layers import Dense\n",
    "import lightgbm as lgb\n",
    "from scipy.stats import uniform, randint"
   ]
  },
  {
   "cell_type": "code",
   "execution_count": 137,
   "metadata": {},
   "outputs": [],
   "source": [
    "def diagnostic_stats(ytrue, ypred):\n",
    "    \"\"\"\n",
    "    https://stats.stackexchange.com/questions/142248/difference-between-r-square-and-rmse-in-linear-regression\n",
    "    \n",
    "    https://www.sciencedirect.com/topics/engineering/mean-bias-error\n",
    "    \"\"\"\n",
    "    n = len(ytrue)\n",
    "\n",
    "    # Check that the ytrue and ypred are equal length vector.\n",
    "    assert n == len(ypred)\n",
    "    \n",
    "    # sum squared error\n",
    "    sse = np.sum((ytrue - ypred)**2)\n",
    "    \n",
    "    # root mean square error\n",
    "    rmse = np.sqrt(sse/n)\n",
    "\n",
    "    # total sum of squares\n",
    "    tss = np.sum((ytrue - np.mean(ytrue))**2)\n",
    "    tst = np.sum((ypred - np.mean(ypred))**2)\n",
    "    tstp = tst**0.5\n",
    "    tssp = tss**0.5\n",
    "    \n",
    "    soorat = np.sum((ytrue-np.mean(ytrue))*(ypred-np.mean(ypred)))\n",
    "    \n",
    "    # Rsquare\n",
    "    ##rsqr = 1 - sse/tss\n",
    "    rsqr = (soorat/(tssp*tstp))**2\n",
    "\n",
    "    # Mean biased error\n",
    "    mbe = np.mean(ytrue - ypred)\n",
    "    \n",
    "    # IOAD\n",
    "    num = np.sum((ytrue - ypred)**2)\n",
    "    denom = np.abs(ytrue - ypred) + np.abs(ytrue + ypred)\n",
    "    ioad = 1 - num/np.sum(denom**2)\n",
    "\n",
    "    print(\"RMSE: %1.3f, R^2: %1.3f, MBE: %1.3f, IOAD: %1.3f\"%(rmse, rsqr, mbe, ioad))\n",
    "    \n",
    "    return rmse, rsqr, mbe, ioad"
   ]
  },
  {
   "cell_type": "code",
   "execution_count": 138,
   "metadata": {},
   "outputs": [],
   "source": [
    "train_df = pd.read_csv('train_layer2.csv', \n",
    "                 parse_dates=['DateTime'], index_col='DateTime')\n",
    "train_df.drop('Unnamed: 0', axis=1, inplace=True)\n",
    "train_df.sort_index(inplace=True)\n",
    "\n",
    "test_df = pd.read_csv('test_layer2.csv', \n",
    "                 parse_dates=['DateTime'], index_col='DateTime')\n",
    "test_df.drop('Unnamed: 0', axis=1, inplace=True)\n",
    "test_df.sort_index(inplace=True)"
   ]
  },
  {
   "cell_type": "code",
   "execution_count": 139,
   "metadata": {},
   "outputs": [
    {
     "data": {
      "text/html": [
       "<div>\n",
       "<style scoped>\n",
       "    .dataframe tbody tr th:only-of-type {\n",
       "        vertical-align: middle;\n",
       "    }\n",
       "\n",
       "    .dataframe tbody tr th {\n",
       "        vertical-align: top;\n",
       "    }\n",
       "\n",
       "    .dataframe thead th {\n",
       "        text-align: right;\n",
       "    }\n",
       "</style>\n",
       "<table border=\"1\" class=\"dataframe\">\n",
       "  <thead>\n",
       "    <tr style=\"text-align: right;\">\n",
       "      <th></th>\n",
       "      <th>0</th>\n",
       "      <th>1</th>\n",
       "      <th>2</th>\n",
       "      <th>3</th>\n",
       "      <th>4</th>\n",
       "      <th>5</th>\n",
       "      <th>Fc</th>\n",
       "    </tr>\n",
       "    <tr>\n",
       "      <th>DateTime</th>\n",
       "      <th></th>\n",
       "      <th></th>\n",
       "      <th></th>\n",
       "      <th></th>\n",
       "      <th></th>\n",
       "      <th></th>\n",
       "      <th></th>\n",
       "    </tr>\n",
       "  </thead>\n",
       "  <tbody>\n",
       "    <tr>\n",
       "      <th>2013-01-01 01:00:00</th>\n",
       "      <td>0.846773</td>\n",
       "      <td>0.918132</td>\n",
       "      <td>0.875012</td>\n",
       "      <td>0.883520</td>\n",
       "      <td>0.386506</td>\n",
       "      <td>0.730006</td>\n",
       "      <td>1.067198</td>\n",
       "    </tr>\n",
       "    <tr>\n",
       "      <th>2013-01-01 01:30:00</th>\n",
       "      <td>0.830835</td>\n",
       "      <td>0.868667</td>\n",
       "      <td>0.902072</td>\n",
       "      <td>0.871775</td>\n",
       "      <td>0.445869</td>\n",
       "      <td>0.735292</td>\n",
       "      <td>1.041434</td>\n",
       "    </tr>\n",
       "    <tr>\n",
       "      <th>2013-01-01 07:00:00</th>\n",
       "      <td>0.477854</td>\n",
       "      <td>0.376036</td>\n",
       "      <td>-0.285410</td>\n",
       "      <td>0.523461</td>\n",
       "      <td>0.539703</td>\n",
       "      <td>0.539797</td>\n",
       "      <td>0.391297</td>\n",
       "    </tr>\n",
       "    <tr>\n",
       "      <th>2013-01-01 07:30:00</th>\n",
       "      <td>-0.274316</td>\n",
       "      <td>0.163167</td>\n",
       "      <td>-0.431348</td>\n",
       "      <td>0.132327</td>\n",
       "      <td>0.257334</td>\n",
       "      <td>0.278477</td>\n",
       "      <td>1.339480</td>\n",
       "    </tr>\n",
       "    <tr>\n",
       "      <th>2013-01-01 08:00:00</th>\n",
       "      <td>-0.233189</td>\n",
       "      <td>-0.029411</td>\n",
       "      <td>-0.511897</td>\n",
       "      <td>-0.106105</td>\n",
       "      <td>0.043812</td>\n",
       "      <td>0.067382</td>\n",
       "      <td>1.230345</td>\n",
       "    </tr>\n",
       "  </tbody>\n",
       "</table>\n",
       "</div>"
      ],
      "text/plain": [
       "                            0         1         2         3         4  \\\n",
       "DateTime                                                                \n",
       "2013-01-01 01:00:00  0.846773  0.918132  0.875012  0.883520  0.386506   \n",
       "2013-01-01 01:30:00  0.830835  0.868667  0.902072  0.871775  0.445869   \n",
       "2013-01-01 07:00:00  0.477854  0.376036 -0.285410  0.523461  0.539703   \n",
       "2013-01-01 07:30:00 -0.274316  0.163167 -0.431348  0.132327  0.257334   \n",
       "2013-01-01 08:00:00 -0.233189 -0.029411 -0.511897 -0.106105  0.043812   \n",
       "\n",
       "                            5        Fc  \n",
       "DateTime                                 \n",
       "2013-01-01 01:00:00  0.730006  1.067198  \n",
       "2013-01-01 01:30:00  0.735292  1.041434  \n",
       "2013-01-01 07:00:00  0.539797  0.391297  \n",
       "2013-01-01 07:30:00  0.278477  1.339480  \n",
       "2013-01-01 08:00:00  0.067382  1.230345  "
      ]
     },
     "execution_count": 139,
     "metadata": {},
     "output_type": "execute_result"
    }
   ],
   "source": [
    "train_df.head()"
   ]
  },
  {
   "cell_type": "code",
   "execution_count": 140,
   "metadata": {},
   "outputs": [
    {
     "data": {
      "text/html": [
       "<div>\n",
       "<style scoped>\n",
       "    .dataframe tbody tr th:only-of-type {\n",
       "        vertical-align: middle;\n",
       "    }\n",
       "\n",
       "    .dataframe tbody tr th {\n",
       "        vertical-align: top;\n",
       "    }\n",
       "\n",
       "    .dataframe thead th {\n",
       "        text-align: right;\n",
       "    }\n",
       "</style>\n",
       "<table border=\"1\" class=\"dataframe\">\n",
       "  <thead>\n",
       "    <tr style=\"text-align: right;\">\n",
       "      <th></th>\n",
       "      <th>0</th>\n",
       "      <th>1</th>\n",
       "      <th>2</th>\n",
       "      <th>3</th>\n",
       "      <th>4</th>\n",
       "      <th>5</th>\n",
       "      <th>Fc</th>\n",
       "    </tr>\n",
       "    <tr>\n",
       "      <th>DateTime</th>\n",
       "      <th></th>\n",
       "      <th></th>\n",
       "      <th></th>\n",
       "      <th></th>\n",
       "      <th></th>\n",
       "      <th></th>\n",
       "      <th></th>\n",
       "    </tr>\n",
       "  </thead>\n",
       "  <tbody>\n",
       "    <tr>\n",
       "      <th>2013-03-21 02:30:00</th>\n",
       "      <td>1.223779</td>\n",
       "      <td>0.961175</td>\n",
       "      <td>1.041231</td>\n",
       "      <td>0.636519</td>\n",
       "      <td>0.516030</td>\n",
       "      <td>1.089910</td>\n",
       "      <td>2.088809</td>\n",
       "    </tr>\n",
       "    <tr>\n",
       "      <th>2013-03-21 03:00:00</th>\n",
       "      <td>0.951709</td>\n",
       "      <td>0.937124</td>\n",
       "      <td>0.965334</td>\n",
       "      <td>0.608987</td>\n",
       "      <td>0.615727</td>\n",
       "      <td>0.755521</td>\n",
       "      <td>0.552344</td>\n",
       "    </tr>\n",
       "    <tr>\n",
       "      <th>2013-03-21 04:00:00</th>\n",
       "      <td>1.138612</td>\n",
       "      <td>1.000614</td>\n",
       "      <td>0.964442</td>\n",
       "      <td>0.657209</td>\n",
       "      <td>0.586111</td>\n",
       "      <td>0.662852</td>\n",
       "      <td>1.241243</td>\n",
       "    </tr>\n",
       "    <tr>\n",
       "      <th>2013-03-21 08:00:00</th>\n",
       "      <td>0.546598</td>\n",
       "      <td>0.635507</td>\n",
       "      <td>0.659244</td>\n",
       "      <td>0.228027</td>\n",
       "      <td>0.463615</td>\n",
       "      <td>0.319815</td>\n",
       "      <td>0.410104</td>\n",
       "    </tr>\n",
       "    <tr>\n",
       "      <th>2013-03-21 08:30:00</th>\n",
       "      <td>-0.081457</td>\n",
       "      <td>0.215423</td>\n",
       "      <td>-0.397104</td>\n",
       "      <td>-0.311811</td>\n",
       "      <td>-0.030562</td>\n",
       "      <td>-0.427432</td>\n",
       "      <td>-0.338063</td>\n",
       "    </tr>\n",
       "  </tbody>\n",
       "</table>\n",
       "</div>"
      ],
      "text/plain": [
       "                            0         1         2         3         4  \\\n",
       "DateTime                                                                \n",
       "2013-03-21 02:30:00  1.223779  0.961175  1.041231  0.636519  0.516030   \n",
       "2013-03-21 03:00:00  0.951709  0.937124  0.965334  0.608987  0.615727   \n",
       "2013-03-21 04:00:00  1.138612  1.000614  0.964442  0.657209  0.586111   \n",
       "2013-03-21 08:00:00  0.546598  0.635507  0.659244  0.228027  0.463615   \n",
       "2013-03-21 08:30:00 -0.081457  0.215423 -0.397104 -0.311811 -0.030562   \n",
       "\n",
       "                            5        Fc  \n",
       "DateTime                                 \n",
       "2013-03-21 02:30:00  1.089910  2.088809  \n",
       "2013-03-21 03:00:00  0.755521  0.552344  \n",
       "2013-03-21 04:00:00  0.662852  1.241243  \n",
       "2013-03-21 08:00:00  0.319815  0.410104  \n",
       "2013-03-21 08:30:00 -0.427432 -0.338063  "
      ]
     },
     "execution_count": 140,
     "metadata": {},
     "output_type": "execute_result"
    }
   ],
   "source": [
    "test_df.head()"
   ]
  },
  {
   "cell_type": "code",
   "execution_count": 141,
   "metadata": {},
   "outputs": [],
   "source": [
    "Xvar = ['0','1','2','3','4','5']\n",
    "yvar = 'Fc'"
   ]
  },
  {
   "cell_type": "markdown",
   "metadata": {},
   "source": [
    "### LSTM "
   ]
  },
  {
   "cell_type": "markdown",
   "metadata": {},
   "source": [
    "#### Data preparation"
   ]
  },
  {
   "cell_type": "code",
   "execution_count": 142,
   "metadata": {},
   "outputs": [
    {
     "name": "stdout",
     "output_type": "stream",
     "text": [
      "Train: (3824, 7) Test: (1367, 7)\n",
      "X_train: (3824, 6) y_train: (3824,)\n",
      "Index(['0', '1', '2', '3', '4', '5'], dtype='object')\n"
     ]
    }
   ],
   "source": [
    "# split into input (X) and output (Y) variables\n",
    "print('Train:', train_df.shape, 'Test:', test_df.shape)\n",
    "\n",
    "X_train, y_train = train_df[Xvar], train_df[yvar]\n",
    "X_test, y_test = test_df[Xvar], test_df[yvar]\n",
    "\n",
    "print('X_train:', X_train.shape, 'y_train:', y_train.shape)\n",
    "print(X_train.keys())\n",
    "\n",
    "scaler1 = StandardScaler()\n",
    "X_train_scaled = scaler1.fit_transform(X_train)\n",
    "scaler2 = StandardScaler()\n",
    "y_train_scaled = scaler2.fit_transform(y_train.values.reshape(-1,1))\n",
    "y_train_std, y_train_mean = np.std(y_train.values), np.mean(y_train.values)\n",
    "\n",
    "scaler3 = StandardScaler()\n",
    "X_test_scaled = scaler3.fit_transform(X_test)\n",
    "scaler4 = StandardScaler()\n",
    "y_test_scaled = scaler4.fit_transform(y_test.values.reshape(-1,1))\n",
    "y_test_std, y_test_mean = np.std(y_test.values), np.mean(y_test.values)\n"
   ]
  },
  {
   "cell_type": "code",
   "execution_count": 143,
   "metadata": {},
   "outputs": [
    {
     "data": {
      "text/plain": [
       "((3824, 6), (3824,))"
      ]
     },
     "execution_count": 143,
     "metadata": {},
     "output_type": "execute_result"
    }
   ],
   "source": [
    "X_train_scaled.shape, y_train_scaled.squeeze().shape"
   ]
  },
  {
   "cell_type": "code",
   "execution_count": 144,
   "metadata": {},
   "outputs": [
    {
     "name": "stdout",
     "output_type": "stream",
     "text": [
      "(3824, 7) (1367, 7)\n"
     ]
    }
   ],
   "source": [
    "dataset_train = np.column_stack((X_train_scaled, y_train_scaled.squeeze()))\n",
    "dataset_test = np.column_stack((X_test_scaled, y_test_scaled.squeeze()))\n",
    "\n",
    "print(dataset_train.shape, dataset_test.shape)"
   ]
  },
  {
   "cell_type": "code",
   "execution_count": 145,
   "metadata": {},
   "outputs": [],
   "source": [
    "NSTEPS = 2\n",
    "NFEATURES = len(Xvar)"
   ]
  },
  {
   "cell_type": "code",
   "execution_count": 146,
   "metadata": {},
   "outputs": [],
   "source": [
    "# split a multivariate sequence into samples\n",
    "def split_sequences(sequences, n_steps):\n",
    "\tX, y = list(), list()\n",
    "\tfor i in range(len(sequences)):\n",
    "\t\t# find the end of this pattern\n",
    "\t\tend_ix = i + n_steps\n",
    "\t\t# check if we are beyond the dataset\n",
    "\t\tif end_ix > len(sequences):\n",
    "\t\t\tbreak\n",
    "\t\t# gather input and output parts of the pattern\n",
    "\t\tseq_x, seq_y = sequences[i:end_ix, :-1], sequences[end_ix-1, -1]\n",
    "\t\tX.append(seq_x)\n",
    "\t\ty.append(seq_y)\n",
    "\treturn np.array(X), np.array(y)"
   ]
  },
  {
   "cell_type": "code",
   "execution_count": 147,
   "metadata": {},
   "outputs": [
    {
     "name": "stdout",
     "output_type": "stream",
     "text": [
      "(3823, 2, 6) (3823,)\n"
     ]
    }
   ],
   "source": [
    "# convert into input/output sequences\n",
    "dataset_trainX, dataset_trainy = split_sequences(dataset_train, n_steps=NSTEPS)\n",
    "print(dataset_trainX.shape, dataset_trainy.shape)"
   ]
  },
  {
   "cell_type": "code",
   "execution_count": 148,
   "metadata": {},
   "outputs": [
    {
     "data": {
      "text/plain": [
       "array([1.03410024, 0.39514504, 1.32702076, ..., 0.86154897, 0.78428415,\n",
       "       0.50438018])"
      ]
     },
     "execution_count": 148,
     "metadata": {},
     "output_type": "execute_result"
    }
   ],
   "source": [
    "dataset_trainy"
   ]
  },
  {
   "cell_type": "markdown",
   "metadata": {},
   "source": [
    "#### Model fitting"
   ]
  },
  {
   "cell_type": "code",
   "execution_count": 149,
   "metadata": {},
   "outputs": [],
   "source": [
    "from keras.layers import Dropout"
   ]
  },
  {
   "cell_type": "code",
   "execution_count": 150,
   "metadata": {},
   "outputs": [],
   "source": [
    "from keras import optimizers"
   ]
  },
  {
   "cell_type": "code",
   "execution_count": 151,
   "metadata": {
    "scrolled": true
   },
   "outputs": [
    {
     "name": "stdout",
     "output_type": "stream",
     "text": [
      "Train on 1911 samples, validate on 1912 samples\n",
      "Epoch 1/100\n",
      " - 5s - loss: 0.8608 - val_loss: 1.1127\n",
      "Epoch 2/100\n",
      " - 0s - loss: 0.8449 - val_loss: 1.0752\n",
      "Epoch 3/100\n",
      " - 0s - loss: 0.8167 - val_loss: 0.9912\n",
      "Epoch 4/100\n",
      " - 0s - loss: 0.7690 - val_loss: 0.8474\n",
      "Epoch 5/100\n",
      " - 0s - loss: 0.7143 - val_loss: 0.7206\n",
      "Epoch 6/100\n",
      " - 0s - loss: 0.6845 - val_loss: 0.6839\n",
      "Epoch 7/100\n",
      " - 0s - loss: 0.6686 - val_loss: 0.6669\n",
      "Epoch 8/100\n",
      " - 0s - loss: 0.6526 - val_loss: 0.6515\n",
      "Epoch 9/100\n",
      " - 0s - loss: 0.6383 - val_loss: 0.6373\n",
      "Epoch 10/100\n",
      " - 0s - loss: 0.6252 - val_loss: 0.6241\n",
      "Epoch 11/100\n",
      " - 0s - loss: 0.6131 - val_loss: 0.6119\n",
      "Epoch 12/100\n",
      " - 0s - loss: 0.6018 - val_loss: 0.6006\n",
      "Epoch 13/100\n",
      " - 0s - loss: 0.5913 - val_loss: 0.5901\n",
      "Epoch 14/100\n",
      " - 0s - loss: 0.5816 - val_loss: 0.5803\n",
      "Epoch 15/100\n",
      " - 0s - loss: 0.5725 - val_loss: 0.5711\n",
      "Epoch 16/100\n",
      " - 0s - loss: 0.5637 - val_loss: 0.5623\n",
      "Epoch 17/100\n",
      " - 0s - loss: 0.5558 - val_loss: 0.5544\n",
      "Epoch 18/100\n",
      " - 0s - loss: 0.5485 - val_loss: 0.5471\n",
      "Epoch 19/100\n",
      " - 0s - loss: 0.5418 - val_loss: 0.5402\n",
      "Epoch 20/100\n",
      " - 0s - loss: 0.5356 - val_loss: 0.5339\n",
      "Epoch 21/100\n",
      " - 0s - loss: 0.5298 - val_loss: 0.5281\n",
      "Epoch 22/100\n",
      " - 0s - loss: 0.5245 - val_loss: 0.5228\n",
      "Epoch 23/100\n",
      " - 0s - loss: 0.5195 - val_loss: 0.5179\n",
      "Epoch 24/100\n",
      " - 0s - loss: 0.5149 - val_loss: 0.5134\n",
      "Epoch 25/100\n",
      " - 0s - loss: 0.5107 - val_loss: 0.5093\n",
      "Epoch 26/100\n",
      " - 0s - loss: 0.5068 - val_loss: 0.5055\n",
      "Epoch 27/100\n",
      " - 0s - loss: 0.5031 - val_loss: 0.5021\n",
      "Epoch 28/100\n",
      " - 0s - loss: 0.4998 - val_loss: 0.4989\n",
      "Epoch 29/100\n",
      " - 0s - loss: 0.4967 - val_loss: 0.4960\n",
      "Epoch 30/100\n",
      " - 0s - loss: 0.4938 - val_loss: 0.4934\n",
      "Epoch 31/100\n",
      " - 0s - loss: 0.4910 - val_loss: 0.4909\n",
      "Epoch 32/100\n",
      " - 0s - loss: 0.4885 - val_loss: 0.4886\n",
      "Epoch 33/100\n",
      " - 0s - loss: 0.4862 - val_loss: 0.4863\n",
      "Epoch 34/100\n",
      " - 0s - loss: 0.4840 - val_loss: 0.4841\n",
      "Epoch 35/100\n",
      " - 0s - loss: 0.4818 - val_loss: 0.4821\n",
      "Epoch 36/100\n",
      " - 0s - loss: 0.4797 - val_loss: 0.4803\n",
      "Epoch 37/100\n",
      " - 0s - loss: 0.4778 - val_loss: 0.4786\n",
      "Epoch 38/100\n",
      " - 0s - loss: 0.4760 - val_loss: 0.4769\n",
      "Epoch 39/100\n",
      " - 0s - loss: 0.4743 - val_loss: 0.4753\n",
      "Epoch 40/100\n",
      " - 0s - loss: 0.4727 - val_loss: 0.4738\n",
      "Epoch 41/100\n",
      " - 0s - loss: 0.4712 - val_loss: 0.4724\n",
      "Epoch 42/100\n",
      " - 0s - loss: 0.4698 - val_loss: 0.4711\n",
      "Epoch 43/100\n",
      " - 0s - loss: 0.4684 - val_loss: 0.4699\n",
      "Epoch 44/100\n",
      " - 0s - loss: 0.4672 - val_loss: 0.4689\n",
      "Epoch 45/100\n",
      " - 0s - loss: 0.4660 - val_loss: 0.4679\n",
      "Epoch 46/100\n",
      " - 0s - loss: 0.4649 - val_loss: 0.4670\n",
      "Epoch 47/100\n",
      " - 0s - loss: 0.4638 - val_loss: 0.4661\n",
      "Epoch 48/100\n",
      " - 0s - loss: 0.4628 - val_loss: 0.4652\n",
      "Epoch 49/100\n",
      " - 0s - loss: 0.4619 - val_loss: 0.4645\n",
      "Epoch 50/100\n",
      " - 0s - loss: 0.4610 - val_loss: 0.4638\n",
      "Epoch 51/100\n",
      " - 0s - loss: 0.4602 - val_loss: 0.4630\n",
      "Epoch 52/100\n",
      " - 0s - loss: 0.4594 - val_loss: 0.4623\n",
      "Epoch 53/100\n",
      " - 0s - loss: 0.4586 - val_loss: 0.4617\n",
      "Epoch 54/100\n",
      " - 0s - loss: 0.4579 - val_loss: 0.4610\n",
      "Epoch 55/100\n",
      " - 0s - loss: 0.4572 - val_loss: 0.4605\n",
      "Epoch 56/100\n",
      " - 0s - loss: 0.4566 - val_loss: 0.4599\n",
      "Epoch 57/100\n",
      " - 0s - loss: 0.4560 - val_loss: 0.4594\n",
      "Epoch 58/100\n",
      " - 0s - loss: 0.4553 - val_loss: 0.4588\n",
      "Epoch 59/100\n",
      " - 0s - loss: 0.4548 - val_loss: 0.4584\n",
      "Epoch 60/100\n",
      " - 0s - loss: 0.4542 - val_loss: 0.4579\n",
      "Epoch 61/100\n",
      " - 0s - loss: 0.4537 - val_loss: 0.4575\n",
      "Epoch 62/100\n",
      " - 0s - loss: 0.4532 - val_loss: 0.4571\n",
      "Epoch 63/100\n",
      " - 0s - loss: 0.4527 - val_loss: 0.4565\n",
      "Epoch 64/100\n",
      " - 0s - loss: 0.4523 - val_loss: 0.4562\n",
      "Epoch 65/100\n",
      " - 0s - loss: 0.4518 - val_loss: 0.4559\n",
      "Epoch 66/100\n",
      " - 0s - loss: 0.4514 - val_loss: 0.4554\n",
      "Epoch 67/100\n",
      " - 0s - loss: 0.4510 - val_loss: 0.4551\n",
      "Epoch 68/100\n",
      " - 0s - loss: 0.4506 - val_loss: 0.4547\n",
      "Epoch 69/100\n",
      " - 0s - loss: 0.4502 - val_loss: 0.4543\n",
      "Epoch 70/100\n",
      " - 0s - loss: 0.4498 - val_loss: 0.4540\n",
      "Epoch 71/100\n",
      " - 0s - loss: 0.4495 - val_loss: 0.4536\n",
      "Epoch 72/100\n",
      " - 0s - loss: 0.4491 - val_loss: 0.4533\n",
      "Epoch 73/100\n",
      " - 0s - loss: 0.4488 - val_loss: 0.4530\n",
      "Epoch 74/100\n",
      " - 0s - loss: 0.4485 - val_loss: 0.4528\n",
      "Epoch 75/100\n",
      " - 0s - loss: 0.4482 - val_loss: 0.4525\n",
      "Epoch 76/100\n",
      " - 0s - loss: 0.4479 - val_loss: 0.4522\n",
      "Epoch 77/100\n",
      " - 0s - loss: 0.4476 - val_loss: 0.4519\n",
      "Epoch 78/100\n",
      " - 0s - loss: 0.4473 - val_loss: 0.4517\n",
      "Epoch 79/100\n",
      " - 0s - loss: 0.4471 - val_loss: 0.4514\n",
      "Epoch 80/100\n",
      " - 0s - loss: 0.4468 - val_loss: 0.4512\n",
      "Epoch 81/100\n",
      " - 0s - loss: 0.4465 - val_loss: 0.4510\n",
      "Epoch 82/100\n",
      " - 0s - loss: 0.4463 - val_loss: 0.4506\n",
      "Epoch 83/100\n",
      " - 0s - loss: 0.4460 - val_loss: 0.4505\n",
      "Epoch 84/100\n",
      " - 0s - loss: 0.4458 - val_loss: 0.4503\n",
      "Epoch 85/100\n",
      " - 0s - loss: 0.4456 - val_loss: 0.4500\n",
      "Epoch 86/100\n",
      " - 0s - loss: 0.4454 - val_loss: 0.4498\n",
      "Epoch 87/100\n",
      " - 0s - loss: 0.4452 - val_loss: 0.4497\n",
      "Epoch 88/100\n",
      " - 0s - loss: 0.4450 - val_loss: 0.4495\n",
      "Epoch 89/100\n",
      " - 0s - loss: 0.4447 - val_loss: 0.4493\n",
      "Epoch 90/100\n",
      " - 0s - loss: 0.4445 - val_loss: 0.4492\n",
      "Epoch 91/100\n",
      " - 1s - loss: 0.4443 - val_loss: 0.4489\n",
      "Epoch 92/100\n",
      " - 0s - loss: 0.4441 - val_loss: 0.4488\n",
      "Epoch 93/100\n",
      " - 0s - loss: 0.4439 - val_loss: 0.4486\n",
      "Epoch 94/100\n",
      " - 0s - loss: 0.4437 - val_loss: 0.4485\n",
      "Epoch 95/100\n",
      " - 0s - loss: 0.4436 - val_loss: 0.4482\n",
      "Epoch 96/100\n",
      " - 0s - loss: 0.4433 - val_loss: 0.4480\n",
      "Epoch 97/100\n",
      " - 0s - loss: 0.4431 - val_loss: 0.4479\n",
      "Epoch 98/100\n",
      " - 1s - loss: 0.4430 - val_loss: 0.4478\n",
      "Epoch 99/100\n",
      " - 1s - loss: 0.4428 - val_loss: 0.4476\n",
      "Epoch 100/100\n",
      " - 1s - loss: 0.4427 - val_loss: 0.4475\n"
     ]
    }
   ],
   "source": [
    "# define model\n",
    "model = Sequential()\n",
    "model.add(LSTM(5, input_shape=(NSTEPS, NFEATURES), activation='relu'))\n",
    "model.add(Dense(3, kernel_initializer='normal', activation='relu'))\n",
    "model.add(Dense(1, activation='linear'))   \n",
    "model.compile(optimizer=\"adam\", loss='mean_squared_error')\n",
    "history = model.fit(dataset_trainX, dataset_trainy, \n",
    "                    validation_split=0.5, shuffle=False, \n",
    "                    epochs=100, batch_size=64, verbose=2)"
   ]
  },
  {
   "cell_type": "code",
   "execution_count": 152,
   "metadata": {},
   "outputs": [
    {
     "data": {
      "image/png": "[encoded data removed]",
      "text/plain": [
       "<Figure size 432x288 with 1 Axes>"
      ]
     },
     "metadata": {
      "needs_background": "light"
     },
     "output_type": "display_data"
    }
   ],
   "source": [
    "plt.plot(history.history['loss'], label='train')\n",
    "plt.plot(history.history['val_loss'], label='val')\n",
    "plt.title('model loss')\n",
    "plt.ylabel('loss')\n",
    "plt.xlabel('epoch')\n",
    "plt.legend()\n",
    "plt.show()"
   ]
  },
  {
   "cell_type": "code",
   "execution_count": 153,
   "metadata": {},
   "outputs": [],
   "source": [
    "dataset_testX, dataset_testy = split_sequences(dataset_test, n_steps=NSTEPS)\n",
    "yhat_test = model.predict(dataset_testX, verbose=0)"
   ]
  },
  {
   "cell_type": "code",
   "execution_count": 154,
   "metadata": {},
   "outputs": [
    {
     "data": {
      "text/plain": [
       "((1366, 1), (1366,))"
      ]
     },
     "execution_count": 154,
     "metadata": {},
     "output_type": "execute_result"
    }
   ],
   "source": [
    "yhat_test.shape, dataset_testy.shape"
   ]
  },
  {
   "cell_type": "code",
   "execution_count": 155,
   "metadata": {},
   "outputs": [
    {
     "data": {
      "text/plain": [
       "[<matplotlib.lines.Line2D at 0x1a748069b0>]"
      ]
     },
     "execution_count": 155,
     "metadata": {},
     "output_type": "execute_result"
    },
    {
     "data": {
      "image/png": "[encoded data removed]",
      "text/plain": [
       "<Figure size 432x288 with 1 Axes>"
      ]
     },
     "metadata": {
      "needs_background": "light"
     },
     "output_type": "display_data"
    }
   ],
   "source": [
    "plt.plot(yhat_test.squeeze(), dataset_testy, 'o')\n",
    "plt.plot([-2,2],[-2,2])"
   ]
  },
  {
   "cell_type": "code",
   "execution_count": 156,
   "metadata": {},
   "outputs": [
    {
     "data": {
      "text/plain": [
       "[<matplotlib.lines.Line2D at 0x1a70ed5278>]"
      ]
     },
     "execution_count": 156,
     "metadata": {},
     "output_type": "execute_result"
    },
    {
     "data": {
      "image/png": "[encoded data removed]",
      "text/plain": [
       "<Figure size 432x288 with 1 Axes>"
      ]
     },
     "metadata": {
      "needs_background": "light"
     },
     "output_type": "display_data"
    }
   ],
   "source": [
    "plt.hexbin(yhat_test.squeeze(), dataset_testy, mincnt=2, gridsize=30, bins='log')\n",
    "plt.plot([-2,2],[-2,2])\n",
    "\n",
    "#plt.plot([-2,2], [-2,2], 'r', lw=2)"
   ]
  },
  {
   "cell_type": "code",
   "execution_count": 157,
   "metadata": {},
   "outputs": [
    {
     "name": "stdout",
     "output_type": "stream",
     "text": [
      "LSTM: \n",
      "RMSE: 0.732, R^2: 0.463, MBE: -0.010, IOAD: 0.878\n"
     ]
    }
   ],
   "source": [
    "print('LSTM: ')\n",
    "diagnostic_stats(dataset_testy*y_test_std + y_test_mean, \n",
    "                 yhat_test.squeeze()*y_test_std + y_test_mean);"
   ]
  },
  {
   "cell_type": "markdown",
   "metadata": {},
   "source": [
    "#### Classical learning"
   ]
  },
  {
   "cell_type": "code",
   "execution_count": 158,
   "metadata": {},
   "outputs": [],
   "source": [
    "def rmsle_randomsearchcv(model, params, X_train, y_train, n_folds, random_state=0):\n",
    "    clf = RandomizedSearchCV(model, params, random_state=random_state, cv=n_folds, return_train_score=True, \n",
    "                         scoring=\"neg_mean_squared_error\")\n",
    "    search = clf.fit(X_train, y_train)\n",
    "    rmse= np.sqrt(-search.best_score_)\n",
    "    return rmse, search\n"
   ]
  },
  {
   "cell_type": "code",
   "execution_count": 159,
   "metadata": {},
   "outputs": [
    {
     "name": "stdout",
     "output_type": "stream",
     "text": [
      "\n",
      "LightGBM score: 0.6699 (+/-0.0000)\n",
      "\n"
     ]
    }
   ],
   "source": [
    "# Hyperparameter Optz\n",
    "params = dict(num_leaves = randint(2,10), \n",
    "              n_estimators = randint(100,1000),\n",
    "              learning_rate = uniform(1e-3, 1),\n",
    "              min_data_in_leaf = randint(2,10),\n",
    "              objective=['regression'])\n",
    "\n",
    "model_lgb = lgb.LGBMRegressor()\n",
    "score_lgb, model_lgb = rmsle_randomsearchcv(model_lgb, params, dataset_train[:,:-1], \n",
    "                                            dataset_train[:,-1], 5)\n",
    "print(\"\\nLightGBM score: {:.4f} (+/-{:.4f})\\n\".format(score_lgb.mean(), score_lgb.std()))"
   ]
  },
  {
   "cell_type": "code",
   "execution_count": 160,
   "metadata": {},
   "outputs": [
    {
     "name": "stdout",
     "output_type": "stream",
     "text": [
      "LGBM\n",
      "RMSE: 0.732, R^2: 0.466, MBE: -0.012, IOAD: 0.884\n"
     ]
    }
   ],
   "source": [
    "yhat_lgbm = model_lgb.predict(dataset_test[:,:-1])\n",
    "\n",
    "print('LGBM')\n",
    "diagnostic_stats(dataset_test[:,-1]*y_test_std + y_test_mean, \n",
    "                 yhat_lgbm*y_test_std + y_test_mean);"
   ]
  },
  {
   "cell_type": "code",
   "execution_count": 161,
   "metadata": {},
   "outputs": [
    {
     "data": {
      "text/plain": [
       "[<matplotlib.lines.Line2D at 0x1a739a3390>]"
      ]
     },
     "execution_count": 161,
     "metadata": {},
     "output_type": "execute_result"
    },
    {
     "data": {
      "image/png": "[encoded data removed]",
      "text/plain": [
       "<Figure size 432x288 with 1 Axes>"
      ]
     },
     "metadata": {
      "needs_background": "light"
     },
     "output_type": "display_data"
    }
   ],
   "source": [
    "plt.plot(yhat_lgbm.squeeze(), dataset_test[:,-1], 'o')\n",
    "plt.plot([-2,2],[-2,2])"
   ]
  },
  {
   "cell_type": "code",
   "execution_count": 162,
   "metadata": {},
   "outputs": [
    {
     "name": "stdout",
     "output_type": "stream",
     "text": [
      "LSTM: \n",
      "RMSE: 0.732, R^2: 0.463, MBE: -0.010, IOAD: 0.878\n",
      "LGBM\n",
      "RMSE: 0.732, R^2: 0.466, MBE: -0.012, IOAD: 0.884\n"
     ]
    }
   ],
   "source": [
    "print('LSTM: ')\n",
    "diagnostic_stats(dataset_testy*y_test_std + y_test_mean, \n",
    "                 yhat_test.squeeze()*y_test_std + y_test_mean);\n",
    "print('LGBM')\n",
    "diagnostic_stats(dataset_test[:,-1]*y_test_std + y_test_mean, \n",
    "                 yhat_lgbm*y_test_std + y_test_mean);"
   ]
  },
  {
   "cell_type": "code",
   "execution_count": null,
   "metadata": {},
   "outputs": [],
   "source": []
  }
 ],
 "metadata": {
  "kernelspec": {
   "display_name": "Python 3",
   "language": "python",
   "name": "python3"
  },
  "language_info": {
   "codemirror_mode": {
    "name": "ipython",
    "version": 3
   },
   "file_extension": ".py",
   "mimetype": "text/x-python",
   "name": "python",
   "nbconvert_exporter": "python",
   "pygments_lexer": "ipython3",
   "version": "3.7.3"
  },
  "toc": {
   "base_numbering": 1,
   "nav_menu": {},
   "number_sections": true,
   "sideBar": true,
   "skip_h1_title": false,
   "title_cell": "Table of Contents",
   "title_sidebar": "Contents",
   "toc_cell": false,
   "toc_position": {},
   "toc_section_display": true,
   "toc_window_display": false
  }
 },
 "nbformat": 4,
 "nbformat_minor": 2
}
