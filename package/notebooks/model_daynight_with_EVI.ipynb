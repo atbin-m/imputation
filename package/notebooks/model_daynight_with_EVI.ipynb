{
 "cells": [
  {
   "cell_type": "code",
   "execution_count": 70,
   "metadata": {},
   "outputs": [],
   "source": [
    "import pandas as pd\n",
    "import numpy as np\n",
    "import matplotlib.pyplot as plt\n",
    "%matplotlib inline\n",
    "\n",
    "from sklearn.preprocessing import StandardScaler\n",
    "from sklearn.preprocessing import RobustScaler\n",
    "from sklearn.model_selection import KFold, cross_val_score, train_test_split, RandomizedSearchCV\n",
    "from sklearn.linear_model import Lasso\n",
    "from sklearn.pipeline import make_pipeline\n",
    "from scipy.stats import uniform, randint\n",
    "\n",
    "#import xgboost as xgb\n",
    "import lightgbm as lgb\n"
   ]
  },
  {
   "cell_type": "code",
   "execution_count": 71,
   "metadata": {},
   "outputs": [],
   "source": [
    "def diagnostic_stats(ytrue, ypred):\n",
    "    \"\"\"\n",
    "    https://stats.stackexchange.com/questions/142248/difference-between-r-square-and-rmse-in-linear-regression\n",
    "    \n",
    "    https://www.sciencedirect.com/topics/engineering/mean-bias-error\n",
    "    \"\"\"\n",
    "    n = len(ytrue)\n",
    "\n",
    "    # Check that the ytrue and ypred are equal length vector.\n",
    "    assert n == len(ypred)\n",
    "    \n",
    "    # sum squared error\n",
    "    sse = np.sum((ytrue - ypred)**2)\n",
    "    \n",
    "    # root mean square error\n",
    "    rmse = np.sqrt(sse/n)\n",
    "\n",
    "    # total sum of squares\n",
    "    tss = np.sum((ytrue - np.mean(ytrue))**2)\n",
    "    tst = np.sum((ypred - np.mean(ypred))**2)\n",
    "    tstp = tst**0.5\n",
    "    tssp = tss**0.5\n",
    "    \n",
    "    soorat = np.sum((ytrue-np.mean(ytrue))*(ypred-np.mean(ypred)))\n",
    "    \n",
    "    # Rsquare\n",
    "    ##rsqr = 1 - sse/tss\n",
    "    rsqr = (soorat/(tssp*tstp))**2\n",
    "\n",
    "    # Mean biased error\n",
    "    mbe = np.mean(ytrue - ypred)\n",
    "    \n",
    "    \n",
    "    # IOAD\n",
    "    num = np.sum((ytrue - ypred)**2)\n",
    "    denom = np.abs(ytrue - ypred) + np.abs(ytrue + ypred)\n",
    "    ioad = 1 - num/np.sum(denom**2)\n",
    "\n",
    "    print(\"RMSE: %1.3f, R^2: %1.3f, MBE: %1.3f, IOAD: %1.3f\"%(rmse, rsqr, mbe, ioad))\n",
    "    \n",
    "    return rmse, rsqr, mbe, ioad"
   ]
  },
  {
   "cell_type": "code",
   "execution_count": 72,
   "metadata": {},
   "outputs": [],
   "source": [
    "evidf = pd.read_csv('../data_out/Gingin_EVI_processed.csv', parse_dates=['DateTime'], index_col='DateTime')\n",
    "tempdf = pd.read_csv('rnn_data_prajwal.csv', parse_dates=['DateTime'], index_col='DateTime')\n",
    "tempdf.drop('Unnamed: 0', axis=1, inplace=True)"
   ]
  },
  {
   "cell_type": "code",
   "execution_count": 73,
   "metadata": {},
   "outputs": [],
   "source": [
    "df = pd.merge(tempdf, evidf, how='left', on='DateTime')"
   ]
  },
  {
   "cell_type": "code",
   "execution_count": 74,
   "metadata": {},
   "outputs": [
    {
     "data": {
      "text/plain": [
       "(Timestamp('2013-01-01 01:00:00'), Timestamp('2014-01-01 00:00:00'))"
      ]
     },
     "execution_count": 74,
     "metadata": {},
     "output_type": "execute_result"
    }
   ],
   "source": [
    "df.index.min(), df.index.max()"
   ]
  },
  {
   "cell_type": "code",
   "execution_count": 75,
   "metadata": {},
   "outputs": [],
   "source": [
    "Xvar = ['Ta', 'Ws', 'Fg', 'VPD', 'Fn', 'q', 'Ts', 'Sws', 'EVI']\n",
    "yvar = 'Fc'"
   ]
  },
  {
   "cell_type": "code",
   "execution_count": 76,
   "metadata": {},
   "outputs": [
    {
     "data": {
      "text/html": [
       "<div>\n",
       "<style scoped>\n",
       "    .dataframe tbody tr th:only-of-type {\n",
       "        vertical-align: middle;\n",
       "    }\n",
       "\n",
       "    .dataframe tbody tr th {\n",
       "        vertical-align: top;\n",
       "    }\n",
       "\n",
       "    .dataframe thead th {\n",
       "        text-align: right;\n",
       "    }\n",
       "</style>\n",
       "<table border=\"1\" class=\"dataframe\">\n",
       "  <thead>\n",
       "    <tr style=\"text-align: right;\">\n",
       "      <th></th>\n",
       "      <th>Fc</th>\n",
       "      <th>Ta</th>\n",
       "      <th>Ws</th>\n",
       "      <th>Fg</th>\n",
       "      <th>VPD</th>\n",
       "      <th>Fn</th>\n",
       "      <th>q</th>\n",
       "      <th>Ts</th>\n",
       "      <th>Sws</th>\n",
       "      <th>EVI</th>\n",
       "    </tr>\n",
       "    <tr>\n",
       "      <th>DateTime</th>\n",
       "      <th></th>\n",
       "      <th></th>\n",
       "      <th></th>\n",
       "      <th></th>\n",
       "      <th></th>\n",
       "      <th></th>\n",
       "      <th></th>\n",
       "      <th></th>\n",
       "      <th></th>\n",
       "      <th></th>\n",
       "    </tr>\n",
       "  </thead>\n",
       "  <tbody>\n",
       "    <tr>\n",
       "      <td>2013-01-01 01:00:00</td>\n",
       "      <td>3.070399</td>\n",
       "      <td>26.998711</td>\n",
       "      <td>2.08</td>\n",
       "      <td>-20.984654</td>\n",
       "      <td>1.183521</td>\n",
       "      <td>-39.635899</td>\n",
       "      <td>0.014801</td>\n",
       "      <td>32.291790</td>\n",
       "      <td>0.032662</td>\n",
       "      <td>0.225559</td>\n",
       "    </tr>\n",
       "    <tr>\n",
       "      <td>2013-01-01 01:30:00</td>\n",
       "      <td>2.948313</td>\n",
       "      <td>26.629910</td>\n",
       "      <td>2.47</td>\n",
       "      <td>-19.131921</td>\n",
       "      <td>1.067606</td>\n",
       "      <td>-35.979652</td>\n",
       "      <td>0.015045</td>\n",
       "      <td>32.036301</td>\n",
       "      <td>0.032636</td>\n",
       "      <td>0.225565</td>\n",
       "    </tr>\n",
       "    <tr>\n",
       "      <td>2013-01-01 02:00:00</td>\n",
       "      <td>2.369790</td>\n",
       "      <td>26.294310</td>\n",
       "      <td>1.95</td>\n",
       "      <td>-18.278720</td>\n",
       "      <td>1.002275</td>\n",
       "      <td>-38.033844</td>\n",
       "      <td>0.015030</td>\n",
       "      <td>31.798710</td>\n",
       "      <td>0.032619</td>\n",
       "      <td>0.225570</td>\n",
       "    </tr>\n",
       "    <tr>\n",
       "      <td>2013-01-01 02:30:00</td>\n",
       "      <td>0.105580</td>\n",
       "      <td>25.739479</td>\n",
       "      <td>1.55</td>\n",
       "      <td>-17.862080</td>\n",
       "      <td>0.927464</td>\n",
       "      <td>-41.878986</td>\n",
       "      <td>0.014810</td>\n",
       "      <td>31.572710</td>\n",
       "      <td>0.032582</td>\n",
       "      <td>0.225576</td>\n",
       "    </tr>\n",
       "    <tr>\n",
       "      <td>2013-01-01 03:30:00</td>\n",
       "      <td>2.085828</td>\n",
       "      <td>24.548740</td>\n",
       "      <td>2.69</td>\n",
       "      <td>-21.647482</td>\n",
       "      <td>0.792163</td>\n",
       "      <td>-57.483334</td>\n",
       "      <td>0.014242</td>\n",
       "      <td>31.069750</td>\n",
       "      <td>0.032534</td>\n",
       "      <td>0.225588</td>\n",
       "    </tr>\n",
       "  </tbody>\n",
       "</table>\n",
       "</div>"
      ],
      "text/plain": [
       "                           Fc         Ta    Ws         Fg       VPD  \\\n",
       "DateTime                                                              \n",
       "2013-01-01 01:00:00  3.070399  26.998711  2.08 -20.984654  1.183521   \n",
       "2013-01-01 01:30:00  2.948313  26.629910  2.47 -19.131921  1.067606   \n",
       "2013-01-01 02:00:00  2.369790  26.294310  1.95 -18.278720  1.002275   \n",
       "2013-01-01 02:30:00  0.105580  25.739479  1.55 -17.862080  0.927464   \n",
       "2013-01-01 03:30:00  2.085828  24.548740  2.69 -21.647482  0.792163   \n",
       "\n",
       "                            Fn         q         Ts       Sws       EVI  \n",
       "DateTime                                                                 \n",
       "2013-01-01 01:00:00 -39.635899  0.014801  32.291790  0.032662  0.225559  \n",
       "2013-01-01 01:30:00 -35.979652  0.015045  32.036301  0.032636  0.225565  \n",
       "2013-01-01 02:00:00 -38.033844  0.015030  31.798710  0.032619  0.225570  \n",
       "2013-01-01 02:30:00 -41.878986  0.014810  31.572710  0.032582  0.225576  \n",
       "2013-01-01 03:30:00 -57.483334  0.014242  31.069750  0.032534  0.225588  "
      ]
     },
     "execution_count": 76,
     "metadata": {},
     "output_type": "execute_result"
    }
   ],
   "source": [
    "df.head()"
   ]
  },
  {
   "cell_type": "markdown",
   "metadata": {},
   "source": [
    "### Train-test split"
   ]
  },
  {
   "cell_type": "code",
   "execution_count": 77,
   "metadata": {},
   "outputs": [],
   "source": [
    "X_train, X_test, y_train, y_test = train_test_split(df[Xvar], df[yvar], \n",
    "                                                    test_size=0.20, random_state=40, shuffle=True)"
   ]
  },
  {
   "cell_type": "markdown",
   "metadata": {},
   "source": [
    "#### Data Day-night split"
   ]
  },
  {
   "cell_type": "code",
   "execution_count": 78,
   "metadata": {},
   "outputs": [],
   "source": [
    "X_train_night = X_train.between_time('18:00', '07:00')\n",
    "X_test_night = X_test.between_time('18:00', '07:00')\n",
    "y_train_night = y_train.between_time('18:00', '07:00')\n",
    "y_test_night = y_test.between_time('18:00', '07:00')"
   ]
  },
  {
   "cell_type": "code",
   "execution_count": 79,
   "metadata": {},
   "outputs": [],
   "source": [
    "X_train_day = X_train.between_time('07:00', '18:00')\n",
    "X_test_day = X_test.between_time('07:00', '18:00')\n",
    "y_train_day = y_train.between_time('07:00', '18:00')\n",
    "y_test_day = y_test.between_time('07:00', '18:00')"
   ]
  },
  {
   "cell_type": "markdown",
   "metadata": {},
   "source": [
    "#### Scaling data"
   ]
  },
  {
   "cell_type": "code",
   "execution_count": 80,
   "metadata": {},
   "outputs": [],
   "source": [
    "def scaling(X, y):\n",
    "    scaler_test = StandardScaler()\n",
    "    X_scaled = scaler_test.fit_transform(X)\n",
    "    y_mean, y_std = y.mean(), y.std()\n",
    "    y_scaled = (y - y_mean)/y_std\n",
    "    return X_scaled, y_scaled, y_mean, y_std"
   ]
  },
  {
   "cell_type": "code",
   "execution_count": 81,
   "metadata": {},
   "outputs": [],
   "source": [
    "X_test_scaled, y_test_scaled, y_test_mean, y_test_std = scaling(X_test, y_test)\n",
    "X_train_scaled, y_train_scaled, y_train_mean, y_train_std = scaling(X_train, y_train)\n",
    "\n",
    "X_test_day_scaled, y_test_day_scaled, y_test_day_mean, y_test_day_std = scaling(X_test_day, y_test_day)\n",
    "X_test_night_scaled, y_test_night_scaled, y_test_night_mean, y_test_night_std = scaling(X_test_night, \n",
    "                                                                                        y_test_night)\n",
    "\n",
    "X_train_day_scaled, y_train_day_scaled, y_train_day_mean, y_train_day_std = scaling(X_train_day, y_train_day)\n",
    "X_train_night_scaled, y_train_night_scaled, y_train_night_mean, y_train_night_std = scaling(X_train_night, \n",
    "                                                                                            y_train_night)"
   ]
  },
  {
   "cell_type": "code",
   "execution_count": 82,
   "metadata": {},
   "outputs": [
    {
     "name": "stdout",
     "output_type": "stream",
     "text": [
      "Single (7212, 9)\n",
      "Night (2293, 9)\n",
      "Day (5202, 9)\n"
     ]
    }
   ],
   "source": [
    "print('Single', X_train.shape)\n",
    "print('Night', X_train_night.shape)\n",
    "print('Day', X_train_day.shape)\n"
   ]
  },
  {
   "cell_type": "markdown",
   "metadata": {},
   "source": [
    "### A. Train single model"
   ]
  },
  {
   "cell_type": "code",
   "execution_count": 83,
   "metadata": {},
   "outputs": [],
   "source": [
    "def rmsle_cv(model, X_train, y_train, n_folds):\n",
    "    kf = KFold(n_folds, shuffle=True, random_state=42).get_n_splits(X_train)\n",
    "    score = cross_val_score(model, X_train, y_train, scoring=\"neg_mean_squared_error\", cv = kf)\n",
    "    rmse= np.sqrt(-score)\n",
    "    return(rmse), model.fit(X_train, y_train)\n",
    "\n",
    "def rmsle_randomsearchcv(model, params, X_train, y_train, n_folds, random_state=0):\n",
    "    clf = RandomizedSearchCV(model, params, random_state=random_state, cv=n_folds, return_train_score=True, \n",
    "                         scoring=\"neg_mean_squared_error\")\n",
    "    search = clf.fit(X_train, y_train)\n",
    "    rmse= np.sqrt(-search.best_score_)\n",
    "    return rmse, search"
   ]
  },
  {
   "cell_type": "code",
   "execution_count": 84,
   "metadata": {},
   "outputs": [
    {
     "name": "stdout",
     "output_type": "stream",
     "text": [
      "\n",
      "Single LGB score: 0.6762 (+/-0.0000)\n",
      "\n"
     ]
    }
   ],
   "source": [
    "N_FOLDS = 3\n",
    "\n",
    "# Hyperparameter Optz\n",
    "params = dict(num_leaves = randint(2,10), \n",
    "              n_estimators = randint(100,1000),\n",
    "              learning_rate = uniform(1e-3, 1),\n",
    "              min_data_in_leaf = randint(2,10),\n",
    "              objective=['regression'])\n",
    "\n",
    "cls_ = lgb.LGBMRegressor()\n",
    "\n",
    "score, cls_ = rmsle_randomsearchcv(cls_, params, X_train_scaled, y_train_scaled, N_FOLDS)\n",
    "print(\"\\nSingle LGB score: {:.4f} (+/-{:.4f})\\n\".format(score.mean(), score.std()))"
   ]
  },
  {
   "cell_type": "code",
   "execution_count": 85,
   "metadata": {},
   "outputs": [
    {
     "name": "stdout",
     "output_type": "stream",
     "text": [
      "\n",
      "Single LGB score: 0.6761 (+/-0.0036)\n",
      "\n"
     ]
    }
   ],
   "source": [
    "model_single = lgb.LGBMRegressor(**cls_.best_params_)\n",
    "\n",
    "score, model_single = rmsle_cv(model_single, X_train_scaled, y_train_scaled, N_FOLDS)\n",
    "print(\"\\nSingle LGB score: {:.4f} (+/-{:.4f})\\n\".format(score.mean(), score.std()))"
   ]
  },
  {
   "cell_type": "markdown",
   "metadata": {},
   "source": [
    "### B. Train day-night model"
   ]
  },
  {
   "cell_type": "code",
   "execution_count": 86,
   "metadata": {},
   "outputs": [
    {
     "name": "stdout",
     "output_type": "stream",
     "text": [
      "\n",
      "Day LGBM score: 0.7726 (+/-0.0000)\n",
      "\n"
     ]
    }
   ],
   "source": [
    "# Hyperparameter Optz\n",
    "params = dict(num_leaves = randint(2,10), \n",
    "              n_estimators = randint(100,1000),\n",
    "              learning_rate = uniform(1e-3, 1),\n",
    "              min_data_in_leaf = randint(2,10),\n",
    "              objective=['regression'])\n",
    "\n",
    "cls_day = lgb.LGBMRegressor()\n",
    "\n",
    "score, cls_day = rmsle_randomsearchcv(cls_day, params, X_train_day_scaled, y_train_day_scaled, N_FOLDS)\n",
    "print(\"\\nDay LGBM score: {:.4f} (+/-{:.4f})\\n\".format(score.mean(), score.std()))"
   ]
  },
  {
   "cell_type": "code",
   "execution_count": 87,
   "metadata": {},
   "outputs": [
    {
     "name": "stdout",
     "output_type": "stream",
     "text": [
      "\n",
      "Day LGBM score: 0.7725 (+/-0.0126)\n",
      "\n"
     ]
    }
   ],
   "source": [
    "model_day = lgb.LGBMRegressor(**cls_day.best_params_)\n",
    "\n",
    "score, model_day = rmsle_cv(model_day, X_train_day_scaled, y_train_day_scaled, N_FOLDS)\n",
    "print(\"\\nDay LGBM score: {:.4f} (+/-{:.4f})\\n\".format(score.mean(), score.std()))"
   ]
  },
  {
   "cell_type": "code",
   "execution_count": 88,
   "metadata": {},
   "outputs": [
    {
     "name": "stdout",
     "output_type": "stream",
     "text": [
      "\n",
      "NightGBM score: 0.9297 (+/-0.0000)\n",
      "\n"
     ]
    }
   ],
   "source": [
    "# Hyperparameter Optz\n",
    "params = dict(num_leaves = randint(2,10), \n",
    "              n_estimators = randint(100,1000),\n",
    "              learning_rate = uniform(1e-3, 1),\n",
    "              min_data_in_leaf = randint(2,10),\n",
    "              objective=['regression'])\n",
    "\n",
    "cls_night = lgb.LGBMRegressor()\n",
    "\n",
    "score, cls_night = rmsle_randomsearchcv(cls_night, params, X_train_night_scaled, y_train_night_scaled, N_FOLDS)\n",
    "print(\"\\nNightGBM score: {:.4f} (+/-{:.4f})\\n\".format(score.mean(), score.std()))"
   ]
  },
  {
   "cell_type": "code",
   "execution_count": 89,
   "metadata": {},
   "outputs": [
    {
     "name": "stdout",
     "output_type": "stream",
     "text": [
      "\n",
      "Night LGBM score: 0.9282 (+/-0.0539)\n",
      "\n"
     ]
    }
   ],
   "source": [
    "model_night = lgb.LGBMRegressor(**cls_night.best_params_)\n",
    "\n",
    "score, model_night = rmsle_cv(model_night, X_train_night_scaled, y_train_night_scaled, N_FOLDS)\n",
    "print(\"\\nNight LGBM score: {:.4f} (+/-{:.4f})\\n\".format(score.mean(), score.std()))"
   ]
  },
  {
   "cell_type": "markdown",
   "metadata": {},
   "source": [
    "### Score comparison"
   ]
  },
  {
   "cell_type": "code",
   "execution_count": 90,
   "metadata": {},
   "outputs": [],
   "source": [
    "y_test_pred = model_single.predict(X_test_scaled)\n",
    "y_test_night_pred = model_night.predict(X_test_night_scaled)\n",
    "y_test_day_pred = model_day.predict(X_test_day_scaled)"
   ]
  },
  {
   "cell_type": "code",
   "execution_count": 93,
   "metadata": {},
   "outputs": [
    {
     "name": "stdout",
     "output_type": "stream",
     "text": [
      "Night LGBM\n",
      "RMSE: 2.067, R^2: 1.000, MBE: -1.996, IOAD: 0.783\n",
      "Day LGBM\n",
      "RMSE: 4.169, R^2: 1.000, MBE: 3.643, IOAD: 0.787\n"
     ]
    }
   ],
   "source": [
    "print('Night LGBM')\n",
    "diagnostic_stats(y_test_night_pred, y_test_night_pred*y_test_night_std + y_test_night_mean);\n",
    "print('Day LGBM')\n",
    "diagnostic_stats(y_test_day_pred, y_test_day_pred*y_test_day_std + y_test_day_mean);"
   ]
  },
  {
   "cell_type": "code",
   "execution_count": 96,
   "metadata": {},
   "outputs": [
    {
     "name": "stdout",
     "output_type": "stream",
     "text": [
      "Single LGBM\n",
      "RMSE: 2.957, R^2: 0.579, MBE: 0.023, IOAD: 0.922\n",
      "Day/Night Merged LGBM\n",
      "RMSE: 3.686, R^2: 0.423, MBE: 2.010, IOAD: 0.787\n"
     ]
    }
   ],
   "source": [
    "print('Single LGBM')\n",
    "diagnostic_stats(y_test, y_test_pred*y_test_std + y_test_mean);\n",
    "print('Day/Night Merged LGBM')\n",
    "diagnostic_stats(np.concatenate((y_test_day_pred, y_test_night_pred)), \n",
    "                 np.concatenate((y_test_day_pred*y_test_day_std + y_test_day_mean,\n",
    "                                 y_test_night_pred*y_test_night_std + y_test_night_mean)));"
   ]
  },
  {
   "cell_type": "code",
   "execution_count": null,
   "metadata": {},
   "outputs": [],
   "source": []
  }
 ],
 "metadata": {
  "kernelspec": {
   "display_name": "Python 3",
   "language": "python",
   "name": "python3"
  },
  "language_info": {
   "codemirror_mode": {
    "name": "ipython",
    "version": 3
   },
   "file_extension": ".py",
   "mimetype": "text/x-python",
   "name": "python",
   "nbconvert_exporter": "python",
   "pygments_lexer": "ipython3",
   "version": "3.7.3"
  },
  "toc": {
   "base_numbering": 1,
   "nav_menu": {},
   "number_sections": true,
   "sideBar": true,
   "skip_h1_title": false,
   "title_cell": "Table of Contents",
   "title_sidebar": "Contents",
   "toc_cell": false,
   "toc_position": {},
   "toc_section_display": true,
   "toc_window_display": false
  }
 },
 "nbformat": 4,
 "nbformat_minor": 2
}
