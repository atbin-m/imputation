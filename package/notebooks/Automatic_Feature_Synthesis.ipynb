{
 "cells": [
  {
   "cell_type": "code",
   "execution_count": 1,
   "metadata": {},
   "outputs": [],
   "source": [
    "import pandas as pd\n",
    "import numpy as np\n",
    "from sklearn.ensemble import RandomForestRegressor as RFE\n",
    "import matplotlib.pyplot as plt\n",
    "from sklearn.model_selection import train_test_split\n",
    "from sklearn.linear_model import LinearRegression\n",
    "from sklearn.metrics import mean_squared_error\n",
    "from sklearn.preprocessing import StandardScaler\n",
    "from matplotlib import cm\n",
    "from sklearn import preprocessing\n",
    "\n",
    "%matplotlib inline"
   ]
  },
  {
   "cell_type": "code",
   "execution_count": 2,
   "metadata": {},
   "outputs": [],
   "source": [
    "df = pd.read_csv('rnn_data_prajwal.csv', parse_dates=['DateTime'])#, index_col='DateTime')"
   ]
  },
  {
   "cell_type": "code",
   "execution_count": 3,
   "metadata": {},
   "outputs": [
    {
     "data": {
      "text/html": [
       "<div>\n",
       "<style scoped>\n",
       "    .dataframe tbody tr th:only-of-type {\n",
       "        vertical-align: middle;\n",
       "    }\n",
       "\n",
       "    .dataframe tbody tr th {\n",
       "        vertical-align: top;\n",
       "    }\n",
       "\n",
       "    .dataframe thead th {\n",
       "        text-align: right;\n",
       "    }\n",
       "</style>\n",
       "<table border=\"1\" class=\"dataframe\">\n",
       "  <thead>\n",
       "    <tr style=\"text-align: right;\">\n",
       "      <th></th>\n",
       "      <th>Unnamed: 0</th>\n",
       "      <th>Fc</th>\n",
       "      <th>DateTime</th>\n",
       "      <th>Ta</th>\n",
       "      <th>Ws</th>\n",
       "      <th>Fg</th>\n",
       "      <th>VPD</th>\n",
       "      <th>Fn</th>\n",
       "      <th>q</th>\n",
       "      <th>Ts</th>\n",
       "      <th>Sws</th>\n",
       "    </tr>\n",
       "  </thead>\n",
       "  <tbody>\n",
       "    <tr>\n",
       "      <td>0</td>\n",
       "      <td>1</td>\n",
       "      <td>3.070399</td>\n",
       "      <td>2013-01-01 01:00:00</td>\n",
       "      <td>26.998711</td>\n",
       "      <td>2.08</td>\n",
       "      <td>-20.984654</td>\n",
       "      <td>1.183521</td>\n",
       "      <td>-39.635899</td>\n",
       "      <td>0.014801</td>\n",
       "      <td>32.291790</td>\n",
       "      <td>0.032662</td>\n",
       "    </tr>\n",
       "    <tr>\n",
       "      <td>1</td>\n",
       "      <td>2</td>\n",
       "      <td>2.948313</td>\n",
       "      <td>2013-01-01 01:30:00</td>\n",
       "      <td>26.629910</td>\n",
       "      <td>2.47</td>\n",
       "      <td>-19.131921</td>\n",
       "      <td>1.067606</td>\n",
       "      <td>-35.979652</td>\n",
       "      <td>0.015045</td>\n",
       "      <td>32.036301</td>\n",
       "      <td>0.032636</td>\n",
       "    </tr>\n",
       "    <tr>\n",
       "      <td>2</td>\n",
       "      <td>3</td>\n",
       "      <td>2.369790</td>\n",
       "      <td>2013-01-01 02:00:00</td>\n",
       "      <td>26.294310</td>\n",
       "      <td>1.95</td>\n",
       "      <td>-18.278720</td>\n",
       "      <td>1.002275</td>\n",
       "      <td>-38.033844</td>\n",
       "      <td>0.015030</td>\n",
       "      <td>31.798710</td>\n",
       "      <td>0.032619</td>\n",
       "    </tr>\n",
       "    <tr>\n",
       "      <td>3</td>\n",
       "      <td>4</td>\n",
       "      <td>0.105580</td>\n",
       "      <td>2013-01-01 02:30:00</td>\n",
       "      <td>25.739479</td>\n",
       "      <td>1.55</td>\n",
       "      <td>-17.862080</td>\n",
       "      <td>0.927464</td>\n",
       "      <td>-41.878986</td>\n",
       "      <td>0.014810</td>\n",
       "      <td>31.572710</td>\n",
       "      <td>0.032582</td>\n",
       "    </tr>\n",
       "    <tr>\n",
       "      <td>4</td>\n",
       "      <td>6</td>\n",
       "      <td>2.085828</td>\n",
       "      <td>2013-01-01 03:30:00</td>\n",
       "      <td>24.548740</td>\n",
       "      <td>2.69</td>\n",
       "      <td>-21.647482</td>\n",
       "      <td>0.792163</td>\n",
       "      <td>-57.483334</td>\n",
       "      <td>0.014242</td>\n",
       "      <td>31.069750</td>\n",
       "      <td>0.032534</td>\n",
       "    </tr>\n",
       "  </tbody>\n",
       "</table>\n",
       "</div>"
      ],
      "text/plain": [
       "   Unnamed: 0        Fc            DateTime         Ta    Ws         Fg  \\\n",
       "0           1  3.070399 2013-01-01 01:00:00  26.998711  2.08 -20.984654   \n",
       "1           2  2.948313 2013-01-01 01:30:00  26.629910  2.47 -19.131921   \n",
       "2           3  2.369790 2013-01-01 02:00:00  26.294310  1.95 -18.278720   \n",
       "3           4  0.105580 2013-01-01 02:30:00  25.739479  1.55 -17.862080   \n",
       "4           6  2.085828 2013-01-01 03:30:00  24.548740  2.69 -21.647482   \n",
       "\n",
       "        VPD         Fn         q         Ts       Sws  \n",
       "0  1.183521 -39.635899  0.014801  32.291790  0.032662  \n",
       "1  1.067606 -35.979652  0.015045  32.036301  0.032636  \n",
       "2  1.002275 -38.033844  0.015030  31.798710  0.032619  \n",
       "3  0.927464 -41.878986  0.014810  31.572710  0.032582  \n",
       "4  0.792163 -57.483334  0.014242  31.069750  0.032534  "
      ]
     },
     "execution_count": 3,
     "metadata": {},
     "output_type": "execute_result"
    }
   ],
   "source": [
    "df.head()"
   ]
  },
  {
   "cell_type": "code",
   "execution_count": 4,
   "metadata": {},
   "outputs": [],
   "source": [
    "Xvar = ['Ta', 'Ws', 'Fg', 'VPD', 'Fn', 'q', 'Ts', 'Sws']\n",
    "yvar = 'Fc'"
   ]
  },
  {
   "cell_type": "markdown",
   "metadata": {},
   "source": [
    "### Feature synthesis"
   ]
  },
  {
   "cell_type": "code",
   "execution_count": 5,
   "metadata": {},
   "outputs": [],
   "source": [
    "import featuretools as ft"
   ]
  },
  {
   "cell_type": "code",
   "execution_count": 6,
   "metadata": {},
   "outputs": [
    {
     "data": {
      "text/plain": [
       "Entity: data\n",
       "  Variables:\n",
       "    index (dtype: index)\n",
       "    Ta (dtype: numeric)\n",
       "    Ws (dtype: numeric)\n",
       "    Fg (dtype: numeric)\n",
       "    VPD (dtype: numeric)\n",
       "    Fn (dtype: numeric)\n",
       "    q (dtype: numeric)\n",
       "    Ts (dtype: numeric)\n",
       "    Sws (dtype: numeric)\n",
       "  Shape:\n",
       "    (Rows: 9015, Columns: 9)"
      ]
     },
     "execution_count": 6,
     "metadata": {},
     "output_type": "execute_result"
    }
   ],
   "source": [
    "# Make an entityset and add the entity\n",
    "es = ft.EntitySet(id=\"NA\")\n",
    "\n",
    "# Add the entire data table as an entity\n",
    "es.entity_from_dataframe(entity_id = \"data\",\n",
    "                         dataframe = df[Xvar],\n",
    "                         make_index=True,\n",
    "                         index = \"index\")\n",
    "\n",
    "es['data']"
   ]
  },
  {
   "cell_type": "code",
   "execution_count": 7,
   "metadata": {},
   "outputs": [
    {
     "data": {
      "text/plain": [
       "array(['aggregation', 'transform'], dtype=object)"
      ]
     },
     "execution_count": 7,
     "metadata": {},
     "output_type": "execute_result"
    }
   ],
   "source": [
    "ft.list_primitives()['type'].unique()"
   ]
  },
  {
   "cell_type": "code",
   "execution_count": 8,
   "metadata": {},
   "outputs": [
    {
     "data": {
      "text/plain": [
       "array(['cum_sum', 'not_equal_scalar', 'greater_than', 'latitude', 'year',\n",
       "       'divide_numeric', 'and', 'equal_scalar', 'not', 'week',\n",
       "       'multiply_numeric_scalar', 'less_than_equal_to_scalar',\n",
       "       'modulo_numeric_scalar', 'diff', 'second',\n",
       "       'scalar_subtract_numeric_feature', 'divide_by_feature',\n",
       "       'less_than_scalar', 'time_since', 'day', 'cum_min',\n",
       "       'subtract_numeric', 'greater_than_equal_to_scalar',\n",
       "       'num_characters', 'time_since_previous', 'cum_count',\n",
       "       'add_numeric', 'is_null', 'greater_than_scalar', 'longitude',\n",
       "       'is_weekend', 'not_equal', 'or', 'percentile', 'month',\n",
       "       'multiply_boolean', 'equal', 'modulo_by_feature', 'negate',\n",
       "       'minute', 'multiply_numeric', 'less_than_equal_to',\n",
       "       'modulo_numeric', 'isin', 'hour', 'cum_max',\n",
       "       'subtract_numeric_scalar', 'divide_numeric_scalar', 'less_than',\n",
       "       'num_words', 'cum_mean', 'add_numeric_scalar',\n",
       "       'greater_than_equal_to', 'weekday', 'absolute', 'haversine'],\n",
       "      dtype=object)"
      ]
     },
     "execution_count": 8,
     "metadata": {},
     "output_type": "execute_result"
    }
   ],
   "source": [
    "trans_primitives = ['add_numeric', 'multiply_numeric']\n",
    "\n",
    "# To see full list of availabel primitives\n",
    "t = ft.list_primitives()\n",
    "t.loc[t['type']=='transform', 'name'].values\n",
    "#t.loc[t['type']=='aggregation', 'name']"
   ]
  },
  {
   "cell_type": "code",
   "execution_count": 9,
   "metadata": {},
   "outputs": [
    {
     "data": {
      "text/html": [
       "<div>\n",
       "<style scoped>\n",
       "    .dataframe tbody tr th:only-of-type {\n",
       "        vertical-align: middle;\n",
       "    }\n",
       "\n",
       "    .dataframe tbody tr th {\n",
       "        vertical-align: top;\n",
       "    }\n",
       "\n",
       "    .dataframe thead th {\n",
       "        text-align: right;\n",
       "    }\n",
       "</style>\n",
       "<table border=\"1\" class=\"dataframe\">\n",
       "  <thead>\n",
       "    <tr style=\"text-align: right;\">\n",
       "      <th></th>\n",
       "      <th>Ta</th>\n",
       "      <th>Ws</th>\n",
       "      <th>Fg</th>\n",
       "      <th>VPD</th>\n",
       "      <th>Fn</th>\n",
       "      <th>q</th>\n",
       "      <th>Ts</th>\n",
       "      <th>Sws</th>\n",
       "      <th>Fn + Ta</th>\n",
       "      <th>Fn + Ws</th>\n",
       "      <th>...</th>\n",
       "      <th>Sws + Ts * Ta + Ws</th>\n",
       "      <th>Fg + Ws * Sws + Ts</th>\n",
       "      <th>Fg * Fg + Ws</th>\n",
       "      <th>Fn + Ts * q + Ta</th>\n",
       "      <th>Ts + VPD * VPD</th>\n",
       "      <th>Fg + Ta * Sws + Ta</th>\n",
       "      <th>Ts + Ws * Ws</th>\n",
       "      <th>Fn * q + VPD</th>\n",
       "      <th>Fg + Ws * q + VPD</th>\n",
       "      <th>Sws + Ta * VPD</th>\n",
       "    </tr>\n",
       "    <tr>\n",
       "      <th>index</th>\n",
       "      <th></th>\n",
       "      <th></th>\n",
       "      <th></th>\n",
       "      <th></th>\n",
       "      <th></th>\n",
       "      <th></th>\n",
       "      <th></th>\n",
       "      <th></th>\n",
       "      <th></th>\n",
       "      <th></th>\n",
       "      <th></th>\n",
       "      <th></th>\n",
       "      <th></th>\n",
       "      <th></th>\n",
       "      <th></th>\n",
       "      <th></th>\n",
       "      <th></th>\n",
       "      <th></th>\n",
       "      <th></th>\n",
       "      <th></th>\n",
       "      <th></th>\n",
       "    </tr>\n",
       "  </thead>\n",
       "  <tbody>\n",
       "    <tr>\n",
       "      <td>0</td>\n",
       "      <td>26.998711</td>\n",
       "      <td>2.08</td>\n",
       "      <td>-20.984654</td>\n",
       "      <td>1.183521</td>\n",
       "      <td>-39.635899</td>\n",
       "      <td>0.014801</td>\n",
       "      <td>32.291790</td>\n",
       "      <td>0.032662</td>\n",
       "      <td>-12.637188</td>\n",
       "      <td>-37.555899</td>\n",
       "      <td>...</td>\n",
       "      <td>939.953394</td>\n",
       "      <td>-611.082583</td>\n",
       "      <td>396.707616</td>\n",
       "      <td>-198.390160</td>\n",
       "      <td>39.618743</td>\n",
       "      <td>162.568214</td>\n",
       "      <td>71.493320</td>\n",
       "      <td>-47.496563</td>\n",
       "      <td>-22.653860</td>\n",
       "      <td>31.992205</td>\n",
       "    </tr>\n",
       "    <tr>\n",
       "      <td>1</td>\n",
       "      <td>26.629910</td>\n",
       "      <td>2.47</td>\n",
       "      <td>-19.131921</td>\n",
       "      <td>1.067606</td>\n",
       "      <td>-35.979652</td>\n",
       "      <td>0.015045</td>\n",
       "      <td>32.036301</td>\n",
       "      <td>0.032636</td>\n",
       "      <td>-9.349743</td>\n",
       "      <td>-33.509652</td>\n",
       "      <td>...</td>\n",
       "      <td>933.203152</td>\n",
       "      <td>-534.330099</td>\n",
       "      <td>318.774570</td>\n",
       "      <td>-105.070428</td>\n",
       "      <td>35.341945</td>\n",
       "      <td>199.915448</td>\n",
       "      <td>85.230564</td>\n",
       "      <td>-38.953419</td>\n",
       "      <td>-18.039052</td>\n",
       "      <td>28.465105</td>\n",
       "    </tr>\n",
       "    <tr>\n",
       "      <td>2</td>\n",
       "      <td>26.294310</td>\n",
       "      <td>1.95</td>\n",
       "      <td>-18.278720</td>\n",
       "      <td>1.002275</td>\n",
       "      <td>-38.033844</td>\n",
       "      <td>0.015030</td>\n",
       "      <td>31.798710</td>\n",
       "      <td>0.032619</td>\n",
       "      <td>-11.739534</td>\n",
       "      <td>-36.083844</td>\n",
       "      <td>...</td>\n",
       "      <td>899.053901</td>\n",
       "      <td>-519.764842</td>\n",
       "      <td>298.468091</td>\n",
       "      <td>-164.042264</td>\n",
       "      <td>32.875623</td>\n",
       "      <td>211.025860</td>\n",
       "      <td>65.809986</td>\n",
       "      <td>-38.692053</td>\n",
       "      <td>-16.611302</td>\n",
       "      <td>26.386834</td>\n",
       "    </tr>\n",
       "    <tr>\n",
       "      <td>3</td>\n",
       "      <td>25.739479</td>\n",
       "      <td>1.55</td>\n",
       "      <td>-17.862080</td>\n",
       "      <td>0.927464</td>\n",
       "      <td>-41.878986</td>\n",
       "      <td>0.014810</td>\n",
       "      <td>31.572710</td>\n",
       "      <td>0.032582</td>\n",
       "      <td>-16.139507</td>\n",
       "      <td>-40.328986</td>\n",
       "      <td>...</td>\n",
       "      <td>862.491967</td>\n",
       "      <td>-515.548064</td>\n",
       "      <td>291.367682</td>\n",
       "      <td>-265.430821</td>\n",
       "      <td>30.142726</td>\n",
       "      <td>203.016811</td>\n",
       "      <td>51.340199</td>\n",
       "      <td>-39.461465</td>\n",
       "      <td>-15.370443</td>\n",
       "      <td>23.902647</td>\n",
       "    </tr>\n",
       "    <tr>\n",
       "      <td>4</td>\n",
       "      <td>24.548740</td>\n",
       "      <td>2.69</td>\n",
       "      <td>-21.647482</td>\n",
       "      <td>0.792163</td>\n",
       "      <td>-57.483334</td>\n",
       "      <td>0.014242</td>\n",
       "      <td>31.069750</td>\n",
       "      <td>0.032534</td>\n",
       "      <td>-32.934593</td>\n",
       "      <td>-54.793334</td>\n",
       "      <td>...</td>\n",
       "      <td>847.187043</td>\n",
       "      <td>-589.620999</td>\n",
       "      <td>410.381763</td>\n",
       "      <td>-648.796390</td>\n",
       "      <td>25.239825</td>\n",
       "      <td>71.316621</td>\n",
       "      <td>90.813729</td>\n",
       "      <td>-46.354836</td>\n",
       "      <td>-15.287405</td>\n",
       "      <td>19.472374</td>\n",
       "    </tr>\n",
       "  </tbody>\n",
       "</table>\n",
       "<p>5 rows × 666 columns</p>\n",
       "</div>"
      ],
      "text/plain": [
       "              Ta    Ws         Fg       VPD         Fn         q         Ts  \\\n",
       "index                                                                         \n",
       "0      26.998711  2.08 -20.984654  1.183521 -39.635899  0.014801  32.291790   \n",
       "1      26.629910  2.47 -19.131921  1.067606 -35.979652  0.015045  32.036301   \n",
       "2      26.294310  1.95 -18.278720  1.002275 -38.033844  0.015030  31.798710   \n",
       "3      25.739479  1.55 -17.862080  0.927464 -41.878986  0.014810  31.572710   \n",
       "4      24.548740  2.69 -21.647482  0.792163 -57.483334  0.014242  31.069750   \n",
       "\n",
       "            Sws    Fn + Ta    Fn + Ws  ...  Sws + Ts * Ta + Ws  \\\n",
       "index                                  ...                       \n",
       "0      0.032662 -12.637188 -37.555899  ...          939.953394   \n",
       "1      0.032636  -9.349743 -33.509652  ...          933.203152   \n",
       "2      0.032619 -11.739534 -36.083844  ...          899.053901   \n",
       "3      0.032582 -16.139507 -40.328986  ...          862.491967   \n",
       "4      0.032534 -32.934593 -54.793334  ...          847.187043   \n",
       "\n",
       "       Fg + Ws * Sws + Ts  Fg * Fg + Ws  Fn + Ts * q + Ta  Ts + VPD * VPD  \\\n",
       "index                                                                       \n",
       "0             -611.082583    396.707616       -198.390160       39.618743   \n",
       "1             -534.330099    318.774570       -105.070428       35.341945   \n",
       "2             -519.764842    298.468091       -164.042264       32.875623   \n",
       "3             -515.548064    291.367682       -265.430821       30.142726   \n",
       "4             -589.620999    410.381763       -648.796390       25.239825   \n",
       "\n",
       "       Fg + Ta * Sws + Ta  Ts + Ws * Ws  Fn * q + VPD  Fg + Ws * q + VPD  \\\n",
       "index                                                                      \n",
       "0              162.568214     71.493320    -47.496563         -22.653860   \n",
       "1              199.915448     85.230564    -38.953419         -18.039052   \n",
       "2              211.025860     65.809986    -38.692053         -16.611302   \n",
       "3              203.016811     51.340199    -39.461465         -15.370443   \n",
       "4               71.316621     90.813729    -46.354836         -15.287405   \n",
       "\n",
       "       Sws + Ta * VPD  \n",
       "index                  \n",
       "0           31.992205  \n",
       "1           28.465105  \n",
       "2           26.386834  \n",
       "3           23.902647  \n",
       "4           19.472374  \n",
       "\n",
       "[5 rows x 666 columns]"
      ]
     },
     "execution_count": 9,
     "metadata": {},
     "output_type": "execute_result"
    }
   ],
   "source": [
    "# Run deep feature synthesis with transformation primitives\n",
    "feature_matrix, feature_defs = ft.dfs(entityset = es, target_entity = 'data',\n",
    "                                      trans_primitives = trans_primitives)\n",
    "\n",
    "feature_matrix.head()"
   ]
  },
  {
   "cell_type": "code",
   "execution_count": 10,
   "metadata": {},
   "outputs": [
    {
     "data": {
      "text/plain": [
       "666"
      ]
     },
     "execution_count": 10,
     "metadata": {},
     "output_type": "execute_result"
    }
   ],
   "source": [
    "Xvar_synth = feature_matrix.keys()\n",
    "len(Xvar_synth)"
   ]
  },
  {
   "cell_type": "markdown",
   "metadata": {},
   "source": [
    "#### Polynomial features "
   ]
  },
  {
   "cell_type": "code",
   "execution_count": 11,
   "metadata": {},
   "outputs": [],
   "source": [
    "poly = preprocessing.PolynomialFeatures(3)\n",
    "new_features = poly.fit_transform(df[Xvar])\n",
    "poly_features = pd.DataFrame(new_features, columns=poly.get_feature_names())\n",
    "poly_features = poly_features.drop(columns=['1', 'x0', 'x1', 'x2', 'x3', 'x4', 'x5', 'x6', 'x7'])"
   ]
  },
  {
   "cell_type": "code",
   "execution_count": 12,
   "metadata": {},
   "outputs": [],
   "source": [
    "full_df = pd.concat((feature_matrix, df[yvar], poly_features), axis=1)"
   ]
  },
  {
   "cell_type": "code",
   "execution_count": 13,
   "metadata": {},
   "outputs": [
    {
     "data": {
      "text/plain": [
       "(9015, 823)"
      ]
     },
     "execution_count": 13,
     "metadata": {},
     "output_type": "execute_result"
    }
   ],
   "source": [
    "full_df.shape"
   ]
  },
  {
   "cell_type": "code",
   "execution_count": 21,
   "metadata": {},
   "outputs": [
    {
     "data": {
      "text/plain": [
       "822"
      ]
     },
     "execution_count": 21,
     "metadata": {},
     "output_type": "execute_result"
    }
   ],
   "source": [
    "Xvar_synth = np.concatenate((poly_features.keys(), feature_matrix.keys()))\n",
    "len(Xvar_synth)"
   ]
  },
  {
   "cell_type": "markdown",
   "metadata": {},
   "source": [
    "### Feature reduction"
   ]
  },
  {
   "cell_type": "code",
   "execution_count": null,
   "metadata": {},
   "outputs": [],
   "source": [
    "corr_matrix = feature_matrix.corr().abs()\n",
    "upper = corr_matrix.where(np.triu(np.ones(corr_matrix.shape), k=1).astype(np.bool))\n",
    "\n",
    "threshold = 0.8\n",
    "\n",
    "# Select columns with correlations above threshold\n",
    "collinear_features = [column for column in upper.columns if any(upper[column] > threshold)]\n",
    "print('There are %d features to remove.' % (len(collinear_features)))\n",
    "\n",
    "features_filtered = feature_matrix.drop(columns = collinear_features)\n",
    "print('The number of features that passed the collinearity threshold: ', features_filtered.shape[1])"
   ]
  },
  {
   "cell_type": "code",
   "execution_count": null,
   "metadata": {},
   "outputs": [],
   "source": [
    "Xvar_reduced_features_synth = features_filtered.keys()\n",
    "len(Xvar_reduced_features_synth)"
   ]
  },
  {
   "cell_type": "code",
   "execution_count": null,
   "metadata": {},
   "outputs": [],
   "source": [
    "Xvar_reduced_features_synth"
   ]
  },
  {
   "cell_type": "markdown",
   "metadata": {},
   "source": [
    "### Train/Test split"
   ]
  },
  {
   "cell_type": "code",
   "execution_count": 14,
   "metadata": {},
   "outputs": [
    {
     "name": "stdout",
     "output_type": "stream",
     "text": [
      "(8500, 823) (515, 823)\n"
     ]
    }
   ],
   "source": [
    "# split into input (X) and output (Y) variables\n",
    "n_train= 8500\n",
    "\n",
    "train_df = full_df.iloc[:n_train]\n",
    "test_df =  full_df.iloc[n_train:] \n",
    "\n",
    "print(train_df.shape, test_df.shape)\n"
   ]
  },
  {
   "cell_type": "markdown",
   "metadata": {},
   "source": [
    "### RFE with standard features"
   ]
  },
  {
   "cell_type": "code",
   "execution_count": 15,
   "metadata": {},
   "outputs": [
    {
     "name": "stdout",
     "output_type": "stream",
     "text": [
      "RMSE RF reg:  1.5746805886483042\n"
     ]
    }
   ],
   "source": [
    "reg = RFE(n_estimators=500, \n",
    "          max_depth = 10, n_jobs=-1, random_state=42).fit(train_df[Xvar], train_df[yvar])\n",
    "y_pred_rfe = reg.predict(test_df[Xvar])\n",
    "print(\"RMSE RF reg: \", np.sqrt(mean_squared_error(test_df[yvar], y_pred_rfe)))"
   ]
  },
  {
   "cell_type": "markdown",
   "metadata": {},
   "source": [
    "### RFE with synthesised features"
   ]
  },
  {
   "cell_type": "code",
   "execution_count": 22,
   "metadata": {},
   "outputs": [
    {
     "name": "stdout",
     "output_type": "stream",
     "text": [
      "RMSE RF reg:  1.5845513216692775\n"
     ]
    }
   ],
   "source": [
    "reg_synth = RFE(n_estimators=500, \n",
    "          max_depth = 10, n_jobs=-1, random_state=42).fit(train_df[Xvar_synth], train_df[yvar])\n",
    "y_pred_rfe_synth = reg_synth.predict(test_df[Xvar_synth])\n",
    "print(\"RMSE RF reg: \", np.sqrt(mean_squared_error(test_df[yvar], y_pred_rfe_synth)))"
   ]
  },
  {
   "cell_type": "markdown",
   "metadata": {},
   "source": [
    "### Feature importance, selection and re-run of the model"
   ]
  },
  {
   "cell_type": "code",
   "execution_count": 24,
   "metadata": {},
   "outputs": [
    {
     "data": {
      "image/png": "[encoded data removed]",
      "text/plain": [
       "<Figure size 864x360 with 2 Axes>"
      ]
     },
     "metadata": {
      "needs_background": "light"
     },
     "output_type": "display_data"
    }
   ],
   "source": [
    "nfeatures = 40\n",
    "feature_impo_df = pd.DataFrame({'weight':reg_synth.feature_importances_/reg_synth.feature_importances_.max(),'feature':Xvar_synth}).sort_values(by=\"weight\", ascending=False)[:nfeatures]\n",
    "\n",
    "cmap = cm.get_cmap(plt.get_cmap(\"gnuplot\"))(np.linspace(0,1,nfeatures))\n",
    "\n",
    "ncols=2\n",
    "fig, ax = plt.subplots(nrows=1, ncols=ncols, figsize=(12,5), sharex=True)\n",
    "\n",
    "for j in range(ncols): \n",
    "    jbegin, jend = j*20, (j+1)*20\n",
    "    ax[j].barh(feature_impo_df['feature'][jbegin: jend], feature_impo_df['weight'][jbegin: jend], color=cmap[jbegin:jend], zorder=0.1)\n",
    "    ax[j].invert_yaxis()\n",
    "    ax[j].set_xlim(0,1)\n",
    "    ax[j].set_xlabel('Feature importance [scaled]')\n",
    "    ax[j].grid(alpha=0.2, color='k')\n",
    "plt.tight_layout()\n",
    "display()"
   ]
  },
  {
   "cell_type": "code",
   "execution_count": null,
   "metadata": {},
   "outputs": [],
   "source": [
    "#Xvar_sel_synth = list(feature_impo_df['feature'].values[i] for i in [0,4,5,6,7,8,9,10])\n",
    "Xvar_sel_synth = feature_impo_df['feature'].values[0:10]"
   ]
  },
  {
   "cell_type": "markdown",
   "metadata": {},
   "source": [
    "### RFE with top few synthesised features"
   ]
  },
  {
   "cell_type": "code",
   "execution_count": null,
   "metadata": {},
   "outputs": [],
   "source": [
    "reg_sel_synth = RFE(n_estimators=500, \n",
    "          max_depth = 10, n_jobs=-1, random_state=42).fit(train_df[Xvar_sel_synth], train_df[yvar])\n",
    "y_pred_rfe_sel_synth = reg_sel_synth.predict(test_df[Xvar_sel_synth])\n",
    "print(\"RMSE RF reg: \", np.sqrt(mean_squared_error(test_df[yvar], y_pred_rfe_sel_synth)))"
   ]
  },
  {
   "cell_type": "code",
   "execution_count": null,
   "metadata": {},
   "outputs": [],
   "source": [
    "reg_sel_red_synth = RFE(n_estimators=500, \n",
    "          max_depth = 10, n_jobs=-1, random_state=42).fit(train_df[Xvar_reduced_features_synth], train_df[yvar])\n",
    "y_pred_rfe_sel_red_synth = reg_sel_red_synth.predict(test_df[Xvar_reduced_features_synth])\n",
    "print(\"RMSE RF reg: \", np.sqrt(mean_squared_error(test_df[yvar], y_pred_rfe_sel_red_synth)))"
   ]
  },
  {
   "cell_type": "markdown",
   "metadata": {},
   "source": [
    "### Diagnostic plot"
   ]
  },
  {
   "cell_type": "code",
   "execution_count": null,
   "metadata": {},
   "outputs": [],
   "source": [
    "plt.plot(test_df[yvar], y_pred_rfe, '.', label='RF Reg', alpha=0.6)\n",
    "plt.plot(test_df[yvar], y_pred_rfe_synth, '.', label='RF Feature Synth', alpha=0.6)\n",
    "plt.plot(test_df[yvar], y_pred_rfe_sel_synth, '.', label='RF Selected Feature Synth', alpha=0.6)\n",
    "plt.plot([-10,15], [-10,15], '--k')\n",
    "plt.xlabel('Yobs')\n",
    "plt.ylabel('Ypred')\n",
    "plt.legend()\n",
    "print(\"RMSE RF reg: \", np.sqrt(mean_squared_error(test_df[yvar], y_pred_rfe)))\n",
    "print(\"RMSE RF reg synth: \", np.sqrt(mean_squared_error(test_df[yvar], y_pred_rfe_synth)))\n",
    "print(\"RMSE RF reg sel synth: \", np.sqrt(mean_squared_error(test_df[yvar], y_pred_rfe_sel_synth)))\n",
    "print(\"RMSE RF reg sel red synth: \", np.sqrt(mean_squared_error(test_df[yvar], y_pred_rfe_sel_red_synth)))"
   ]
  },
  {
   "cell_type": "code",
   "execution_count": null,
   "metadata": {},
   "outputs": [],
   "source": []
  }
 ],
 "metadata": {
  "kernelspec": {
   "display_name": "Python 3",
   "language": "python",
   "name": "python3"
  },
  "language_info": {
   "codemirror_mode": {
    "name": "ipython",
    "version": 3
   },
   "file_extension": ".py",
   "mimetype": "text/x-python",
   "name": "python",
   "nbconvert_exporter": "python",
   "pygments_lexer": "ipython3",
   "version": "3.7.3"
  }
 },
 "nbformat": 4,
 "nbformat_minor": 2
}
