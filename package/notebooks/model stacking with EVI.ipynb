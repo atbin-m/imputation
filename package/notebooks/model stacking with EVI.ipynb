{
 "cells": [
  {
   "cell_type": "markdown",
   "metadata": {},
   "source": [
    "Reference for model stacking: https://www.kaggle.com/zhixinzhang/stacked-regressions-top-4-on-leaderboard"
   ]
  },
  {
   "cell_type": "code",
   "execution_count": 58,
   "metadata": {},
   "outputs": [],
   "source": [
    "import pandas as pd\n",
    "import numpy as np\n",
    "import matplotlib.pyplot as plt\n",
    "from pandas.plotting import register_matplotlib_converters\n",
    "register_matplotlib_converters()\n",
    "    \n",
    "%matplotlib inline\n",
    "\n",
    "#from sklearn.linear_model import ElasticNet, Lasso,  BayesianRidge, LassoLarsIC\n",
    "from sklearn.linear_model import Lasso, Ridge\n",
    "from sklearn.ensemble import RandomForestRegressor,  GradientBoostingRegressor\n",
    "from sklearn.gaussian_process import GaussianProcessRegressor\n",
    "from sklearn.gaussian_process.kernels import DotProduct, WhiteKernel\n",
    "\n",
    "from sklearn.svm import SVR\n",
    "#from sklearn.kernel_ridge import KernelRidge\n",
    "from sklearn.pipeline import make_pipeline\n",
    "from sklearn.preprocessing import StandardScaler\n",
    "from sklearn.preprocessing import RobustScaler\n",
    "from sklearn.base import BaseEstimator, TransformerMixin, RegressorMixin, clone\n",
    "from sklearn.model_selection import KFold, cross_val_score, train_test_split, RandomizedSearchCV\n",
    "from sklearn.metrics import mean_squared_error\n",
    "from sklearn.neural_network import MLPRegressor\n",
    "from keras.wrappers.scikit_learn import KerasRegressor\n",
    "from keras.models import Sequential\n",
    "from keras.layers import Dense\n",
    "\n",
    "from skopt import gp_minimize\n",
    "from skopt.space import Real, Integer, Categorical\n",
    "from skopt.utils import use_named_args\n",
    "from collections import defaultdict\n",
    "from skopt.plots import plot_convergence\n",
    "\n",
    "from scipy.stats import uniform, randint\n",
    "\n",
    "#import xgboost as xgb\n",
    "import lightgbm as lgb\n",
    "import datetime"
   ]
  },
  {
   "cell_type": "code",
   "execution_count": 59,
   "metadata": {},
   "outputs": [],
   "source": [
    "def diagnostic_stats(ytrue, ypred):\n",
    "    \"\"\"\n",
    "    https://stats.stackexchange.com/questions/142248/difference-between-r-square-and-rmse-in-linear-regression\n",
    "    \n",
    "    https://www.sciencedirect.com/topics/engineering/mean-bias-error\n",
    "    \"\"\"\n",
    "    n = len(ytrue)\n",
    "\n",
    "    # Check that the ytrue and ypred are equal length vector.\n",
    "    assert n == len(ypred)\n",
    "    \n",
    "    # sum squared error\n",
    "    sse = np.sum((ytrue - ypred)**2)\n",
    "    \n",
    "    # root mean square error\n",
    "    rmse = np.sqrt(sse/n)\n",
    "\n",
    "    # total sum of squares\n",
    "    tss = np.sum((ytrue - np.mean(ytrue))**2)\n",
    "    tst = np.sum((ypred - np.mean(ypred))**2)\n",
    "    tstp = tst**0.5\n",
    "    tssp = tss**0.5\n",
    "    \n",
    "    soorat = np.sum((ytrue-np.mean(ytrue))*(ypred-np.mean(ypred)))\n",
    "    \n",
    "    # Rsquare\n",
    "    ##rsqr = 1 - sse/tss\n",
    "    rsqr = (soorat/(tssp*tstp))**2\n",
    "\n",
    "    # Mean biased error\n",
    "    mbe = np.mean(ytrue - ypred)\n",
    "    \n",
    "    # IOAD\n",
    "    num = np.sum((ytrue - ypred)**2)\n",
    "    denom = np.abs(ytrue - ypred) + np.abs(ytrue + ypred)\n",
    "    ioad = 1 - num/np.sum(denom**2)\n",
    "\n",
    "    print(\"RMSE: %1.3f, R^2: %1.3f, MBE: %1.3f, IOAD: %1.3f\"%(rmse, rsqr, mbe, ioad))\n",
    "    \n",
    "    return rmse, rsqr, mbe, ioad"
   ]
  },
  {
   "cell_type": "code",
   "execution_count": 60,
   "metadata": {},
   "outputs": [
    {
     "data": {
      "text/html": [
       "<div>\n",
       "<style scoped>\n",
       "    .dataframe tbody tr th:only-of-type {\n",
       "        vertical-align: middle;\n",
       "    }\n",
       "\n",
       "    .dataframe tbody tr th {\n",
       "        vertical-align: top;\n",
       "    }\n",
       "\n",
       "    .dataframe thead th {\n",
       "        text-align: right;\n",
       "    }\n",
       "</style>\n",
       "<table border=\"1\" class=\"dataframe\">\n",
       "  <thead>\n",
       "    <tr style=\"text-align: right;\">\n",
       "      <th></th>\n",
       "      <th>EVI</th>\n",
       "    </tr>\n",
       "    <tr>\n",
       "      <th>DateTime</th>\n",
       "      <th></th>\n",
       "    </tr>\n",
       "  </thead>\n",
       "  <tbody>\n",
       "    <tr>\n",
       "      <td>2000-02-26 08:00:00</td>\n",
       "      <td>0.229511</td>\n",
       "    </tr>\n",
       "    <tr>\n",
       "      <td>2000-02-26 08:30:00</td>\n",
       "      <td>0.229519</td>\n",
       "    </tr>\n",
       "    <tr>\n",
       "      <td>2000-02-26 09:00:00</td>\n",
       "      <td>0.229526</td>\n",
       "    </tr>\n",
       "    <tr>\n",
       "      <td>2000-02-26 09:30:00</td>\n",
       "      <td>0.229534</td>\n",
       "    </tr>\n",
       "    <tr>\n",
       "      <td>2000-02-26 10:00:00</td>\n",
       "      <td>0.229541</td>\n",
       "    </tr>\n",
       "  </tbody>\n",
       "</table>\n",
       "</div>"
      ],
      "text/plain": [
       "                          EVI\n",
       "DateTime                     \n",
       "2000-02-26 08:00:00  0.229511\n",
       "2000-02-26 08:30:00  0.229519\n",
       "2000-02-26 09:00:00  0.229526\n",
       "2000-02-26 09:30:00  0.229534\n",
       "2000-02-26 10:00:00  0.229541"
      ]
     },
     "execution_count": 60,
     "metadata": {},
     "output_type": "execute_result"
    }
   ],
   "source": [
    "evidf = pd.read_csv('../data_out/Gingin_EVI_processed.csv', parse_dates=['DateTime'], index_col='DateTime')\n",
    "evidf.head()"
   ]
  },
  {
   "cell_type": "code",
   "execution_count": 61,
   "metadata": {},
   "outputs": [],
   "source": [
    "tempdf = pd.read_csv('rnn_data_prajwal.csv', parse_dates=['DateTime'], index_col='DateTime')\n",
    "tempdf.drop('Unnamed: 0', axis=1, inplace=True)"
   ]
  },
  {
   "cell_type": "code",
   "execution_count": 62,
   "metadata": {},
   "outputs": [
    {
     "data": {
      "text/html": [
       "<div>\n",
       "<style scoped>\n",
       "    .dataframe tbody tr th:only-of-type {\n",
       "        vertical-align: middle;\n",
       "    }\n",
       "\n",
       "    .dataframe tbody tr th {\n",
       "        vertical-align: top;\n",
       "    }\n",
       "\n",
       "    .dataframe thead th {\n",
       "        text-align: right;\n",
       "    }\n",
       "</style>\n",
       "<table border=\"1\" class=\"dataframe\">\n",
       "  <thead>\n",
       "    <tr style=\"text-align: right;\">\n",
       "      <th></th>\n",
       "      <th>Fc</th>\n",
       "      <th>Ta</th>\n",
       "      <th>Ws</th>\n",
       "      <th>Fg</th>\n",
       "      <th>VPD</th>\n",
       "      <th>Fn</th>\n",
       "      <th>q</th>\n",
       "      <th>Ts</th>\n",
       "      <th>Sws</th>\n",
       "    </tr>\n",
       "    <tr>\n",
       "      <th>DateTime</th>\n",
       "      <th></th>\n",
       "      <th></th>\n",
       "      <th></th>\n",
       "      <th></th>\n",
       "      <th></th>\n",
       "      <th></th>\n",
       "      <th></th>\n",
       "      <th></th>\n",
       "      <th></th>\n",
       "    </tr>\n",
       "  </thead>\n",
       "  <tbody>\n",
       "    <tr>\n",
       "      <td>2013-01-01 01:00:00</td>\n",
       "      <td>3.070399</td>\n",
       "      <td>26.998711</td>\n",
       "      <td>2.08</td>\n",
       "      <td>-20.984654</td>\n",
       "      <td>1.183521</td>\n",
       "      <td>-39.635899</td>\n",
       "      <td>0.014801</td>\n",
       "      <td>32.291790</td>\n",
       "      <td>0.032662</td>\n",
       "    </tr>\n",
       "    <tr>\n",
       "      <td>2013-01-01 01:30:00</td>\n",
       "      <td>2.948313</td>\n",
       "      <td>26.629910</td>\n",
       "      <td>2.47</td>\n",
       "      <td>-19.131921</td>\n",
       "      <td>1.067606</td>\n",
       "      <td>-35.979652</td>\n",
       "      <td>0.015045</td>\n",
       "      <td>32.036301</td>\n",
       "      <td>0.032636</td>\n",
       "    </tr>\n",
       "    <tr>\n",
       "      <td>2013-01-01 02:00:00</td>\n",
       "      <td>2.369790</td>\n",
       "      <td>26.294310</td>\n",
       "      <td>1.95</td>\n",
       "      <td>-18.278720</td>\n",
       "      <td>1.002275</td>\n",
       "      <td>-38.033844</td>\n",
       "      <td>0.015030</td>\n",
       "      <td>31.798710</td>\n",
       "      <td>0.032619</td>\n",
       "    </tr>\n",
       "    <tr>\n",
       "      <td>2013-01-01 02:30:00</td>\n",
       "      <td>0.105580</td>\n",
       "      <td>25.739479</td>\n",
       "      <td>1.55</td>\n",
       "      <td>-17.862080</td>\n",
       "      <td>0.927464</td>\n",
       "      <td>-41.878986</td>\n",
       "      <td>0.014810</td>\n",
       "      <td>31.572710</td>\n",
       "      <td>0.032582</td>\n",
       "    </tr>\n",
       "    <tr>\n",
       "      <td>2013-01-01 03:30:00</td>\n",
       "      <td>2.085828</td>\n",
       "      <td>24.548740</td>\n",
       "      <td>2.69</td>\n",
       "      <td>-21.647482</td>\n",
       "      <td>0.792163</td>\n",
       "      <td>-57.483334</td>\n",
       "      <td>0.014242</td>\n",
       "      <td>31.069750</td>\n",
       "      <td>0.032534</td>\n",
       "    </tr>\n",
       "  </tbody>\n",
       "</table>\n",
       "</div>"
      ],
      "text/plain": [
       "                           Fc         Ta    Ws         Fg       VPD  \\\n",
       "DateTime                                                              \n",
       "2013-01-01 01:00:00  3.070399  26.998711  2.08 -20.984654  1.183521   \n",
       "2013-01-01 01:30:00  2.948313  26.629910  2.47 -19.131921  1.067606   \n",
       "2013-01-01 02:00:00  2.369790  26.294310  1.95 -18.278720  1.002275   \n",
       "2013-01-01 02:30:00  0.105580  25.739479  1.55 -17.862080  0.927464   \n",
       "2013-01-01 03:30:00  2.085828  24.548740  2.69 -21.647482  0.792163   \n",
       "\n",
       "                            Fn         q         Ts       Sws  \n",
       "DateTime                                                       \n",
       "2013-01-01 01:00:00 -39.635899  0.014801  32.291790  0.032662  \n",
       "2013-01-01 01:30:00 -35.979652  0.015045  32.036301  0.032636  \n",
       "2013-01-01 02:00:00 -38.033844  0.015030  31.798710  0.032619  \n",
       "2013-01-01 02:30:00 -41.878986  0.014810  31.572710  0.032582  \n",
       "2013-01-01 03:30:00 -57.483334  0.014242  31.069750  0.032534  "
      ]
     },
     "execution_count": 62,
     "metadata": {},
     "output_type": "execute_result"
    }
   ],
   "source": [
    "tempdf.head()"
   ]
  },
  {
   "cell_type": "code",
   "execution_count": 63,
   "metadata": {},
   "outputs": [],
   "source": [
    "df = pd.merge(tempdf, evidf, how='left', on='DateTime')"
   ]
  },
  {
   "cell_type": "code",
   "execution_count": 64,
   "metadata": {},
   "outputs": [
    {
     "data": {
      "text/plain": [
       "(Timestamp('2013-01-01 01:00:00'), Timestamp('2014-01-01 00:00:00'))"
      ]
     },
     "execution_count": 64,
     "metadata": {},
     "output_type": "execute_result"
    }
   ],
   "source": [
    "df.index.min(), df.index.max()"
   ]
  },
  {
   "cell_type": "code",
   "execution_count": 65,
   "metadata": {},
   "outputs": [],
   "source": [
    "Xvar = ['Ta', 'Ws', 'Fg', 'VPD', 'Fn', 'q', 'Ts', 'Sws', 'EVI']\n",
    "yvar = 'Fc'"
   ]
  },
  {
   "cell_type": "markdown",
   "metadata": {},
   "source": [
    "### Train-test splits\n",
    "    1. Test: 60 days starting randomly picked date\n",
    "    2. Train: Remaining data\n",
    "        a. Layer 1 and Layer 2: 50:50 random split\n",
    "        b. Layer 1 further divided into 1/m unique train sets, where m = number of unique models. "
   ]
  },
  {
   "cell_type": "code",
   "execution_count": 66,
   "metadata": {},
   "outputs": [
    {
     "data": {
      "text/plain": [
       "(datetime.date(2013, 1, 1), datetime.date(2014, 1, 1))"
      ]
     },
     "execution_count": 66,
     "metadata": {},
     "output_type": "execute_result"
    }
   ],
   "source": [
    "df.index.date.min(), df.index.date.max()"
   ]
  },
  {
   "cell_type": "code",
   "execution_count": 67,
   "metadata": {},
   "outputs": [
    {
     "name": "stdout",
     "output_type": "stream",
     "text": [
      "Test start date: 2013-03-21\n",
      "Test end date: 2013-05-20\n"
     ]
    }
   ],
   "source": [
    "# Test data set\n",
    "# 60 days window starting from randomly picked day.\n",
    "\n",
    "np.random.seed(41)\n",
    "\n",
    "interval = 60\n",
    "\n",
    "if (df.index.date.max() - df.index.date.min()).days < interval:\n",
    "    raise ValueError(f'Gap is longer than max-min date interval of the dataset.')\n",
    "\n",
    "test_end_day = pd.to_datetime('2100-01-01', format='%Y-%M-%d') # arbitrarily large back date\n",
    "while test_end_day > df.index.date.max():\n",
    "    test_start_day = np.random.choice(df.index.date, 1)[0]\n",
    "    test_end_day = test_start_day + datetime.timedelta(days=interval)\n",
    "\n",
    "print('Test start date:', test_start_day)\n",
    "print('Test end date:', test_end_day)"
   ]
  },
  {
   "cell_type": "code",
   "execution_count": 68,
   "metadata": {},
   "outputs": [],
   "source": [
    "df_test = df.loc[test_start_day:test_end_day].copy()\n",
    "df_train = pd.concat([df.loc[:test_start_day], df.loc[test_end_day:]]).copy()\n",
    "\n",
    "# Scaling test frame\n",
    "y_test_mean, y_test_std = df_test[yvar].mean(), df_test[yvar].std()\n",
    "scaler_test = StandardScaler()\n",
    "df_test[df_test.keys()] = scaler_test.fit_transform(df_test)\n",
    "\n",
    "# Scaling train frame\n",
    "y_train_mean, y_train_std = df_train[yvar].mean(), df_train[yvar].std()\n",
    "scaler_train = StandardScaler()\n",
    "df_train[df_train.keys()] = scaler_train.fit_transform(df_train)"
   ]
  },
  {
   "cell_type": "code",
   "execution_count": 69,
   "metadata": {},
   "outputs": [
    {
     "name": "stdout",
     "output_type": "stream",
     "text": [
      "2013-03-21 02:30:00 > 2013-03-20 21:00:00\n",
      "2013-05-19 20:30:00 < 2013-05-20 06:00:00\n"
     ]
    }
   ],
   "source": [
    "print(df.loc[test_start_day:test_end_day].index.min(), '>', df.loc[:test_start_day].index.max())\n",
    "print(df.loc[test_start_day:test_end_day].index.max(), '<',df.loc[test_end_day:].index.min())\n",
    "\n",
    "assert df.loc[test_start_day:test_end_day].index.min() > df.loc[:test_start_day].index.max()\n",
    "assert df.loc[test_start_day:test_end_day].index.max() < df.loc[test_end_day:].index.min()"
   ]
  },
  {
   "cell_type": "code",
   "execution_count": 70,
   "metadata": {},
   "outputs": [],
   "source": [
    "X_test, y_test = df_test[Xvar], df_test[yvar]"
   ]
  },
  {
   "cell_type": "code",
   "execution_count": 71,
   "metadata": {},
   "outputs": [],
   "source": [
    "#SEED, SEED2 = 40, 1\n",
    "SEED, SEED2 = 20, 45\n",
    "X_train_layer1, X_train_layer2, y_train_layer1, y_train_layer2 = train_test_split(df_train[Xvar], df_train[yvar], test_size=0.50, random_state=SEED, shuffle=True)\n",
    "\n",
    "X_train1_layer1, X_rest1_layer1, y_train1_layer1, y_rest1_layer1 = train_test_split(X_train_layer1, y_train_layer1, test_size=5/6., random_state=SEED2, shuffle=True)\n",
    "X_train2_layer1, X_rest2_layer1, y_train2_layer1, y_rest2_layer1 = train_test_split(X_rest1_layer1, y_rest1_layer1, test_size=4/5., random_state=SEED2, shuffle=True)\n",
    "X_train3_layer1, X_rest3_layer1, y_train3_layer1, y_rest3_layer1 = train_test_split(X_rest2_layer1, y_rest2_layer1, test_size=3/4., random_state=SEED2, shuffle=True)\n",
    "X_train4_layer1, X_rest4_layer1, y_train4_layer1, y_rest4_layer1 = train_test_split(X_rest3_layer1, y_rest3_layer1, test_size=2/3., random_state=SEED2, shuffle=True)\n",
    "X_train5_layer1, X_train6_layer1,y_train5_layer1,y_train6_layer1 = train_test_split(X_rest4_layer1, y_rest4_layer1, test_size=1/2., random_state=SEED2, shuffle=True)"
   ]
  },
  {
   "cell_type": "code",
   "execution_count": 72,
   "metadata": {},
   "outputs": [
    {
     "data": {
      "text/html": [
       "<div>\n",
       "<style scoped>\n",
       "    .dataframe tbody tr th:only-of-type {\n",
       "        vertical-align: middle;\n",
       "    }\n",
       "\n",
       "    .dataframe tbody tr th {\n",
       "        vertical-align: top;\n",
       "    }\n",
       "\n",
       "    .dataframe thead th {\n",
       "        text-align: right;\n",
       "    }\n",
       "</style>\n",
       "<table border=\"1\" class=\"dataframe\">\n",
       "  <thead>\n",
       "    <tr style=\"text-align: right;\">\n",
       "      <th></th>\n",
       "      <th>Ta</th>\n",
       "      <th>Ws</th>\n",
       "      <th>Fg</th>\n",
       "      <th>VPD</th>\n",
       "      <th>Fn</th>\n",
       "      <th>q</th>\n",
       "      <th>Ts</th>\n",
       "      <th>Sws</th>\n",
       "      <th>EVI</th>\n",
       "      <th>rank</th>\n",
       "    </tr>\n",
       "    <tr>\n",
       "      <th>DateTime</th>\n",
       "      <th></th>\n",
       "      <th></th>\n",
       "      <th></th>\n",
       "      <th></th>\n",
       "      <th></th>\n",
       "      <th></th>\n",
       "      <th></th>\n",
       "      <th></th>\n",
       "      <th></th>\n",
       "      <th></th>\n",
       "    </tr>\n",
       "  </thead>\n",
       "  <tbody>\n",
       "    <tr>\n",
       "      <td>2013-11-08 19:30:00</td>\n",
       "      <td>-0.018705</td>\n",
       "      <td>-0.177995</td>\n",
       "      <td>-1.352843</td>\n",
       "      <td>-0.189344</td>\n",
       "      <td>-1.222090</td>\n",
       "      <td>0.053327</td>\n",
       "      <td>0.635752</td>\n",
       "      <td>-0.292979</td>\n",
       "      <td>0.106517</td>\n",
       "      <td>layer2_train</td>\n",
       "    </tr>\n",
       "    <tr>\n",
       "      <td>2013-11-26 07:00:00</td>\n",
       "      <td>-0.844949</td>\n",
       "      <td>-1.309812</td>\n",
       "      <td>-0.987536</td>\n",
       "      <td>-0.695380</td>\n",
       "      <td>-0.277958</td>\n",
       "      <td>-0.286506</td>\n",
       "      <td>-0.574670</td>\n",
       "      <td>-0.617560</td>\n",
       "      <td>-0.542570</td>\n",
       "      <td>layer2_train</td>\n",
       "    </tr>\n",
       "    <tr>\n",
       "      <td>2013-01-14 04:30:00</td>\n",
       "      <td>-0.213808</td>\n",
       "      <td>-1.515193</td>\n",
       "      <td>-0.646601</td>\n",
       "      <td>-1.490767</td>\n",
       "      <td>-0.901313</td>\n",
       "      <td>3.463311</td>\n",
       "      <td>0.100491</td>\n",
       "      <td>-0.270135</td>\n",
       "      <td>-0.478412</td>\n",
       "      <td>layer2_train</td>\n",
       "    </tr>\n",
       "    <tr>\n",
       "      <td>2013-01-06 12:30:00</td>\n",
       "      <td>2.058893</td>\n",
       "      <td>1.168716</td>\n",
       "      <td>1.916511</td>\n",
       "      <td>1.628831</td>\n",
       "      <td>1.419997</td>\n",
       "      <td>2.222908</td>\n",
       "      <td>0.937890</td>\n",
       "      <td>-0.792586</td>\n",
       "      <td>-0.451685</td>\n",
       "      <td>layer2_train</td>\n",
       "    </tr>\n",
       "    <tr>\n",
       "      <td>2013-11-17 15:30:00</td>\n",
       "      <td>0.814890</td>\n",
       "      <td>-0.405825</td>\n",
       "      <td>-0.069593</td>\n",
       "      <td>0.294164</td>\n",
       "      <td>0.966464</td>\n",
       "      <td>1.112675</td>\n",
       "      <td>0.979331</td>\n",
       "      <td>-0.496689</td>\n",
       "      <td>-0.226407</td>\n",
       "      <td>layer2_train</td>\n",
       "    </tr>\n",
       "    <tr>\n",
       "      <td>...</td>\n",
       "      <td>...</td>\n",
       "      <td>...</td>\n",
       "      <td>...</td>\n",
       "      <td>...</td>\n",
       "      <td>...</td>\n",
       "      <td>...</td>\n",
       "      <td>...</td>\n",
       "      <td>...</td>\n",
       "      <td>...</td>\n",
       "      <td>...</td>\n",
       "    </tr>\n",
       "    <tr>\n",
       "      <td>2013-06-04 13:30:00</td>\n",
       "      <td>-0.379598</td>\n",
       "      <td>-1.527111</td>\n",
       "      <td>0.667465</td>\n",
       "      <td>-0.151240</td>\n",
       "      <td>-0.119590</td>\n",
       "      <td>-0.931449</td>\n",
       "      <td>-1.420928</td>\n",
       "      <td>0.372892</td>\n",
       "      <td>0.677258</td>\n",
       "      <td>layer2_train</td>\n",
       "    </tr>\n",
       "    <tr>\n",
       "      <td>2013-07-26 18:30:00</td>\n",
       "      <td>-1.034513</td>\n",
       "      <td>0.999439</td>\n",
       "      <td>-0.683502</td>\n",
       "      <td>-0.682280</td>\n",
       "      <td>-1.108132</td>\n",
       "      <td>-0.676127</td>\n",
       "      <td>-1.078588</td>\n",
       "      <td>1.570472</td>\n",
       "      <td>0.375901</td>\n",
       "      <td>layer2_train</td>\n",
       "    </tr>\n",
       "    <tr>\n",
       "      <td>2013-02-01 18:30:00</td>\n",
       "      <td>1.458740</td>\n",
       "      <td>1.563408</td>\n",
       "      <td>-1.458870</td>\n",
       "      <td>1.514813</td>\n",
       "      <td>-0.867007</td>\n",
       "      <td>-0.141037</td>\n",
       "      <td>1.870460</td>\n",
       "      <td>-0.978022</td>\n",
       "      <td>-1.380438</td>\n",
       "      <td>layer2_train</td>\n",
       "    </tr>\n",
       "    <tr>\n",
       "      <td>2013-06-12 15:00:00</td>\n",
       "      <td>-0.274065</td>\n",
       "      <td>-0.505521</td>\n",
       "      <td>0.636508</td>\n",
       "      <td>-0.033295</td>\n",
       "      <td>0.014770</td>\n",
       "      <td>-1.029560</td>\n",
       "      <td>-1.239169</td>\n",
       "      <td>0.546738</td>\n",
       "      <td>0.591246</td>\n",
       "      <td>layer2_train</td>\n",
       "    </tr>\n",
       "    <tr>\n",
       "      <td>2013-12-26 12:30:00</td>\n",
       "      <td>0.649600</td>\n",
       "      <td>0.819988</td>\n",
       "      <td>1.776317</td>\n",
       "      <td>0.326651</td>\n",
       "      <td>1.982442</td>\n",
       "      <td>0.470622</td>\n",
       "      <td>1.053469</td>\n",
       "      <td>-0.906568</td>\n",
       "      <td>0.118795</td>\n",
       "      <td>layer2_train</td>\n",
       "    </tr>\n",
       "  </tbody>\n",
       "</table>\n",
       "<p>3824 rows × 10 columns</p>\n",
       "</div>"
      ],
      "text/plain": [
       "                           Ta        Ws        Fg       VPD        Fn  \\\n",
       "DateTime                                                                \n",
       "2013-11-08 19:30:00 -0.018705 -0.177995 -1.352843 -0.189344 -1.222090   \n",
       "2013-11-26 07:00:00 -0.844949 -1.309812 -0.987536 -0.695380 -0.277958   \n",
       "2013-01-14 04:30:00 -0.213808 -1.515193 -0.646601 -1.490767 -0.901313   \n",
       "2013-01-06 12:30:00  2.058893  1.168716  1.916511  1.628831  1.419997   \n",
       "2013-11-17 15:30:00  0.814890 -0.405825 -0.069593  0.294164  0.966464   \n",
       "...                       ...       ...       ...       ...       ...   \n",
       "2013-06-04 13:30:00 -0.379598 -1.527111  0.667465 -0.151240 -0.119590   \n",
       "2013-07-26 18:30:00 -1.034513  0.999439 -0.683502 -0.682280 -1.108132   \n",
       "2013-02-01 18:30:00  1.458740  1.563408 -1.458870  1.514813 -0.867007   \n",
       "2013-06-12 15:00:00 -0.274065 -0.505521  0.636508 -0.033295  0.014770   \n",
       "2013-12-26 12:30:00  0.649600  0.819988  1.776317  0.326651  1.982442   \n",
       "\n",
       "                            q        Ts       Sws       EVI          rank  \n",
       "DateTime                                                                   \n",
       "2013-11-08 19:30:00  0.053327  0.635752 -0.292979  0.106517  layer2_train  \n",
       "2013-11-26 07:00:00 -0.286506 -0.574670 -0.617560 -0.542570  layer2_train  \n",
       "2013-01-14 04:30:00  3.463311  0.100491 -0.270135 -0.478412  layer2_train  \n",
       "2013-01-06 12:30:00  2.222908  0.937890 -0.792586 -0.451685  layer2_train  \n",
       "2013-11-17 15:30:00  1.112675  0.979331 -0.496689 -0.226407  layer2_train  \n",
       "...                       ...       ...       ...       ...           ...  \n",
       "2013-06-04 13:30:00 -0.931449 -1.420928  0.372892  0.677258  layer2_train  \n",
       "2013-07-26 18:30:00 -0.676127 -1.078588  1.570472  0.375901  layer2_train  \n",
       "2013-02-01 18:30:00 -0.141037  1.870460 -0.978022 -1.380438  layer2_train  \n",
       "2013-06-12 15:00:00 -1.029560 -1.239169  0.546738  0.591246  layer2_train  \n",
       "2013-12-26 12:30:00  0.470622  1.053469 -0.906568  0.118795  layer2_train  \n",
       "\n",
       "[3824 rows x 10 columns]"
      ]
     },
     "execution_count": 72,
     "metadata": {},
     "output_type": "execute_result"
    }
   ],
   "source": [
    "X_train_layer2"
   ]
  },
  {
   "cell_type": "code",
   "execution_count": 73,
   "metadata": {},
   "outputs": [
    {
     "name": "stdout",
     "output_type": "stream",
     "text": [
      "Full 9015 --> Test: 1367 Train: 7648 --> Train layer1:  3824 Train layer2:  3824\n",
      "Train layer1 model splits:  637 637 637 637 638 638\n"
     ]
    }
   ],
   "source": [
    "print('Full', df.shape[0], '-->', 'Test:', df_test.shape[0], 'Train:', \n",
    "      df_train.shape[0], '-->', 'Train layer1: ', X_train_layer2.shape[0], 'Train layer2: ', X_train_layer1.shape[0]),\n",
    "print('Train layer1 model splits: ', \n",
    "      X_train1_layer1.shape[0], \n",
    "      X_train2_layer1.shape[0], \n",
    "      X_train3_layer1.shape[0], \n",
    "      X_train4_layer1.shape[0], \n",
    "      X_train5_layer1.shape[0], \n",
    "      X_train6_layer1.shape[0])"
   ]
  },
  {
   "cell_type": "code",
   "execution_count": 74,
   "metadata": {},
   "outputs": [],
   "source": [
    "#Validation function\n",
    "def rmsle_cv(model, X_train, y_train, n_folds):\n",
    "    kf = KFold(n_folds, shuffle=True, random_state=42).get_n_splits(X_train.values)\n",
    "    clf = cross_val_score(model, X_train.values, y_train, scoring=\"neg_mean_squared_error\", cv = kf)\n",
    "    rmse= np.sqrt(-clf)\n",
    "    return(rmse)"
   ]
  },
  {
   "cell_type": "markdown",
   "metadata": {},
   "source": [
    "### Layer 1 training"
   ]
  },
  {
   "cell_type": "code",
   "execution_count": 75,
   "metadata": {},
   "outputs": [],
   "source": [
    "N_FOLDS = 3\n",
    "N_CALLS = 51\n",
    "THRESHOLD = 0.05"
   ]
  },
  {
   "cell_type": "code",
   "execution_count": 76,
   "metadata": {},
   "outputs": [],
   "source": [
    "### Custom cross-validation function: weighted F1 score on specific threshold\n",
    "\n",
    "def objective_core(cls, Xtrain, ytrain, **params):\n",
    "    \"\"\"\n",
    "    Objective function to minimize, using custom cross-validation. Default CV is limited \n",
    "    \"\"\"\n",
    "\n",
    "    # Update parameters with default parameters\n",
    "    params = {**params, **{'n_jobs':-1}}    \n",
    "    threshold = THRESHOLD # Evaluate for single point\n",
    "\n",
    "    #cls_ = RandomForestRegressor(**params)\n",
    "    cls_ = cls #lgb.LGBMRegressor(**params)\n",
    "    print(\"------ Sampling new data point ------\")\n",
    "\n",
    "    kfold = KFold(n_splits=N_FOLDS, shuffle=True)\n",
    "    cval_results = defaultdict(list)\n",
    "\n",
    "    for train_index, test_index in kfold.split(Xtrain, ytrain):\n",
    "        X_train_, X_test_ = Xtrain.iloc[train_index, :], Xtrain.iloc[test_index, :]\n",
    "        y_train_, y_test_ = ytrain.iloc[train_index], ytrain.iloc[test_index]\n",
    "\n",
    "        # Train regressor on current fold\n",
    "        cls_.fit(X_train_, y_train_)\n",
    "        y_test_predicted = cls_.predict(X_test_)\n",
    "\n",
    "        cval_results['mse'].append(mean_squared_error(y_test_, y_test_predicted))\n",
    "\n",
    "    score = np.mean(np.sqrt(cval_results['mse']))\n",
    "    print(\"Params:\",params)\n",
    "    print(\"Score:\", score)\n",
    "    \n",
    "    return score"
   ]
  },
  {
   "cell_type": "markdown",
   "metadata": {},
   "source": [
    "##### 1a. Gradient Boosting Regression"
   ]
  },
  {
   "cell_type": "code",
   "execution_count": 102,
   "metadata": {},
   "outputs": [
    {
     "data": {
      "text/plain": [
       "LGBMRegressor(boosting_type='gbdt', class_weight=None, colsample_bytree=1.0,\n",
       "              importance_type='split', learning_rate=0.1, max_depth=-1,\n",
       "              min_child_samples=20, min_child_weight=0.001, min_split_gain=0.0,\n",
       "              n_estimators=10, n_jobs=-1, num_leaves=31, objective=None,\n",
       "              random_state=None, reg_alpha=0.0, reg_lambda=0.0, silent=True,\n",
       "              subsample=1.0, subsample_for_bin=200000, subsample_freq=0)"
      ]
     },
     "execution_count": 102,
     "metadata": {},
     "output_type": "execute_result"
    }
   ],
   "source": [
    "model = lgb.LGBMRegressor()\n",
    "params = {'n_estimators':10}\n",
    "model.set_params(**params)"
   ]
  },
  {
   "cell_type": "code",
   "execution_count": 89,
   "metadata": {},
   "outputs": [],
   "source": [
    "params_space  = [Integer(2, 10, name='num_leaves'),\n",
    "          Categorical(['regression'], name = \"objective\"),\n",
    "          Integer(2, 10, name='min_data_in_leaf'),\n",
    "          Real(10**-5, 10**0, \"uniform\", name='learning_rate'),\n",
    "          Integer(100, 1000, name='n_estimators')]\n",
    "\n",
    "\n",
    "@use_named_args(params_space)\n",
    "def lgb_objective(**params):\n",
    "    cls = lgb.LGBMRegressor(**params)\n",
    "    return objective_core(cls, X_train1_layer1, y_train1_layer1, **params)"
   ]
  },
  {
   "cell_type": "code",
   "execution_count": 103,
   "metadata": {
    "scrolled": true
   },
   "outputs": [
    {
     "name": "stdout",
     "output_type": "stream",
     "text": [
      "------ Sampling new data point ------\n",
      "Params: {'num_leaves': 7, 'objective': 'regression', 'min_data_in_leaf': 9, 'learning_rate': 0.8472532662667378, 'n_estimators': 661, 'n_jobs': -1}\n",
      "Score: 0.929961848494882\n",
      "------ Sampling new data point ------\n",
      "Params: {'num_leaves': 5, 'objective': 'regression', 'min_data_in_leaf': 2, 'learning_rate': 0.27266356801716746, 'n_estimators': 530, 'n_jobs': -1}\n",
      "Score: 0.8493017729557951\n",
      "------ Sampling new data point ------\n",
      "Params: {'num_leaves': 8, 'objective': 'regression', 'min_data_in_leaf': 5, 'learning_rate': 0.8360804027497424, 'n_estimators': 404, 'n_jobs': -1}\n",
      "Score: 0.9129660044901916\n",
      "------ Sampling new data point ------\n",
      "Params: {'num_leaves': 7, 'objective': 'regression', 'min_data_in_leaf': 10, 'learning_rate': 0.14035937690484107, 'n_estimators': 883, 'n_jobs': -1}\n",
      "Score: 0.8515622902009229\n",
      "------ Sampling new data point ------\n",
      "Params: {'num_leaves': 6, 'objective': 'regression', 'min_data_in_leaf': 6, 'learning_rate': 0.6788827413236592, 'n_estimators': 749, 'n_jobs': -1}\n",
      "Score: 0.8803590533836029\n",
      "------ Sampling new data point ------\n",
      "Params: {'num_leaves': 7, 'objective': 'regression', 'min_data_in_leaf': 8, 'learning_rate': 0.10591654811172029, 'n_estimators': 526, 'n_jobs': -1}\n",
      "Score: 0.805033465398768\n",
      "------ Sampling new data point ------\n",
      "Params: {'num_leaves': 3, 'objective': 'regression', 'min_data_in_leaf': 4, 'learning_rate': 0.13522682122371804, 'n_estimators': 392, 'n_jobs': -1}\n",
      "Score: 0.8178180041795734\n",
      "------ Sampling new data point ------\n",
      "Params: {'num_leaves': 3, 'objective': 'regression', 'min_data_in_leaf': 5, 'learning_rate': 0.9025994495446495, 'n_estimators': 505, 'n_jobs': -1}\n",
      "Score: 0.9230613007368674\n",
      "------ Sampling new data point ------\n",
      "Params: {'num_leaves': 7, 'objective': 'regression', 'min_data_in_leaf': 3, 'learning_rate': 0.9698093696560716, 'n_estimators': 688, 'n_jobs': -1}\n",
      "Score: 1.0123854367293825\n",
      "------ Sampling new data point ------\n",
      "Params: {'num_leaves': 3, 'objective': 'regression', 'min_data_in_leaf': 8, 'learning_rate': 0.6078345904087807, 'n_estimators': 393, 'n_jobs': -1}\n",
      "Score: 0.8897908892440949\n",
      "------ Sampling new data point ------\n",
      "Params: {'num_leaves': 2, 'objective': 'regression', 'min_data_in_leaf': 2, 'learning_rate': 1e-05, 'n_estimators': 100, 'n_jobs': -1}\n",
      "Score: 1.05217946402335\n",
      "------ Sampling new data point ------\n",
      "Params: {'num_leaves': 2, 'objective': 'regression', 'min_data_in_leaf': 2, 'learning_rate': 0.1149165898852368, 'n_estimators': 100, 'n_jobs': -1}\n",
      "Score: 0.7836838881681105\n",
      "------ Sampling new data point ------\n",
      "Params: {'num_leaves': 8, 'objective': 'regression', 'min_data_in_leaf': 3, 'learning_rate': 0.3806932038636364, 'n_estimators': 100, 'n_jobs': -1}\n",
      "Score: 0.8319374295335763\n",
      "------ Sampling new data point ------\n",
      "Params: {'num_leaves': 3, 'objective': 'regression', 'min_data_in_leaf': 9, 'learning_rate': 0.4516102416308901, 'n_estimators': 1000, 'n_jobs': -1}\n",
      "Score: 0.8741047616133737\n",
      "------ Sampling new data point ------\n",
      "Params: {'num_leaves': 2, 'objective': 'regression', 'min_data_in_leaf': 10, 'learning_rate': 0.3334609115058396, 'n_estimators': 1000, 'n_jobs': -1}\n",
      "Score: 0.7683471555195392\n",
      "------ Sampling new data point ------\n",
      "Params: {'num_leaves': 7, 'objective': 'regression', 'min_data_in_leaf': 10, 'learning_rate': 0.32667977907153295, 'n_estimators': 100, 'n_jobs': -1}\n",
      "Score: 0.841675639743135\n",
      "------ Sampling new data point ------\n",
      "Params: {'num_leaves': 10, 'objective': 'regression', 'min_data_in_leaf': 10, 'learning_rate': 0.3618947093307378, 'n_estimators': 1000, 'n_jobs': -1}\n",
      "Score: 0.8179212641815846\n",
      "------ Sampling new data point ------\n",
      "Params: {'num_leaves': 2, 'objective': 'regression', 'min_data_in_leaf': 2, 'learning_rate': 0.3684420274212278, 'n_estimators': 1000, 'n_jobs': -1}\n",
      "Score: 0.8198913137949959\n",
      "------ Sampling new data point ------\n",
      "Params: {'num_leaves': 2, 'objective': 'regression', 'min_data_in_leaf': 2, 'learning_rate': 0.31248737765199536, 'n_estimators': 1000, 'n_jobs': -1}\n",
      "Score: 0.8076242737391731\n",
      "------ Sampling new data point ------\n",
      "Params: {'num_leaves': 9, 'objective': 'regression', 'min_data_in_leaf': 10, 'learning_rate': 0.7540356208381634, 'n_estimators': 100, 'n_jobs': -1}\n",
      "Score: 0.878392282726177\n",
      "------ Sampling new data point ------\n",
      "Params: {'num_leaves': 2, 'objective': 'regression', 'min_data_in_leaf': 2, 'learning_rate': 0.21018532101753745, 'n_estimators': 100, 'n_jobs': -1}\n",
      "Score: 0.7965499752669429\n",
      "------ Sampling new data point ------\n",
      "Params: {'num_leaves': 10, 'objective': 'regression', 'min_data_in_leaf': 4, 'learning_rate': 0.5255739791839253, 'n_estimators': 100, 'n_jobs': -1}\n",
      "Score: 0.8249223772042192\n",
      "------ Sampling new data point ------\n",
      "Params: {'num_leaves': 2, 'objective': 'regression', 'min_data_in_leaf': 7, 'learning_rate': 0.2246637208203322, 'n_estimators': 1000, 'n_jobs': -1}\n",
      "Score: 0.7955580159549093\n",
      "------ Sampling new data point ------\n",
      "Params: {'num_leaves': 2, 'objective': 'regression', 'min_data_in_leaf': 3, 'learning_rate': 0.5513496070337952, 'n_estimators': 1000, 'n_jobs': -1}\n",
      "Score: 0.8479523864310806\n",
      "------ Sampling new data point ------\n",
      "Params: {'num_leaves': 2, 'objective': 'regression', 'min_data_in_leaf': 2, 'learning_rate': 0.08229517880786964, 'n_estimators': 100, 'n_jobs': -1}\n",
      "Score: 0.7472968323510566\n",
      "------ Sampling new data point ------\n",
      "Params: {'num_leaves': 2, 'objective': 'regression', 'min_data_in_leaf': 10, 'learning_rate': 0.08737793564331102, 'n_estimators': 926, 'n_jobs': -1}\n",
      "Score: 0.7568443211304928\n",
      "------ Sampling new data point ------\n",
      "Params: {'num_leaves': 10, 'objective': 'regression', 'min_data_in_leaf': 2, 'learning_rate': 0.06769000463155686, 'n_estimators': 100, 'n_jobs': -1}\n",
      "Score: 0.7515448001240822\n",
      "------ Sampling new data point ------\n",
      "Params: {'num_leaves': 5, 'objective': 'regression', 'min_data_in_leaf': 2, 'learning_rate': 0.07083279058231226, 'n_estimators': 223, 'n_jobs': -1}\n",
      "Score: 0.7532030080062723\n",
      "------ Sampling new data point ------\n",
      "Params: {'num_leaves': 10, 'objective': 'regression', 'min_data_in_leaf': 10, 'learning_rate': 1e-05, 'n_estimators': 1000, 'n_jobs': -1}\n",
      "Score: 1.0522768332314503\n",
      "------ Sampling new data point ------\n",
      "Params: {'num_leaves': 10, 'objective': 'regression', 'min_data_in_leaf': 9, 'learning_rate': 0.21794377694271772, 'n_estimators': 859, 'n_jobs': -1}\n",
      "Score: 0.8341526013259642\n",
      "------ Sampling new data point ------\n",
      "Params: {'num_leaves': 10, 'objective': 'regression', 'min_data_in_leaf': 2, 'learning_rate': 0.07858957171586894, 'n_estimators': 100, 'n_jobs': -1}\n",
      "Score: 0.8248448498114628\n",
      "------ Sampling new data point ------\n",
      "Params: {'num_leaves': 2, 'objective': 'regression', 'min_data_in_leaf': 10, 'learning_rate': 0.07187136897998915, 'n_estimators': 368, 'n_jobs': -1}\n",
      "Score: 0.7624632498749161\n",
      "------ Sampling new data point ------\n",
      "Params: {'num_leaves': 2, 'objective': 'regression', 'min_data_in_leaf': 2, 'learning_rate': 0.07642882448047207, 'n_estimators': 566, 'n_jobs': -1}\n",
      "Score: 0.8112601302890287\n",
      "------ Sampling new data point ------\n",
      "Params: {'num_leaves': 2, 'objective': 'regression', 'min_data_in_leaf': 2, 'learning_rate': 0.18210354223738068, 'n_estimators': 522, 'n_jobs': -1}\n",
      "Score: 0.8080888091123933\n",
      "------ Sampling new data point ------\n",
      "Params: {'num_leaves': 2, 'objective': 'regression', 'min_data_in_leaf': 10, 'learning_rate': 0.09039949306690111, 'n_estimators': 1000, 'n_jobs': -1}\n",
      "Score: 0.7773904733485845\n",
      "------ Sampling new data point ------\n",
      "Params: {'num_leaves': 2, 'objective': 'regression', 'min_data_in_leaf': 2, 'learning_rate': 0.08460394003292195, 'n_estimators': 100, 'n_jobs': -1}\n",
      "Score: 0.7560405755404555\n",
      "------ Sampling new data point ------\n",
      "Params: {'num_leaves': 2, 'objective': 'regression', 'min_data_in_leaf': 2, 'learning_rate': 0.0851648658991157, 'n_estimators': 349, 'n_jobs': -1}\n",
      "Score: 0.7507144556756583\n",
      "------ Sampling new data point ------\n",
      "Params: {'num_leaves': 2, 'objective': 'regression', 'min_data_in_leaf': 9, 'learning_rate': 0.4989445951021302, 'n_estimators': 960, 'n_jobs': -1}\n",
      "Score: 0.8597251710407976\n",
      "------ Sampling new data point ------\n",
      "Params: {'num_leaves': 2, 'objective': 'regression', 'min_data_in_leaf': 8, 'learning_rate': 0.06586853748986385, 'n_estimators': 965, 'n_jobs': -1}\n",
      "Score: 0.784763577451141\n"
     ]
    },
    {
     "name": "stdout",
     "output_type": "stream",
     "text": [
      "------ Sampling new data point ------\n",
      "Params: {'num_leaves': 2, 'objective': 'regression', 'min_data_in_leaf': 3, 'learning_rate': 0.08690131514142095, 'n_estimators': 100, 'n_jobs': -1}\n",
      "Score: 0.7645329137939852\n",
      "------ Sampling new data point ------\n",
      "Params: {'num_leaves': 2, 'objective': 'regression', 'min_data_in_leaf': 2, 'learning_rate': 0.08628274282273897, 'n_estimators': 100, 'n_jobs': -1}\n",
      "Score: 0.7548975757148585\n",
      "------ Sampling new data point ------\n",
      "Params: {'num_leaves': 10, 'objective': 'regression', 'min_data_in_leaf': 2, 'learning_rate': 0.08585804833747336, 'n_estimators': 1000, 'n_jobs': -1}\n",
      "Score: 0.7922248386451272\n",
      "------ Sampling new data point ------\n",
      "Params: {'num_leaves': 2, 'objective': 'regression', 'min_data_in_leaf': 9, 'learning_rate': 0.08427257518027793, 'n_estimators': 100, 'n_jobs': -1}\n",
      "Score: 0.7471651727666387\n",
      "------ Sampling new data point ------\n",
      "Params: {'num_leaves': 2, 'objective': 'regression', 'min_data_in_leaf': 10, 'learning_rate': 0.0933597704905169, 'n_estimators': 100, 'n_jobs': -1}\n",
      "Score: 0.7383311402044562\n",
      "------ Sampling new data point ------\n",
      "Params: {'num_leaves': 2, 'objective': 'regression', 'min_data_in_leaf': 10, 'learning_rate': 0.08713186452221255, 'n_estimators': 100, 'n_jobs': -1}\n",
      "Score: 0.7709693712558456\n",
      "------ Sampling new data point ------\n",
      "Params: {'num_leaves': 2, 'objective': 'regression', 'min_data_in_leaf': 3, 'learning_rate': 0.7206823391399956, 'n_estimators': 809, 'n_jobs': -1}\n",
      "Score: 0.8361028123371786\n",
      "------ Sampling new data point ------\n",
      "Params: {'num_leaves': 2, 'objective': 'regression', 'min_data_in_leaf': 10, 'learning_rate': 0.7849887170266562, 'n_estimators': 940, 'n_jobs': -1}\n",
      "Score: 0.8749217543309752\n",
      "------ Sampling new data point ------\n",
      "Params: {'num_leaves': 2, 'objective': 'regression', 'min_data_in_leaf': 10, 'learning_rate': 0.0862926104233303, 'n_estimators': 100, 'n_jobs': -1}\n",
      "Score: 0.7595620773013825\n",
      "------ Sampling new data point ------\n",
      "Params: {'num_leaves': 10, 'objective': 'regression', 'min_data_in_leaf': 4, 'learning_rate': 0.41823372860399527, 'n_estimators': 877, 'n_jobs': -1}\n",
      "Score: 0.8298944664773713\n",
      "------ Sampling new data point ------\n",
      "Params: {'num_leaves': 2, 'objective': 'regression', 'min_data_in_leaf': 10, 'learning_rate': 0.08593107087878621, 'n_estimators': 100, 'n_jobs': -1}\n",
      "Score: 0.7526896682193748\n",
      "------ Sampling new data point ------\n",
      "Params: {'num_leaves': 2, 'objective': 'regression', 'min_data_in_leaf': 10, 'learning_rate': 0.08569570369707454, 'n_estimators': 100, 'n_jobs': -1}\n",
      "Score: 0.7556144284797027\n"
     ]
    },
    {
     "data": {
      "text/plain": [
       "'Best score=0.7383'"
      ]
     },
     "execution_count": 103,
     "metadata": {},
     "output_type": "execute_result"
    }
   ],
   "source": [
    "res_lgb = gp_minimize(lgb_objective, params_space, n_calls=N_CALLS, random_state=0)\n",
    "\n",
    "\"Best score=%.4f\" % res_lgb.fun"
   ]
  },
  {
   "cell_type": "code",
   "execution_count": 233,
   "metadata": {},
   "outputs": [
    {
     "name": "stdout",
     "output_type": "stream",
     "text": [
      "Optimal parameters\n",
      "Param: num_leaves, value: 2\n",
      "Param: objective, value: regression\n",
      "Param: min_data_in_leaf, value: 10\n",
      "Param: learning_rate, value: 0.1832501555621475\n",
      "Param: n_estimators, value: 100\n"
     ]
    },
    {
     "data": {
      "text/plain": [
       "LGBMRegressor(boosting_type='gbdt', class_weight=None, colsample_bytree=1.0,\n",
       "              importance_type='split', learning_rate=0.1832501555621475,\n",
       "              max_depth=-1, min_child_samples=20, min_child_weight=0.001,\n",
       "              min_data_in_leaf=10, min_split_gain=0.0, n_estimators=100,\n",
       "              n_jobs=-1, num_leaves=2, objective='regression',\n",
       "              random_state=None, reg_alpha=0.0, reg_lambda=0.0, silent=True,\n",
       "              subsample=1.0, subsample_for_bin=200000, subsample_freq=0)"
      ]
     },
     "execution_count": 233,
     "metadata": {},
     "output_type": "execute_result"
    }
   ],
   "source": [
    "print(\"Optimal parameters\")\n",
    "params_lgb = {}\n",
    "for param, value in zip(params_space, res_lgb.x):\n",
    "    print(f\"Param: {param.name}, value: {value}\")\n",
    "    params_lgb[param.name] = value\n",
    "    \n",
    "model_lgb = lgb.LGBMRegressor(**params_lgb)\n",
    "model_lgb.fit(X_train1_layer1.values, y_train1_layer1.values)"
   ]
  },
  {
   "cell_type": "code",
   "execution_count": 234,
   "metadata": {},
   "outputs": [
    {
     "data": {
      "image/png": "[encoded data removed]",
      "text/plain": [
       "<Figure size 432x288 with 1 Axes>"
      ]
     },
     "metadata": {
      "needs_background": "light"
     },
     "output_type": "display_data"
    }
   ],
   "source": [
    "plt.figure()\n",
    "plot_convergence(res_lgb)\n",
    "plt.show()"
   ]
  },
  {
   "cell_type": "markdown",
   "metadata": {},
   "source": [
    "##### 2. LASSO Regression"
   ]
  },
  {
   "cell_type": "code",
   "execution_count": 235,
   "metadata": {},
   "outputs": [
    {
     "name": "stdout",
     "output_type": "stream",
     "text": [
      "\n",
      "Lasso score: 0.6997 (+/-0.0414)\n",
      "\n"
     ]
    }
   ],
   "source": [
    "model_lasso = make_pipeline(RobustScaler(), Lasso(alpha =1e-4, random_state=1))\n",
    "score = rmsle_cv(model_lasso, X_train2_layer1, y_train2_layer1, N_FOLDS)\n",
    "print(\"\\nLasso score: {:.4f} (+/-{:.4f})\\n\".format(score.mean(), score.std()))\n",
    "model_lasso.fit(X_train2_layer1, y_train2_layer1);"
   ]
  },
  {
   "cell_type": "markdown",
   "metadata": {},
   "source": [
    "##### 2b. Ridge regression"
   ]
  },
  {
   "cell_type": "code",
   "execution_count": 236,
   "metadata": {},
   "outputs": [
    {
     "name": "stdout",
     "output_type": "stream",
     "text": [
      "\n",
      "Ridge score: 0.6998 (+/-0.0414)\n",
      "\n"
     ]
    }
   ],
   "source": [
    "model_ridge = make_pipeline(RobustScaler(), Ridge(alpha =0.05, random_state=1))\n",
    "score = rmsle_cv(model_ridge, X_train2_layer1, y_train2_layer1, N_FOLDS)\n",
    "print(\"\\nRidge score: {:.4f} (+/-{:.4f})\\n\".format(score.mean(), score.std()))\n",
    "model_ridge.fit(X_train2_layer1, y_train2_layer1);"
   ]
  },
  {
   "cell_type": "markdown",
   "metadata": {},
   "source": [
    "##### 3. Random Forest Estimator "
   ]
  },
  {
   "cell_type": "code",
   "execution_count": 237,
   "metadata": {},
   "outputs": [],
   "source": [
    "params_space  = [Integer(2, 25, name='max_depth'),\n",
    "                 Integer(2, 15, name='min_samples_leaf'),\n",
    "                 Integer(2, 15, name='min_samples_split'),\n",
    "                 Integer(100, 1000, name='n_estimators')\n",
    "                ]\n",
    "\n",
    "@use_named_args(params_space)\n",
    "def rfe_objective(**params):\n",
    "    cls = RandomForestRegressor(**params)\n",
    "    return objective_core(cls, X_train3_layer1, y_train3_layer1, **params)"
   ]
  },
  {
   "cell_type": "code",
   "execution_count": 238,
   "metadata": {
    "scrolled": true
   },
   "outputs": [
    {
     "name": "stdout",
     "output_type": "stream",
     "text": [
      "------ Sampling new data point ------\n",
      "Params: {'max_depth': 16, 'min_samples_leaf': 13, 'min_samples_split': 13, 'n_estimators': 863, 'n_jobs': -1}\n",
      "Score: 0.6463496197791683\n",
      "------ Sampling new data point ------\n",
      "Params: {'max_depth': 16, 'min_samples_leaf': 7, 'min_samples_split': 6, 'n_estimators': 151, 'n_jobs': -1}\n",
      "Score: 0.6494127087509591\n",
      "------ Sampling new data point ------\n",
      "Params: {'max_depth': 8, 'min_samples_leaf': 8, 'min_samples_split': 13, 'n_estimators': 532, 'n_jobs': -1}\n",
      "Score: 0.6293577638830722\n",
      "------ Sampling new data point ------\n",
      "Params: {'max_depth': 11, 'min_samples_leaf': 13, 'min_samples_split': 6, 'n_estimators': 683, 'n_jobs': -1}\n",
      "Score: 0.6376158868203441\n",
      "------ Sampling new data point ------\n",
      "Params: {'max_depth': 10, 'min_samples_leaf': 14, 'min_samples_split': 4, 'n_estimators': 883, 'n_jobs': -1}\n",
      "Score: 0.6472806153443805\n",
      "------ Sampling new data point ------\n",
      "Params: {'max_depth': 13, 'min_samples_leaf': 12, 'min_samples_split': 9, 'n_estimators': 711, 'n_jobs': -1}\n",
      "Score: 0.6458736764996694\n",
      "------ Sampling new data point ------\n",
      "Params: {'max_depth': 19, 'min_samples_leaf': 10, 'min_samples_split': 9, 'n_estimators': 783, 'n_jobs': -1}\n",
      "Score: 0.6470382838817818\n",
      "------ Sampling new data point ------\n",
      "Params: {'max_depth': 4, 'min_samples_leaf': 8, 'min_samples_split': 4, 'n_estimators': 763, 'n_jobs': -1}\n",
      "Score: 0.6166176564718439\n",
      "------ Sampling new data point ------\n",
      "Params: {'max_depth': 7, 'min_samples_leaf': 4, 'min_samples_split': 6, 'n_estimators': 235, 'n_jobs': -1}\n",
      "Score: 0.6306915973947061\n",
      "------ Sampling new data point ------\n",
      "Params: {'max_depth': 7, 'min_samples_leaf': 7, 'min_samples_split': 14, 'n_estimators': 505, 'n_jobs': -1}\n",
      "Score: 0.6479618078240793\n",
      "------ Sampling new data point ------\n",
      "Params: {'max_depth': 2, 'min_samples_leaf': 2, 'min_samples_split': 2, 'n_estimators': 1000, 'n_jobs': -1}\n",
      "Score: 0.688421842729024\n",
      "------ Sampling new data point ------\n",
      "Params: {'max_depth': 2, 'min_samples_leaf': 15, 'min_samples_split': 15, 'n_estimators': 100, 'n_jobs': -1}\n",
      "Score: 0.7078716008314316\n",
      "------ Sampling new data point ------\n",
      "Params: {'max_depth': 2, 'min_samples_leaf': 15, 'min_samples_split': 5, 'n_estimators': 1000, 'n_jobs': -1}\n",
      "Score: 0.6850883422125253\n",
      "------ Sampling new data point ------\n",
      "Params: {'max_depth': 25, 'min_samples_leaf': 2, 'min_samples_split': 2, 'n_estimators': 447, 'n_jobs': -1}\n",
      "Score: 0.6538518320535928\n",
      "------ Sampling new data point ------\n",
      "Params: {'max_depth': 2, 'min_samples_leaf': 5, 'min_samples_split': 2, 'n_estimators': 414, 'n_jobs': -1}\n",
      "Score: 0.6943480940375929\n",
      "------ Sampling new data point ------\n",
      "Params: {'max_depth': 5, 'min_samples_leaf': 15, 'min_samples_split': 2, 'n_estimators': 1000, 'n_jobs': -1}\n",
      "Score: 0.644493123543503\n",
      "------ Sampling new data point ------\n",
      "Params: {'max_depth': 8, 'min_samples_leaf': 2, 'min_samples_split': 2, 'n_estimators': 1000, 'n_jobs': -1}\n",
      "Score: 0.6339562047060755\n",
      "------ Sampling new data point ------\n",
      "Params: {'max_depth': 22, 'min_samples_leaf': 15, 'min_samples_split': 15, 'n_estimators': 100, 'n_jobs': -1}\n",
      "Score: 0.6486684068156149\n",
      "------ Sampling new data point ------\n",
      "Params: {'max_depth': 25, 'min_samples_leaf': 9, 'min_samples_split': 15, 'n_estimators': 970, 'n_jobs': -1}\n",
      "Score: 0.6471301758043936\n",
      "------ Sampling new data point ------\n",
      "Params: {'max_depth': 21, 'min_samples_leaf': 3, 'min_samples_split': 2, 'n_estimators': 848, 'n_jobs': -1}\n",
      "Score: 0.6382367545018868\n",
      "------ Sampling new data point ------\n",
      "Params: {'max_depth': 7, 'min_samples_leaf': 15, 'min_samples_split': 2, 'n_estimators': 1000, 'n_jobs': -1}\n",
      "Score: 0.6468487155791858\n",
      "------ Sampling new data point ------\n",
      "Params: {'max_depth': 25, 'min_samples_leaf': 14, 'min_samples_split': 2, 'n_estimators': 106, 'n_jobs': -1}\n",
      "Score: 0.6536229842939897\n",
      "------ Sampling new data point ------\n",
      "Params: {'max_depth': 19, 'min_samples_leaf': 2, 'min_samples_split': 2, 'n_estimators': 755, 'n_jobs': -1}\n",
      "Score: 0.6544638965575639\n",
      "------ Sampling new data point ------\n",
      "Params: {'max_depth': 12, 'min_samples_leaf': 2, 'min_samples_split': 7, 'n_estimators': 110, 'n_jobs': -1}\n",
      "Score: 0.6744936378882168\n",
      "------ Sampling new data point ------\n",
      "Params: {'max_depth': 7, 'min_samples_leaf': 2, 'min_samples_split': 15, 'n_estimators': 1000, 'n_jobs': -1}\n",
      "Score: 0.6471720975732737\n"
     ]
    },
    {
     "name": "stderr",
     "output_type": "stream",
     "text": [
      "/Users/pluto/anaconda3/lib/python3.7/site-packages/skopt/optimizer/optimizer.py:409: UserWarning: The objective has been evaluated at this point before.\n",
      "  warnings.warn(\"The objective has been evaluated \"\n"
     ]
    },
    {
     "name": "stdout",
     "output_type": "stream",
     "text": [
      "------ Sampling new data point ------\n",
      "Params: {'max_depth': 7, 'min_samples_leaf': 15, 'min_samples_split': 2, 'n_estimators': 1000, 'n_jobs': -1}\n",
      "Score: 0.638904733841575\n",
      "------ Sampling new data point ------\n",
      "Params: {'max_depth': 22, 'min_samples_leaf': 15, 'min_samples_split': 7, 'n_estimators': 999, 'n_jobs': -1}\n",
      "Score: 0.639116144374666\n",
      "------ Sampling new data point ------\n",
      "Params: {'max_depth': 6, 'min_samples_leaf': 5, 'min_samples_split': 2, 'n_estimators': 103, 'n_jobs': -1}\n",
      "Score: 0.6512922891894847\n",
      "------ Sampling new data point ------\n",
      "Params: {'max_depth': 25, 'min_samples_leaf': 14, 'min_samples_split': 14, 'n_estimators': 981, 'n_jobs': -1}\n",
      "Score: 0.6239612107712044\n",
      "------ Sampling new data point ------\n",
      "Params: {'max_depth': 25, 'min_samples_leaf': 9, 'min_samples_split': 13, 'n_estimators': 999, 'n_jobs': -1}\n",
      "Score: 0.6511632482309997\n",
      "------ Sampling new data point ------\n",
      "Params: {'max_depth': 22, 'min_samples_leaf': 14, 'min_samples_split': 14, 'n_estimators': 999, 'n_jobs': -1}\n",
      "Score: 0.6363583747751723\n",
      "------ Sampling new data point ------\n",
      "Params: {'max_depth': 8, 'min_samples_leaf': 15, 'min_samples_split': 15, 'n_estimators': 1000, 'n_jobs': -1}\n",
      "Score: 0.6437742439947317\n",
      "------ Sampling new data point ------\n",
      "Params: {'max_depth': 16, 'min_samples_leaf': 4, 'min_samples_split': 13, 'n_estimators': 1000, 'n_jobs': -1}\n",
      "Score: 0.6383299195765461\n"
     ]
    },
    {
     "name": "stderr",
     "output_type": "stream",
     "text": [
      "/Users/pluto/anaconda3/lib/python3.7/site-packages/skopt/optimizer/optimizer.py:409: UserWarning: The objective has been evaluated at this point before.\n",
      "  warnings.warn(\"The objective has been evaluated \"\n"
     ]
    },
    {
     "name": "stdout",
     "output_type": "stream",
     "text": [
      "------ Sampling new data point ------\n",
      "Params: {'max_depth': 8, 'min_samples_leaf': 2, 'min_samples_split': 2, 'n_estimators': 1000, 'n_jobs': -1}\n",
      "Score: 0.6257311124174858\n",
      "------ Sampling new data point ------\n",
      "Params: {'max_depth': 20, 'min_samples_leaf': 12, 'min_samples_split': 15, 'n_estimators': 101, 'n_jobs': -1}\n",
      "Score: 0.640971153264036\n"
     ]
    },
    {
     "name": "stderr",
     "output_type": "stream",
     "text": [
      "/Users/pluto/anaconda3/lib/python3.7/site-packages/skopt/optimizer/optimizer.py:409: UserWarning: The objective has been evaluated at this point before.\n",
      "  warnings.warn(\"The objective has been evaluated \"\n"
     ]
    },
    {
     "name": "stdout",
     "output_type": "stream",
     "text": [
      "------ Sampling new data point ------\n",
      "Params: {'max_depth': 8, 'min_samples_leaf': 2, 'min_samples_split': 2, 'n_estimators': 1000, 'n_jobs': -1}\n",
      "Score: 0.6579311481243301\n",
      "------ Sampling new data point ------\n",
      "Params: {'max_depth': 22, 'min_samples_leaf': 15, 'min_samples_split': 15, 'n_estimators': 1000, 'n_jobs': -1}\n",
      "Score: 0.6383565746277747\n",
      "------ Sampling new data point ------\n",
      "Params: {'max_depth': 18, 'min_samples_leaf': 2, 'min_samples_split': 15, 'n_estimators': 999, 'n_jobs': -1}\n",
      "Score: 0.6562026624969505\n",
      "------ Sampling new data point ------\n",
      "Params: {'max_depth': 25, 'min_samples_leaf': 4, 'min_samples_split': 6, 'n_estimators': 995, 'n_jobs': -1}\n",
      "Score: 0.6448911145043144\n",
      "------ Sampling new data point ------\n",
      "Params: {'max_depth': 23, 'min_samples_leaf': 3, 'min_samples_split': 12, 'n_estimators': 100, 'n_jobs': -1}\n",
      "Score: 0.640360409519753\n"
     ]
    },
    {
     "name": "stderr",
     "output_type": "stream",
     "text": [
      "/Users/pluto/anaconda3/lib/python3.7/site-packages/skopt/optimizer/optimizer.py:409: UserWarning: The objective has been evaluated at this point before.\n",
      "  warnings.warn(\"The objective has been evaluated \"\n"
     ]
    },
    {
     "name": "stdout",
     "output_type": "stream",
     "text": [
      "------ Sampling new data point ------\n",
      "Params: {'max_depth': 7, 'min_samples_leaf': 15, 'min_samples_split': 2, 'n_estimators': 1000, 'n_jobs': -1}\n",
      "Score: 0.6369196236761425\n",
      "------ Sampling new data point ------\n",
      "Params: {'max_depth': 14, 'min_samples_leaf': 15, 'min_samples_split': 3, 'n_estimators': 982, 'n_jobs': -1}\n",
      "Score: 0.646738692379373\n",
      "------ Sampling new data point ------\n",
      "Params: {'max_depth': 10, 'min_samples_leaf': 13, 'min_samples_split': 4, 'n_estimators': 105, 'n_jobs': -1}\n",
      "Score: 0.6483546285258203\n",
      "------ Sampling new data point ------\n",
      "Params: {'max_depth': 6, 'min_samples_leaf': 15, 'min_samples_split': 12, 'n_estimators': 113, 'n_jobs': -1}\n",
      "Score: 0.6456210234390961\n",
      "------ Sampling new data point ------\n",
      "Params: {'max_depth': 23, 'min_samples_leaf': 15, 'min_samples_split': 2, 'n_estimators': 992, 'n_jobs': -1}\n",
      "Score: 0.6567024268382012\n",
      "------ Sampling new data point ------\n",
      "Params: {'max_depth': 25, 'min_samples_leaf': 4, 'min_samples_split': 9, 'n_estimators': 102, 'n_jobs': -1}\n",
      "Score: 0.6510145173704909\n",
      "------ Sampling new data point ------\n",
      "Params: {'max_depth': 25, 'min_samples_leaf': 8, 'min_samples_split': 13, 'n_estimators': 100, 'n_jobs': -1}\n",
      "Score: 0.6428710560700218\n",
      "------ Sampling new data point ------\n",
      "Params: {'max_depth': 25, 'min_samples_leaf': 2, 'min_samples_split': 13, 'n_estimators': 980, 'n_jobs': -1}\n",
      "Score: 0.64912716197199\n",
      "------ Sampling new data point ------\n",
      "Params: {'max_depth': 25, 'min_samples_leaf': 9, 'min_samples_split': 3, 'n_estimators': 102, 'n_jobs': -1}\n",
      "Score: 0.6281378113456648\n",
      "------ Sampling new data point ------\n",
      "Params: {'max_depth': 25, 'min_samples_leaf': 15, 'min_samples_split': 2, 'n_estimators': 1000, 'n_jobs': -1}\n",
      "Score: 0.634647904644483\n",
      "------ Sampling new data point ------\n",
      "Params: {'max_depth': 18, 'min_samples_leaf': 15, 'min_samples_split': 4, 'n_estimators': 168, 'n_jobs': -1}\n",
      "Score: 0.6418234767649457\n"
     ]
    },
    {
     "data": {
      "text/plain": [
       "'Best score=0.6166'"
      ]
     },
     "execution_count": 238,
     "metadata": {},
     "output_type": "execute_result"
    }
   ],
   "source": [
    "res_rfe = gp_minimize(rfe_objective, params_space, n_calls=N_CALLS, random_state=0)\n",
    "\n",
    "\"Best score=%.4f\" % res_rfe.fun"
   ]
  },
  {
   "cell_type": "code",
   "execution_count": 239,
   "metadata": {},
   "outputs": [
    {
     "name": "stdout",
     "output_type": "stream",
     "text": [
      "Optimal parameters\n",
      "Param: max_depth, value: 4\n",
      "Param: min_samples_leaf, value: 8\n",
      "Param: min_samples_split, value: 4\n",
      "Param: n_estimators, value: 763\n"
     ]
    },
    {
     "data": {
      "text/plain": [
       "RandomForestRegressor(bootstrap=True, criterion='mse', max_depth=4,\n",
       "                      max_features='auto', max_leaf_nodes=None,\n",
       "                      min_impurity_decrease=0.0, min_impurity_split=None,\n",
       "                      min_samples_leaf=8, min_samples_split=4,\n",
       "                      min_weight_fraction_leaf=0.0, n_estimators=763,\n",
       "                      n_jobs=None, oob_score=False, random_state=None,\n",
       "                      verbose=0, warm_start=False)"
      ]
     },
     "execution_count": 239,
     "metadata": {},
     "output_type": "execute_result"
    }
   ],
   "source": [
    "print(\"Optimal parameters\")\n",
    "params_rfe = {}\n",
    "for param, value in zip(params_space, res_rfe.x):\n",
    "    print(f\"Param: {param.name}, value: {value}\")\n",
    "    \n",
    "    params_rfe[param.name] = value\n",
    "    \n",
    "model_rfe = RandomForestRegressor(**params_rfe)\n",
    "model_rfe.fit(X_train3_layer1.values, y_train3_layer1.values)"
   ]
  },
  {
   "cell_type": "code",
   "execution_count": 240,
   "metadata": {},
   "outputs": [
    {
     "data": {
      "image/png": "[encoded data removed]",
      "text/plain": [
       "<Figure size 432x288 with 1 Axes>"
      ]
     },
     "metadata": {
      "needs_background": "light"
     },
     "output_type": "display_data"
    }
   ],
   "source": [
    "plt.figure()\n",
    "plot_convergence(res_rfe)\n",
    "plt.show()"
   ]
  },
  {
   "cell_type": "markdown",
   "metadata": {},
   "source": [
    "##### 4. SVM"
   ]
  },
  {
   "cell_type": "code",
   "execution_count": 241,
   "metadata": {},
   "outputs": [],
   "source": [
    "params_space  = [Integer(2, 6, name='degree'),\n",
    "                 Categorical(['scale'], name='gamma'),\n",
    "                 Categorical(['rbf', 'poly', 'sigmoid'], name='kernel'),\n",
    "                 Real(1, 100, \"uniform\", name='C')]\n",
    "\n",
    "@use_named_args(params_space)\n",
    "def svm_objective(**params):\n",
    "    cls = SVR(**params)\n",
    "    return objective_core(cls, X_train4_layer1, y_train4_layer1, **params)"
   ]
  },
  {
   "cell_type": "code",
   "execution_count": 242,
   "metadata": {
    "scrolled": true
   },
   "outputs": [
    {
     "name": "stdout",
     "output_type": "stream",
     "text": [
      "------ Sampling new data point ------\n",
      "Params: {'degree': 4, 'gamma': 'scale', 'kernel': 'sigmoid', 'C': 84.87792213962844, 'n_jobs': -1}\n",
      "Score: 601.2003321805088\n",
      "------ Sampling new data point ------\n",
      "Params: {'degree': 4, 'gamma': 'scale', 'kernel': 'rbf', 'C': 6.614584754426876, 'n_jobs': -1}\n",
      "Score: 0.543615906001167\n",
      "------ Sampling new data point ------\n",
      "Params: {'degree': 3, 'gamma': 'scale', 'kernel': 'sigmoid', 'C': 48.51774006513069, 'n_jobs': -1}\n",
      "Score: 345.2098660036607\n",
      "------ Sampling new data point ------\n",
      "Params: {'degree': 4, 'gamma': 'scale', 'kernel': 'poly', 'C': 65.16901533306853, 'n_jobs': -1}\n",
      "Score: 1.130652355550481\n",
      "------ Sampling new data point ------\n",
      "Params: {'degree': 3, 'gamma': 'scale', 'kernel': 'rbf', 'C': 87.13863857748522, 'n_jobs': -1}\n",
      "Score: 0.6814458132914737\n",
      "------ Sampling new data point ------\n",
      "Params: {'degree': 4, 'gamma': 'scale', 'kernel': 'poly', 'C': 68.20907348177708, 'n_jobs': -1}\n",
      "Score: 1.1555654212414255\n",
      "------ Sampling new data point ------\n",
      "Params: {'degree': 5, 'gamma': 'scale', 'kernel': 'poly', 'C': 76.10294680791338, 'n_jobs': -1}\n",
      "Score: 2.080177502896064\n",
      "------ Sampling new data point ------\n",
      "Params: {'degree': 2, 'gamma': 'scale', 'kernel': 'rbf', 'C': 73.95489953576687, 'n_jobs': -1}\n",
      "Score: 0.6107212324809048\n",
      "------ Sampling new data point ------\n",
      "Params: {'degree': 3, 'gamma': 'scale', 'kernel': 'rbf', 'C': 15.817811851184636, 'n_jobs': -1}\n",
      "Score: 0.5561347798725489\n",
      "------ Sampling new data point ------\n",
      "Params: {'degree': 3, 'gamma': 'scale', 'kernel': 'sigmoid', 'C': 45.545049001211545, 'n_jobs': -1}\n",
      "Score: 318.1960764987287\n",
      "------ Sampling new data point ------\n",
      "Params: {'degree': 3, 'gamma': 'scale', 'kernel': 'rbf', 'C': 45.900377260872446, 'n_jobs': -1}\n",
      "Score: 0.5992720582381127\n",
      "------ Sampling new data point ------\n",
      "Params: {'degree': 3, 'gamma': 'scale', 'kernel': 'rbf', 'C': 45.749550436874884, 'n_jobs': -1}\n",
      "Score: 0.5791034555256883\n",
      "------ Sampling new data point ------\n",
      "Params: {'degree': 6, 'gamma': 'scale', 'kernel': 'rbf', 'C': 99.92391069960483, 'n_jobs': -1}\n",
      "Score: 0.6379542276387586\n",
      "------ Sampling new data point ------\n",
      "Params: {'degree': 6, 'gamma': 'scale', 'kernel': 'rbf', 'C': 1.0453037074744576, 'n_jobs': -1}\n",
      "Score: 0.5289407085132266\n",
      "------ Sampling new data point ------\n",
      "Params: {'degree': 6, 'gamma': 'scale', 'kernel': 'rbf', 'C': 99.83787895918506, 'n_jobs': -1}\n",
      "Score: 0.6790193990307082\n",
      "------ Sampling new data point ------\n",
      "Params: {'degree': 4, 'gamma': 'scale', 'kernel': 'rbf', 'C': 52.72373774754865, 'n_jobs': -1}\n",
      "Score: 0.5762338312581903\n",
      "------ Sampling new data point ------\n",
      "Params: {'degree': 2, 'gamma': 'scale', 'kernel': 'rbf', 'C': 1.4781820955408902, 'n_jobs': -1}\n",
      "Score: 0.5386657512860094\n",
      "------ Sampling new data point ------\n",
      "Params: {'degree': 6, 'gamma': 'scale', 'kernel': 'rbf', 'C': 1.0749770598436492, 'n_jobs': -1}\n",
      "Score: 0.533957977533072\n",
      "------ Sampling new data point ------\n",
      "Params: {'degree': 6, 'gamma': 'scale', 'kernel': 'rbf', 'C': 99.90213490047998, 'n_jobs': -1}\n",
      "Score: 0.6202804371045058\n",
      "------ Sampling new data point ------\n",
      "Params: {'degree': 2, 'gamma': 'scale', 'kernel': 'rbf', 'C': 100.0, 'n_jobs': -1}\n",
      "Score: 0.6492805528622698\n",
      "------ Sampling new data point ------\n",
      "Params: {'degree': 6, 'gamma': 'scale', 'kernel': 'rbf', 'C': 1.0, 'n_jobs': -1}\n",
      "Score: 0.5341317440975106\n"
     ]
    },
    {
     "name": "stderr",
     "output_type": "stream",
     "text": [
      "/Users/pluto/anaconda3/lib/python3.7/site-packages/skopt/optimizer/optimizer.py:409: UserWarning: The objective has been evaluated at this point before.\n",
      "  warnings.warn(\"The objective has been evaluated \"\n"
     ]
    },
    {
     "name": "stdout",
     "output_type": "stream",
     "text": [
      "------ Sampling new data point ------\n",
      "Params: {'degree': 2, 'gamma': 'scale', 'kernel': 'rbf', 'C': 100.0, 'n_jobs': -1}\n",
      "Score: 0.661929704946283\n",
      "------ Sampling new data point ------\n",
      "Params: {'degree': 6, 'gamma': 'scale', 'kernel': 'rbf', 'C': 1.426391379296088, 'n_jobs': -1}\n",
      "Score: 0.5291950621658933\n"
     ]
    },
    {
     "name": "stderr",
     "output_type": "stream",
     "text": [
      "/Users/pluto/anaconda3/lib/python3.7/site-packages/skopt/optimizer/optimizer.py:409: UserWarning: The objective has been evaluated at this point before.\n",
      "  warnings.warn(\"The objective has been evaluated \"\n"
     ]
    },
    {
     "name": "stdout",
     "output_type": "stream",
     "text": [
      "------ Sampling new data point ------\n",
      "Params: {'degree': 2, 'gamma': 'scale', 'kernel': 'rbf', 'C': 100.0, 'n_jobs': -1}\n",
      "Score: 0.621402097437994\n"
     ]
    },
    {
     "name": "stderr",
     "output_type": "stream",
     "text": [
      "/Users/pluto/anaconda3/lib/python3.7/site-packages/skopt/optimizer/optimizer.py:409: UserWarning: The objective has been evaluated at this point before.\n",
      "  warnings.warn(\"The objective has been evaluated \"\n"
     ]
    },
    {
     "name": "stdout",
     "output_type": "stream",
     "text": [
      "------ Sampling new data point ------\n",
      "Params: {'degree': 6, 'gamma': 'scale', 'kernel': 'rbf', 'C': 1.0, 'n_jobs': -1}\n",
      "Score: 0.5321544756834482\n"
     ]
    },
    {
     "name": "stderr",
     "output_type": "stream",
     "text": [
      "/Users/pluto/anaconda3/lib/python3.7/site-packages/skopt/optimizer/optimizer.py:409: UserWarning: The objective has been evaluated at this point before.\n",
      "  warnings.warn(\"The objective has been evaluated \"\n"
     ]
    },
    {
     "name": "stdout",
     "output_type": "stream",
     "text": [
      "------ Sampling new data point ------\n",
      "Params: {'degree': 2, 'gamma': 'scale', 'kernel': 'rbf', 'C': 100.0, 'n_jobs': -1}\n",
      "Score: 0.6211456371178191\n",
      "------ Sampling new data point ------\n",
      "Params: {'degree': 6, 'gamma': 'scale', 'kernel': 'rbf', 'C': 1.4514190443726696, 'n_jobs': -1}\n",
      "Score: 0.527386170178444\n",
      "------ Sampling new data point ------\n",
      "Params: {'degree': 6, 'gamma': 'scale', 'kernel': 'rbf', 'C': 1.9415456333777357, 'n_jobs': -1}\n",
      "Score: 0.5265135849235476\n",
      "------ Sampling new data point ------\n",
      "Params: {'degree': 2, 'gamma': 'scale', 'kernel': 'poly', 'C': 23.010844649140175, 'n_jobs': -1}\n",
      "Score: 0.8231197633357187\n",
      "------ Sampling new data point ------\n",
      "Params: {'degree': 4, 'gamma': 'scale', 'kernel': 'rbf', 'C': 41.85107080750472, 'n_jobs': -1}\n",
      "Score: 0.5668399761637332\n",
      "------ Sampling new data point ------\n",
      "Params: {'degree': 6, 'gamma': 'scale', 'kernel': 'poly', 'C': 38.209011573935356, 'n_jobs': -1}\n",
      "Score: 3.617488762376507\n",
      "------ Sampling new data point ------\n",
      "Params: {'degree': 4, 'gamma': 'scale', 'kernel': 'rbf', 'C': 82.98721022765112, 'n_jobs': -1}\n",
      "Score: 0.6682205512041995\n",
      "------ Sampling new data point ------\n",
      "Params: {'degree': 2, 'gamma': 'scale', 'kernel': 'rbf', 'C': 59.538992538961054, 'n_jobs': -1}\n",
      "Score: 0.5968324160955899\n",
      "------ Sampling new data point ------\n",
      "Params: {'degree': 2, 'gamma': 'scale', 'kernel': 'poly', 'C': 18.41319002788706, 'n_jobs': -1}\n",
      "Score: 0.8563708056385696\n",
      "------ Sampling new data point ------\n",
      "Params: {'degree': 2, 'gamma': 'scale', 'kernel': 'rbf', 'C': 23.248613173177006, 'n_jobs': -1}\n",
      "Score: 0.6075399693237039\n",
      "------ Sampling new data point ------\n",
      "Params: {'degree': 6, 'gamma': 'scale', 'kernel': 'rbf', 'C': 1.0367525359182643, 'n_jobs': -1}\n",
      "Score: 0.532155155703108\n",
      "------ Sampling new data point ------\n",
      "Params: {'degree': 2, 'gamma': 'scale', 'kernel': 'rbf', 'C': 68.3936545165678, 'n_jobs': -1}\n",
      "Score: 0.603021536745368\n",
      "------ Sampling new data point ------\n",
      "Params: {'degree': 6, 'gamma': 'scale', 'kernel': 'rbf', 'C': 11.661524571860674, 'n_jobs': -1}\n",
      "Score: 0.5413310719834254\n",
      "------ Sampling new data point ------\n",
      "Params: {'degree': 2, 'gamma': 'scale', 'kernel': 'rbf', 'C': 33.7225331772272, 'n_jobs': -1}\n",
      "Score: 0.560688736151211\n",
      "------ Sampling new data point ------\n",
      "Params: {'degree': 6, 'gamma': 'scale', 'kernel': 'rbf', 'C': 30.67619573074651, 'n_jobs': -1}\n",
      "Score: 0.5961140520283047\n",
      "------ Sampling new data point ------\n",
      "Params: {'degree': 6, 'gamma': 'scale', 'kernel': 'rbf', 'C': 1.0774042107562443, 'n_jobs': -1}\n",
      "Score: 0.527348727524118\n",
      "------ Sampling new data point ------\n",
      "Params: {'degree': 2, 'gamma': 'scale', 'kernel': 'rbf', 'C': 11.915546430589353, 'n_jobs': -1}\n",
      "Score: 0.5466125194112245\n",
      "------ Sampling new data point ------\n",
      "Params: {'degree': 2, 'gamma': 'scale', 'kernel': 'rbf', 'C': 54.920210857033354, 'n_jobs': -1}\n",
      "Score: 0.5886069053192252\n",
      "------ Sampling new data point ------\n",
      "Params: {'degree': 6, 'gamma': 'scale', 'kernel': 'rbf', 'C': 36.5830528511501, 'n_jobs': -1}\n",
      "Score: 0.565025935463021\n",
      "------ Sampling new data point ------\n",
      "Params: {'degree': 6, 'gamma': 'scale', 'kernel': 'rbf', 'C': 56.91394062603269, 'n_jobs': -1}\n",
      "Score: 0.6097894888511181\n",
      "------ Sampling new data point ------\n",
      "Params: {'degree': 6, 'gamma': 'scale', 'kernel': 'rbf', 'C': 3.624925261300363, 'n_jobs': -1}\n",
      "Score: 0.5300625901974239\n",
      "------ Sampling new data point ------\n",
      "Params: {'degree': 2, 'gamma': 'scale', 'kernel': 'rbf', 'C': 38.372080916946324, 'n_jobs': -1}\n",
      "Score: 0.6285120476032015\n",
      "------ Sampling new data point ------\n",
      "Params: {'degree': 6, 'gamma': 'scale', 'kernel': 'rbf', 'C': 19.30290699589458, 'n_jobs': -1}\n",
      "Score: 0.5318932519985294\n",
      "------ Sampling new data point ------\n",
      "Params: {'degree': 6, 'gamma': 'scale', 'kernel': 'rbf', 'C': 33.87487706933858, 'n_jobs': -1}\n",
      "Score: 0.6075112582751091\n",
      "------ Sampling new data point ------\n",
      "Params: {'degree': 6, 'gamma': 'scale', 'kernel': 'rbf', 'C': 43.66040421077436, 'n_jobs': -1}\n",
      "Score: 0.5789539358205857\n",
      "------ Sampling new data point ------\n",
      "Params: {'degree': 2, 'gamma': 'scale', 'kernel': 'rbf', 'C': 18.883139677679825, 'n_jobs': -1}\n",
      "Score: 0.5514532561170465\n"
     ]
    },
    {
     "data": {
      "text/plain": [
       "'Best score=0.5265'"
      ]
     },
     "execution_count": 242,
     "metadata": {},
     "output_type": "execute_result"
    }
   ],
   "source": [
    "res_svm = gp_minimize(svm_objective, params_space, n_calls=N_CALLS, random_state=0)\n",
    "\n",
    "\"Best score=%.4f\" % res_svm.fun"
   ]
  },
  {
   "cell_type": "code",
   "execution_count": 243,
   "metadata": {},
   "outputs": [
    {
     "name": "stdout",
     "output_type": "stream",
     "text": [
      "Optimal parameters\n",
      "Param: degree, value: 6\n",
      "Param: gamma, value: scale\n",
      "Param: kernel, value: rbf\n",
      "Param: C, value: 1.9415456333777357\n"
     ]
    },
    {
     "data": {
      "text/plain": [
       "SVR(C=1.9415456333777357, cache_size=200, coef0=0.0, degree=6, epsilon=0.1,\n",
       "    gamma='scale', kernel='rbf', max_iter=-1, shrinking=True, tol=0.001,\n",
       "    verbose=False)"
      ]
     },
     "execution_count": 243,
     "metadata": {},
     "output_type": "execute_result"
    }
   ],
   "source": [
    "print(\"Optimal parameters\")\n",
    "params_svr = {}\n",
    "for param, value in zip(params_space, res_svm.x):\n",
    "    print(f\"Param: {param.name}, value: {value}\")\n",
    "    \n",
    "    params_svr[param.name] = value\n",
    "    \n",
    "model_svr = SVR(**params_svr)\n",
    "model_svr.fit(X_train4_layer1.values, y_train4_layer1.values)"
   ]
  },
  {
   "cell_type": "code",
   "execution_count": 244,
   "metadata": {},
   "outputs": [
    {
     "data": {
      "image/png": "[encoded data removed]",
      "text/plain": [
       "<Figure size 432x288 with 1 Axes>"
      ]
     },
     "metadata": {
      "needs_background": "light"
     },
     "output_type": "display_data"
    }
   ],
   "source": [
    "plt.figure()\n",
    "plot_convergence(res_svm)\n",
    "plt.show()"
   ]
  },
  {
   "cell_type": "markdown",
   "metadata": {},
   "source": [
    "##### 5. Gaussian Process"
   ]
  },
  {
   "cell_type": "code",
   "execution_count": 245,
   "metadata": {},
   "outputs": [],
   "source": [
    "params_space  = [Categorical([None], name='kernel'),\n",
    "                 Categorical(['fmin_l_bfgs_b', 'adam'], name='optimizer'),\n",
    "                 Real(1e-5, 1, \"uniform\", name='alpha')]\n",
    "\n",
    "@use_named_args(params_space)\n",
    "def gp_objective(**params):\n",
    "    cls = GaussianProcessRegressor(**params)\n",
    "    return objective_core(cls, X_train5_layer1, y_train5_layer1, **params)"
   ]
  },
  {
   "cell_type": "code",
   "execution_count": 246,
   "metadata": {
    "scrolled": true
   },
   "outputs": [
    {
     "name": "stdout",
     "output_type": "stream",
     "text": [
      "------ Sampling new data point ------\n",
      "Params: {'kernel': None, 'optimizer': 'adam', 'alpha': 0.8579470381665808, 'n_jobs': -1}\n",
      "Score: 0.6006917310276624\n",
      "------ Sampling new data point ------\n",
      "Params: {'kernel': None, 'optimizer': 'adam', 'alpha': 0.38438786347562703, 'n_jobs': -1}\n",
      "Score: 0.5988874772563902\n",
      "------ Sampling new data point ------\n",
      "Params: {'kernel': None, 'optimizer': 'fmin_l_bfgs_b', 'alpha': 0.27266356801716746, 'n_jobs': -1}\n",
      "Score: 0.581930603667227\n",
      "------ Sampling new data point ------\n",
      "Params: {'kernel': None, 'optimizer': 'adam', 'alpha': 0.4799823726033337, 'n_jobs': -1}\n",
      "Score: 0.591317673861811\n",
      "------ Sampling new data point ------\n",
      "Params: {'kernel': None, 'optimizer': 'adam', 'alpha': 0.3374027864556643, 'n_jobs': -1}\n",
      "Score: 0.5842464408362563\n",
      "------ Sampling new data point ------\n",
      "Params: {'kernel': None, 'optimizer': 'fmin_l_bfgs_b', 'alpha': 0.957155587401457, 'n_jobs': -1}\n",
      "Score: 0.5834220350298289\n",
      "------ Sampling new data point ------\n",
      "Params: {'kernel': None, 'optimizer': 'adam', 'alpha': 0.4736133091932579, 'n_jobs': -1}\n",
      "Score: 0.593508324305056\n",
      "------ Sampling new data point ------\n",
      "Params: {'kernel': None, 'optimizer': 'adam', 'alpha': 0.6788827413236592, 'n_jobs': -1}\n",
      "Score: 0.5863992418749775\n",
      "------ Sampling new data point ------\n",
      "Params: {'kernel': None, 'optimizer': 'adam', 'alpha': 0.5373778557167163, 'n_jobs': -1}\n",
      "Score: 0.5937649585869035\n",
      "------ Sampling new data point ------\n",
      "Params: {'kernel': None, 'optimizer': 'fmin_l_bfgs_b', 'alpha': 0.4736056833424641, 'n_jobs': -1}\n",
      "Score: 0.5861925548307663\n",
      "------ Sampling new data point ------\n",
      "Params: {'kernel': None, 'optimizer': 'fmin_l_bfgs_b', 'alpha': 1e-05, 'n_jobs': -1}\n",
      "Score: 0.7724387558906529\n",
      "------ Sampling new data point ------\n",
      "Params: {'kernel': None, 'optimizer': 'fmin_l_bfgs_b', 'alpha': 1.0, 'n_jobs': -1}\n",
      "Score: 0.5924178157003557\n",
      "------ Sampling new data point ------\n",
      "Params: {'kernel': None, 'optimizer': 'fmin_l_bfgs_b', 'alpha': 0.7413273706816332, 'n_jobs': -1}\n",
      "Score: 0.6033232783550696\n",
      "------ Sampling new data point ------\n",
      "Params: {'kernel': None, 'optimizer': 'fmin_l_bfgs_b', 'alpha': 0.6266233365684005, 'n_jobs': -1}\n",
      "Score: 0.591216812091917\n",
      "------ Sampling new data point ------\n",
      "Params: {'kernel': None, 'optimizer': 'adam', 'alpha': 0.21983852416269697, 'n_jobs': -1}\n",
      "Score: 0.5940180210930978\n",
      "------ Sampling new data point ------\n",
      "Params: {'kernel': None, 'optimizer': 'adam', 'alpha': 0.28724237155900956, 'n_jobs': -1}\n",
      "Score: 0.6132996683047286\n",
      "------ Sampling new data point ------\n",
      "Params: {'kernel': None, 'optimizer': 'adam', 'alpha': 1.0, 'n_jobs': -1}\n",
      "Score: 0.5860840379702447\n"
     ]
    },
    {
     "name": "stderr",
     "output_type": "stream",
     "text": [
      "/Users/pluto/anaconda3/lib/python3.7/site-packages/skopt/optimizer/optimizer.py:409: UserWarning: The objective has been evaluated at this point before.\n",
      "  warnings.warn(\"The objective has been evaluated \"\n"
     ]
    },
    {
     "name": "stdout",
     "output_type": "stream",
     "text": [
      "------ Sampling new data point ------\n",
      "Params: {'kernel': None, 'optimizer': 'adam', 'alpha': 1.0, 'n_jobs': -1}\n",
      "Score: 0.6026802659173476\n",
      "------ Sampling new data point ------\n",
      "Params: {'kernel': None, 'optimizer': 'fmin_l_bfgs_b', 'alpha': 0.5909570539697264, 'n_jobs': -1}\n",
      "Score: 0.5621976130304439\n",
      "------ Sampling new data point ------\n",
      "Params: {'kernel': None, 'optimizer': 'fmin_l_bfgs_b', 'alpha': 0.591013451918379, 'n_jobs': -1}\n",
      "Score: 0.5893260427908604\n",
      "------ Sampling new data point ------\n",
      "Params: {'kernel': None, 'optimizer': 'fmin_l_bfgs_b', 'alpha': 0.5915014370073172, 'n_jobs': -1}\n",
      "Score: 0.5836844777602299\n",
      "------ Sampling new data point ------\n",
      "Params: {'kernel': None, 'optimizer': 'fmin_l_bfgs_b', 'alpha': 0.5908930062230393, 'n_jobs': -1}\n",
      "Score: 0.588186388366562\n",
      "------ Sampling new data point ------\n",
      "Params: {'kernel': None, 'optimizer': 'fmin_l_bfgs_b', 'alpha': 0.9029051261912061, 'n_jobs': -1}\n",
      "Score: 0.5779013473154508\n",
      "------ Sampling new data point ------\n",
      "Params: {'kernel': None, 'optimizer': 'fmin_l_bfgs_b', 'alpha': 0.9226750481350133, 'n_jobs': -1}\n",
      "Score: 0.5767184167692102\n",
      "------ Sampling new data point ------\n",
      "Params: {'kernel': None, 'optimizer': 'fmin_l_bfgs_b', 'alpha': 0.816375096876328, 'n_jobs': -1}\n",
      "Score: 0.601062901915414\n",
      "------ Sampling new data point ------\n",
      "Params: {'kernel': None, 'optimizer': 'fmin_l_bfgs_b', 'alpha': 0.1763064671297403, 'n_jobs': -1}\n",
      "Score: 0.6256538376703574\n",
      "------ Sampling new data point ------\n",
      "Params: {'kernel': None, 'optimizer': 'adam', 'alpha': 0.922799741965407, 'n_jobs': -1}\n",
      "Score: 0.5932614462069342\n",
      "------ Sampling new data point ------\n",
      "Params: {'kernel': None, 'optimizer': 'fmin_l_bfgs_b', 'alpha': 0.5666031341250837, 'n_jobs': -1}\n",
      "Score: 0.6018053161092883\n",
      "------ Sampling new data point ------\n",
      "Params: {'kernel': None, 'optimizer': 'adam', 'alpha': 0.6796991865936172, 'n_jobs': -1}\n",
      "Score: 0.5787568078261528\n",
      "------ Sampling new data point ------\n",
      "Params: {'kernel': None, 'optimizer': 'adam', 'alpha': 0.6401928405756585, 'n_jobs': -1}\n",
      "Score: 0.5938477093218749\n",
      "------ Sampling new data point ------\n",
      "Params: {'kernel': None, 'optimizer': 'fmin_l_bfgs_b', 'alpha': 0.9315357037811887, 'n_jobs': -1}\n",
      "Score: 0.5920624638458496\n",
      "------ Sampling new data point ------\n",
      "Params: {'kernel': None, 'optimizer': 'fmin_l_bfgs_b', 'alpha': 0.6347943695925478, 'n_jobs': -1}\n",
      "Score: 0.582111371415342\n",
      "------ Sampling new data point ------\n",
      "Params: {'kernel': None, 'optimizer': 'fmin_l_bfgs_b', 'alpha': 0.3784678033004412, 'n_jobs': -1}\n",
      "Score: 0.583332615807164\n",
      "------ Sampling new data point ------\n",
      "Params: {'kernel': None, 'optimizer': 'fmin_l_bfgs_b', 'alpha': 0.32812769337800934, 'n_jobs': -1}\n",
      "Score: 0.5914647837235357\n",
      "------ Sampling new data point ------\n",
      "Params: {'kernel': None, 'optimizer': 'fmin_l_bfgs_b', 'alpha': 0.7517032156778387, 'n_jobs': -1}\n",
      "Score: 0.5642452139900946\n",
      "------ Sampling new data point ------\n",
      "Params: {'kernel': None, 'optimizer': 'fmin_l_bfgs_b', 'alpha': 0.999925158934016, 'n_jobs': -1}\n",
      "Score: 0.5696335078043583\n",
      "------ Sampling new data point ------\n",
      "Params: {'kernel': None, 'optimizer': 'fmin_l_bfgs_b', 'alpha': 0.9999493602673503, 'n_jobs': -1}\n",
      "Score: 0.5710625536437287\n",
      "------ Sampling new data point ------\n",
      "Params: {'kernel': None, 'optimizer': 'fmin_l_bfgs_b', 'alpha': 0.9999801379416557, 'n_jobs': -1}\n",
      "Score: 0.5972105569490725\n",
      "------ Sampling new data point ------\n",
      "Params: {'kernel': None, 'optimizer': 'fmin_l_bfgs_b', 'alpha': 0.7556030146131667, 'n_jobs': -1}\n",
      "Score: 0.5886308373375518\n",
      "------ Sampling new data point ------\n",
      "Params: {'kernel': None, 'optimizer': 'fmin_l_bfgs_b', 'alpha': 0.40283097810595075, 'n_jobs': -1}\n",
      "Score: 0.6037550918274027\n",
      "------ Sampling new data point ------\n",
      "Params: {'kernel': None, 'optimizer': 'fmin_l_bfgs_b', 'alpha': 0.683742165785545, 'n_jobs': -1}\n",
      "Score: 0.5816758763896018\n",
      "------ Sampling new data point ------\n",
      "Params: {'kernel': None, 'optimizer': 'adam', 'alpha': 0.7995483842710085, 'n_jobs': -1}\n",
      "Score: 0.5708078704969629\n",
      "------ Sampling new data point ------\n",
      "Params: {'kernel': None, 'optimizer': 'fmin_l_bfgs_b', 'alpha': 0.8281583052528586, 'n_jobs': -1}\n",
      "Score: 0.6060423793106374\n",
      "------ Sampling new data point ------\n",
      "Params: {'kernel': None, 'optimizer': 'adam', 'alpha': 0.9999229154095051, 'n_jobs': -1}\n",
      "Score: 0.5780033102710019\n",
      "------ Sampling new data point ------\n",
      "Params: {'kernel': None, 'optimizer': 'fmin_l_bfgs_b', 'alpha': 0.690431077848866, 'n_jobs': -1}\n",
      "Score: 0.5800727999297459\n",
      "------ Sampling new data point ------\n",
      "Params: {'kernel': None, 'optimizer': 'adam', 'alpha': 0.72535324884015, 'n_jobs': -1}\n",
      "Score: 0.6011799465389661\n",
      "------ Sampling new data point ------\n",
      "Params: {'kernel': None, 'optimizer': 'fmin_l_bfgs_b', 'alpha': 0.9996113009932868, 'n_jobs': -1}\n",
      "Score: 0.5929256823971695\n",
      "------ Sampling new data point ------\n",
      "Params: {'kernel': None, 'optimizer': 'fmin_l_bfgs_b', 'alpha': 0.293079293665934, 'n_jobs': -1}\n",
      "Score: 0.6046715063342327\n",
      "------ Sampling new data point ------\n",
      "Params: {'kernel': None, 'optimizer': 'adam', 'alpha': 0.8990264039006418, 'n_jobs': -1}\n",
      "Score: 0.6004509286240104\n",
      "------ Sampling new data point ------\n",
      "Params: {'kernel': None, 'optimizer': 'fmin_l_bfgs_b', 'alpha': 0.4873453440224931, 'n_jobs': -1}\n",
      "Score: 0.5962551943476949\n",
      "------ Sampling new data point ------\n",
      "Params: {'kernel': None, 'optimizer': 'adam', 'alpha': 0.9998786075140869, 'n_jobs': -1}\n",
      "Score: 0.5836656212333319\n"
     ]
    },
    {
     "data": {
      "text/plain": [
       "'Best score=0.5622'"
      ]
     },
     "execution_count": 246,
     "metadata": {},
     "output_type": "execute_result"
    }
   ],
   "source": [
    "res_gp = gp_minimize(gp_objective, params_space, n_calls=N_CALLS, random_state=0)\n",
    "\n",
    "\"Best score=%.4f\" % res_gp.fun"
   ]
  },
  {
   "cell_type": "code",
   "execution_count": 247,
   "metadata": {},
   "outputs": [
    {
     "name": "stdout",
     "output_type": "stream",
     "text": [
      "Optimal parameters\n",
      "Param: kernel, value: None\n",
      "Param: optimizer, value: fmin_l_bfgs_b\n",
      "Param: alpha, value: 0.5909570539697264\n"
     ]
    },
    {
     "data": {
      "text/plain": [
       "GaussianProcessRegressor(alpha=0.5909570539697264, copy_X_train=True,\n",
       "                         kernel=None, n_restarts_optimizer=0, normalize_y=False,\n",
       "                         optimizer='fmin_l_bfgs_b', random_state=None)"
      ]
     },
     "execution_count": 247,
     "metadata": {},
     "output_type": "execute_result"
    }
   ],
   "source": [
    "print(\"Optimal parameters\")\n",
    "params_gp = {}\n",
    "for param, value in zip(params_space, res_gp.x):\n",
    "    print(f\"Param: {param.name}, value: {value}\")\n",
    "    \n",
    "    params_gp[param.name] = value\n",
    "    \n",
    "model_gp = GaussianProcessRegressor(**params_gp)\n",
    "model_gp.fit(X_train5_layer1.values, y_train5_layer1.values)\n"
   ]
  },
  {
   "cell_type": "code",
   "execution_count": 248,
   "metadata": {},
   "outputs": [
    {
     "data": {
      "image/png": "[encoded data removed]",
      "text/plain": [
       "<Figure size 432x288 with 1 Axes>"
      ]
     },
     "metadata": {
      "needs_background": "light"
     },
     "output_type": "display_data"
    }
   ],
   "source": [
    "plt.figure()\n",
    "plot_convergence(res_gp)\n",
    "plt.show()"
   ]
  },
  {
   "cell_type": "markdown",
   "metadata": {},
   "source": [
    "##### 6. Deep Learning"
   ]
  },
  {
   "cell_type": "markdown",
   "metadata": {},
   "source": [
    "##### 6b. Neural Network"
   ]
  },
  {
   "cell_type": "code",
   "execution_count": 249,
   "metadata": {
    "scrolled": true
   },
   "outputs": [
    {
     "name": "stdout",
     "output_type": "stream",
     "text": [
      "------ Sampling new data point ------\n",
      "Params: {'hidden_layer_sizes': 32, 'activation': 'logistic', 'solver': 'lbfgs', 'alpha': 0.8472670136102473, 'learning_rate_init': 0.06273280598181127, 'learning_rate': 'constant', 'n_jobs': -1}\n",
      "Score: 0.7049759228444312\n",
      "------ Sampling new data point ------\n",
      "Params: {'hidden_layer_sizes': 18, 'activation': 'relu', 'solver': 'adam', 'alpha': 0.47771735080961786, 'learning_rate_init': 0.08140470414877385, 'learning_rate': 'constant', 'n_jobs': -1}\n",
      "Score: 0.7490959123791107\n",
      "------ Sampling new data point ------\n"
     ]
    },
    {
     "name": "stderr",
     "output_type": "stream",
     "text": [
      "/Users/pluto/anaconda3/lib/python3.7/site-packages/sklearn/neural_network/multilayer_perceptron.py:566: ConvergenceWarning: Stochastic Optimizer: Maximum iterations (200) reached and the optimization hasn't converged yet.\n",
      "  % self.max_iter, ConvergenceWarning)\n",
      "/Users/pluto/anaconda3/lib/python3.7/site-packages/sklearn/neural_network/multilayer_perceptron.py:566: ConvergenceWarning: Stochastic Optimizer: Maximum iterations (200) reached and the optimization hasn't converged yet.\n",
      "  % self.max_iter, ConvergenceWarning)\n",
      "/Users/pluto/anaconda3/lib/python3.7/site-packages/sklearn/neural_network/multilayer_perceptron.py:566: ConvergenceWarning: Stochastic Optimizer: Maximum iterations (200) reached and the optimization hasn't converged yet.\n",
      "  % self.max_iter, ConvergenceWarning)\n"
     ]
    },
    {
     "name": "stdout",
     "output_type": "stream",
     "text": [
      "Params: {'hidden_layer_sizes': 23, 'activation': 'logistic', 'solver': 'sgd', 'alpha': 0.6482070548639922, 'learning_rate_init': 0.03745591244421426, 'learning_rate': 'adaptive', 'n_jobs': -1}\n",
      "Score: 0.7390246677594293\n",
      "------ Sampling new data point ------\n"
     ]
    },
    {
     "name": "stderr",
     "output_type": "stream",
     "text": [
      "/Users/pluto/anaconda3/lib/python3.7/site-packages/sklearn/neural_network/multilayer_perceptron.py:566: ConvergenceWarning: Stochastic Optimizer: Maximum iterations (200) reached and the optimization hasn't converged yet.\n",
      "  % self.max_iter, ConvergenceWarning)\n"
     ]
    },
    {
     "name": "stdout",
     "output_type": "stream",
     "text": [
      "Params: {'hidden_layer_sizes': 11, 'activation': 'logistic', 'solver': 'sgd', 'alpha': 0.8009306609044465, 'learning_rate_init': 0.05252727047556929, 'learning_rate': 'adaptive', 'n_jobs': -1}\n",
      "Score: 0.7373300011971624\n",
      "------ Sampling new data point ------\n"
     ]
    },
    {
     "name": "stderr",
     "output_type": "stream",
     "text": [
      "/Users/pluto/anaconda3/lib/python3.7/site-packages/sklearn/neural_network/multilayer_perceptron.py:566: ConvergenceWarning: Stochastic Optimizer: Maximum iterations (200) reached and the optimization hasn't converged yet.\n",
      "  % self.max_iter, ConvergenceWarning)\n",
      "/Users/pluto/anaconda3/lib/python3.7/site-packages/sklearn/neural_network/multilayer_perceptron.py:566: ConvergenceWarning: Stochastic Optimizer: Maximum iterations (200) reached and the optimization hasn't converged yet.\n",
      "  % self.max_iter, ConvergenceWarning)\n",
      "/Users/pluto/anaconda3/lib/python3.7/site-packages/sklearn/neural_network/multilayer_perceptron.py:566: ConvergenceWarning: Stochastic Optimizer: Maximum iterations (200) reached and the optimization hasn't converged yet.\n",
      "  % self.max_iter, ConvergenceWarning)\n"
     ]
    },
    {
     "name": "stdout",
     "output_type": "stream",
     "text": [
      "Params: {'hidden_layer_sizes': 37, 'activation': 'logistic', 'solver': 'sgd', 'alpha': 0.7586397627599252, 'learning_rate_init': 0.011484853111591423, 'learning_rate': 'constant', 'n_jobs': -1}\n",
      "Score: 0.7789446573996855\n",
      "------ Sampling new data point ------\n",
      "Params: {'hidden_layer_sizes': 13, 'activation': 'logistic', 'solver': 'adam', 'alpha': 0.13530465158811153, 'learning_rate_init': 0.033089959771528205, 'learning_rate': 'constant', 'n_jobs': -1}\n",
      "Score: 0.7177439502140605\n",
      "------ Sampling new data point ------\n",
      "Params: {'hidden_layer_sizes': 15, 'activation': 'relu', 'solver': 'lbfgs', 'alpha': 0.45000499491223656, 'learning_rate_init': 0.06169328233052913, 'learning_rate': 'adaptive', 'n_jobs': -1}\n",
      "Score: 0.74813788711757\n",
      "------ Sampling new data point ------\n"
     ]
    },
    {
     "name": "stderr",
     "output_type": "stream",
     "text": [
      "/Users/pluto/anaconda3/lib/python3.7/site-packages/sklearn/neural_network/multilayer_perceptron.py:566: ConvergenceWarning: Stochastic Optimizer: Maximum iterations (200) reached and the optimization hasn't converged yet.\n",
      "  % self.max_iter, ConvergenceWarning)\n",
      "/Users/pluto/anaconda3/lib/python3.7/site-packages/sklearn/neural_network/multilayer_perceptron.py:566: ConvergenceWarning: Stochastic Optimizer: Maximum iterations (200) reached and the optimization hasn't converged yet.\n",
      "  % self.max_iter, ConvergenceWarning)\n",
      "/Users/pluto/anaconda3/lib/python3.7/site-packages/sklearn/neural_network/multilayer_perceptron.py:566: ConvergenceWarning: Stochastic Optimizer: Maximum iterations (200) reached and the optimization hasn't converged yet.\n",
      "  % self.max_iter, ConvergenceWarning)\n"
     ]
    },
    {
     "name": "stdout",
     "output_type": "stream",
     "text": [
      "Params: {'hidden_layer_sizes': 9, 'activation': 'logistic', 'solver': 'sgd', 'alpha': 0.17099249417753157, 'learning_rate_init': 0.036457064529982985, 'learning_rate': 'adaptive', 'n_jobs': -1}\n",
      "Score: 0.716873277118783\n",
      "------ Sampling new data point ------\n",
      "Params: {'hidden_layer_sizes': 32, 'activation': 'relu', 'solver': 'adam', 'alpha': 0.6343106305515395, 'learning_rate_init': 0.09593597759382755, 'learning_rate': 'adaptive', 'n_jobs': -1}\n",
      "Score: 0.7504506944457893\n",
      "------ Sampling new data point ------\n"
     ]
    },
    {
     "name": "stderr",
     "output_type": "stream",
     "text": [
      "/Users/pluto/anaconda3/lib/python3.7/site-packages/sklearn/neural_network/multilayer_perceptron.py:566: ConvergenceWarning: Stochastic Optimizer: Maximum iterations (200) reached and the optimization hasn't converged yet.\n",
      "  % self.max_iter, ConvergenceWarning)\n",
      "/Users/pluto/anaconda3/lib/python3.7/site-packages/sklearn/neural_network/multilayer_perceptron.py:566: ConvergenceWarning: Stochastic Optimizer: Maximum iterations (200) reached and the optimization hasn't converged yet.\n",
      "  % self.max_iter, ConvergenceWarning)\n",
      "/Users/pluto/anaconda3/lib/python3.7/site-packages/sklearn/neural_network/multilayer_perceptron.py:566: ConvergenceWarning: Stochastic Optimizer: Maximum iterations (200) reached and the optimization hasn't converged yet.\n",
      "  % self.max_iter, ConvergenceWarning)\n"
     ]
    },
    {
     "name": "stdout",
     "output_type": "stream",
     "text": [
      "Params: {'hidden_layer_sizes': 34, 'activation': 'logistic', 'solver': 'sgd', 'alpha': 0.41442715136754626, 'learning_rate_init': 0.04799505272655289, 'learning_rate': 'adaptive', 'n_jobs': -1}\n",
      "Score: 0.7178950436367367\n",
      "------ Sampling new data point ------\n",
      "Params: {'hidden_layer_sizes': 5, 'activation': 'logistic', 'solver': 'adam', 'alpha': 0.0001, 'learning_rate_init': 0.1, 'learning_rate': 'constant', 'n_jobs': -1}\n",
      "Score: 0.7826586180158284\n",
      "------ Sampling new data point ------\n",
      "Params: {'hidden_layer_sizes': 50, 'activation': 'logistic', 'solver': 'adam', 'alpha': 1.0, 'learning_rate_init': 0.020499166471829828, 'learning_rate': 'constant', 'n_jobs': -1}\n",
      "Score: 0.8322907337873485\n",
      "------ Sampling new data point ------\n",
      "Params: {'hidden_layer_sizes': 45, 'activation': 'logistic', 'solver': 'lbfgs', 'alpha': 1.0, 'learning_rate_init': 0.0635513582437201, 'learning_rate': 'constant', 'n_jobs': -1}\n",
      "Score: 0.6832896995689769\n",
      "------ Sampling new data point ------\n",
      "Params: {'hidden_layer_sizes': 50, 'activation': 'relu', 'solver': 'lbfgs', 'alpha': 1.0, 'learning_rate_init': 0.001, 'learning_rate': 'constant', 'n_jobs': -1}\n",
      "Score: 0.7528853124426825\n",
      "------ Sampling new data point ------\n",
      "Params: {'hidden_layer_sizes': 50, 'activation': 'relu', 'solver': 'lbfgs', 'alpha': 1.0, 'learning_rate_init': 0.1, 'learning_rate': 'adaptive', 'n_jobs': -1}\n",
      "Score: 0.7609112705007695\n",
      "------ Sampling new data point ------\n",
      "Params: {'hidden_layer_sizes': 42, 'activation': 'relu', 'solver': 'lbfgs', 'alpha': 1.0, 'learning_rate_init': 0.04433895423663738, 'learning_rate': 'adaptive', 'n_jobs': -1}\n",
      "Score: 0.7306216265028395\n",
      "------ Sampling new data point ------\n",
      "Params: {'hidden_layer_sizes': 5, 'activation': 'logistic', 'solver': 'lbfgs', 'alpha': 1.0, 'learning_rate_init': 0.039453899453179925, 'learning_rate': 'adaptive', 'n_jobs': -1}\n",
      "Score: 0.7253718698941457\n",
      "------ Sampling new data point ------\n"
     ]
    },
    {
     "name": "stderr",
     "output_type": "stream",
     "text": [
      "/Users/pluto/anaconda3/lib/python3.7/site-packages/sklearn/neural_network/multilayer_perceptron.py:566: ConvergenceWarning: Stochastic Optimizer: Maximum iterations (200) reached and the optimization hasn't converged yet.\n",
      "  % self.max_iter, ConvergenceWarning)\n",
      "/Users/pluto/anaconda3/lib/python3.7/site-packages/sklearn/neural_network/multilayer_perceptron.py:566: ConvergenceWarning: Stochastic Optimizer: Maximum iterations (200) reached and the optimization hasn't converged yet.\n",
      "  % self.max_iter, ConvergenceWarning)\n",
      "/Users/pluto/anaconda3/lib/python3.7/site-packages/sklearn/neural_network/multilayer_perceptron.py:566: ConvergenceWarning: Stochastic Optimizer: Maximum iterations (200) reached and the optimization hasn't converged yet.\n",
      "  % self.max_iter, ConvergenceWarning)\n"
     ]
    },
    {
     "name": "stdout",
     "output_type": "stream",
     "text": [
      "Params: {'hidden_layer_sizes': 42, 'activation': 'logistic', 'solver': 'sgd', 'alpha': 0.0001, 'learning_rate_init': 0.001, 'learning_rate': 'adaptive', 'n_jobs': -1}\n",
      "Score: 0.8508967071219429\n",
      "------ Sampling new data point ------\n",
      "Params: {'hidden_layer_sizes': 34, 'activation': 'logistic', 'solver': 'adam', 'alpha': 1.0, 'learning_rate_init': 0.07288230589175931, 'learning_rate': 'adaptive', 'n_jobs': -1}\n",
      "Score: 0.8040687690900947\n",
      "------ Sampling new data point ------\n"
     ]
    },
    {
     "name": "stderr",
     "output_type": "stream",
     "text": [
      "/Users/pluto/anaconda3/lib/python3.7/site-packages/sklearn/neural_network/multilayer_perceptron.py:566: ConvergenceWarning: Stochastic Optimizer: Maximum iterations (200) reached and the optimization hasn't converged yet.\n",
      "  % self.max_iter, ConvergenceWarning)\n",
      "/Users/pluto/anaconda3/lib/python3.7/site-packages/sklearn/neural_network/multilayer_perceptron.py:566: ConvergenceWarning: Stochastic Optimizer: Maximum iterations (200) reached and the optimization hasn't converged yet.\n",
      "  % self.max_iter, ConvergenceWarning)\n",
      "/Users/pluto/anaconda3/lib/python3.7/site-packages/sklearn/neural_network/multilayer_perceptron.py:566: ConvergenceWarning: Stochastic Optimizer: Maximum iterations (200) reached and the optimization hasn't converged yet.\n",
      "  % self.max_iter, ConvergenceWarning)\n"
     ]
    },
    {
     "name": "stdout",
     "output_type": "stream",
     "text": [
      "Params: {'hidden_layer_sizes': 9, 'activation': 'relu', 'solver': 'adam', 'alpha': 0.0001, 'learning_rate_init': 0.001, 'learning_rate': 'adaptive', 'n_jobs': -1}\n",
      "Score: 0.7661458464755654\n",
      "------ Sampling new data point ------\n"
     ]
    },
    {
     "name": "stderr",
     "output_type": "stream",
     "text": [
      "/Users/pluto/anaconda3/lib/python3.7/site-packages/sklearn/neural_network/multilayer_perceptron.py:566: ConvergenceWarning: Stochastic Optimizer: Maximum iterations (200) reached and the optimization hasn't converged yet.\n",
      "  % self.max_iter, ConvergenceWarning)\n"
     ]
    },
    {
     "name": "stdout",
     "output_type": "stream",
     "text": [
      "Params: {'hidden_layer_sizes': 50, 'activation': 'logistic', 'solver': 'sgd', 'alpha': 0.0001, 'learning_rate_init': 0.1, 'learning_rate': 'constant', 'n_jobs': -1}\n",
      "Score: 0.7393493325526522\n",
      "------ Sampling new data point ------\n",
      "Params: {'hidden_layer_sizes': 50, 'activation': 'logistic', 'solver': 'lbfgs', 'alpha': 0.0001, 'learning_rate_init': 0.0647514936692031, 'learning_rate': 'constant', 'n_jobs': -1}\n",
      "Score: 0.8220461734755306\n",
      "------ Sampling new data point ------\n",
      "Params: {'hidden_layer_sizes': 5, 'activation': 'relu', 'solver': 'sgd', 'alpha': 0.0001, 'learning_rate_init': 0.06030719626530069, 'learning_rate': 'constant', 'n_jobs': -1}\n",
      "Score: 0.7185282811444168\n",
      "------ Sampling new data point ------\n",
      "Params: {'hidden_layer_sizes': 12, 'activation': 'relu', 'solver': 'sgd', 'alpha': 1.0, 'learning_rate_init': 0.1, 'learning_rate': 'constant', 'n_jobs': -1}\n",
      "Score: 0.7297507776591926\n",
      "------ Sampling new data point ------\n"
     ]
    },
    {
     "name": "stderr",
     "output_type": "stream",
     "text": [
      "/Users/pluto/anaconda3/lib/python3.7/site-packages/sklearn/neural_network/multilayer_perceptron.py:566: ConvergenceWarning: Stochastic Optimizer: Maximum iterations (200) reached and the optimization hasn't converged yet.\n",
      "  % self.max_iter, ConvergenceWarning)\n",
      "/Users/pluto/anaconda3/lib/python3.7/site-packages/sklearn/neural_network/multilayer_perceptron.py:566: ConvergenceWarning: Stochastic Optimizer: Maximum iterations (200) reached and the optimization hasn't converged yet.\n",
      "  % self.max_iter, ConvergenceWarning)\n",
      "/Users/pluto/anaconda3/lib/python3.7/site-packages/sklearn/neural_network/multilayer_perceptron.py:566: ConvergenceWarning: Stochastic Optimizer: Maximum iterations (200) reached and the optimization hasn't converged yet.\n",
      "  % self.max_iter, ConvergenceWarning)\n"
     ]
    },
    {
     "name": "stdout",
     "output_type": "stream",
     "text": [
      "Params: {'hidden_layer_sizes': 5, 'activation': 'logistic', 'solver': 'adam', 'alpha': 0.0001, 'learning_rate_init': 0.001, 'learning_rate': 'constant', 'n_jobs': -1}\n",
      "Score: 0.8364452144765756\n",
      "------ Sampling new data point ------\n",
      "Params: {'hidden_layer_sizes': 5, 'activation': 'logistic', 'solver': 'lbfgs', 'alpha': 1.0, 'learning_rate_init': 0.07614966522089012, 'learning_rate': 'constant', 'n_jobs': -1}\n",
      "Score: 0.7130223894738604\n",
      "------ Sampling new data point ------\n",
      "Params: {'hidden_layer_sizes': 50, 'activation': 'relu', 'solver': 'lbfgs', 'alpha': 0.0001, 'learning_rate_init': 0.001, 'learning_rate': 'constant', 'n_jobs': -1}\n",
      "Score: 0.9683017001014415\n",
      "------ Sampling new data point ------\n",
      "Params: {'hidden_layer_sizes': 5, 'activation': 'relu', 'solver': 'adam', 'alpha': 0.07669249044813713, 'learning_rate_init': 0.04560390396888446, 'learning_rate': 'adaptive', 'n_jobs': -1}\n",
      "Score: 0.716026168660392\n",
      "------ Sampling new data point ------\n",
      "Params: {'hidden_layer_sizes': 5, 'activation': 'relu', 'solver': 'sgd', 'alpha': 0.37692877102882155, 'learning_rate_init': 0.03813459518261225, 'learning_rate': 'constant', 'n_jobs': -1}\n",
      "Score: 0.7627781922495487\n",
      "------ Sampling new data point ------\n"
     ]
    },
    {
     "name": "stderr",
     "output_type": "stream",
     "text": [
      "/Users/pluto/anaconda3/lib/python3.7/site-packages/sklearn/neural_network/multilayer_perceptron.py:566: ConvergenceWarning: Stochastic Optimizer: Maximum iterations (200) reached and the optimization hasn't converged yet.\n",
      "  % self.max_iter, ConvergenceWarning)\n",
      "/Users/pluto/anaconda3/lib/python3.7/site-packages/sklearn/neural_network/multilayer_perceptron.py:566: ConvergenceWarning: Stochastic Optimizer: Maximum iterations (200) reached and the optimization hasn't converged yet.\n",
      "  % self.max_iter, ConvergenceWarning)\n"
     ]
    },
    {
     "name": "stdout",
     "output_type": "stream",
     "text": [
      "Params: {'hidden_layer_sizes': 5, 'activation': 'logistic', 'solver': 'sgd', 'alpha': 0.2656066296215313, 'learning_rate_init': 0.08327058483333004, 'learning_rate': 'adaptive', 'n_jobs': -1}\n",
      "Score: 0.7104984555307166\n",
      "------ Sampling new data point ------\n"
     ]
    },
    {
     "name": "stderr",
     "output_type": "stream",
     "text": [
      "/Users/pluto/anaconda3/lib/python3.7/site-packages/sklearn/neural_network/multilayer_perceptron.py:566: ConvergenceWarning: Stochastic Optimizer: Maximum iterations (200) reached and the optimization hasn't converged yet.\n",
      "  % self.max_iter, ConvergenceWarning)\n",
      "/Users/pluto/anaconda3/lib/python3.7/site-packages/sklearn/neural_network/multilayer_perceptron.py:566: ConvergenceWarning: Stochastic Optimizer: Maximum iterations (200) reached and the optimization hasn't converged yet.\n",
      "  % self.max_iter, ConvergenceWarning)\n",
      "/Users/pluto/anaconda3/lib/python3.7/site-packages/sklearn/neural_network/multilayer_perceptron.py:566: ConvergenceWarning: Stochastic Optimizer: Maximum iterations (200) reached and the optimization hasn't converged yet.\n",
      "  % self.max_iter, ConvergenceWarning)\n"
     ]
    },
    {
     "name": "stdout",
     "output_type": "stream",
     "text": [
      "Params: {'hidden_layer_sizes': 50, 'activation': 'logistic', 'solver': 'sgd', 'alpha': 0.0001, 'learning_rate_init': 0.06646028501573875, 'learning_rate': 'adaptive', 'n_jobs': -1}\n",
      "Score: 0.7275231785324947\n",
      "------ Sampling new data point ------\n",
      "Params: {'hidden_layer_sizes': 50, 'activation': 'logistic', 'solver': 'sgd', 'alpha': 0.5481983049211103, 'learning_rate_init': 0.1, 'learning_rate': 'constant', 'n_jobs': -1}\n",
      "Score: 0.7682206922120708\n",
      "------ Sampling new data point ------\n",
      "Params: {'hidden_layer_sizes': 5, 'activation': 'logistic', 'solver': 'adam', 'alpha': 0.31188845271722593, 'learning_rate_init': 0.04288348247074048, 'learning_rate': 'adaptive', 'n_jobs': -1}\n",
      "Score: 0.7189814932981456\n",
      "------ Sampling new data point ------\n",
      "Params: {'hidden_layer_sizes': 5, 'activation': 'relu', 'solver': 'sgd', 'alpha': 1.0, 'learning_rate_init': 0.04749559264275824, 'learning_rate': 'constant', 'n_jobs': -1}\n",
      "Score: 0.726921160213584\n",
      "------ Sampling new data point ------\n",
      "Params: {'hidden_layer_sizes': 5, 'activation': 'relu', 'solver': 'sgd', 'alpha': 1.0, 'learning_rate_init': 0.0473480071136966, 'learning_rate': 'constant', 'n_jobs': -1}\n",
      "Score: 0.7196833675461892\n",
      "------ Sampling new data point ------\n",
      "Params: {'hidden_layer_sizes': 5, 'activation': 'logistic', 'solver': 'lbfgs', 'alpha': 1.0, 'learning_rate_init': 0.048272393895419104, 'learning_rate': 'constant', 'n_jobs': -1}\n",
      "Score: 0.7039488124250215\n",
      "------ Sampling new data point ------\n",
      "Params: {'hidden_layer_sizes': 50, 'activation': 'logistic', 'solver': 'adam', 'alpha': 0.13571320014666827, 'learning_rate_init': 0.058175086727219306, 'learning_rate': 'constant', 'n_jobs': -1}\n",
      "Score: 0.7177648178877823\n",
      "------ Sampling new data point ------\n"
     ]
    },
    {
     "name": "stderr",
     "output_type": "stream",
     "text": [
      "/Users/pluto/anaconda3/lib/python3.7/site-packages/sklearn/neural_network/multilayer_perceptron.py:566: ConvergenceWarning: Stochastic Optimizer: Maximum iterations (200) reached and the optimization hasn't converged yet.\n",
      "  % self.max_iter, ConvergenceWarning)\n",
      "/Users/pluto/anaconda3/lib/python3.7/site-packages/sklearn/neural_network/multilayer_perceptron.py:566: ConvergenceWarning: Stochastic Optimizer: Maximum iterations (200) reached and the optimization hasn't converged yet.\n",
      "  % self.max_iter, ConvergenceWarning)\n",
      "/Users/pluto/anaconda3/lib/python3.7/site-packages/sklearn/neural_network/multilayer_perceptron.py:566: ConvergenceWarning: Stochastic Optimizer: Maximum iterations (200) reached and the optimization hasn't converged yet.\n",
      "  % self.max_iter, ConvergenceWarning)\n"
     ]
    },
    {
     "name": "stdout",
     "output_type": "stream",
     "text": [
      "Params: {'hidden_layer_sizes': 5, 'activation': 'relu', 'solver': 'sgd', 'alpha': 1.0, 'learning_rate_init': 0.001, 'learning_rate': 'adaptive', 'n_jobs': -1}\n",
      "Score: 0.7922238171223244\n",
      "------ Sampling new data point ------\n"
     ]
    },
    {
     "name": "stderr",
     "output_type": "stream",
     "text": [
      "/Users/pluto/anaconda3/lib/python3.7/site-packages/sklearn/neural_network/multilayer_perceptron.py:566: ConvergenceWarning: Stochastic Optimizer: Maximum iterations (200) reached and the optimization hasn't converged yet.\n",
      "  % self.max_iter, ConvergenceWarning)\n"
     ]
    },
    {
     "name": "stdout",
     "output_type": "stream",
     "text": [
      "Params: {'hidden_layer_sizes': 5, 'activation': 'relu', 'solver': 'sgd', 'alpha': 0.2189422833343022, 'learning_rate_init': 0.05831565593122194, 'learning_rate': 'adaptive', 'n_jobs': -1}\n",
      "Score: 0.705702290324842\n",
      "------ Sampling new data point ------\n",
      "Params: {'hidden_layer_sizes': 50, 'activation': 'logistic', 'solver': 'sgd', 'alpha': 1.0, 'learning_rate_init': 0.056189894913330325, 'learning_rate': 'constant', 'n_jobs': -1}\n",
      "Score: 0.7968290710644327\n",
      "------ Sampling new data point ------\n",
      "Params: {'hidden_layer_sizes': 5, 'activation': 'logistic', 'solver': 'sgd', 'alpha': 0.6804702570850729, 'learning_rate_init': 0.1, 'learning_rate': 'constant', 'n_jobs': -1}\n",
      "Score: 0.7247922140750217\n",
      "------ Sampling new data point ------\n",
      "Params: {'hidden_layer_sizes': 5, 'activation': 'logistic', 'solver': 'sgd', 'alpha': 0.6667598547989619, 'learning_rate_init': 0.1, 'learning_rate': 'constant', 'n_jobs': -1}\n",
      "Score: 0.7307171685287712\n",
      "------ Sampling new data point ------\n",
      "Params: {'hidden_layer_sizes': 34, 'activation': 'relu', 'solver': 'sgd', 'alpha': 1.0, 'learning_rate_init': 0.05014253271132575, 'learning_rate': 'constant', 'n_jobs': -1}\n",
      "Score: 0.7240221556637768\n",
      "------ Sampling new data point ------\n",
      "Params: {'hidden_layer_sizes': 5, 'activation': 'relu', 'solver': 'sgd', 'alpha': 0.8058239253111475, 'learning_rate_init': 0.07108235191467605, 'learning_rate': 'constant', 'n_jobs': -1}\n",
      "Score: 0.71077822759198\n",
      "------ Sampling new data point ------\n",
      "Params: {'hidden_layer_sizes': 5, 'activation': 'logistic', 'solver': 'lbfgs', 'alpha': 0.642681235083875, 'learning_rate_init': 0.07410405925156291, 'learning_rate': 'constant', 'n_jobs': -1}\n",
      "Score: 0.7074209629174639\n",
      "------ Sampling new data point ------\n",
      "Params: {'hidden_layer_sizes': 50, 'activation': 'logistic', 'solver': 'sgd', 'alpha': 0.4832769691029619, 'learning_rate_init': 0.1, 'learning_rate': 'constant', 'n_jobs': -1}\n",
      "Score: 0.7578253291932254\n",
      "------ Sampling new data point ------\n",
      "Params: {'hidden_layer_sizes': 5, 'activation': 'logistic', 'solver': 'sgd', 'alpha': 0.46352708454342334, 'learning_rate_init': 0.1, 'learning_rate': 'constant', 'n_jobs': -1}\n",
      "Score: 0.7331714945625113\n",
      "------ Sampling new data point ------\n",
      "Params: {'hidden_layer_sizes': 5, 'activation': 'logistic', 'solver': 'sgd', 'alpha': 0.5309537897405178, 'learning_rate_init': 0.08505726571729792, 'learning_rate': 'constant', 'n_jobs': -1}\n",
      "Score: 0.7250759539067406\n",
      "------ Sampling new data point ------\n",
      "Params: {'hidden_layer_sizes': 5, 'activation': 'logistic', 'solver': 'lbfgs', 'alpha': 0.5304943511489543, 'learning_rate_init': 0.08786786003753876, 'learning_rate': 'constant', 'n_jobs': -1}\n",
      "Score: 0.7198099950829301\n",
      "------ Sampling new data point ------\n"
     ]
    },
    {
     "name": "stderr",
     "output_type": "stream",
     "text": [
      "/Users/pluto/anaconda3/lib/python3.7/site-packages/sklearn/neural_network/multilayer_perceptron.py:566: ConvergenceWarning: Stochastic Optimizer: Maximum iterations (200) reached and the optimization hasn't converged yet.\n",
      "  % self.max_iter, ConvergenceWarning)\n",
      "/Users/pluto/anaconda3/lib/python3.7/site-packages/sklearn/neural_network/multilayer_perceptron.py:566: ConvergenceWarning: Stochastic Optimizer: Maximum iterations (200) reached and the optimization hasn't converged yet.\n",
      "  % self.max_iter, ConvergenceWarning)\n",
      "/Users/pluto/anaconda3/lib/python3.7/site-packages/sklearn/neural_network/multilayer_perceptron.py:566: ConvergenceWarning: Stochastic Optimizer: Maximum iterations (200) reached and the optimization hasn't converged yet.\n",
      "  % self.max_iter, ConvergenceWarning)\n"
     ]
    },
    {
     "name": "stdout",
     "output_type": "stream",
     "text": [
      "Params: {'hidden_layer_sizes': 50, 'activation': 'relu', 'solver': 'sgd', 'alpha': 0.11993891992561025, 'learning_rate_init': 0.1, 'learning_rate': 'adaptive', 'n_jobs': -1}\n",
      "Score: 0.7135121411832683\n",
      "------ Sampling new data point ------\n",
      "Params: {'hidden_layer_sizes': 5, 'activation': 'logistic', 'solver': 'sgd', 'alpha': 0.6123397242238722, 'learning_rate_init': 0.0715072999283983, 'learning_rate': 'constant', 'n_jobs': -1}\n",
      "Score: 0.7446945442642252\n"
     ]
    },
    {
     "data": {
      "text/plain": [
       "'Best score=0.6833'"
      ]
     },
     "execution_count": 249,
     "metadata": {},
     "output_type": "execute_result"
    }
   ],
   "source": [
    "params_space  = [Integer(5, 50, name='hidden_layer_sizes'),\n",
    "                 Categorical(['relu', 'logistic'], name='activation'),\n",
    "                 Categorical(['adam', 'sgd', 'lbfgs'], name='solver'),\n",
    "                 Real(1e-4, 1, \"uniform\", name='alpha'),\n",
    "                 Real(1e-3, 0.1, \"uniform\", name='learning_rate_init'),\n",
    "                 Categorical(['constant', 'adaptive'], name='learning_rate')]\n",
    "\n",
    "@use_named_args(params_space)\n",
    "def mlp_objective(**params):\n",
    "    cls = MLPRegressor(**params)\n",
    "    return objective_core(cls, X_train6_layer1, y_train6_layer1, **params)\n",
    "\n",
    "\n",
    "res_mlp = gp_minimize(mlp_objective, params_space, n_calls=N_CALLS, random_state=0)\n",
    "\n",
    "\"Best score=%.4f\" % res_mlp.fun"
   ]
  },
  {
   "cell_type": "code",
   "execution_count": 250,
   "metadata": {},
   "outputs": [
    {
     "name": "stdout",
     "output_type": "stream",
     "text": [
      "Optimal parameters\n",
      "Param: hidden_layer_sizes, value: 45\n",
      "Param: activation, value: logistic\n",
      "Param: solver, value: lbfgs\n",
      "Param: alpha, value: 1.0\n",
      "Param: learning_rate_init, value: 0.0635513582437201\n",
      "Param: learning_rate, value: constant\n"
     ]
    },
    {
     "data": {
      "text/plain": [
       "MLPRegressor(activation='logistic', alpha=1.0, batch_size='auto', beta_1=0.9,\n",
       "             beta_2=0.999, early_stopping=False, epsilon=1e-08,\n",
       "             hidden_layer_sizes=45, learning_rate='constant',\n",
       "             learning_rate_init=0.0635513582437201, max_iter=200, momentum=0.9,\n",
       "             n_iter_no_change=10, nesterovs_momentum=True, power_t=0.5,\n",
       "             random_state=None, shuffle=True, solver='lbfgs', tol=0.0001,\n",
       "             validation_fraction=0.1, verbose=False, warm_start=False)"
      ]
     },
     "execution_count": 250,
     "metadata": {},
     "output_type": "execute_result"
    }
   ],
   "source": [
    "print(\"Optimal parameters\")\n",
    "params_mlp = {}\n",
    "for param, value in zip(params_space, res_mlp.x):\n",
    "    print(f\"Param: {param.name}, value: {value}\")\n",
    "    \n",
    "    params_mlp[param.name] = value\n",
    "    \n",
    "model_mlp = MLPRegressor(**params_mlp)\n",
    "model_mlp.fit(X_train6_layer1.values, y_train6_layer1.values)\n"
   ]
  },
  {
   "cell_type": "code",
   "execution_count": 251,
   "metadata": {},
   "outputs": [
    {
     "data": {
      "image/png": "[encoded data removed]",
      "text/plain": [
       "<Figure size 432x288 with 1 Axes>"
      ]
     },
     "metadata": {
      "needs_background": "light"
     },
     "output_type": "display_data"
    }
   ],
   "source": [
    "plt.figure()\n",
    "plot_convergence(res_mlp)\n",
    "plt.show()"
   ]
  },
  {
   "cell_type": "markdown",
   "metadata": {},
   "source": [
    "#### Comparing metrics for all single cases on train layer 1 data"
   ]
  },
  {
   "cell_type": "code",
   "execution_count": 252,
   "metadata": {},
   "outputs": [],
   "source": [
    "models = dict(LGBM=[model_lgb, X_train1_layer1, y_train1_layer1, 'LGBM'], \n",
    "              LASSO=[model_lasso, X_train2_layer1, y_train2_layer1, 'LASSO'], \n",
    "              RFE=[model_rfe, X_train3_layer1, y_train3_layer1, 'RFE'], \n",
    "              SVM=[model_svr, X_train4_layer1, y_train4_layer1, 'SVM'], \n",
    "              GP=[model_gp, X_train5_layer1, y_train5_layer1, 'GP'], \n",
    "              ANN=[model_mlp, X_train6_layer1, y_train6_layer1, 'ANN'])"
   ]
  },
  {
   "cell_type": "code",
   "execution_count": 253,
   "metadata": {},
   "outputs": [
    {
     "name": "stdout",
     "output_type": "stream",
     "text": [
      "LGBM\n",
      "RMSE: 3.134, R^2: 0.611, MBE: 0.000, IOAD: 0.922\n",
      "LASSO\n",
      "RMSE: 3.218, R^2: 0.523, MBE: 0.000, IOAD: 0.911\n",
      "RFE\n",
      "RMSE: 2.750, R^2: 0.658, MBE: -0.003, IOAD: 0.936\n",
      "SVM\n",
      "RMSE: 2.255, R^2: 0.737, MBE: 0.109, IOAD: 0.950\n",
      "GP\n",
      "RMSE: 1.719, R^2: 0.853, MBE: 0.001, IOAD: 0.970\n",
      "ANN\n",
      "RMSE: 3.032, R^2: 0.611, MBE: 0.003, IOAD: 0.925\n"
     ]
    }
   ],
   "source": [
    "for key, val in models.items():\n",
    "    ypred = val[0].predict(val[1])*y_train_std + y_train_mean\n",
    "    \n",
    "    ytrue = val[2]*y_train_std + y_train_mean\n",
    "    \n",
    "    print(val[3])\n",
    "    diagnostic_stats(ytrue, ypred)"
   ]
  },
  {
   "cell_type": "markdown",
   "metadata": {},
   "source": [
    "##### Predictions using layer 1 models for layer 2 data"
   ]
  },
  {
   "cell_type": "code",
   "execution_count": 254,
   "metadata": {},
   "outputs": [],
   "source": [
    "y_pred1_layer2 = model_lgb.predict(X_train_layer2)\n",
    "y_pred2_layer2 = model_lasso.predict(X_train_layer2)\n",
    "y_pred3_layer2 = model_rfe.predict(X_train_layer2)\n",
    "y_pred4_layer2 = model_svr.predict(X_train_layer2)\n",
    "y_pred5_layer2 = model_gp.predict(X_train_layer2)\n",
    "y_pred6_layer2 = model_mlp.predict(X_train_layer2)\n",
    "\n",
    "\n",
    "y_pred1_test = model_lgb.predict(X_test)\n",
    "y_pred2_test = model_lasso.predict(X_test)\n",
    "y_pred3_test = model_rfe.predict(X_test)\n",
    "y_pred4_test = model_svr.predict(X_test)\n",
    "y_pred5_test = model_gp.predict(X_test)\n",
    "y_pred6_test = model_mlp.predict(X_test)"
   ]
  },
  {
   "cell_type": "code",
   "execution_count": 255,
   "metadata": {},
   "outputs": [
    {
     "data": {
      "image/png": "[encoded data removed]",
      "text/plain": [
       "<Figure size 1080x576 with 6 Axes>"
      ]
     },
     "metadata": {
      "needs_background": "light"
     },
     "output_type": "display_data"
    }
   ],
   "source": [
    "fig, ax = plt.subplots(nrows=2, ncols=3, figsize=(15,8))\n",
    "ax = ax.flatten()\n",
    "for i, preds in enumerate([y_pred1_layer2, y_pred2_layer2, \n",
    "                           y_pred3_layer2, y_pred4_layer2, \n",
    "                           y_pred5_layer2, y_pred6_layer2]):\n",
    "    ax[i].plot(y_train_layer2, preds, '.')\n",
    "    ax[i].set_title('Model: {0}'.format(i+1))\n",
    "    ax[i].plot([-4,4],\n",
    "               [-4,4], 'k', lw=2)\n",
    "    ax[i].set_aspect('equal')\n",
    "ax[0].set_ylabel('ypred')\n",
    "plt.xlabel('y_train_layer2')\n",
    "plt.tight_layout()"
   ]
  },
  {
   "cell_type": "markdown",
   "metadata": {},
   "source": [
    "### Layer 2 training"
   ]
  },
  {
   "cell_type": "code",
   "execution_count": 256,
   "metadata": {},
   "outputs": [
    {
     "data": {
      "text/plain": [
       "((3824, 6), (3824,))"
      ]
     },
     "execution_count": 256,
     "metadata": {},
     "output_type": "execute_result"
    }
   ],
   "source": [
    "# Train data\n",
    "Yfeatures_train_layer2 = pd.DataFrame(np.array([y_pred1_layer2.squeeze(), y_pred2_layer2.squeeze(),\n",
    "                                                y_pred3_layer2.squeeze(), y_pred4_layer2.squeeze(),\n",
    "                                                y_pred5_layer2.squeeze(), y_pred6_layer2.squeeze()]).T)\n",
    "Yfeatures_train_layer2.shape, y_train_layer2.shape"
   ]
  },
  {
   "cell_type": "markdown",
   "metadata": {},
   "source": [
    "##### ENSEMBLE: Training on layer 2 (Yfeatures(Layer1 Model(X)), y_train) "
   ]
  },
  {
   "cell_type": "code",
   "execution_count": 257,
   "metadata": {},
   "outputs": [
    {
     "data": {
      "text/plain": [
       "((3824, 6), (3824,))"
      ]
     },
     "execution_count": 257,
     "metadata": {},
     "output_type": "execute_result"
    }
   ],
   "source": [
    "Yfeatures_train_layer2.shape, y_train_layer2.shape"
   ]
  },
  {
   "cell_type": "code",
   "execution_count": 258,
   "metadata": {},
   "outputs": [],
   "source": [
    "pd.concat([Yfeatures_train_layer2, y_train_layer2.reset_index()], axis=1).to_csv('train_layer2.csv')"
   ]
  },
  {
   "cell_type": "code",
   "execution_count": 259,
   "metadata": {
    "scrolled": true
   },
   "outputs": [
    {
     "name": "stdout",
     "output_type": "stream",
     "text": [
      "------ Sampling new data point ------\n",
      "Params: {'num_leaves': 7, 'objective': 'regression', 'min_data_in_leaf': 9, 'learning_rate': 0.8472670136102473, 'n_estimators': 662, 'n_jobs': -1}\n",
      "Score: 0.8677748944675026\n",
      "------ Sampling new data point ------\n",
      "Params: {'num_leaves': 5, 'objective': 'regression', 'min_data_in_leaf': 2, 'learning_rate': 0.27272902895065526, 'n_estimators': 530, 'n_jobs': -1}\n",
      "Score: 0.7786971616843991\n",
      "------ Sampling new data point ------\n",
      "Params: {'num_leaves': 8, 'objective': 'regression', 'min_data_in_leaf': 5, 'learning_rate': 0.836095155661024, 'n_estimators': 404, 'n_jobs': -1}\n",
      "Score: 0.8485663839226801\n",
      "------ Sampling new data point ------\n",
      "Params: {'num_leaves': 7, 'objective': 'regression', 'min_data_in_leaf': 10, 'learning_rate': 0.1404367453346039, 'n_estimators': 884, 'n_jobs': -1}\n",
      "Score: 0.7613090679199516\n",
      "------ Sampling new data point ------\n",
      "Params: {'num_leaves': 6, 'objective': 'regression', 'min_data_in_leaf': 6, 'learning_rate': 0.6789116421659485, 'n_estimators': 749, 'n_jobs': -1}\n",
      "Score: 0.8262454939406175\n",
      "------ Sampling new data point ------\n",
      "Params: {'num_leaves': 7, 'objective': 'regression', 'min_data_in_leaf': 8, 'learning_rate': 0.10599701642707338, 'n_estimators': 527, 'n_jobs': -1}\n",
      "Score: 0.7376790304563876\n",
      "------ Sampling new data point ------\n",
      "Params: {'num_leaves': 3, 'objective': 'regression', 'min_data_in_leaf': 4, 'learning_rate': 0.13530465158811153, 'n_estimators': 392, 'n_jobs': -1}\n",
      "Score: 0.6884078912896263\n",
      "------ Sampling new data point ------\n",
      "Params: {'num_leaves': 3, 'objective': 'regression', 'min_data_in_leaf': 5, 'learning_rate': 0.9026082156818519, 'n_estimators': 505, 'n_jobs': -1}\n",
      "Score: 0.7890304206127943\n",
      "------ Sampling new data point ------\n",
      "Params: {'num_leaves': 7, 'objective': 'regression', 'min_data_in_leaf': 3, 'learning_rate': 0.9698120868399743, 'n_estimators': 688, 'n_jobs': -1}\n",
      "Score: 0.9088533887950918\n",
      "------ Sampling new data point ------\n",
      "Params: {'num_leaves': 3, 'objective': 'regression', 'min_data_in_leaf': 8, 'learning_rate': 0.6078698856485963, 'n_estimators': 393, 'n_jobs': -1}\n",
      "Score: 0.7562461123117147\n",
      "------ Sampling new data point ------\n",
      "Params: {'num_leaves': 2, 'objective': 'regression', 'min_data_in_leaf': 10, 'learning_rate': 0.0001, 'n_estimators': 100, 'n_jobs': -1}\n",
      "Score: 1.012197454877579\n",
      "------ Sampling new data point ------\n",
      "Params: {'num_leaves': 2, 'objective': 'regression', 'min_data_in_leaf': 6, 'learning_rate': 0.0001, 'n_estimators': 408, 'n_jobs': -1}\n",
      "Score: 0.9990875854678686\n",
      "------ Sampling new data point ------\n",
      "Params: {'num_leaves': 2, 'objective': 'regression', 'min_data_in_leaf': 4, 'learning_rate': 0.12776469982472624, 'n_estimators': 134, 'n_jobs': -1}\n",
      "Score: 0.6799134055688615\n",
      "------ Sampling new data point ------\n",
      "Params: {'num_leaves': 2, 'objective': 'regression', 'min_data_in_leaf': 2, 'learning_rate': 0.19305102851434291, 'n_estimators': 128, 'n_jobs': -1}\n",
      "Score: 0.6803622749174502\n",
      "------ Sampling new data point ------\n",
      "Params: {'num_leaves': 2, 'objective': 'regression', 'min_data_in_leaf': 10, 'learning_rate': 0.5200432548788952, 'n_estimators': 827, 'n_jobs': -1}\n",
      "Score: 0.6885464644330263\n",
      "------ Sampling new data point ------\n",
      "Params: {'num_leaves': 9, 'objective': 'regression', 'min_data_in_leaf': 2, 'learning_rate': 0.524783639450839, 'n_estimators': 394, 'n_jobs': -1}\n",
      "Score: 0.796300320587051\n",
      "------ Sampling new data point ------\n",
      "Params: {'num_leaves': 2, 'objective': 'regression', 'min_data_in_leaf': 10, 'learning_rate': 0.4632677349719655, 'n_estimators': 999, 'n_jobs': -1}\n",
      "Score: 0.692043673826125\n",
      "------ Sampling new data point ------\n",
      "Params: {'num_leaves': 2, 'objective': 'regression', 'min_data_in_leaf': 2, 'learning_rate': 0.1540740136522795, 'n_estimators': 100, 'n_jobs': -1}\n",
      "Score: 0.6759820623155918\n",
      "------ Sampling new data point ------\n",
      "Params: {'num_leaves': 2, 'objective': 'regression', 'min_data_in_leaf': 2, 'learning_rate': 0.37911683196326246, 'n_estimators': 136, 'n_jobs': -1}\n",
      "Score: 0.6862042956578582\n",
      "------ Sampling new data point ------\n",
      "Params: {'num_leaves': 6, 'objective': 'regression', 'min_data_in_leaf': 10, 'learning_rate': 0.4109634938236376, 'n_estimators': 142, 'n_jobs': -1}\n",
      "Score: 0.7428593901615405\n",
      "------ Sampling new data point ------\n",
      "Params: {'num_leaves': 2, 'objective': 'regression', 'min_data_in_leaf': 10, 'learning_rate': 0.16095218505286035, 'n_estimators': 1000, 'n_jobs': -1}\n",
      "Score: 0.6868996180252523\n",
      "------ Sampling new data point ------\n",
      "Params: {'num_leaves': 2, 'objective': 'regression', 'min_data_in_leaf': 10, 'learning_rate': 0.3064642785601954, 'n_estimators': 115, 'n_jobs': -1}\n",
      "Score: 0.6792322508624791\n",
      "------ Sampling new data point ------\n",
      "Params: {'num_leaves': 2, 'objective': 'regression', 'min_data_in_leaf': 2, 'learning_rate': 0.2670011615582709, 'n_estimators': 100, 'n_jobs': -1}\n",
      "Score: 0.6791618164947084\n",
      "------ Sampling new data point ------\n",
      "Params: {'num_leaves': 10, 'objective': 'regression', 'min_data_in_leaf': 2, 'learning_rate': 0.017832541236759755, 'n_estimators': 964, 'n_jobs': -1}\n",
      "Score: 0.7161495758017867\n",
      "------ Sampling new data point ------\n",
      "Params: {'num_leaves': 10, 'objective': 'regression', 'min_data_in_leaf': 2, 'learning_rate': 0.09098641784606586, 'n_estimators': 227, 'n_jobs': -1}\n",
      "Score: 0.7280891902033021\n",
      "------ Sampling new data point ------\n",
      "Params: {'num_leaves': 2, 'objective': 'regression', 'min_data_in_leaf': 2, 'learning_rate': 0.768833595531396, 'n_estimators': 242, 'n_jobs': -1}\n",
      "Score: 0.6892999138143269\n",
      "------ Sampling new data point ------\n",
      "Params: {'num_leaves': 10, 'objective': 'regression', 'min_data_in_leaf': 2, 'learning_rate': 0.3741494411339221, 'n_estimators': 890, 'n_jobs': -1}\n",
      "Score: 0.8092049851099651\n",
      "------ Sampling new data point ------\n",
      "Params: {'num_leaves': 2, 'objective': 'regression', 'min_data_in_leaf': 2, 'learning_rate': 0.7103768449449572, 'n_estimators': 409, 'n_jobs': -1}\n",
      "Score: 0.689979455250557\n",
      "------ Sampling new data point ------\n",
      "Params: {'num_leaves': 2, 'objective': 'regression', 'min_data_in_leaf': 2, 'learning_rate': 0.3227260624681122, 'n_estimators': 1001, 'n_jobs': -1}\n",
      "Score: 0.6863551560664263\n",
      "------ Sampling new data point ------\n",
      "Params: {'num_leaves': 2, 'objective': 'regression', 'min_data_in_leaf': 2, 'learning_rate': 0.5009923192219454, 'n_estimators': 100, 'n_jobs': -1}\n",
      "Score: 0.6856358628706264\n",
      "------ Sampling new data point ------\n",
      "Params: {'num_leaves': 4, 'objective': 'regression', 'min_data_in_leaf': 2, 'learning_rate': 0.4880604768222969, 'n_estimators': 100, 'n_jobs': -1}\n",
      "Score: 0.7772098667063285\n",
      "------ Sampling new data point ------\n",
      "Params: {'num_leaves': 2, 'objective': 'regression', 'min_data_in_leaf': 2, 'learning_rate': 1.0, 'n_estimators': 304, 'n_jobs': -1}\n",
      "Score: 0.7016008374027823\n",
      "------ Sampling new data point ------\n",
      "Params: {'num_leaves': 10, 'objective': 'regression', 'min_data_in_leaf': 8, 'learning_rate': 0.689444945355559, 'n_estimators': 242, 'n_jobs': -1}\n",
      "Score: 0.8333441767977918\n",
      "------ Sampling new data point ------\n",
      "Params: {'num_leaves': 8, 'objective': 'regression', 'min_data_in_leaf': 4, 'learning_rate': 0.0001, 'n_estimators': 100, 'n_jobs': -1}\n",
      "Score: 1.0116962981999926\n",
      "------ Sampling new data point ------\n",
      "Params: {'num_leaves': 6, 'objective': 'regression', 'min_data_in_leaf': 7, 'learning_rate': 0.5163885494202141, 'n_estimators': 1001, 'n_jobs': -1}\n",
      "Score: 0.818570166613707\n",
      "------ Sampling new data point ------\n",
      "Params: {'num_leaves': 10, 'objective': 'regression', 'min_data_in_leaf': 2, 'learning_rate': 0.07903198594593756, 'n_estimators': 1001, 'n_jobs': -1}\n",
      "Score: 0.7353599378506384\n",
      "------ Sampling new data point ------\n",
      "Params: {'num_leaves': 10, 'objective': 'regression', 'min_data_in_leaf': 10, 'learning_rate': 0.19441380227688496, 'n_estimators': 100, 'n_jobs': -1}\n",
      "Score: 0.7085590895391763\n",
      "------ Sampling new data point ------\n",
      "Params: {'num_leaves': 3, 'objective': 'regression', 'min_data_in_leaf': 6, 'learning_rate': 0.22989113433876912, 'n_estimators': 100, 'n_jobs': -1}\n",
      "Score: 0.6854957207620679\n",
      "------ Sampling new data point ------\n",
      "Params: {'num_leaves': 2, 'objective': 'regression', 'min_data_in_leaf': 4, 'learning_rate': 0.8856722035668518, 'n_estimators': 894, 'n_jobs': -1}\n",
      "Score: 0.6935566157894454\n"
     ]
    },
    {
     "name": "stdout",
     "output_type": "stream",
     "text": [
      "------ Sampling new data point ------\n",
      "Params: {'num_leaves': 6, 'objective': 'regression', 'min_data_in_leaf': 7, 'learning_rate': 0.0001, 'n_estimators': 189, 'n_jobs': -1}\n",
      "Score: 1.0066429595249085\n",
      "------ Sampling new data point ------\n",
      "Params: {'num_leaves': 4, 'objective': 'regression', 'min_data_in_leaf': 10, 'learning_rate': 0.3635036473082827, 'n_estimators': 100, 'n_jobs': -1}\n",
      "Score: 0.7267471131239333\n",
      "------ Sampling new data point ------\n",
      "Params: {'num_leaves': 2, 'objective': 'regression', 'min_data_in_leaf': 8, 'learning_rate': 0.8306831407351037, 'n_estimators': 951, 'n_jobs': -1}\n",
      "Score: 0.7070213154403869\n",
      "------ Sampling new data point ------\n",
      "Params: {'num_leaves': 2, 'objective': 'regression', 'min_data_in_leaf': 2, 'learning_rate': 0.26609273243258547, 'n_estimators': 100, 'n_jobs': -1}\n",
      "Score: 0.6792308617545894\n",
      "------ Sampling new data point ------\n",
      "Params: {'num_leaves': 10, 'objective': 'regression', 'min_data_in_leaf': 10, 'learning_rate': 1.0, 'n_estimators': 160, 'n_jobs': -1}\n",
      "Score: 0.8761488706474316\n",
      "------ Sampling new data point ------\n",
      "Params: {'num_leaves': 2, 'objective': 'regression', 'min_data_in_leaf': 2, 'learning_rate': 0.24891277403639428, 'n_estimators': 100, 'n_jobs': -1}\n",
      "Score: 0.6818321257025222\n",
      "------ Sampling new data point ------\n",
      "Params: {'num_leaves': 4, 'objective': 'regression', 'min_data_in_leaf': 10, 'learning_rate': 0.08833729915742661, 'n_estimators': 246, 'n_jobs': -1}\n",
      "Score: 0.6904425504838353\n",
      "------ Sampling new data point ------\n",
      "Params: {'num_leaves': 3, 'objective': 'regression', 'min_data_in_leaf': 6, 'learning_rate': 0.16973961378134547, 'n_estimators': 363, 'n_jobs': -1}\n",
      "Score: 0.6967855966838301\n",
      "------ Sampling new data point ------\n",
      "Params: {'num_leaves': 3, 'objective': 'regression', 'min_data_in_leaf': 2, 'learning_rate': 0.3150862747636034, 'n_estimators': 100, 'n_jobs': -1}\n",
      "Score: 0.7062869803149733\n",
      "------ Sampling new data point ------\n",
      "Params: {'num_leaves': 4, 'objective': 'regression', 'min_data_in_leaf': 2, 'learning_rate': 0.11024349563129646, 'n_estimators': 100, 'n_jobs': -1}\n",
      "Score: 0.6814858935016854\n",
      "------ Sampling new data point ------\n",
      "Params: {'num_leaves': 5, 'objective': 'regression', 'min_data_in_leaf': 3, 'learning_rate': 0.10814687227006523, 'n_estimators': 100, 'n_jobs': -1}\n",
      "Score: 0.6840698574602123\n",
      "------ Sampling new data point ------\n",
      "Params: {'num_leaves': 2, 'objective': 'regression', 'min_data_in_leaf': 10, 'learning_rate': 0.9445777181934332, 'n_estimators': 1001, 'n_jobs': -1}\n",
      "Score: 0.6976234777688033\n"
     ]
    },
    {
     "data": {
      "text/plain": [
       "'Best score=0.6760'"
      ]
     },
     "execution_count": 259,
     "metadata": {},
     "output_type": "execute_result"
    }
   ],
   "source": [
    "params_space  = [Integer(2, 10, name='num_leaves'),\n",
    "          Categorical(['regression'], name = \"objective\"),\n",
    "          Integer(2, 10, name='min_data_in_leaf'),\n",
    "          Real(10**-4, 10**0, \"uniform\", name='learning_rate'),\n",
    "          Integer(100, 1001, name='n_estimators')]\n",
    "\n",
    "@use_named_args(params_space)\n",
    "def lgb_objective(**params):\n",
    "    cls = lgb.LGBMRegressor(**params)\n",
    "    return objective_core(cls, Yfeatures_train_layer2, y_train_layer2, **params)\n",
    "\n",
    "res_lgb_l2 = gp_minimize(lgb_objective, params_space, n_calls=N_CALLS, random_state=0)\n",
    "\n",
    "\"Best score=%.4f\" % res_lgb_l2.fun"
   ]
  },
  {
   "cell_type": "code",
   "execution_count": 260,
   "metadata": {},
   "outputs": [
    {
     "name": "stdout",
     "output_type": "stream",
     "text": [
      "Optimal parameters\n",
      "Param: num_leaves, value: 2\n",
      "Param: objective, value: regression\n",
      "Param: min_data_in_leaf, value: 2\n",
      "Param: learning_rate, value: 0.1540740136522795\n",
      "Param: n_estimators, value: 100\n"
     ]
    },
    {
     "data": {
      "image/png": "[encoded data removed]",
      "text/plain": [
       "<Figure size 432x288 with 1 Axes>"
      ]
     },
     "metadata": {
      "needs_background": "light"
     },
     "output_type": "display_data"
    }
   ],
   "source": [
    "print(\"Optimal parameters\")\n",
    "params_lgb_l2 = {}\n",
    "for param, value in zip(params_space, res_lgb_l2.x):\n",
    "    print(f\"Param: {param.name}, value: {value}\")\n",
    "    \n",
    "    params_lgb_l2[param.name] = value\n",
    "    \n",
    "model_layer2_lgb_ensemble = lgb.LGBMRegressor(**params_lgb_l2)\n",
    "model_layer2_lgb_ensemble.fit(Yfeatures_train_layer2, y_train_layer2)\n",
    "\n",
    "plt.figure()\n",
    "plot_convergence(res_lgb_l2)\n",
    "plt.show()"
   ]
  },
  {
   "cell_type": "markdown",
   "metadata": {},
   "source": [
    "##### SINGLE: Training directly on layer 2 (X_train, y_train)"
   ]
  },
  {
   "cell_type": "code",
   "execution_count": 261,
   "metadata": {
    "scrolled": true
   },
   "outputs": [
    {
     "name": "stdout",
     "output_type": "stream",
     "text": [
      "------ Sampling new data point ------\n",
      "Params: {'num_leaves': 7, 'objective': 'regression', 'min_data_in_leaf': 9, 'learning_rate': 0.8472670136102473, 'n_estimators': 662, 'n_jobs': -1}\n",
      "Score: 0.8250282435537176\n",
      "------ Sampling new data point ------\n",
      "Params: {'num_leaves': 5, 'objective': 'regression', 'min_data_in_leaf': 2, 'learning_rate': 0.27272902895065526, 'n_estimators': 530, 'n_jobs': -1}\n",
      "Score: 0.7410216118763316\n",
      "------ Sampling new data point ------\n",
      "Params: {'num_leaves': 8, 'objective': 'regression', 'min_data_in_leaf': 5, 'learning_rate': 0.836095155661024, 'n_estimators': 404, 'n_jobs': -1}\n",
      "Score: 0.8647104964211638\n",
      "------ Sampling new data point ------\n",
      "Params: {'num_leaves': 7, 'objective': 'regression', 'min_data_in_leaf': 10, 'learning_rate': 0.1404367453346039, 'n_estimators': 884, 'n_jobs': -1}\n",
      "Score: 0.744843276920967\n",
      "------ Sampling new data point ------\n",
      "Params: {'num_leaves': 6, 'objective': 'regression', 'min_data_in_leaf': 6, 'learning_rate': 0.6789116421659485, 'n_estimators': 749, 'n_jobs': -1}\n",
      "Score: 0.8016794005072042\n",
      "------ Sampling new data point ------\n",
      "Params: {'num_leaves': 7, 'objective': 'regression', 'min_data_in_leaf': 8, 'learning_rate': 0.10599701642707338, 'n_estimators': 527, 'n_jobs': -1}\n",
      "Score: 0.7265643905470114\n",
      "------ Sampling new data point ------\n",
      "Params: {'num_leaves': 3, 'objective': 'regression', 'min_data_in_leaf': 4, 'learning_rate': 0.13530465158811153, 'n_estimators': 392, 'n_jobs': -1}\n",
      "Score: 0.7091996726791946\n",
      "------ Sampling new data point ------\n",
      "Params: {'num_leaves': 3, 'objective': 'regression', 'min_data_in_leaf': 5, 'learning_rate': 0.9026082156818519, 'n_estimators': 505, 'n_jobs': -1}\n",
      "Score: 0.78722646820508\n",
      "------ Sampling new data point ------\n",
      "Params: {'num_leaves': 7, 'objective': 'regression', 'min_data_in_leaf': 3, 'learning_rate': 0.9698120868399743, 'n_estimators': 688, 'n_jobs': -1}\n",
      "Score: 0.8782383038325919\n",
      "------ Sampling new data point ------\n",
      "Params: {'num_leaves': 3, 'objective': 'regression', 'min_data_in_leaf': 8, 'learning_rate': 0.6078698856485963, 'n_estimators': 393, 'n_jobs': -1}\n",
      "Score: 0.761037553912589\n",
      "------ Sampling new data point ------\n",
      "Params: {'num_leaves': 3, 'objective': 'regression', 'min_data_in_leaf': 4, 'learning_rate': 0.0001, 'n_estimators': 100, 'n_jobs': -1}\n",
      "Score: 1.0129333716687203\n",
      "------ Sampling new data point ------\n",
      "Params: {'num_leaves': 2, 'objective': 'regression', 'min_data_in_leaf': 5, 'learning_rate': 0.0001, 'n_estimators': 440, 'n_jobs': -1}\n",
      "Score: 1.00069469545487\n",
      "------ Sampling new data point ------\n",
      "Params: {'num_leaves': 3, 'objective': 'regression', 'min_data_in_leaf': 2, 'learning_rate': 0.12646451157486235, 'n_estimators': 100, 'n_jobs': -1}\n",
      "Score: 0.7105781550971894\n",
      "------ Sampling new data point ------\n",
      "Params: {'num_leaves': 2, 'objective': 'regression', 'min_data_in_leaf': 2, 'learning_rate': 0.21173909695038004, 'n_estimators': 425, 'n_jobs': -1}\n",
      "Score: 0.6942803179338405\n",
      "------ Sampling new data point ------\n",
      "Params: {'num_leaves': 10, 'objective': 'regression', 'min_data_in_leaf': 6, 'learning_rate': 0.49284972505136054, 'n_estimators': 467, 'n_jobs': -1}\n",
      "Score: 0.7635336754041221\n",
      "------ Sampling new data point ------\n",
      "Params: {'num_leaves': 7, 'objective': 'regression', 'min_data_in_leaf': 10, 'learning_rate': 0.3853209884482872, 'n_estimators': 178, 'n_jobs': -1}\n",
      "Score: 0.7473503712003581\n",
      "------ Sampling new data point ------\n",
      "Params: {'num_leaves': 9, 'objective': 'regression', 'min_data_in_leaf': 10, 'learning_rate': 0.2317266023001947, 'n_estimators': 100, 'n_jobs': -1}\n",
      "Score: 0.7290556957617648\n",
      "------ Sampling new data point ------\n",
      "Params: {'num_leaves': 2, 'objective': 'regression', 'min_data_in_leaf': 2, 'learning_rate': 0.18045935843283104, 'n_estimators': 100, 'n_jobs': -1}\n",
      "Score: 0.6848762743602462\n",
      "------ Sampling new data point ------\n",
      "Params: {'num_leaves': 9, 'objective': 'regression', 'min_data_in_leaf': 2, 'learning_rate': 0.18181109174324625, 'n_estimators': 1001, 'n_jobs': -1}\n",
      "Score: 0.7383297408120697\n",
      "------ Sampling new data point ------\n",
      "Params: {'num_leaves': 2, 'objective': 'regression', 'min_data_in_leaf': 6, 'learning_rate': 0.43858106495860333, 'n_estimators': 1001, 'n_jobs': -1}\n",
      "Score: 0.7025293034388865\n",
      "------ Sampling new data point ------\n",
      "Params: {'num_leaves': 10, 'objective': 'regression', 'min_data_in_leaf': 2, 'learning_rate': 0.42894982195655623, 'n_estimators': 1001, 'n_jobs': -1}\n",
      "Score: 0.7617839584110669\n",
      "------ Sampling new data point ------\n",
      "Params: {'num_leaves': 2, 'objective': 'regression', 'min_data_in_leaf': 3, 'learning_rate': 0.5321899133610082, 'n_estimators': 795, 'n_jobs': -1}\n",
      "Score: 0.7061251326351335\n",
      "------ Sampling new data point ------\n",
      "Params: {'num_leaves': 2, 'objective': 'regression', 'min_data_in_leaf': 9, 'learning_rate': 0.4824675023456691, 'n_estimators': 100, 'n_jobs': -1}\n",
      "Score: 0.7004223728595432\n",
      "------ Sampling new data point ------\n",
      "Params: {'num_leaves': 2, 'objective': 'regression', 'min_data_in_leaf': 5, 'learning_rate': 0.34106153708170167, 'n_estimators': 940, 'n_jobs': -1}\n",
      "Score: 0.6993553678051053\n",
      "------ Sampling new data point ------\n",
      "Params: {'num_leaves': 2, 'objective': 'regression', 'min_data_in_leaf': 10, 'learning_rate': 0.18761548037520548, 'n_estimators': 100, 'n_jobs': -1}\n",
      "Score: 0.6859060451416372\n",
      "------ Sampling new data point ------\n",
      "Params: {'num_leaves': 2, 'objective': 'regression', 'min_data_in_leaf': 2, 'learning_rate': 0.38251638383609937, 'n_estimators': 730, 'n_jobs': -1}\n",
      "Score: 0.698378309666282\n",
      "------ Sampling new data point ------\n",
      "Params: {'num_leaves': 2, 'objective': 'regression', 'min_data_in_leaf': 10, 'learning_rate': 0.19128923263501196, 'n_estimators': 100, 'n_jobs': -1}\n",
      "Score: 0.7037979978573509\n",
      "------ Sampling new data point ------\n",
      "Params: {'num_leaves': 2, 'objective': 'regression', 'min_data_in_leaf': 10, 'learning_rate': 0.7652818426681219, 'n_estimators': 779, 'n_jobs': -1}\n",
      "Score: 0.700134817960408\n",
      "------ Sampling new data point ------\n",
      "Params: {'num_leaves': 2, 'objective': 'regression', 'min_data_in_leaf': 2, 'learning_rate': 0.8048379138440344, 'n_estimators': 1001, 'n_jobs': -1}\n",
      "Score: 0.7123986745494252\n",
      "------ Sampling new data point ------\n",
      "Params: {'num_leaves': 2, 'objective': 'regression', 'min_data_in_leaf': 2, 'learning_rate': 0.7278888527311186, 'n_estimators': 100, 'n_jobs': -1}\n",
      "Score: 0.7048728561642879\n",
      "------ Sampling new data point ------\n",
      "Params: {'num_leaves': 2, 'objective': 'regression', 'min_data_in_leaf': 10, 'learning_rate': 0.2581715095527675, 'n_estimators': 100, 'n_jobs': -1}\n",
      "Score: 0.6960980977802697\n",
      "------ Sampling new data point ------\n",
      "Params: {'num_leaves': 2, 'objective': 'regression', 'min_data_in_leaf': 10, 'learning_rate': 0.17083641163674937, 'n_estimators': 1001, 'n_jobs': -1}\n",
      "Score: 0.6889108145617273\n",
      "------ Sampling new data point ------\n",
      "Params: {'num_leaves': 2, 'objective': 'regression', 'min_data_in_leaf': 10, 'learning_rate': 0.3107600721965947, 'n_estimators': 100, 'n_jobs': -1}\n",
      "Score: 0.7042523240623857\n",
      "------ Sampling new data point ------\n",
      "Params: {'num_leaves': 2, 'objective': 'regression', 'min_data_in_leaf': 2, 'learning_rate': 0.1671038773425703, 'n_estimators': 1001, 'n_jobs': -1}\n",
      "Score: 0.6934649385497305\n",
      "------ Sampling new data point ------\n",
      "Params: {'num_leaves': 10, 'objective': 'regression', 'min_data_in_leaf': 2, 'learning_rate': 0.0956646556199983, 'n_estimators': 100, 'n_jobs': -1}\n",
      "Score: 0.6980346629504345\n",
      "------ Sampling new data point ------\n",
      "Params: {'num_leaves': 10, 'objective': 'regression', 'min_data_in_leaf': 2, 'learning_rate': 0.30482146501235746, 'n_estimators': 100, 'n_jobs': -1}\n",
      "Score: 0.7424082660103527\n",
      "------ Sampling new data point ------\n",
      "Params: {'num_leaves': 5, 'objective': 'regression', 'min_data_in_leaf': 2, 'learning_rate': 0.4888185741741817, 'n_estimators': 1001, 'n_jobs': -1}\n",
      "Score: 0.7931740297601403\n",
      "------ Sampling new data point ------\n",
      "Params: {'num_leaves': 10, 'objective': 'regression', 'min_data_in_leaf': 9, 'learning_rate': 0.0001, 'n_estimators': 219, 'n_jobs': -1}\n",
      "Score: 1.0063540116214993\n",
      "------ Sampling new data point ------\n",
      "Params: {'num_leaves': 10, 'objective': 'regression', 'min_data_in_leaf': 10, 'learning_rate': 0.12605935289872297, 'n_estimators': 100, 'n_jobs': -1}\n",
      "Score: 0.6937305003382918\n"
     ]
    },
    {
     "name": "stdout",
     "output_type": "stream",
     "text": [
      "------ Sampling new data point ------\n",
      "Params: {'num_leaves': 2, 'objective': 'regression', 'min_data_in_leaf': 2, 'learning_rate': 0.14353846389015806, 'n_estimators': 100, 'n_jobs': -1}\n",
      "Score: 0.6999688686321863\n",
      "------ Sampling new data point ------\n",
      "Params: {'num_leaves': 10, 'objective': 'regression', 'min_data_in_leaf': 2, 'learning_rate': 0.11732808602572405, 'n_estimators': 1001, 'n_jobs': -1}\n",
      "Score: 0.7422721186436787\n",
      "------ Sampling new data point ------\n",
      "Params: {'num_leaves': 2, 'objective': 'regression', 'min_data_in_leaf': 10, 'learning_rate': 0.713350233194874, 'n_estimators': 1001, 'n_jobs': -1}\n",
      "Score: 0.7099823015125063\n",
      "------ Sampling new data point ------\n",
      "Params: {'num_leaves': 2, 'objective': 'regression', 'min_data_in_leaf': 2, 'learning_rate': 0.4058414778309005, 'n_estimators': 100, 'n_jobs': -1}\n",
      "Score: 0.7003952722113308\n",
      "------ Sampling new data point ------\n",
      "Params: {'num_leaves': 2, 'objective': 'regression', 'min_data_in_leaf': 2, 'learning_rate': 0.2530921578413186, 'n_estimators': 1001, 'n_jobs': -1}\n",
      "Score: 0.6933530204728484\n",
      "------ Sampling new data point ------\n",
      "Params: {'num_leaves': 10, 'objective': 'regression', 'min_data_in_leaf': 2, 'learning_rate': 0.147335959886386, 'n_estimators': 100, 'n_jobs': -1}\n",
      "Score: 0.7211207772659746\n",
      "------ Sampling new data point ------\n",
      "Params: {'num_leaves': 2, 'objective': 'regression', 'min_data_in_leaf': 10, 'learning_rate': 0.21420774682271088, 'n_estimators': 1001, 'n_jobs': -1}\n",
      "Score: 0.6988236251775141\n",
      "------ Sampling new data point ------\n",
      "Params: {'num_leaves': 2, 'objective': 'regression', 'min_data_in_leaf': 9, 'learning_rate': 1.0, 'n_estimators': 1001, 'n_jobs': -1}\n",
      "Score: 0.7135320535238084\n",
      "------ Sampling new data point ------\n",
      "Params: {'num_leaves': 2, 'objective': 'regression', 'min_data_in_leaf': 10, 'learning_rate': 1.0, 'n_estimators': 100, 'n_jobs': -1}\n",
      "Score: 0.7094839247936173\n",
      "------ Sampling new data point ------\n",
      "Params: {'num_leaves': 10, 'objective': 'regression', 'min_data_in_leaf': 8, 'learning_rate': 0.5905344400701024, 'n_estimators': 100, 'n_jobs': -1}\n",
      "Score: 0.773731409703244\n",
      "------ Sampling new data point ------\n",
      "Params: {'num_leaves': 2, 'objective': 'regression', 'min_data_in_leaf': 10, 'learning_rate': 0.28536378716420746, 'n_estimators': 1001, 'n_jobs': -1}\n",
      "Score: 0.6975123812558848\n",
      "------ Sampling new data point ------\n",
      "Params: {'num_leaves': 2, 'objective': 'regression', 'min_data_in_leaf': 2, 'learning_rate': 0.1679032404347559, 'n_estimators': 100, 'n_jobs': -1}\n",
      "Score: 0.6929459735348013\n"
     ]
    },
    {
     "data": {
      "text/plain": [
       "'Best score=0.6849'"
      ]
     },
     "execution_count": 261,
     "metadata": {},
     "output_type": "execute_result"
    }
   ],
   "source": [
    "params_space  = [Integer(2, 10, name='num_leaves'),\n",
    "          Categorical(['regression'], name = \"objective\"),\n",
    "          Integer(2, 10, name='min_data_in_leaf'),\n",
    "          Real(10**-4, 10**0, \"uniform\", name='learning_rate'),\n",
    "          Integer(100, 1001, name='n_estimators')]\n",
    "\n",
    "@use_named_args(params_space)\n",
    "def lgb_objective(**params):\n",
    "    cls = lgb.LGBMRegressor(**params)\n",
    "    return objective_core(cls, X_train_layer2, y_train_layer2, **params)\n",
    "\n",
    "res_lgb_l2_single = gp_minimize(lgb_objective, params_space, n_calls=N_CALLS, random_state=0)\n",
    "\n",
    "\"Best score=%.4f\" % res_lgb_l2_single.fun"
   ]
  },
  {
   "cell_type": "code",
   "execution_count": 262,
   "metadata": {},
   "outputs": [
    {
     "name": "stdout",
     "output_type": "stream",
     "text": [
      "Optimal parameters\n",
      "Param: num_leaves, value: 2\n",
      "Param: objective, value: regression\n",
      "Param: min_data_in_leaf, value: 2\n",
      "Param: learning_rate, value: 0.1540740136522795\n",
      "Param: n_estimators, value: 100\n"
     ]
    },
    {
     "data": {
      "image/png": "[encoded data removed]",
      "text/plain": [
       "<Figure size 432x288 with 1 Axes>"
      ]
     },
     "metadata": {
      "needs_background": "light"
     },
     "output_type": "display_data"
    }
   ],
   "source": [
    "print(\"Optimal parameters\")\n",
    "params_lgb_l2_single = {}\n",
    "for param, value in zip(params_space, res_lgb_l2.x):\n",
    "    print(f\"Param: {param.name}, value: {value}\")\n",
    "    \n",
    "    params_lgb_l2_single[param.name] = value\n",
    "    \n",
    "model_layer2_lgb_single = lgb.LGBMRegressor(**params_lgb_l2_single)\n",
    "model_layer2_lgb_single.fit(X_train_layer2, y_train_layer2)\n",
    "\n",
    "plt.figure()\n",
    "plot_convergence(res_lgb_l2_single)\n",
    "plt.show()"
   ]
  },
  {
   "cell_type": "markdown",
   "metadata": {},
   "source": [
    "## Test\n"
   ]
  },
  {
   "cell_type": "code",
   "execution_count": 263,
   "metadata": {},
   "outputs": [
    {
     "name": "stdout",
     "output_type": "stream",
     "text": [
      "(1367, 6) (1367,)\n"
     ]
    }
   ],
   "source": [
    "Yfeatures_test = pd.DataFrame(np.array([y_pred1_test.squeeze(), y_pred2_test.squeeze(),\n",
    "                                        y_pred3_test.squeeze(), y_pred4_test.squeeze(),\n",
    "                                        y_pred5_test.squeeze(), y_pred6_test.squeeze()]).T)\n",
    "print(Yfeatures_test.shape, y_test.shape)"
   ]
  },
  {
   "cell_type": "code",
   "execution_count": 264,
   "metadata": {},
   "outputs": [],
   "source": [
    "pd.concat([Yfeatures_test, y_test.reset_index()], axis=1).to_csv('test_layer2.csv')"
   ]
  },
  {
   "cell_type": "code",
   "execution_count": 265,
   "metadata": {},
   "outputs": [
    {
     "data": {
      "text/plain": [
       "[<matplotlib.lines.Line2D at 0x1a49617160>]"
      ]
     },
     "execution_count": 265,
     "metadata": {},
     "output_type": "execute_result"
    },
    {
     "data": {
      "image/png": "[encoded data removed]",
      "text/plain": [
       "<Figure size 432x288 with 1 Axes>"
      ]
     },
     "metadata": {
      "needs_background": "light"
     },
     "output_type": "display_data"
    }
   ],
   "source": [
    "plt.hexbin(y_test, model_layer2_lgb_ensemble.predict(Yfeatures_test), mincnt=2, gridsize=30, bins='log')\n",
    "plt.plot([-2,2], [-2,2], 'r', lw=2)"
   ]
  },
  {
   "cell_type": "code",
   "execution_count": 266,
   "metadata": {},
   "outputs": [
    {
     "data": {
      "text/plain": [
       "[<matplotlib.lines.Line2D at 0x1a495da588>]"
      ]
     },
     "execution_count": 266,
     "metadata": {},
     "output_type": "execute_result"
    },
    {
     "data": {
      "image/png": "[encoded data removed]",
      "text/plain": [
       "<Figure size 432x288 with 1 Axes>"
      ]
     },
     "metadata": {
      "needs_background": "light"
     },
     "output_type": "display_data"
    }
   ],
   "source": [
    "plt.plot(y_test, model_layer2_lgb_ensemble.predict(Yfeatures_test),'.')\n",
    "plt.plot(y_test, model_layer2_lgb_single.predict(X_test),'.')"
   ]
  },
  {
   "cell_type": "code",
   "execution_count": 267,
   "metadata": {},
   "outputs": [
    {
     "data": {
      "text/plain": [
       "[<matplotlib.lines.Line2D at 0x1a4a8856d8>]"
      ]
     },
     "execution_count": 267,
     "metadata": {},
     "output_type": "execute_result"
    },
    {
     "data": {
      "image/png": "[encoded data removed]",
      "text/plain": [
       "<Figure size 432x288 with 1 Axes>"
      ]
     },
     "metadata": {
      "needs_background": "light"
     },
     "output_type": "display_data"
    }
   ],
   "source": [
    "plt.hexbin(y_test*y_test_std + y_test_mean, \n",
    "           model_layer2_lgb_ensemble.predict(Yfeatures_test)*y_test_std + y_test_mean, mincnt=2, \n",
    "           gridsize=30, bins='log')\n",
    "plt.plot([-10,10], [-10,10], 'r', lw=2)"
   ]
  },
  {
   "cell_type": "code",
   "execution_count": 268,
   "metadata": {},
   "outputs": [
    {
     "data": {
      "text/plain": [
       "[<matplotlib.lines.Line2D at 0x1a4e517208>]"
      ]
     },
     "execution_count": 268,
     "metadata": {},
     "output_type": "execute_result"
    },
    {
     "data": {
      "image/png": "[encoded data removed]",
      "text/plain": [
       "<Figure size 432x288 with 1 Axes>"
      ]
     },
     "metadata": {
      "needs_background": "light"
     },
     "output_type": "display_data"
    }
   ],
   "source": [
    "plt.hexbin(y_test*y_test_std + y_test_mean, model_layer2_lgb_single.predict(X_test)*y_test_std + y_test_mean, \n",
    "           mincnt=2, \n",
    "           gridsize=30, bins='log')\n",
    "plt.plot([-10,10], [-10,10], 'r', lw=2)"
   ]
  },
  {
   "cell_type": "code",
   "execution_count": 269,
   "metadata": {},
   "outputs": [
    {
     "data": {
      "text/plain": [
       "[<matplotlib.lines.Line2D at 0x1a4aa837b8>]"
      ]
     },
     "execution_count": 269,
     "metadata": {},
     "output_type": "execute_result"
    },
    {
     "data": {
      "image/png": "[encoded data removed]",
      "text/plain": [
       "<Figure size 432x288 with 1 Axes>"
      ]
     },
     "metadata": {
      "needs_background": "light"
     },
     "output_type": "display_data"
    }
   ],
   "source": [
    "plt.plot(y_test*y_test_std + y_test_mean, model_layer2_lgb_ensemble.predict(Yfeatures_test)*y_test_std + y_test_mean,'.')\n",
    "plt.plot(y_test*y_test_std + y_test_mean, model_layer2_lgb_single.predict(X_test)*y_test_std + y_test_mean,'.')"
   ]
  },
  {
   "cell_type": "code",
   "execution_count": 270,
   "metadata": {},
   "outputs": [
    {
     "name": "stdout",
     "output_type": "stream",
     "text": [
      "Ensemble\n",
      "RMSE: 2.820, R^2: 0.481, MBE: 0.057, IOAD: 0.904\n"
     ]
    }
   ],
   "source": [
    "print('Ensemble')\n",
    "y_test_pred_ensemble = model_layer2_lgb_ensemble.predict(Yfeatures_test)\n",
    "diagnostic_stats(y_test*y_test_std + y_test_mean, y_test_pred_ensemble*y_test_std + y_test_mean);"
   ]
  },
  {
   "cell_type": "code",
   "execution_count": 271,
   "metadata": {},
   "outputs": [
    {
     "name": "stdout",
     "output_type": "stream",
     "text": [
      "Singe Model\n",
      "RMSE: 2.851, R^2: 0.470, MBE: 0.203, IOAD: 0.900\n"
     ]
    }
   ],
   "source": [
    "print('Singe Model')\n",
    "y_test_pred_single = model_layer2_lgb_single.predict(X_test)\n",
    "diagnostic_stats(y_test*y_test_std + y_test_mean, y_test_pred_single*y_test_std + y_test_mean);"
   ]
  },
  {
   "cell_type": "code",
   "execution_count": 272,
   "metadata": {},
   "outputs": [
    {
     "data": {
      "text/plain": [
       "<matplotlib.legend.Legend at 0x1a52fe3c88>"
      ]
     },
     "execution_count": 272,
     "metadata": {},
     "output_type": "execute_result"
    },
    {
     "data": {
      "image/png": "[encoded data removed]",
      "text/plain": [
       "<Figure size 1296x432 with 1 Axes>"
      ]
     },
     "metadata": {
      "needs_background": "light"
     },
     "output_type": "display_data"
    }
   ],
   "source": [
    "plt.figure(figsize=(18,6))\n",
    "plt.plot(df_test.index.date, df_test[yvar]*y_test_std + y_test_mean, '.-', label='true')\n",
    "plt.plot(df_test.index.date, y_test_pred_single*y_test_std + y_test_mean, '.', label='single')\n",
    "plt.plot(df_test.index.date, y_test_pred_ensemble*y_test_std + y_test_mean, '.', label='ensemble')\n",
    "plt.legend()"
   ]
  },
  {
   "cell_type": "code",
   "execution_count": 273,
   "metadata": {},
   "outputs": [
    {
     "data": {
      "text/plain": [
       "(-5, 5)"
      ]
     },
     "execution_count": 273,
     "metadata": {},
     "output_type": "execute_result"
    },
    {
     "data": {
      "image/png": "[encoded data removed]",
      "text/plain": [
       "<Figure size 432x432 with 1 Axes>"
      ]
     },
     "metadata": {
      "needs_background": "light"
     },
     "output_type": "display_data"
    }
   ],
   "source": [
    "plt.figure(figsize=(6,6))\n",
    "plt.hist(df_test[yvar] - y_test_pred_single, histtype='step', lw=2, label='single', bins=50)\n",
    "plt.hist(df_test[yvar] - y_test_pred_ensemble, histtype='step', lw=2, label='ensemble', bins=50)\n",
    "plt.xlabel('Residual = (ytrue - ypred)')\n",
    "plt.ylabel('count')\n",
    "plt.legend()\n",
    "plt.xlim(-5,5)"
   ]
  }
 ],
 "metadata": {
  "kernelspec": {
   "display_name": "Python 3",
   "language": "python",
   "name": "python3"
  },
  "language_info": {
   "codemirror_mode": {
    "name": "ipython",
    "version": 3
   },
   "file_extension": ".py",
   "mimetype": "text/x-python",
   "name": "python",
   "nbconvert_exporter": "python",
   "pygments_lexer": "ipython3",
   "version": "3.7.3"
  },
  "toc": {
   "base_numbering": 1,
   "nav_menu": {},
   "number_sections": true,
   "sideBar": true,
   "skip_h1_title": false,
   "title_cell": "Table of Contents",
   "title_sidebar": "Contents",
   "toc_cell": false,
   "toc_position": {},
   "toc_section_display": true,
   "toc_window_display": false
  }
 },
 "nbformat": 4,
 "nbformat_minor": 2
}
