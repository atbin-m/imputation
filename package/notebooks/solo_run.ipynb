{
 "cells": [
  {
   "cell_type": "markdown",
   "metadata": {},
   "source": [
    "# SOLO vs LGBM run\n",
    "\n",
    "https://github.com/kuolinhsu/SOLO"
   ]
  },
  {
   "cell_type": "code",
   "execution_count": 13,
   "metadata": {},
   "outputs": [],
   "source": [
    "import pandas as pd\n",
    "import numpy as np\n",
    "import datetime\n",
    "from sklearn.preprocessing import StandardScaler"
   ]
  },
  {
   "cell_type": "code",
   "execution_count": 3,
   "metadata": {},
   "outputs": [
    {
     "data": {
      "text/plain": [
       "(Timestamp('2013-01-01 01:00:00'), Timestamp('2014-01-01 00:00:00'))"
      ]
     },
     "execution_count": 3,
     "metadata": {},
     "output_type": "execute_result"
    }
   ],
   "source": [
    "df = pd.read_csv('rnn_data_prajwal.csv', parse_dates=['DateTime'], index_col='DateTime')\n",
    "df.drop('Unnamed: 0', axis=1, inplace=True)\n",
    "\n",
    "df.index.min(), df.index.max()"
   ]
  },
  {
   "cell_type": "code",
   "execution_count": 4,
   "metadata": {},
   "outputs": [],
   "source": [
    "Xvar = ['Ta', 'Ws', 'Fg', 'VPD', 'Fn', 'q', 'Ts', 'Sws']\n",
    "yvar = 'Fc'"
   ]
  },
  {
   "cell_type": "markdown",
   "metadata": {},
   "source": [
    "## Train-test splits\n",
    "1. Test: 60 days starting randomly picked date\n",
    "2. Train: Remaining data\n",
    "    a. Layer 1 and Layer 2: 50:50 random split\n",
    "    b. Layer 1 further divided into 1/m unique train sets, where m = number of unique models. "
   ]
  },
  {
   "cell_type": "code",
   "execution_count": 11,
   "metadata": {},
   "outputs": [
    {
     "name": "stdout",
     "output_type": "stream",
     "text": [
      "Test start date: 2013-03-21\n",
      "Test end date: 2013-05-20\n"
     ]
    }
   ],
   "source": [
    "# Test data set\n",
    "# 60 days window starting from randomly picked day.\n",
    "np.random.seed(41)\n",
    "test_start_day = np.random.choice(df.index.date, 1)[0]\n",
    "test_end_day = test_start_day + datetime.timedelta(days=60)\n",
    "print('Test start date:', test_start_day)\n",
    "print('Test end date:', test_end_day)"
   ]
  },
  {
   "cell_type": "code",
   "execution_count": 14,
   "metadata": {},
   "outputs": [],
   "source": [
    "df_test = df.loc[test_start_day:test_end_day].copy()\n",
    "df_train = pd.concat([df.loc[:test_start_day], df.loc[test_end_day:]]).copy()\n",
    "\n",
    "# Scaling test frame\n",
    "y_test_mean, y_test_std = df_test[yvar].mean(), df_test[yvar].std()\n",
    "scaler_test = StandardScaler()\n",
    "df_test[df_test.keys()] = scaler_test.fit_transform(df_test)\n",
    "\n",
    "# Scaling train frame\n",
    "y_train_mean, y_train_std = df_train[yvar].mean(), df_train[yvar].std()\n",
    "scaler_train = StandardScaler()\n",
    "df_train[df_train.keys()] = scaler_train.fit_transform(df_train)"
   ]
  },
  {
   "cell_type": "code",
   "execution_count": 15,
   "metadata": {},
   "outputs": [
    {
     "name": "stdout",
     "output_type": "stream",
     "text": [
      "2013-03-21 02:30:00 > 2013-03-20 21:00:00\n",
      "2013-05-19 20:30:00 < 2013-05-20 06:00:00\n"
     ]
    }
   ],
   "source": [
    "print(df.loc[test_start_day:test_end_day].index.min(), '>', df.loc[:test_start_day].index.max())\n",
    "print(df.loc[test_start_day:test_end_day].index.max(), '<',df.loc[test_end_day:].index.min())\n",
    "\n",
    "assert df.loc[test_start_day:test_end_day].index.min() > df.loc[:test_start_day].index.max()\n",
    "assert df.loc[test_start_day:test_end_day].index.max() < df.loc[test_end_day:].index.min()"
   ]
  },
  {
   "cell_type": "code",
   "execution_count": 18,
   "metadata": {},
   "outputs": [],
   "source": [
    "X_test, y_test = df_test[Xvar], df_test[yvar]\n",
    "X_train, y_train = df_train[Xvar], df_train[yvar]"
   ]
  },
  {
   "cell_type": "markdown",
   "metadata": {},
   "source": [
    "### Preparing data from SOLO run"
   ]
  },
  {
   "cell_type": "code",
   "execution_count": 21,
   "metadata": {},
   "outputs": [],
   "source": [
    "path = '/Users/pluto/Desktop/bag/tutoring/atbin/imputation/package/SOLO/data/'"
   ]
  },
  {
   "cell_type": "code",
   "execution_count": 22,
   "metadata": {},
   "outputs": [],
   "source": [
    "# Preparing data for SOFM\n",
    "df_train[Xvar].to_csv(path + 'sofm_input.csv', header=False, index=False)\n",
    "\n",
    "# Preparing data for SOLO\n",
    "df_train[Xvar + [yvar]].to_csv(path + 'solo_input.csv', header=False, index=False)\n",
    "\n",
    "# test data\n",
    "# Preparing data for SEQSOLO\n",
    "df_train[Xvar + [yvar]].to_csv(path + 'seqsolo_input.csv', header=False, index=False)"
   ]
  },
  {
   "cell_type": "code",
   "execution_count": null,
   "metadata": {},
   "outputs": [],
   "source": []
  }
 ],
 "metadata": {
  "kernelspec": {
   "display_name": "Python 3",
   "language": "python",
   "name": "python3"
  },
  "language_info": {
   "codemirror_mode": {
    "name": "ipython",
    "version": 3
   },
   "file_extension": ".py",
   "mimetype": "text/x-python",
   "name": "python",
   "nbconvert_exporter": "python",
   "pygments_lexer": "ipython3",
   "version": "3.7.3"
  },
  "toc": {
   "base_numbering": 1,
   "nav_menu": {},
   "number_sections": true,
   "sideBar": true,
   "skip_h1_title": false,
   "title_cell": "Table of Contents",
   "title_sidebar": "Contents",
   "toc_cell": false,
   "toc_position": {},
   "toc_section_display": true,
   "toc_window_display": false
  }
 },
 "nbformat": 4,
 "nbformat_minor": 2
}
