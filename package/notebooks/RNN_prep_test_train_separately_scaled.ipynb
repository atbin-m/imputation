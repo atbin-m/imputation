{
 "cells": [
  {
   "cell_type": "markdown",
   "metadata": {},
   "source": [
    "https://machinelearningmastery.com/multivariate-time-series-forecasting-lstms-keras/"
   ]
  },
  {
   "cell_type": "code",
   "execution_count": 184,
   "metadata": {},
   "outputs": [],
   "source": [
    "import pandas as pd\n",
    "import numpy as np\n",
    "import matplotlib.pyplot as plt\n",
    "%matplotlib inline"
   ]
  },
  {
   "cell_type": "code",
   "execution_count": 185,
   "metadata": {},
   "outputs": [
    {
     "name": "stdout",
     "output_type": "stream",
     "text": [
      "RNN_prep.ipynb\r\n",
      "RNN_prep_test_train_separately_scaled.ipynb\r\n",
      "Untitled.ipynb\r\n",
      "rnn_data_prajwal.csv\r\n"
     ]
    }
   ],
   "source": [
    "ls"
   ]
  },
  {
   "cell_type": "code",
   "execution_count": 186,
   "metadata": {},
   "outputs": [],
   "source": [
    "df = pd.read_csv('rnn_data_prajwal.csv', parse_dates=['DateTime'], index_col='DateTime')"
   ]
  },
  {
   "cell_type": "code",
   "execution_count": 187,
   "metadata": {},
   "outputs": [
    {
     "data": {
      "text/html": [
       "<div>\n",
       "<style scoped>\n",
       "    .dataframe tbody tr th:only-of-type {\n",
       "        vertical-align: middle;\n",
       "    }\n",
       "\n",
       "    .dataframe tbody tr th {\n",
       "        vertical-align: top;\n",
       "    }\n",
       "\n",
       "    .dataframe thead th {\n",
       "        text-align: right;\n",
       "    }\n",
       "</style>\n",
       "<table border=\"1\" class=\"dataframe\">\n",
       "  <thead>\n",
       "    <tr style=\"text-align: right;\">\n",
       "      <th></th>\n",
       "      <th>Unnamed: 0</th>\n",
       "      <th>Fc</th>\n",
       "      <th>Ta</th>\n",
       "      <th>Ws</th>\n",
       "      <th>Fg</th>\n",
       "      <th>VPD</th>\n",
       "      <th>Fn</th>\n",
       "      <th>q</th>\n",
       "      <th>Ts</th>\n",
       "      <th>Sws</th>\n",
       "    </tr>\n",
       "    <tr>\n",
       "      <th>DateTime</th>\n",
       "      <th></th>\n",
       "      <th></th>\n",
       "      <th></th>\n",
       "      <th></th>\n",
       "      <th></th>\n",
       "      <th></th>\n",
       "      <th></th>\n",
       "      <th></th>\n",
       "      <th></th>\n",
       "      <th></th>\n",
       "    </tr>\n",
       "  </thead>\n",
       "  <tbody>\n",
       "    <tr>\n",
       "      <td>2013-01-01 01:00:00</td>\n",
       "      <td>1</td>\n",
       "      <td>3.070399</td>\n",
       "      <td>26.998711</td>\n",
       "      <td>2.08</td>\n",
       "      <td>-20.984654</td>\n",
       "      <td>1.183521</td>\n",
       "      <td>-39.635899</td>\n",
       "      <td>0.014801</td>\n",
       "      <td>32.291790</td>\n",
       "      <td>0.032662</td>\n",
       "    </tr>\n",
       "    <tr>\n",
       "      <td>2013-01-01 01:30:00</td>\n",
       "      <td>2</td>\n",
       "      <td>2.948313</td>\n",
       "      <td>26.629910</td>\n",
       "      <td>2.47</td>\n",
       "      <td>-19.131921</td>\n",
       "      <td>1.067606</td>\n",
       "      <td>-35.979652</td>\n",
       "      <td>0.015045</td>\n",
       "      <td>32.036301</td>\n",
       "      <td>0.032636</td>\n",
       "    </tr>\n",
       "    <tr>\n",
       "      <td>2013-01-01 02:00:00</td>\n",
       "      <td>3</td>\n",
       "      <td>2.369790</td>\n",
       "      <td>26.294310</td>\n",
       "      <td>1.95</td>\n",
       "      <td>-18.278720</td>\n",
       "      <td>1.002275</td>\n",
       "      <td>-38.033844</td>\n",
       "      <td>0.015030</td>\n",
       "      <td>31.798710</td>\n",
       "      <td>0.032619</td>\n",
       "    </tr>\n",
       "    <tr>\n",
       "      <td>2013-01-01 02:30:00</td>\n",
       "      <td>4</td>\n",
       "      <td>0.105580</td>\n",
       "      <td>25.739479</td>\n",
       "      <td>1.55</td>\n",
       "      <td>-17.862080</td>\n",
       "      <td>0.927464</td>\n",
       "      <td>-41.878986</td>\n",
       "      <td>0.014810</td>\n",
       "      <td>31.572710</td>\n",
       "      <td>0.032582</td>\n",
       "    </tr>\n",
       "    <tr>\n",
       "      <td>2013-01-01 03:30:00</td>\n",
       "      <td>6</td>\n",
       "      <td>2.085828</td>\n",
       "      <td>24.548740</td>\n",
       "      <td>2.69</td>\n",
       "      <td>-21.647482</td>\n",
       "      <td>0.792163</td>\n",
       "      <td>-57.483334</td>\n",
       "      <td>0.014242</td>\n",
       "      <td>31.069750</td>\n",
       "      <td>0.032534</td>\n",
       "    </tr>\n",
       "  </tbody>\n",
       "</table>\n",
       "</div>"
      ],
      "text/plain": [
       "                     Unnamed: 0        Fc         Ta    Ws         Fg  \\\n",
       "DateTime                                                                \n",
       "2013-01-01 01:00:00           1  3.070399  26.998711  2.08 -20.984654   \n",
       "2013-01-01 01:30:00           2  2.948313  26.629910  2.47 -19.131921   \n",
       "2013-01-01 02:00:00           3  2.369790  26.294310  1.95 -18.278720   \n",
       "2013-01-01 02:30:00           4  0.105580  25.739479  1.55 -17.862080   \n",
       "2013-01-01 03:30:00           6  2.085828  24.548740  2.69 -21.647482   \n",
       "\n",
       "                          VPD         Fn         q         Ts       Sws  \n",
       "DateTime                                                                 \n",
       "2013-01-01 01:00:00  1.183521 -39.635899  0.014801  32.291790  0.032662  \n",
       "2013-01-01 01:30:00  1.067606 -35.979652  0.015045  32.036301  0.032636  \n",
       "2013-01-01 02:00:00  1.002275 -38.033844  0.015030  31.798710  0.032619  \n",
       "2013-01-01 02:30:00  0.927464 -41.878986  0.014810  31.572710  0.032582  \n",
       "2013-01-01 03:30:00  0.792163 -57.483334  0.014242  31.069750  0.032534  "
      ]
     },
     "execution_count": 187,
     "metadata": {},
     "output_type": "execute_result"
    }
   ],
   "source": [
    "df.head()"
   ]
  },
  {
   "cell_type": "code",
   "execution_count": 188,
   "metadata": {},
   "outputs": [
    {
     "data": {
      "text/plain": [
       "Index(['Unnamed: 0', 'Fc', 'Ta', 'Ws', 'Fg', 'VPD', 'Fn', 'q', 'Ts', 'Sws'], dtype='object')"
      ]
     },
     "execution_count": 188,
     "metadata": {},
     "output_type": "execute_result"
    }
   ],
   "source": [
    "df.keys()"
   ]
  },
  {
   "cell_type": "code",
   "execution_count": 189,
   "metadata": {},
   "outputs": [
    {
     "name": "stdout",
     "output_type": "stream",
     "text": [
      "<class 'pandas.core.frame.DataFrame'>\n",
      "DatetimeIndex: 9015 entries, 2013-01-01 01:00:00 to 2014-01-01 00:00:00\n",
      "Data columns (total 10 columns):\n",
      "Unnamed: 0    9015 non-null int64\n",
      "Fc            9015 non-null float64\n",
      "Ta            9015 non-null float64\n",
      "Ws            9015 non-null float64\n",
      "Fg            9015 non-null float64\n",
      "VPD           9015 non-null float64\n",
      "Fn            9015 non-null float64\n",
      "q             9015 non-null float64\n",
      "Ts            9015 non-null float64\n",
      "Sws           9015 non-null float64\n",
      "dtypes: float64(9), int64(1)\n",
      "memory usage: 774.7 KB\n"
     ]
    }
   ],
   "source": [
    "df.info()"
   ]
  },
  {
   "cell_type": "code",
   "execution_count": 190,
   "metadata": {},
   "outputs": [
    {
     "data": {
      "image/png": "[encoded data removed]",
      "text/plain": [
       "<Figure size 432x288 with 9 Axes>"
      ]
     },
     "metadata": {
      "needs_background": "light"
     },
     "output_type": "display_data"
    }
   ],
   "source": [
    "values = df.values\n",
    "# specify columns to plot\n",
    "groups = [1, 2, 3, 4, 5, 6, 7, 8, 9]\n",
    "i = 1\n",
    "# plot each column\n",
    "plt.figure()\n",
    "for group in groups:\n",
    "    plt.subplot(len(groups), 1, i)\n",
    "    plt.plot(values[:, group])\n",
    "    plt.title(df.columns[group], y=0.5, loc='right')\n",
    "    i += 1\n",
    "plt.show()"
   ]
  },
  {
   "cell_type": "code",
   "execution_count": 191,
   "metadata": {},
   "outputs": [],
   "source": [
    "from sklearn.model_selection import train_test_split\n",
    "from sklearn.linear_model import LinearRegression\n",
    "from sklearn.metrics import mean_squared_error\n",
    "from sklearn.preprocessing import StandardScaler"
   ]
  },
  {
   "cell_type": "code",
   "execution_count": 192,
   "metadata": {},
   "outputs": [],
   "source": [
    "Xvar = ['Ta', 'Ws', 'Fg', 'VPD', 'Fn', 'q', 'Ts', 'Sws']\n",
    "yvar = 'Fc'"
   ]
  },
  {
   "cell_type": "markdown",
   "metadata": {},
   "source": [
    "### Classical fit with random test/train split"
   ]
  },
  {
   "cell_type": "code",
   "execution_count": 193,
   "metadata": {},
   "outputs": [],
   "source": [
    "X_train, X_test, y_train, y_test = train_test_split(df[Xvar], df[yvar], \n",
    "                                                    test_size=0.33, random_state=42)"
   ]
  },
  {
   "cell_type": "code",
   "execution_count": 194,
   "metadata": {},
   "outputs": [],
   "source": [
    "scaler = StandardScaler()\n",
    "Xtrain = scaler.fit_transform(X_train[Xvar])\n",
    "reg = LinearRegression().fit(Xtrain, y_train)\n",
    "\n",
    "Xtest = scaler.fit_transform(X_test[Xvar])\n",
    "y_pred = reg.predict(Xtest)"
   ]
  },
  {
   "cell_type": "code",
   "execution_count": 195,
   "metadata": {},
   "outputs": [
    {
     "data": {
      "text/plain": [
       "[<matplotlib.lines.Line2D at 0x1a6d13cf98>]"
      ]
     },
     "execution_count": 195,
     "metadata": {},
     "output_type": "execute_result"
    },
    {
     "data": {
      "image/png": "[encoded data removed]",
      "text/plain": [
       "<Figure size 432x288 with 1 Axes>"
      ]
     },
     "metadata": {
      "needs_background": "light"
     },
     "output_type": "display_data"
    }
   ],
   "source": [
    "plt.plot(y_test, y_pred, '.')"
   ]
  },
  {
   "cell_type": "code",
   "execution_count": 196,
   "metadata": {},
   "outputs": [
    {
     "data": {
      "text/plain": [
       "11.266022762352394"
      ]
     },
     "execution_count": 196,
     "metadata": {},
     "output_type": "execute_result"
    }
   ],
   "source": [
    "mean_squared_error(y_test, y_pred)"
   ]
  },
  {
   "cell_type": "markdown",
   "metadata": {},
   "source": [
    "### LSTM "
   ]
  },
  {
   "cell_type": "markdown",
   "metadata": {},
   "source": [
    "#### Data preparation"
   ]
  },
  {
   "cell_type": "code",
   "execution_count": 197,
   "metadata": {},
   "outputs": [],
   "source": [
    "from sklearn.preprocessing import MinMaxScaler"
   ]
  },
  {
   "cell_type": "code",
   "execution_count": 198,
   "metadata": {},
   "outputs": [],
   "source": [
    "# convert series to supervised learning\n",
    "def series_to_supervised(data, n_in=1, n_out=1, dropnan=True):\n",
    "    n_vars = 1 if type(data) is list else data.shape[1]\n",
    "    df = pd.DataFrame(data)\n",
    "    cols, names = list(), list()\n",
    "    # input sequence (t-n, ... t-1)\n",
    "    for i in range(n_in, 0, -1):\n",
    "        cols.append(df.shift(i))\n",
    "        names += [('var%d(t-%d)' % (j+1, i)) for j in range(n_vars)]\n",
    "    # forecast sequence (t, t+1, ... t+n)\n",
    "    for i in range(0, n_out):\n",
    "        cols.append(df.shift(-i))\n",
    "        if i == 0:\n",
    "            names += [('var%d(t)' % (j+1)) for j in range(n_vars)]\n",
    "        else:\n",
    "            names += [('var%d(t+%d)' % (j+1, i)) for j in range(n_vars)]\n",
    "    # put it all together\n",
    "    agg = pd.concat(cols, axis=1)\n",
    "    agg.columns = names\n",
    "    # drop rows with NaN values\n",
    "    if dropnan:\n",
    "        agg.dropna(inplace=True)\n",
    "    return agg"
   ]
  },
  {
   "cell_type": "code",
   "execution_count": 199,
   "metadata": {},
   "outputs": [
    {
     "data": {
      "text/html": [
       "<div>\n",
       "<style scoped>\n",
       "    .dataframe tbody tr th:only-of-type {\n",
       "        vertical-align: middle;\n",
       "    }\n",
       "\n",
       "    .dataframe tbody tr th {\n",
       "        vertical-align: top;\n",
       "    }\n",
       "\n",
       "    .dataframe thead th {\n",
       "        text-align: right;\n",
       "    }\n",
       "</style>\n",
       "<table border=\"1\" class=\"dataframe\">\n",
       "  <thead>\n",
       "    <tr style=\"text-align: right;\">\n",
       "      <th></th>\n",
       "      <th>Ta</th>\n",
       "      <th>Ws</th>\n",
       "      <th>Fg</th>\n",
       "      <th>VPD</th>\n",
       "      <th>Fn</th>\n",
       "      <th>q</th>\n",
       "      <th>Ts</th>\n",
       "      <th>Sws</th>\n",
       "      <th>Fc</th>\n",
       "    </tr>\n",
       "    <tr>\n",
       "      <th>DateTime</th>\n",
       "      <th></th>\n",
       "      <th></th>\n",
       "      <th></th>\n",
       "      <th></th>\n",
       "      <th></th>\n",
       "      <th></th>\n",
       "      <th></th>\n",
       "      <th></th>\n",
       "      <th></th>\n",
       "    </tr>\n",
       "  </thead>\n",
       "  <tbody>\n",
       "    <tr>\n",
       "      <td>2013-01-01 01:00:00</td>\n",
       "      <td>26.998711</td>\n",
       "      <td>2.08</td>\n",
       "      <td>-20.984654</td>\n",
       "      <td>1.183521</td>\n",
       "      <td>-39.635899</td>\n",
       "      <td>0.014801</td>\n",
       "      <td>32.291790</td>\n",
       "      <td>0.032662</td>\n",
       "      <td>3.070399</td>\n",
       "    </tr>\n",
       "    <tr>\n",
       "      <td>2013-01-01 01:30:00</td>\n",
       "      <td>26.629910</td>\n",
       "      <td>2.47</td>\n",
       "      <td>-19.131921</td>\n",
       "      <td>1.067606</td>\n",
       "      <td>-35.979652</td>\n",
       "      <td>0.015045</td>\n",
       "      <td>32.036301</td>\n",
       "      <td>0.032636</td>\n",
       "      <td>2.948313</td>\n",
       "    </tr>\n",
       "    <tr>\n",
       "      <td>2013-01-01 02:00:00</td>\n",
       "      <td>26.294310</td>\n",
       "      <td>1.95</td>\n",
       "      <td>-18.278720</td>\n",
       "      <td>1.002275</td>\n",
       "      <td>-38.033844</td>\n",
       "      <td>0.015030</td>\n",
       "      <td>31.798710</td>\n",
       "      <td>0.032619</td>\n",
       "      <td>2.369790</td>\n",
       "    </tr>\n",
       "    <tr>\n",
       "      <td>2013-01-01 02:30:00</td>\n",
       "      <td>25.739479</td>\n",
       "      <td>1.55</td>\n",
       "      <td>-17.862080</td>\n",
       "      <td>0.927464</td>\n",
       "      <td>-41.878986</td>\n",
       "      <td>0.014810</td>\n",
       "      <td>31.572710</td>\n",
       "      <td>0.032582</td>\n",
       "      <td>0.105580</td>\n",
       "    </tr>\n",
       "    <tr>\n",
       "      <td>2013-01-01 03:30:00</td>\n",
       "      <td>24.548740</td>\n",
       "      <td>2.69</td>\n",
       "      <td>-21.647482</td>\n",
       "      <td>0.792163</td>\n",
       "      <td>-57.483334</td>\n",
       "      <td>0.014242</td>\n",
       "      <td>31.069750</td>\n",
       "      <td>0.032534</td>\n",
       "      <td>2.085828</td>\n",
       "    </tr>\n",
       "  </tbody>\n",
       "</table>\n",
       "</div>"
      ],
      "text/plain": [
       "                            Ta    Ws         Fg       VPD         Fn  \\\n",
       "DateTime                                                               \n",
       "2013-01-01 01:00:00  26.998711  2.08 -20.984654  1.183521 -39.635899   \n",
       "2013-01-01 01:30:00  26.629910  2.47 -19.131921  1.067606 -35.979652   \n",
       "2013-01-01 02:00:00  26.294310  1.95 -18.278720  1.002275 -38.033844   \n",
       "2013-01-01 02:30:00  25.739479  1.55 -17.862080  0.927464 -41.878986   \n",
       "2013-01-01 03:30:00  24.548740  2.69 -21.647482  0.792163 -57.483334   \n",
       "\n",
       "                            q         Ts       Sws        Fc  \n",
       "DateTime                                                      \n",
       "2013-01-01 01:00:00  0.014801  32.291790  0.032662  3.070399  \n",
       "2013-01-01 01:30:00  0.015045  32.036301  0.032636  2.948313  \n",
       "2013-01-01 02:00:00  0.015030  31.798710  0.032619  2.369790  \n",
       "2013-01-01 02:30:00  0.014810  31.572710  0.032582  0.105580  \n",
       "2013-01-01 03:30:00  0.014242  31.069750  0.032534  2.085828  "
      ]
     },
     "execution_count": 199,
     "metadata": {},
     "output_type": "execute_result"
    }
   ],
   "source": [
    "df[Xvar + [yvar]].head()"
   ]
  },
  {
   "cell_type": "code",
   "execution_count": 200,
   "metadata": {},
   "outputs": [
    {
     "name": "stdout",
     "output_type": "stream",
     "text": [
      "<class 'pandas.core.frame.DataFrame'>\n",
      "DatetimeIndex: 9015 entries, 2013-01-01 01:00:00 to 2014-01-01 00:00:00\n",
      "Data columns (total 9 columns):\n",
      "Ta     9015 non-null float64\n",
      "Ws     9015 non-null float64\n",
      "Fg     9015 non-null float64\n",
      "VPD    9015 non-null float64\n",
      "Fn     9015 non-null float64\n",
      "q      9015 non-null float64\n",
      "Ts     9015 non-null float64\n",
      "Sws    9015 non-null float64\n",
      "Fc     9015 non-null float64\n",
      "dtypes: float64(9)\n",
      "memory usage: 704.3 KB\n"
     ]
    }
   ],
   "source": [
    "df[Xvar + [yvar]].info()"
   ]
  },
  {
   "cell_type": "code",
   "execution_count": 296,
   "metadata": {},
   "outputs": [],
   "source": [
    "#scaler_inst = MinMaxScaler(feature_range=(0,1))\n",
    "def scale_features(idf, yvar, xvar, scaler_inst):\n",
    "    scaled = scaler.fit_transform(idf[yvar + xvar])\n",
    "\n",
    "    # frame as supervised learning\n",
    "    reframed = series_to_supervised(scaled, 1, 1)\n",
    "    \n",
    "    # Number of x and y features\n",
    "    nxy = idf.shape[1]\n",
    "    \n",
    "    # As we only want to predict y(t) i.e. var1(t) drop all other (t) terms\n",
    "    reframed.drop(reframed.keys()[nxy:], axis=1, inplace=True)\n",
    "    \n",
    "    print('Reframed: ', reframed.shape, 'df', idf.shape)\n",
    "    print(reframed.head())\n",
    "\n",
    "    return reframed"
   ]
  },
  {
   "cell_type": "markdown",
   "metadata": {},
   "source": [
    "### Train/test preparation"
   ]
  },
  {
   "cell_type": "code",
   "execution_count": 311,
   "metadata": {},
   "outputs": [
    {
     "name": "stdout",
     "output_type": "stream",
     "text": [
      "(8760, 10) (255, 10)\n"
     ]
    }
   ],
   "source": [
    "# split into train and test sets\n",
    "values = reframed.values\n",
    "n_train_hours = 365 * 24\n",
    "\n",
    "train_df = df.iloc[:n_train_hours]\n",
    "test_df = df.iloc[n_train_hours:]\n",
    "\n",
    "print(train_df.shape, test_df.shape)"
   ]
  },
  {
   "cell_type": "code",
   "execution_count": 318,
   "metadata": {},
   "outputs": [
    {
     "name": "stdout",
     "output_type": "stream",
     "text": [
      "Reframed:  (8759, 10) df (8760, 10)\n",
      "   var1(t-1)  var2(t-1)  var3(t-1)  var4(t-1)  var5(t-1)  var6(t-1)  \\\n",
      "1   1.074316   0.746103  -1.127272  -0.791189  -0.291165  -1.045799   \n",
      "2   1.048060   0.684029  -0.887748  -0.759543  -0.394719  -1.032302   \n",
      "3   0.923639   0.627543  -1.207114  -0.744970  -0.453083  -1.039885   \n",
      "4   0.436683   0.534158  -1.452779  -0.737853  -0.519918  -1.054079   \n",
      "5   0.862568   0.333742  -0.752632  -0.802511  -0.640791  -1.111682   \n",
      "\n",
      "   var7(t-1)  var8(t-1)  var9(t-1)   var1(t)  \n",
      "1   2.612014   0.957753  -0.683231  1.048060  \n",
      "2   2.714835   0.930772  -0.685142  0.923639  \n",
      "3   2.708731   0.905680  -0.686383  0.436683  \n",
      "4   2.616024   0.881813  -0.688997  0.862568  \n",
      "5   2.376905   0.828697  -0.692480  0.385500  \n",
      "(255, 8)\n"
     ]
    }
   ],
   "source": [
    "# Scaling training set\n",
    "scaler_inst = StandardScaler()\n",
    "reframed_train = scale_features(train_df, [yvar], Xvar, scaler_inst)\n",
    "\n",
    "# Scaling test set\n",
    "scaler_inst = StandardScaler()\n",
    "test_df = pd.DataFrame(scaler_inst.fit_transform(test_df[Xvar]), columns=Xvar)\n",
    "print(test_df.shape)"
   ]
  },
  {
   "cell_type": "code",
   "execution_count": 300,
   "metadata": {},
   "outputs": [
    {
     "name": "stdout",
     "output_type": "stream",
     "text": [
      "(8759, 10)\n",
      "(8759, 1, 9) (8759,)\n"
     ]
    }
   ],
   "source": [
    "# split into train and test sets\n",
    "values = reframed_train.values\n",
    "train = values[:n_train_hours, :]\n",
    "print(train.shape)\n",
    "\n",
    "# split into input and outputs\n",
    "train_X, train_y = train[:, :-1], train[:, -1]\n",
    "\n",
    "# reshape input to be 3D [samples, timesteps, features]\n",
    "train_X = train_X.reshape((train_X.shape[0], 1, train_X.shape[1]))\n",
    "print(train_X.shape, train_y.shape)"
   ]
  },
  {
   "cell_type": "markdown",
   "metadata": {},
   "source": [
    "### Training"
   ]
  },
  {
   "cell_type": "code",
   "execution_count": 209,
   "metadata": {},
   "outputs": [],
   "source": [
    "from keras.models import Sequential\n",
    "from keras.layers import Dense\n",
    "from keras.layers import LSTM\n",
    "from sklearn.metrics import mean_squared_error"
   ]
  },
  {
   "cell_type": "code",
   "execution_count": 302,
   "metadata": {
    "scrolled": true
   },
   "outputs": [
    {
     "name": "stdout",
     "output_type": "stream",
     "text": [
      "Epoch 1/50\n",
      " - 3s - loss: 0.5605\n",
      "Epoch 2/50\n",
      " - 1s - loss: 0.3962\n",
      "Epoch 3/50\n",
      " - 1s - loss: 0.3837\n",
      "Epoch 4/50\n",
      " - 1s - loss: 0.3753\n",
      "Epoch 5/50\n",
      " - 1s - loss: 0.3711\n",
      "Epoch 6/50\n",
      " - 1s - loss: 0.3688\n",
      "Epoch 7/50\n",
      " - 1s - loss: 0.3675\n",
      "Epoch 8/50\n",
      " - 1s - loss: 0.3659\n",
      "Epoch 9/50\n",
      " - 1s - loss: 0.3645\n",
      "Epoch 10/50\n",
      " - 1s - loss: 0.3631\n",
      "Epoch 11/50\n",
      " - 1s - loss: 0.3621\n",
      "Epoch 12/50\n",
      " - 1s - loss: 0.3609\n",
      "Epoch 13/50\n",
      " - 1s - loss: 0.3601\n",
      "Epoch 14/50\n",
      " - 1s - loss: 0.3589\n",
      "Epoch 15/50\n",
      " - 1s - loss: 0.3578\n",
      "Epoch 16/50\n",
      " - 1s - loss: 0.3569\n",
      "Epoch 17/50\n",
      " - 1s - loss: 0.3559\n",
      "Epoch 18/50\n",
      " - 1s - loss: 0.3546\n",
      "Epoch 19/50\n",
      " - 1s - loss: 0.3541\n",
      "Epoch 20/50\n",
      " - 1s - loss: 0.3532\n",
      "Epoch 21/50\n",
      " - 1s - loss: 0.3525\n",
      "Epoch 22/50\n",
      " - 1s - loss: 0.3517\n",
      "Epoch 23/50\n",
      " - 1s - loss: 0.3511\n",
      "Epoch 24/50\n",
      " - 1s - loss: 0.3500\n",
      "Epoch 25/50\n",
      " - 1s - loss: 0.3492\n",
      "Epoch 26/50\n",
      " - 1s - loss: 0.3486\n",
      "Epoch 27/50\n",
      " - 1s - loss: 0.3477\n",
      "Epoch 28/50\n",
      " - 1s - loss: 0.3472\n",
      "Epoch 29/50\n",
      " - 1s - loss: 0.3467\n",
      "Epoch 30/50\n",
      " - 1s - loss: 0.3460\n",
      "Epoch 31/50\n",
      " - 1s - loss: 0.3455\n",
      "Epoch 32/50\n",
      " - 1s - loss: 0.3451\n",
      "Epoch 33/50\n",
      " - 1s - loss: 0.3447\n",
      "Epoch 34/50\n",
      " - 1s - loss: 0.3442\n",
      "Epoch 35/50\n",
      " - 1s - loss: 0.3437\n",
      "Epoch 36/50\n",
      " - 1s - loss: 0.3434\n",
      "Epoch 37/50\n",
      " - 1s - loss: 0.3431\n",
      "Epoch 38/50\n",
      " - 1s - loss: 0.3429\n",
      "Epoch 39/50\n",
      " - 1s - loss: 0.3425\n",
      "Epoch 40/50\n",
      " - 1s - loss: 0.3422\n",
      "Epoch 41/50\n",
      " - 1s - loss: 0.3421\n",
      "Epoch 42/50\n",
      " - 1s - loss: 0.3416\n",
      "Epoch 43/50\n",
      " - 1s - loss: 0.3412\n",
      "Epoch 44/50\n",
      " - 1s - loss: 0.3410\n",
      "Epoch 45/50\n",
      " - 1s - loss: 0.3407\n",
      "Epoch 46/50\n",
      " - 1s - loss: 0.3405\n",
      "Epoch 47/50\n",
      " - 1s - loss: 0.3401\n",
      "Epoch 48/50\n",
      " - 1s - loss: 0.3400\n",
      "Epoch 49/50\n",
      " - 1s - loss: 0.3398\n",
      "Epoch 50/50\n",
      " - 1s - loss: 0.3397\n"
     ]
    },
    {
     "ename": "KeyError",
     "evalue": "'val_loss'",
     "output_type": "error",
     "traceback": [
      "\u001b[0;31m---------------------------------------------------------------------------\u001b[0m",
      "\u001b[0;31mKeyError\u001b[0m                                  Traceback (most recent call last)",
      "\u001b[0;32m<ipython-input-302-dc743ac915a2>\u001b[0m in \u001b[0;36m<module>\u001b[0;34m\u001b[0m\n\u001b[1;32m      9\u001b[0m \u001b[0;31m# plot history\u001b[0m\u001b[0;34m\u001b[0m\u001b[0;34m\u001b[0m\u001b[0;34m\u001b[0m\u001b[0m\n\u001b[1;32m     10\u001b[0m \u001b[0mplt\u001b[0m\u001b[0;34m.\u001b[0m\u001b[0mplot\u001b[0m\u001b[0;34m(\u001b[0m\u001b[0mhistory\u001b[0m\u001b[0;34m.\u001b[0m\u001b[0mhistory\u001b[0m\u001b[0;34m[\u001b[0m\u001b[0;34m'loss'\u001b[0m\u001b[0;34m]\u001b[0m\u001b[0;34m,\u001b[0m \u001b[0mlabel\u001b[0m\u001b[0;34m=\u001b[0m\u001b[0;34m'train'\u001b[0m\u001b[0;34m)\u001b[0m\u001b[0;34m\u001b[0m\u001b[0;34m\u001b[0m\u001b[0m\n\u001b[0;32m---> 11\u001b[0;31m \u001b[0mplt\u001b[0m\u001b[0;34m.\u001b[0m\u001b[0mplot\u001b[0m\u001b[0;34m(\u001b[0m\u001b[0mhistory\u001b[0m\u001b[0;34m.\u001b[0m\u001b[0mhistory\u001b[0m\u001b[0;34m[\u001b[0m\u001b[0;34m'val_loss'\u001b[0m\u001b[0;34m]\u001b[0m\u001b[0;34m,\u001b[0m \u001b[0mlabel\u001b[0m\u001b[0;34m=\u001b[0m\u001b[0;34m'test'\u001b[0m\u001b[0;34m)\u001b[0m\u001b[0;34m\u001b[0m\u001b[0;34m\u001b[0m\u001b[0m\n\u001b[0m\u001b[1;32m     12\u001b[0m \u001b[0mplt\u001b[0m\u001b[0;34m.\u001b[0m\u001b[0mlegend\u001b[0m\u001b[0;34m(\u001b[0m\u001b[0;34m)\u001b[0m\u001b[0;34m\u001b[0m\u001b[0;34m\u001b[0m\u001b[0m\n\u001b[1;32m     13\u001b[0m \u001b[0mplt\u001b[0m\u001b[0;34m.\u001b[0m\u001b[0mshow\u001b[0m\u001b[0;34m(\u001b[0m\u001b[0;34m)\u001b[0m\u001b[0;34m\u001b[0m\u001b[0;34m\u001b[0m\u001b[0m\n",
      "\u001b[0;31mKeyError\u001b[0m: 'val_loss'"
     ]
    },
    {
     "data": {
      "image/png": "[encoded data removed]",
      "text/plain": [
       "<Figure size 432x288 with 1 Axes>"
      ]
     },
     "metadata": {
      "needs_background": "light"
     },
     "output_type": "display_data"
    }
   ],
   "source": [
    "# design network\n",
    "model = Sequential()\n",
    "model.add(LSTM(50, input_shape=(train_X.shape[1], train_X.shape[2])))\n",
    "model.add(Dense(1))\n",
    "model.compile(loss='mae', optimizer='adam')\n",
    "# fit network\n",
    "history = model.fit(train_X, train_y, epochs=50, batch_size=72, #validation_data=(test_X, test_y), \n",
    "                    verbose=2, shuffle=False)\n",
    "# plot history\n",
    "plt.plot(history.history['loss'], label='train')\n",
    "plt.plot(history.history['val_loss'], label='test')\n",
    "plt.legend()\n",
    "plt.show()"
   ]
  },
  {
   "cell_type": "code",
   "execution_count": 320,
   "metadata": {},
   "outputs": [
    {
     "ename": "ValueError",
     "evalue": "Error when checking input: expected lstm_9_input to have 3 dimensions, but got array with shape (255, 8)",
     "output_type": "error",
     "traceback": [
      "\u001b[0;31m---------------------------------------------------------------------------\u001b[0m",
      "\u001b[0;31mValueError\u001b[0m                                Traceback (most recent call last)",
      "\u001b[0;32m<ipython-input-320-b19c6b2dab09>\u001b[0m in \u001b[0;36m<module>\u001b[0;34m\u001b[0m\n\u001b[1;32m      1\u001b[0m \u001b[0;31m# make a prediction\u001b[0m\u001b[0;34m\u001b[0m\u001b[0;34m\u001b[0m\u001b[0;34m\u001b[0m\u001b[0m\n\u001b[0;32m----> 2\u001b[0;31m \u001b[0myhat\u001b[0m \u001b[0;34m=\u001b[0m \u001b[0mmodel\u001b[0m\u001b[0;34m.\u001b[0m\u001b[0mpredict\u001b[0m\u001b[0;34m(\u001b[0m\u001b[0mtest_df\u001b[0m\u001b[0;34m)\u001b[0m\u001b[0;34m\u001b[0m\u001b[0;34m\u001b[0m\u001b[0m\n\u001b[0m",
      "\u001b[0;32m~/anaconda3/lib/python3.7/site-packages/keras/engine/training.py\u001b[0m in \u001b[0;36mpredict\u001b[0;34m(self, x, batch_size, verbose, steps, callbacks, max_queue_size, workers, use_multiprocessing)\u001b[0m\n\u001b[1;32m   1439\u001b[0m \u001b[0;34m\u001b[0m\u001b[0m\n\u001b[1;32m   1440\u001b[0m         \u001b[0;31m# Case 2: Symbolic tensors or Numpy array-like.\u001b[0m\u001b[0;34m\u001b[0m\u001b[0;34m\u001b[0m\u001b[0;34m\u001b[0m\u001b[0m\n\u001b[0;32m-> 1441\u001b[0;31m         \u001b[0mx\u001b[0m\u001b[0;34m,\u001b[0m \u001b[0m_\u001b[0m\u001b[0;34m,\u001b[0m \u001b[0m_\u001b[0m \u001b[0;34m=\u001b[0m \u001b[0mself\u001b[0m\u001b[0;34m.\u001b[0m\u001b[0m_standardize_user_data\u001b[0m\u001b[0;34m(\u001b[0m\u001b[0mx\u001b[0m\u001b[0;34m)\u001b[0m\u001b[0;34m\u001b[0m\u001b[0;34m\u001b[0m\u001b[0m\n\u001b[0m\u001b[1;32m   1442\u001b[0m         \u001b[0;32mif\u001b[0m \u001b[0mself\u001b[0m\u001b[0;34m.\u001b[0m\u001b[0mstateful\u001b[0m\u001b[0;34m:\u001b[0m\u001b[0;34m\u001b[0m\u001b[0;34m\u001b[0m\u001b[0m\n\u001b[1;32m   1443\u001b[0m             \u001b[0;32mif\u001b[0m \u001b[0mx\u001b[0m\u001b[0;34m[\u001b[0m\u001b[0;36m0\u001b[0m\u001b[0;34m]\u001b[0m\u001b[0;34m.\u001b[0m\u001b[0mshape\u001b[0m\u001b[0;34m[\u001b[0m\u001b[0;36m0\u001b[0m\u001b[0;34m]\u001b[0m \u001b[0;34m>\u001b[0m \u001b[0mbatch_size\u001b[0m \u001b[0;32mand\u001b[0m \u001b[0mx\u001b[0m\u001b[0;34m[\u001b[0m\u001b[0;36m0\u001b[0m\u001b[0;34m]\u001b[0m\u001b[0;34m.\u001b[0m\u001b[0mshape\u001b[0m\u001b[0;34m[\u001b[0m\u001b[0;36m0\u001b[0m\u001b[0;34m]\u001b[0m \u001b[0;34m%\u001b[0m \u001b[0mbatch_size\u001b[0m \u001b[0;34m!=\u001b[0m \u001b[0;36m0\u001b[0m\u001b[0;34m:\u001b[0m\u001b[0;34m\u001b[0m\u001b[0;34m\u001b[0m\u001b[0m\n",
      "\u001b[0;32m~/anaconda3/lib/python3.7/site-packages/keras/engine/training.py\u001b[0m in \u001b[0;36m_standardize_user_data\u001b[0;34m(self, x, y, sample_weight, class_weight, check_array_lengths, batch_size)\u001b[0m\n\u001b[1;32m    577\u001b[0m             \u001b[0mfeed_input_shapes\u001b[0m\u001b[0;34m,\u001b[0m\u001b[0;34m\u001b[0m\u001b[0;34m\u001b[0m\u001b[0m\n\u001b[1;32m    578\u001b[0m             \u001b[0mcheck_batch_axis\u001b[0m\u001b[0;34m=\u001b[0m\u001b[0;32mFalse\u001b[0m\u001b[0;34m,\u001b[0m  \u001b[0;31m# Don't enforce the batch size.\u001b[0m\u001b[0;34m\u001b[0m\u001b[0;34m\u001b[0m\u001b[0m\n\u001b[0;32m--> 579\u001b[0;31m             exception_prefix='input')\n\u001b[0m\u001b[1;32m    580\u001b[0m \u001b[0;34m\u001b[0m\u001b[0m\n\u001b[1;32m    581\u001b[0m         \u001b[0;32mif\u001b[0m \u001b[0my\u001b[0m \u001b[0;32mis\u001b[0m \u001b[0;32mnot\u001b[0m \u001b[0;32mNone\u001b[0m\u001b[0;34m:\u001b[0m\u001b[0;34m\u001b[0m\u001b[0;34m\u001b[0m\u001b[0m\n",
      "\u001b[0;32m~/anaconda3/lib/python3.7/site-packages/keras/engine/training_utils.py\u001b[0m in \u001b[0;36mstandardize_input_data\u001b[0;34m(data, names, shapes, check_batch_axis, exception_prefix)\u001b[0m\n\u001b[1;32m    133\u001b[0m                         \u001b[0;34m': expected '\u001b[0m \u001b[0;34m+\u001b[0m \u001b[0mnames\u001b[0m\u001b[0;34m[\u001b[0m\u001b[0mi\u001b[0m\u001b[0;34m]\u001b[0m \u001b[0;34m+\u001b[0m \u001b[0;34m' to have '\u001b[0m \u001b[0;34m+\u001b[0m\u001b[0;34m\u001b[0m\u001b[0;34m\u001b[0m\u001b[0m\n\u001b[1;32m    134\u001b[0m                         \u001b[0mstr\u001b[0m\u001b[0;34m(\u001b[0m\u001b[0mlen\u001b[0m\u001b[0;34m(\u001b[0m\u001b[0mshape\u001b[0m\u001b[0;34m)\u001b[0m\u001b[0;34m)\u001b[0m \u001b[0;34m+\u001b[0m \u001b[0;34m' dimensions, but got array '\u001b[0m\u001b[0;34m\u001b[0m\u001b[0;34m\u001b[0m\u001b[0m\n\u001b[0;32m--> 135\u001b[0;31m                         'with shape ' + str(data_shape))\n\u001b[0m\u001b[1;32m    136\u001b[0m                 \u001b[0;32mif\u001b[0m \u001b[0;32mnot\u001b[0m \u001b[0mcheck_batch_axis\u001b[0m\u001b[0;34m:\u001b[0m\u001b[0;34m\u001b[0m\u001b[0;34m\u001b[0m\u001b[0m\n\u001b[1;32m    137\u001b[0m                     \u001b[0mdata_shape\u001b[0m \u001b[0;34m=\u001b[0m \u001b[0mdata_shape\u001b[0m\u001b[0;34m[\u001b[0m\u001b[0;36m1\u001b[0m\u001b[0;34m:\u001b[0m\u001b[0;34m]\u001b[0m\u001b[0;34m\u001b[0m\u001b[0;34m\u001b[0m\u001b[0m\n",
      "\u001b[0;31mValueError\u001b[0m: Error when checking input: expected lstm_9_input to have 3 dimensions, but got array with shape (255, 8)"
     ]
    }
   ],
   "source": [
    "# make a prediction\n",
    "yhat = model.predict(test_df)"
   ]
  },
  {
   "cell_type": "code",
   "execution_count": 234,
   "metadata": {},
   "outputs": [
    {
     "name": "stdout",
     "output_type": "stream",
     "text": [
      "Test RMSE: 1.674\n"
     ]
    }
   ],
   "source": [
    "# make a prediction\n",
    "yhat = model.predict(test_X)\n",
    "test_X = test_X.reshape((test_X.shape[0], test_X.shape[2]))\n",
    "\n",
    "# invert scaling for forecast\n",
    "inv_yhat = np.concatenate((yhat, test_X[:, 1:]), axis=1)\n",
    "inv_yhat = scaler.inverse_transform(inv_yhat)\n",
    "inv_yhat = inv_yhat[:,0]\n",
    "\n",
    "# calculate RMSE\n",
    "rmse_dl = np.sqrt(mean_squared_error(test_df.iloc[1:][yvar], inv_yhat))\n",
    "print('Test RMSE: %.3f' % rmse_dl)"
   ]
  },
  {
   "cell_type": "markdown",
   "metadata": {},
   "source": [
    "### Classical Fit"
   ]
  },
  {
   "cell_type": "code",
   "execution_count": null,
   "metadata": {},
   "outputs": [],
   "source": [
    "df.shape"
   ]
  },
  {
   "cell_type": "code",
   "execution_count": null,
   "metadata": {},
   "outputs": [],
   "source": [
    "print(\"DL train size\", train_X.shape[0], \"Classical train size\", df.iloc[:train_X.shape[0]].shape[0])"
   ]
  },
  {
   "cell_type": "code",
   "execution_count": null,
   "metadata": {},
   "outputs": [],
   "source": [
    "train = df.iloc[:train_X.shape[0]]\n",
    "test = df.iloc[train_X.shape[0]:]"
   ]
  },
  {
   "cell_type": "markdown",
   "metadata": {},
   "source": [
    "#### Linear Regression"
   ]
  },
  {
   "cell_type": "code",
   "execution_count": null,
   "metadata": {},
   "outputs": [],
   "source": [
    "scaler = MinMaxScaler(feature_range=(0, 1))\n",
    "Xtrain = scaler.fit_transform(train[Xvar])\n",
    "reg = LinearRegression().fit(Xtrain, train[yvar])\n",
    "\n",
    "Xtest = scaler.fit_transform(test[Xvar])\n",
    "y_pred_linreg = reg.predict(Xtest)"
   ]
  },
  {
   "cell_type": "markdown",
   "metadata": {},
   "source": [
    "#### Random Forrest"
   ]
  },
  {
   "cell_type": "code",
   "execution_count": null,
   "metadata": {},
   "outputs": [],
   "source": [
    "from sklearn.ensemble import RandomForestRegressor as RFE"
   ]
  },
  {
   "cell_type": "code",
   "execution_count": null,
   "metadata": {},
   "outputs": [],
   "source": [
    "scaler = MinMaxScaler(feature_range=(0, 1))\n",
    "Xtrain = scaler.fit_transform(train[Xvar])\n",
    "reg = RFE(n_estimators=500, \n",
    "         max_depth = 10, n_jobs=-1).fit(Xtrain, train[yvar])\n",
    "\n",
    "Xtest = scaler.fit_transform(test[Xvar])\n",
    "y_pred_rfe = reg.predict(Xtest)"
   ]
  },
  {
   "cell_type": "markdown",
   "metadata": {},
   "source": [
    "### Diagnostic Report/Plot"
   ]
  },
  {
   "cell_type": "code",
   "execution_count": null,
   "metadata": {},
   "outputs": [],
   "source": [
    "plt.plot(test[yvar], y_pred_linreg, '.', label='Linear Reg')\n",
    "plt.plot(test[yvar], y_pred_rfe, '.', label='RF Reg', alpha=0.6)\n",
    "plt.plot(inv_y, inv_yhat, 'g.', label='LSTM', alpha=0.3)\n",
    "plt.plot([-10,15], [-10,15], '--k')\n",
    "plt.xlabel('Yobs')\n",
    "plt.ylabel('Ypred')\n",
    "plt.legend()\n",
    "print(\"RMSE linear reg: \", np.sqrt(mean_squared_error(test[yvar], y_pred_linreg)))\n",
    "print(\"RMSE RF reg: \", np.sqrt(mean_squared_error(test[yvar], y_pred_rfe)))\n",
    "print(\"RMSE LSTM: \", rmse_dl)"
   ]
  },
  {
   "cell_type": "code",
   "execution_count": null,
   "metadata": {},
   "outputs": [],
   "source": [
    "plt.plot(test[yvar], y_pred_linreg, '.', label='Linear Reg')\n",
    "plt.plot(test[yvar], y_pred_rfe, '.', label='RF Reg', alpha=0.6)\n",
    "plt.plot(inv_y, inv_yhat, 'g.', label='LSTM', alpha=0.3)\n",
    "plt.plot([-10,15], [-10,15], '--k')\n",
    "plt.xlabel('Yobs')\n",
    "plt.ylabel('Ypred')\n",
    "plt.legend()\n",
    "print(\"RMSE linear reg: \", np.sqrt(mean_squared_error(test[yvar], y_pred_linreg)))\n",
    "print(\"RMSE RF reg: \", np.sqrt(mean_squared_error(test[yvar], y_pred_rfe)))\n",
    "print(\"RMSE LSTM: \", rmse_dl)"
   ]
  },
  {
   "cell_type": "code",
   "execution_count": null,
   "metadata": {},
   "outputs": [],
   "source": []
  }
 ],
 "metadata": {
  "kernelspec": {
   "display_name": "Python 3",
   "language": "python",
   "name": "python3"
  },
  "language_info": {
   "codemirror_mode": {
    "name": "ipython",
    "version": 3
   },
   "file_extension": ".py",
   "mimetype": "text/x-python",
   "name": "python",
   "nbconvert_exporter": "python",
   "pygments_lexer": "ipython3",
   "version": "3.7.3"
  }
 },
 "nbformat": 4,
 "nbformat_minor": 2
}
