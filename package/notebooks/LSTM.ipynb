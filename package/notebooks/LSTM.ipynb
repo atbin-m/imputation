{
 "cells": [
  {
   "cell_type": "markdown",
   "metadata": {},
   "source": [
    "1. LSTM multiinput-series: https://www.aiproblog.com/index.php/2018/11/13/how-to-develop-lstm-models-for-time-series-forecasting/\n",
    "2. LSTM train/test: https://machinelearningmastery.com/time-series-prediction-lstm-recurrent-neural-networks-python-keras/\n",
    "3. Loss plotting: https://machinelearningmastery.com/display-deep-learning-model-training-history-in-keras/\n",
    "4. Overfit/Underfit: https://machinelearningmastery.com/diagnose-overfitting-underfitting-lstm-models/"
   ]
  },
  {
   "cell_type": "code",
   "execution_count": 69,
   "metadata": {},
   "outputs": [],
   "source": [
    "import pandas as pd\n",
    "import numpy as np\n",
    "import matplotlib.pyplot as plt\n",
    "%matplotlib inline\n",
    "\n",
    "from sklearn.model_selection import KFold, cross_val_score, train_test_split, RandomizedSearchCV\n",
    "from sklearn.preprocessing import StandardScaler\n",
    "from keras.models import Sequential\n",
    "from keras.layers import Dense\n",
    "from keras.wrappers.scikit_learn import KerasRegressor\n",
    "from keras.layers import LSTM\n",
    "from keras.layers import Dense\n",
    "import lightgbm as lgb\n",
    "from scipy.stats import uniform, randint"
   ]
  },
  {
   "cell_type": "code",
   "execution_count": 2,
   "metadata": {},
   "outputs": [],
   "source": [
    "def diagnostic_stats(ytrue, ypred):\n",
    "    \"\"\"\n",
    "    https://stats.stackexchange.com/questions/142248/difference-between-r-square-and-rmse-in-linear-regression\n",
    "    \n",
    "    https://www.sciencedirect.com/topics/engineering/mean-bias-error\n",
    "    \"\"\"\n",
    "    n = len(ytrue)\n",
    "\n",
    "    # Check that the ytrue and ypred are equal length vector.\n",
    "    assert n == len(ypred)\n",
    "    \n",
    "    # sum squared error\n",
    "    sse = np.sum((ytrue - ypred)**2)\n",
    "    \n",
    "    # root mean square error\n",
    "    rmse = np.sqrt(sse/n)\n",
    "\n",
    "    # total sum of squares\n",
    "    tss = np.sum((ytrue - np.mean(ytrue))**2)\n",
    "    tst = np.sum((ypred - np.mean(ypred))**2)\n",
    "    tstp = tst**0.5\n",
    "    tssp = tss**0.5\n",
    "    \n",
    "    soorat = np.sum((ytrue-np.mean(ytrue))*(ypred-np.mean(ypred)))\n",
    "    \n",
    "    # Rsquare\n",
    "    ##rsqr = 1 - sse/tss\n",
    "    rsqr = (soorat/(tssp*tstp))**2\n",
    "\n",
    "    # Mean biased error\n",
    "    mbe = np.mean(ytrue - ypred)\n",
    "    \n",
    "    # IOAD\n",
    "    num = np.sum((ytrue - ypred)**2)\n",
    "    denom = np.abs(ytrue - ypred) + np.abs(ytrue + ypred)\n",
    "    ioad = 1 - num/np.sum(denom**2)\n",
    "\n",
    "    print(\"RMSE: %1.3f, R^2: %1.3f, MBE: %1.3f, IOAD: %1.3f\"%(rmse, rsqr, mbe, ioad))\n",
    "    \n",
    "    return rmse, rsqr, mbe, ioad"
   ]
  },
  {
   "cell_type": "code",
   "execution_count": 3,
   "metadata": {},
   "outputs": [],
   "source": [
    "df = pd.read_csv('rnn_data_prajwal.csv', \n",
    "                 parse_dates=['DateTime'], index_col='DateTime')\n",
    "df.drop('Unnamed: 0', axis=1, inplace=True)"
   ]
  },
  {
   "cell_type": "code",
   "execution_count": 4,
   "metadata": {},
   "outputs": [
    {
     "data": {
      "text/html": [
       "<div>\n",
       "<style scoped>\n",
       "    .dataframe tbody tr th:only-of-type {\n",
       "        vertical-align: middle;\n",
       "    }\n",
       "\n",
       "    .dataframe tbody tr th {\n",
       "        vertical-align: top;\n",
       "    }\n",
       "\n",
       "    .dataframe thead th {\n",
       "        text-align: right;\n",
       "    }\n",
       "</style>\n",
       "<table border=\"1\" class=\"dataframe\">\n",
       "  <thead>\n",
       "    <tr style=\"text-align: right;\">\n",
       "      <th></th>\n",
       "      <th>Fc</th>\n",
       "      <th>Ta</th>\n",
       "      <th>Ws</th>\n",
       "      <th>Fg</th>\n",
       "      <th>VPD</th>\n",
       "      <th>Fn</th>\n",
       "      <th>q</th>\n",
       "      <th>Ts</th>\n",
       "      <th>Sws</th>\n",
       "    </tr>\n",
       "    <tr>\n",
       "      <th>DateTime</th>\n",
       "      <th></th>\n",
       "      <th></th>\n",
       "      <th></th>\n",
       "      <th></th>\n",
       "      <th></th>\n",
       "      <th></th>\n",
       "      <th></th>\n",
       "      <th></th>\n",
       "      <th></th>\n",
       "    </tr>\n",
       "  </thead>\n",
       "  <tbody>\n",
       "    <tr>\n",
       "      <td>2013-01-01 01:00:00</td>\n",
       "      <td>3.070399</td>\n",
       "      <td>26.998711</td>\n",
       "      <td>2.08</td>\n",
       "      <td>-20.984654</td>\n",
       "      <td>1.183521</td>\n",
       "      <td>-39.635899</td>\n",
       "      <td>0.014801</td>\n",
       "      <td>32.291790</td>\n",
       "      <td>0.032662</td>\n",
       "    </tr>\n",
       "    <tr>\n",
       "      <td>2013-01-01 01:30:00</td>\n",
       "      <td>2.948313</td>\n",
       "      <td>26.629910</td>\n",
       "      <td>2.47</td>\n",
       "      <td>-19.131921</td>\n",
       "      <td>1.067606</td>\n",
       "      <td>-35.979652</td>\n",
       "      <td>0.015045</td>\n",
       "      <td>32.036301</td>\n",
       "      <td>0.032636</td>\n",
       "    </tr>\n",
       "    <tr>\n",
       "      <td>2013-01-01 02:00:00</td>\n",
       "      <td>2.369790</td>\n",
       "      <td>26.294310</td>\n",
       "      <td>1.95</td>\n",
       "      <td>-18.278720</td>\n",
       "      <td>1.002275</td>\n",
       "      <td>-38.033844</td>\n",
       "      <td>0.015030</td>\n",
       "      <td>31.798710</td>\n",
       "      <td>0.032619</td>\n",
       "    </tr>\n",
       "    <tr>\n",
       "      <td>2013-01-01 02:30:00</td>\n",
       "      <td>0.105580</td>\n",
       "      <td>25.739479</td>\n",
       "      <td>1.55</td>\n",
       "      <td>-17.862080</td>\n",
       "      <td>0.927464</td>\n",
       "      <td>-41.878986</td>\n",
       "      <td>0.014810</td>\n",
       "      <td>31.572710</td>\n",
       "      <td>0.032582</td>\n",
       "    </tr>\n",
       "    <tr>\n",
       "      <td>2013-01-01 03:30:00</td>\n",
       "      <td>2.085828</td>\n",
       "      <td>24.548740</td>\n",
       "      <td>2.69</td>\n",
       "      <td>-21.647482</td>\n",
       "      <td>0.792163</td>\n",
       "      <td>-57.483334</td>\n",
       "      <td>0.014242</td>\n",
       "      <td>31.069750</td>\n",
       "      <td>0.032534</td>\n",
       "    </tr>\n",
       "  </tbody>\n",
       "</table>\n",
       "</div>"
      ],
      "text/plain": [
       "                           Fc         Ta    Ws         Fg       VPD  \\\n",
       "DateTime                                                              \n",
       "2013-01-01 01:00:00  3.070399  26.998711  2.08 -20.984654  1.183521   \n",
       "2013-01-01 01:30:00  2.948313  26.629910  2.47 -19.131921  1.067606   \n",
       "2013-01-01 02:00:00  2.369790  26.294310  1.95 -18.278720  1.002275   \n",
       "2013-01-01 02:30:00  0.105580  25.739479  1.55 -17.862080  0.927464   \n",
       "2013-01-01 03:30:00  2.085828  24.548740  2.69 -21.647482  0.792163   \n",
       "\n",
       "                            Fn         q         Ts       Sws  \n",
       "DateTime                                                       \n",
       "2013-01-01 01:00:00 -39.635899  0.014801  32.291790  0.032662  \n",
       "2013-01-01 01:30:00 -35.979652  0.015045  32.036301  0.032636  \n",
       "2013-01-01 02:00:00 -38.033844  0.015030  31.798710  0.032619  \n",
       "2013-01-01 02:30:00 -41.878986  0.014810  31.572710  0.032582  \n",
       "2013-01-01 03:30:00 -57.483334  0.014242  31.069750  0.032534  "
      ]
     },
     "execution_count": 4,
     "metadata": {},
     "output_type": "execute_result"
    }
   ],
   "source": [
    "df.head()"
   ]
  },
  {
   "cell_type": "code",
   "execution_count": 5,
   "metadata": {},
   "outputs": [],
   "source": [
    "Xvar = ['Ta', 'Ws', 'Fg', 'VPD', 'Fn', 'q', 'Ts', 'Sws']\n",
    "yvar = 'Fc'"
   ]
  },
  {
   "cell_type": "markdown",
   "metadata": {},
   "source": [
    "### LSTM "
   ]
  },
  {
   "cell_type": "markdown",
   "metadata": {},
   "source": [
    "#### Data preparation"
   ]
  },
  {
   "cell_type": "code",
   "execution_count": 146,
   "metadata": {},
   "outputs": [
    {
     "name": "stdout",
     "output_type": "stream",
     "text": [
      "Train: (8050, 9) Test: (965, 9)\n",
      "X_train: (8050, 8) y_train: (8050,)\n",
      "Index(['Ta', 'Ws', 'Fg', 'VPD', 'Fn', 'q', 'Ts', 'Sws'], dtype='object')\n"
     ]
    }
   ],
   "source": [
    "# split into input (X) and output (Y) variables\n",
    "n_train= 8050\n",
    "\n",
    "train_df = df.iloc[:n_train]\n",
    "test_df = df.iloc[n_train:] \n",
    "\n",
    "print('Train:', train_df.shape, 'Test:', test_df.shape)\n",
    "\n",
    "X_train, y_train = train_df[Xvar], train_df[yvar]\n",
    "X_test, y_test = test_df[Xvar], test_df[yvar]\n",
    "\n",
    "print('X_train:', X_train.shape, 'y_train:', y_train.shape)\n",
    "print(X_train.keys())\n",
    "\n",
    "scaler1 = StandardScaler()\n",
    "X_train_scaled = scaler1.fit_transform(X_train)\n",
    "scaler2 = StandardScaler()\n",
    "y_train_scaled = scaler2.fit_transform(y_train.values.reshape(-1,1))\n",
    "y_train_std, y_train_mean = np.std(y_train.values), np.mean(y_train.values)\n",
    "\n",
    "scaler3 = StandardScaler()\n",
    "X_test_scaled = scaler3.fit_transform(X_test)\n",
    "scaler4 = StandardScaler()\n",
    "y_test_scaled = scaler4.fit_transform(y_test.values.reshape(-1,1))\n",
    "y_test_std, y_test_mean = np.std(y_test.values), np.mean(y_test.values)\n"
   ]
  },
  {
   "cell_type": "code",
   "execution_count": 7,
   "metadata": {},
   "outputs": [
    {
     "data": {
      "text/plain": [
       "((8050, 8), (8050,))"
      ]
     },
     "execution_count": 7,
     "metadata": {},
     "output_type": "execute_result"
    }
   ],
   "source": [
    "X_train_scaled.shape, y_train_scaled.squeeze().shape"
   ]
  },
  {
   "cell_type": "code",
   "execution_count": 8,
   "metadata": {},
   "outputs": [
    {
     "name": "stdout",
     "output_type": "stream",
     "text": [
      "(8050, 9) (965, 9)\n"
     ]
    }
   ],
   "source": [
    "dataset_train = np.column_stack((X_train_scaled, y_train_scaled.squeeze()))\n",
    "dataset_test = np.column_stack((X_test_scaled, y_test_scaled.squeeze()))\n",
    "\n",
    "print(dataset_train.shape, dataset_test.shape)"
   ]
  },
  {
   "cell_type": "code",
   "execution_count": 9,
   "metadata": {},
   "outputs": [],
   "source": [
    "NSTEPS = 5\n",
    "NFEATURES = len(Xvar)"
   ]
  },
  {
   "cell_type": "code",
   "execution_count": 10,
   "metadata": {},
   "outputs": [],
   "source": [
    "# split a multivariate sequence into samples\n",
    "def split_sequences(sequences, n_steps):\n",
    "\tX, y = list(), list()\n",
    "\tfor i in range(len(sequences)):\n",
    "\t\t# find the end of this pattern\n",
    "\t\tend_ix = i + n_steps\n",
    "\t\t# check if we are beyond the dataset\n",
    "\t\tif end_ix > len(sequences):\n",
    "\t\t\tbreak\n",
    "\t\t# gather input and output parts of the pattern\n",
    "\t\tseq_x, seq_y = sequences[i:end_ix, :-1], sequences[end_ix-1, -1]\n",
    "\t\tX.append(seq_x)\n",
    "\t\ty.append(seq_y)\n",
    "\treturn np.array(X), np.array(y)"
   ]
  },
  {
   "cell_type": "code",
   "execution_count": 11,
   "metadata": {},
   "outputs": [
    {
     "name": "stdout",
     "output_type": "stream",
     "text": [
      "(8046, 5, 8) (8046,)\n"
     ]
    }
   ],
   "source": [
    "# convert into input/output sequences\n",
    "dataset_trainX, dataset_trainy = split_sequences(dataset_train, n_steps=NSTEPS)\n",
    "print(dataset_trainX.shape, dataset_trainy.shape)"
   ]
  },
  {
   "cell_type": "code",
   "execution_count": 12,
   "metadata": {},
   "outputs": [
    {
     "data": {
      "text/plain": [
       "array([0.85392869, 0.38139941, 1.33850803, ..., 0.02398375, 0.3903344 ,\n",
       "       0.54255709])"
      ]
     },
     "execution_count": 12,
     "metadata": {},
     "output_type": "execute_result"
    }
   ],
   "source": [
    "dataset_trainy"
   ]
  },
  {
   "cell_type": "markdown",
   "metadata": {},
   "source": [
    "#### Model fitting"
   ]
  },
  {
   "cell_type": "code",
   "execution_count": 139,
   "metadata": {
    "scrolled": true
   },
   "outputs": [
    {
     "name": "stdout",
     "output_type": "stream",
     "text": [
      "Train on 5632 samples, validate on 2414 samples\n",
      "Epoch 1/100\n",
      " - 6s - loss: 0.9002 - val_loss: 1.2427\n",
      "Epoch 2/100\n",
      " - 1s - loss: 0.8948 - val_loss: 1.2415\n",
      "Epoch 3/100\n",
      " - 1s - loss: 0.8857 - val_loss: 1.2266\n",
      "Epoch 4/100\n",
      " - 1s - loss: 0.8651 - val_loss: 1.1903\n",
      "Epoch 5/100\n",
      " - 1s - loss: 0.8292 - val_loss: 1.1299\n",
      "Epoch 6/100\n",
      " - 1s - loss: 0.7795 - val_loss: 1.0486\n",
      "Epoch 7/100\n",
      " - 1s - loss: 0.7229 - val_loss: 0.9535\n",
      "Epoch 8/100\n",
      " - 1s - loss: 0.6683 - val_loss: 0.8568\n",
      "Epoch 9/100\n",
      " - 1s - loss: 0.6225 - val_loss: 0.7718\n",
      "Epoch 10/100\n",
      " - 1s - loss: 0.5879 - val_loss: 0.7020\n",
      "Epoch 11/100\n",
      " - 1s - loss: 0.5634 - val_loss: 0.6483\n",
      "Epoch 12/100\n",
      " - 1s - loss: 0.5467 - val_loss: 0.6099\n",
      "Epoch 13/100\n",
      " - 1s - loss: 0.5350 - val_loss: 0.5809\n",
      "Epoch 14/100\n",
      " - 1s - loss: 0.5266 - val_loss: 0.5585\n",
      "Epoch 15/100\n",
      " - 1s - loss: 0.5202 - val_loss: 0.5409\n",
      "Epoch 16/100\n",
      " - 1s - loss: 0.5153 - val_loss: 0.5267\n",
      "Epoch 17/100\n",
      " - 1s - loss: 0.5114 - val_loss: 0.5151\n",
      "Epoch 18/100\n",
      " - 1s - loss: 0.5082 - val_loss: 0.5053\n",
      "Epoch 19/100\n",
      " - 1s - loss: 0.5058 - val_loss: 0.4976\n",
      "Epoch 20/100\n",
      " - 1s - loss: 0.5037 - val_loss: 0.4913\n",
      "Epoch 21/100\n",
      " - 1s - loss: 0.5021 - val_loss: 0.4861\n",
      "Epoch 22/100\n",
      " - 1s - loss: 0.5007 - val_loss: 0.4816\n",
      "Epoch 23/100\n",
      " - 1s - loss: 0.4995 - val_loss: 0.4779\n",
      "Epoch 24/100\n",
      " - 1s - loss: 0.4985 - val_loss: 0.4752\n",
      "Epoch 25/100\n",
      " - 1s - loss: 0.4976 - val_loss: 0.4725\n",
      "Epoch 26/100\n",
      " - 1s - loss: 0.4968 - val_loss: 0.4704\n",
      "Epoch 27/100\n",
      " - 1s - loss: 0.4961 - val_loss: 0.4683\n",
      "Epoch 28/100\n",
      " - 1s - loss: 0.4954 - val_loss: 0.4666\n",
      "Epoch 29/100\n",
      " - 1s - loss: 0.4949 - val_loss: 0.4652\n",
      "Epoch 30/100\n",
      " - 1s - loss: 0.4944 - val_loss: 0.4639\n",
      "Epoch 31/100\n",
      " - 1s - loss: 0.4939 - val_loss: 0.4628\n",
      "Epoch 32/100\n",
      " - 1s - loss: 0.4934 - val_loss: 0.4618\n",
      "Epoch 33/100\n",
      " - 1s - loss: 0.4930 - val_loss: 0.4611\n",
      "Epoch 34/100\n",
      " - 1s - loss: 0.4926 - val_loss: 0.4603\n",
      "Epoch 35/100\n",
      " - 1s - loss: 0.4922 - val_loss: 0.4597\n",
      "Epoch 36/100\n",
      " - 1s - loss: 0.4919 - val_loss: 0.4589\n",
      "Epoch 37/100\n",
      " - 1s - loss: 0.4915 - val_loss: 0.4583\n",
      "Epoch 38/100\n",
      " - 1s - loss: 0.4912 - val_loss: 0.4577\n",
      "Epoch 39/100\n",
      " - 1s - loss: 0.4909 - val_loss: 0.4571\n",
      "Epoch 40/100\n",
      " - 1s - loss: 0.4905 - val_loss: 0.4567\n",
      "Epoch 41/100\n",
      " - 1s - loss: 0.4902 - val_loss: 0.4564\n",
      "Epoch 42/100\n",
      " - 1s - loss: 0.4899 - val_loss: 0.4561\n",
      "Epoch 43/100\n",
      " - 1s - loss: 0.4896 - val_loss: 0.4559\n",
      "Epoch 44/100\n",
      " - 1s - loss: 0.4893 - val_loss: 0.4557\n",
      "Epoch 45/100\n",
      " - 1s - loss: 0.4890 - val_loss: 0.4554\n",
      "Epoch 46/100\n",
      " - 1s - loss: 0.4887 - val_loss: 0.4551\n",
      "Epoch 47/100\n",
      " - 1s - loss: 0.4884 - val_loss: 0.4550\n",
      "Epoch 48/100\n",
      " - 1s - loss: 0.4881 - val_loss: 0.4549\n",
      "Epoch 49/100\n",
      " - 1s - loss: 0.4877 - val_loss: 0.4548\n",
      "Epoch 50/100\n",
      " - 1s - loss: 0.4874 - val_loss: 0.4545\n",
      "Epoch 51/100\n",
      " - 1s - loss: 0.4872 - val_loss: 0.4544\n",
      "Epoch 52/100\n",
      " - 1s - loss: 0.4869 - val_loss: 0.4544\n",
      "Epoch 53/100\n",
      " - 1s - loss: 0.4866 - val_loss: 0.4539\n",
      "Epoch 54/100\n",
      " - 1s - loss: 0.4864 - val_loss: 0.4541\n",
      "Epoch 55/100\n",
      " - 1s - loss: 0.4861 - val_loss: 0.4536\n",
      "Epoch 56/100\n",
      " - 1s - loss: 0.4858 - val_loss: 0.4538\n",
      "Epoch 57/100\n",
      " - 1s - loss: 0.4856 - val_loss: 0.4532\n",
      "Epoch 58/100\n",
      " - 1s - loss: 0.4853 - val_loss: 0.4536\n",
      "Epoch 59/100\n",
      " - 1s - loss: 0.4851 - val_loss: 0.4533\n",
      "Epoch 60/100\n",
      " - 1s - loss: 0.4848 - val_loss: 0.4533\n",
      "Epoch 61/100\n",
      " - 1s - loss: 0.4846 - val_loss: 0.4532\n",
      "Epoch 62/100\n",
      " - 1s - loss: 0.4844 - val_loss: 0.4531\n",
      "Epoch 63/100\n",
      " - 1s - loss: 0.4841 - val_loss: 0.4531\n",
      "Epoch 64/100\n",
      " - 1s - loss: 0.4839 - val_loss: 0.4528\n",
      "Epoch 65/100\n",
      " - 1s - loss: 0.4837 - val_loss: 0.4530\n",
      "Epoch 66/100\n",
      " - 1s - loss: 0.4835 - val_loss: 0.4527\n",
      "Epoch 67/100\n",
      " - 1s - loss: 0.4833 - val_loss: 0.4525\n",
      "Epoch 68/100\n",
      " - 1s - loss: 0.4831 - val_loss: 0.4525\n",
      "Epoch 69/100\n",
      " - 1s - loss: 0.4829 - val_loss: 0.4524\n",
      "Epoch 70/100\n",
      " - 1s - loss: 0.4827 - val_loss: 0.4523\n",
      "Epoch 71/100\n",
      " - 1s - loss: 0.4825 - val_loss: 0.4523\n",
      "Epoch 72/100\n",
      " - 1s - loss: 0.4823 - val_loss: 0.4521\n",
      "Epoch 73/100\n",
      " - 1s - loss: 0.4822 - val_loss: 0.4521\n",
      "Epoch 74/100\n",
      " - 1s - loss: 0.4820 - val_loss: 0.4521\n",
      "Epoch 75/100\n",
      " - 1s - loss: 0.4818 - val_loss: 0.4519\n",
      "Epoch 76/100\n",
      " - 1s - loss: 0.4817 - val_loss: 0.4520\n",
      "Epoch 77/100\n",
      " - 1s - loss: 0.4815 - val_loss: 0.4520\n",
      "Epoch 78/100\n",
      " - 1s - loss: 0.4814 - val_loss: 0.4521\n",
      "Epoch 79/100\n",
      " - 1s - loss: 0.4812 - val_loss: 0.4520\n",
      "Epoch 80/100\n",
      " - 1s - loss: 0.4811 - val_loss: 0.4520\n",
      "Epoch 81/100\n",
      " - 1s - loss: 0.4810 - val_loss: 0.4520\n",
      "Epoch 82/100\n",
      " - 1s - loss: 0.4808 - val_loss: 0.4519\n",
      "Epoch 83/100\n",
      " - 1s - loss: 0.4807 - val_loss: 0.4519\n",
      "Epoch 84/100\n",
      " - 1s - loss: 0.4805 - val_loss: 0.4520\n",
      "Epoch 85/100\n",
      " - 1s - loss: 0.4804 - val_loss: 0.4520\n",
      "Epoch 86/100\n",
      " - 1s - loss: 0.4803 - val_loss: 0.4521\n",
      "Epoch 87/100\n",
      " - 1s - loss: 0.4802 - val_loss: 0.4519\n",
      "Epoch 88/100\n",
      " - 1s - loss: 0.4801 - val_loss: 0.4518\n",
      "Epoch 89/100\n",
      " - 1s - loss: 0.4800 - val_loss: 0.4517\n",
      "Epoch 90/100\n",
      " - 1s - loss: 0.4798 - val_loss: 0.4518\n",
      "Epoch 91/100\n",
      " - 1s - loss: 0.4797 - val_loss: 0.4516\n",
      "Epoch 92/100\n",
      " - 1s - loss: 0.4796 - val_loss: 0.4516\n",
      "Epoch 93/100\n",
      " - 1s - loss: 0.4795 - val_loss: 0.4517\n",
      "Epoch 94/100\n",
      " - 1s - loss: 0.4794 - val_loss: 0.4515\n",
      "Epoch 95/100\n",
      " - 1s - loss: 0.4793 - val_loss: 0.4516\n",
      "Epoch 96/100\n",
      " - 1s - loss: 0.4792 - val_loss: 0.4513\n",
      "Epoch 97/100\n",
      " - 1s - loss: 0.4791 - val_loss: 0.4514\n",
      "Epoch 98/100\n",
      " - 1s - loss: 0.4790 - val_loss: 0.4512\n",
      "Epoch 99/100\n",
      " - 1s - loss: 0.4789 - val_loss: 0.4512\n",
      "Epoch 100/100\n",
      " - 1s - loss: 0.4788 - val_loss: 0.4511\n"
     ]
    }
   ],
   "source": [
    "# define model\n",
    "model = Sequential()\n",
    "#model.add(LSTM(2, activation='relu', input_shape=(NSTEPS, NFEATURES)))\n",
    "model.add(LSTM(2, input_shape=(NSTEPS, NFEATURES)))\n",
    "model.add(Dense(4, kernel_initializer='normal', activation='relu'))\n",
    "model.add(Dense(1))    \n",
    "model.compile(optimizer='adam', loss='mean_squared_error')\n",
    "history = model.fit(dataset_trainX, dataset_trainy, \n",
    "                    validation_split=0.3, shuffle=False, \n",
    "                    epochs=100, batch_size=100, verbose=2)"
   ]
  },
  {
   "cell_type": "code",
   "execution_count": 140,
   "metadata": {},
   "outputs": [
    {
     "data": {
      "image/png": "[encoded data removed]",
      "text/plain": [
       "<Figure size 432x288 with 1 Axes>"
      ]
     },
     "metadata": {
      "needs_background": "light"
     },
     "output_type": "display_data"
    }
   ],
   "source": [
    "plt.plot(history.history['loss'])\n",
    "plt.plot(history.history['val_loss'])\n",
    "plt.title('model loss')\n",
    "plt.ylabel('loss')\n",
    "plt.xlabel('epoch')\n",
    "plt.legend(['train', 'val'], loc='upper left')\n",
    "plt.show()"
   ]
  },
  {
   "cell_type": "code",
   "execution_count": 141,
   "metadata": {},
   "outputs": [],
   "source": [
    "dataset_testX, dataset_testy = split_sequences(dataset_test, n_steps=NSTEPS)\n",
    "yhat_test = model.predict(dataset_testX, verbose=0)"
   ]
  },
  {
   "cell_type": "code",
   "execution_count": 142,
   "metadata": {},
   "outputs": [
    {
     "data": {
      "text/plain": [
       "((961, 1), (961,))"
      ]
     },
     "execution_count": 142,
     "metadata": {},
     "output_type": "execute_result"
    }
   ],
   "source": [
    "yhat_test.shape, dataset_testy.shape"
   ]
  },
  {
   "cell_type": "code",
   "execution_count": 143,
   "metadata": {},
   "outputs": [
    {
     "data": {
      "text/plain": [
       "[<matplotlib.lines.Line2D at 0x1a55901eb8>]"
      ]
     },
     "execution_count": 143,
     "metadata": {},
     "output_type": "execute_result"
    },
    {
     "data": {
      "image/png": "[encoded data removed]",
      "text/plain": [
       "<Figure size 432x288 with 1 Axes>"
      ]
     },
     "metadata": {
      "needs_background": "light"
     },
     "output_type": "display_data"
    }
   ],
   "source": [
    "plt.plot(yhat_test.squeeze(), dataset_testy, 'o')\n",
    "plt.plot([-2,2],[-2,2])"
   ]
  },
  {
   "cell_type": "code",
   "execution_count": 144,
   "metadata": {},
   "outputs": [
    {
     "data": {
      "text/plain": [
       "[<matplotlib.lines.Line2D at 0x1a56db7160>]"
      ]
     },
     "execution_count": 144,
     "metadata": {},
     "output_type": "execute_result"
    },
    {
     "data": {
      "image/png": "[encoded data removed]",
      "text/plain": [
       "<Figure size 432x288 with 1 Axes>"
      ]
     },
     "metadata": {
      "needs_background": "light"
     },
     "output_type": "display_data"
    }
   ],
   "source": [
    "plt.hexbin(yhat_test.squeeze(), dataset_testy, mincnt=2, gridsize=30, bins='log')\n",
    "plt.plot([-2,2],[-2,2])\n",
    "\n",
    "#plt.plot([-2,2], [-2,2], 'r', lw=2)"
   ]
  },
  {
   "cell_type": "code",
   "execution_count": 147,
   "metadata": {},
   "outputs": [
    {
     "name": "stdout",
     "output_type": "stream",
     "text": [
      "RMSE: 2.103, R^2: 0.770, MBE: -0.522, IOAD: 0.946\n"
     ]
    },
    {
     "data": {
      "text/plain": [
       "(2.103257097992616, 0.7700701982548716, -0.522244339180646, 0.9464053282225209)"
      ]
     },
     "execution_count": 147,
     "metadata": {},
     "output_type": "execute_result"
    }
   ],
   "source": [
    "diagnostic_stats(dataset_testy*y_test_std + y_test_mean, \n",
    "                 yhat_test.squeeze()*y_test_std + y_test_mean)"
   ]
  },
  {
   "cell_type": "markdown",
   "metadata": {},
   "source": [
    "#### Classical learning"
   ]
  },
  {
   "cell_type": "code",
   "execution_count": 67,
   "metadata": {},
   "outputs": [],
   "source": [
    "def rmsle_randomsearchcv(model, params, X_train, y_train, n_folds, random_state=0):\n",
    "    clf = RandomizedSearchCV(model, params, random_state=random_state, cv=n_folds, return_train_score=True, \n",
    "                         scoring=\"neg_mean_squared_error\")\n",
    "    search = clf.fit(X_train, y_train)\n",
    "    rmse= np.sqrt(-search.best_score_)\n",
    "    return rmse, search\n"
   ]
  },
  {
   "cell_type": "code",
   "execution_count": 81,
   "metadata": {},
   "outputs": [
    {
     "name": "stdout",
     "output_type": "stream",
     "text": [
      "\n",
      "LightGBM score: 0.7752 (+/-0.0000)\n",
      "\n"
     ]
    }
   ],
   "source": [
    "# Hyperparameter Optz\n",
    "params = dict(num_leaves = randint(2,10), \n",
    "              n_estimators = randint(500,2000),\n",
    "              learning_rate = uniform(1e-3, 1),\n",
    "              min_data_in_leaf = randint(2,10),\n",
    "              objective=['regression'])\n",
    "\n",
    "model_lgb = lgb.LGBMRegressor()\n",
    "score_lgb, model_lgb = rmsle_randomsearchcv(model_lgb, params, dataset_train[:,:-1], \n",
    "                                            dataset_train[:,-1], 5)\n",
    "print(\"\\nLightGBM score: {:.4f} (+/-{:.4f})\\n\".format(score_lgb.mean(), score_lgb.std()))"
   ]
  },
  {
   "cell_type": "code",
   "execution_count": 148,
   "metadata": {},
   "outputs": [
    {
     "name": "stdout",
     "output_type": "stream",
     "text": [
      "RMSE: 2.120, R^2: 0.746, MBE: -0.515, IOAD: 0.948\n"
     ]
    },
    {
     "data": {
      "text/plain": [
       "(2.119598996485539,\n",
       " 0.7457571041854981,\n",
       " -0.5146981837801385,\n",
       " 0.9479169953926919)"
      ]
     },
     "execution_count": 148,
     "metadata": {},
     "output_type": "execute_result"
    }
   ],
   "source": [
    "yhat_lgbm = model_lgb.predict(dataset_test[:,:-1])\n",
    "diagnostic_stats(dataset_test[:,-1]*y_test_std + y_test_mean, \n",
    "                 yhat_lgbm*y_test_std + y_test_mean)"
   ]
  },
  {
   "cell_type": "code",
   "execution_count": 84,
   "metadata": {},
   "outputs": [
    {
     "data": {
      "text/plain": [
       "[<matplotlib.lines.Line2D at 0x1a42d07cc0>]"
      ]
     },
     "execution_count": 84,
     "metadata": {},
     "output_type": "execute_result"
    },
    {
     "data": {
      "image/png": "[encoded data removed]",
      "text/plain": [
       "<Figure size 432x288 with 1 Axes>"
      ]
     },
     "metadata": {
      "needs_background": "light"
     },
     "output_type": "display_data"
    }
   ],
   "source": [
    "plt.plot(yhat_lgbm.squeeze(), dataset_test[:,-1], 'o')\n",
    "plt.plot([-2,2],[-2,2])"
   ]
  },
  {
   "cell_type": "code",
   "execution_count": null,
   "metadata": {},
   "outputs": [],
   "source": []
  }
 ],
 "metadata": {
  "kernelspec": {
   "display_name": "Python 3",
   "language": "python",
   "name": "python3"
  },
  "language_info": {
   "codemirror_mode": {
    "name": "ipython",
    "version": 3
   },
   "file_extension": ".py",
   "mimetype": "text/x-python",
   "name": "python",
   "nbconvert_exporter": "python",
   "pygments_lexer": "ipython3",
   "version": "3.7.3"
  }
 },
 "nbformat": 4,
 "nbformat_minor": 2
}
