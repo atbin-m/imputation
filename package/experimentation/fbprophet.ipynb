{
 "cells": [
  {
   "cell_type": "code",
   "execution_count": 1,
   "metadata": {},
   "outputs": [],
   "source": [
    "import sys\n",
    "sys.path.insert(0,  '../src/imputation/')\n",
    "import data_preparation\n",
    "import fbprophetconfig\n",
    "import fbprophet\n",
    "import pandas as pd"
   ]
  },
  {
   "cell_type": "code",
   "execution_count": 2,
   "metadata": {},
   "outputs": [
    {
     "name": "stderr",
     "output_type": "stream",
     "text": [
      "55:nc_read_series: Reading netCDF file ../data_in/Calperum_L3.nc\n",
      "113:nc_read_series: Got data from 2010-08-01 00:00:00 to 2015-10-21 07:30:00\n",
      "28:_primary_data_preprocessing:Loading file: ../data_in/Calperum_L3.nc\n",
      "35:_primary_data_preprocessing:Loading file: ../data_in/Calperum_ACCESS.nc\n",
      "55:nc_read_series: Reading netCDF file ../data_in/Calperum_ACCESS.nc\n",
      "113:nc_read_series: Got data from 2011-01-01 09:30:00 to 2018-05-01 09:00:00\n",
      "35:_primary_data_preprocessing:Loading file: ../data_in/Calperum_BIOS2.nc\n",
      "55:nc_read_series: Reading netCDF file ../data_in/Calperum_BIOS2.nc\n",
      "113:nc_read_series: Got data from 2000-01-01 00:30:00 to 2014-03-01 00:00:00\n"
     ]
    }
   ],
   "source": [
    "data_config, var_config, time_config = fbprophetconfig.data, fbprophetconfig.variables, fbprophetconfig.timestamps\n",
    "df = data_preparation._primary_data_preprocessing(data_config, var_config,\n",
    "                                                  data_in_path='../data_in/')    "
   ]
  },
  {
   "cell_type": "code",
   "execution_count": 3,
   "metadata": {},
   "outputs": [
    {
     "data": {
      "text/html": [
       "<div>\n",
       "<style scoped>\n",
       "    .dataframe tbody tr th:only-of-type {\n",
       "        vertical-align: middle;\n",
       "    }\n",
       "\n",
       "    .dataframe tbody tr th {\n",
       "        vertical-align: top;\n",
       "    }\n",
       "\n",
       "    .dataframe thead th {\n",
       "        text-align: right;\n",
       "    }\n",
       "</style>\n",
       "<table border=\"1\" class=\"dataframe\">\n",
       "  <thead>\n",
       "    <tr style=\"text-align: right;\">\n",
       "      <th></th>\n",
       "      <th>Ta</th>\n",
       "      <th>DateTime</th>\n",
       "      <th>ACCESS_Ta_00</th>\n",
       "      <th>ACCESS_Ta_01</th>\n",
       "      <th>ACCESS_Ta_02</th>\n",
       "      <th>ACCESS_Ta_10</th>\n",
       "      <th>ACCESS_Ta_11</th>\n",
       "      <th>ACCESS_Ta_12</th>\n",
       "      <th>ACCESS_Ta_20</th>\n",
       "      <th>ACCESS_Ta_21</th>\n",
       "      <th>ACCESS_Ta_22</th>\n",
       "      <th>BIOS2_Ta</th>\n",
       "    </tr>\n",
       "  </thead>\n",
       "  <tbody>\n",
       "    <tr>\n",
       "      <th>0</th>\n",
       "      <td>13.065528</td>\n",
       "      <td>2010-08-01 00:00:00</td>\n",
       "      <td>NaN</td>\n",
       "      <td>NaN</td>\n",
       "      <td>NaN</td>\n",
       "      <td>NaN</td>\n",
       "      <td>NaN</td>\n",
       "      <td>NaN</td>\n",
       "      <td>NaN</td>\n",
       "      <td>NaN</td>\n",
       "      <td>NaN</td>\n",
       "      <td>12.453583</td>\n",
       "    </tr>\n",
       "    <tr>\n",
       "      <th>1</th>\n",
       "      <td>13.400839</td>\n",
       "      <td>2010-08-01 00:30:00</td>\n",
       "      <td>NaN</td>\n",
       "      <td>NaN</td>\n",
       "      <td>NaN</td>\n",
       "      <td>NaN</td>\n",
       "      <td>NaN</td>\n",
       "      <td>NaN</td>\n",
       "      <td>NaN</td>\n",
       "      <td>NaN</td>\n",
       "      <td>NaN</td>\n",
       "      <td>12.323608</td>\n",
       "    </tr>\n",
       "    <tr>\n",
       "      <th>2</th>\n",
       "      <td>10.763525</td>\n",
       "      <td>2010-08-01 01:00:00</td>\n",
       "      <td>NaN</td>\n",
       "      <td>NaN</td>\n",
       "      <td>NaN</td>\n",
       "      <td>NaN</td>\n",
       "      <td>NaN</td>\n",
       "      <td>NaN</td>\n",
       "      <td>NaN</td>\n",
       "      <td>NaN</td>\n",
       "      <td>NaN</td>\n",
       "      <td>12.196259</td>\n",
       "    </tr>\n",
       "    <tr>\n",
       "      <th>3</th>\n",
       "      <td>10.242102</td>\n",
       "      <td>2010-08-01 01:30:00</td>\n",
       "      <td>NaN</td>\n",
       "      <td>NaN</td>\n",
       "      <td>NaN</td>\n",
       "      <td>NaN</td>\n",
       "      <td>NaN</td>\n",
       "      <td>NaN</td>\n",
       "      <td>NaN</td>\n",
       "      <td>NaN</td>\n",
       "      <td>NaN</td>\n",
       "      <td>12.071503</td>\n",
       "    </tr>\n",
       "    <tr>\n",
       "      <th>4</th>\n",
       "      <td>10.151757</td>\n",
       "      <td>2010-08-01 02:00:00</td>\n",
       "      <td>NaN</td>\n",
       "      <td>NaN</td>\n",
       "      <td>NaN</td>\n",
       "      <td>NaN</td>\n",
       "      <td>NaN</td>\n",
       "      <td>NaN</td>\n",
       "      <td>NaN</td>\n",
       "      <td>NaN</td>\n",
       "      <td>NaN</td>\n",
       "      <td>11.949158</td>\n",
       "    </tr>\n",
       "  </tbody>\n",
       "</table>\n",
       "</div>"
      ],
      "text/plain": [
       "          Ta            DateTime  ACCESS_Ta_00  ACCESS_Ta_01  ACCESS_Ta_02  \\\n",
       "0  13.065528 2010-08-01 00:00:00           NaN           NaN           NaN   \n",
       "1  13.400839 2010-08-01 00:30:00           NaN           NaN           NaN   \n",
       "2  10.763525 2010-08-01 01:00:00           NaN           NaN           NaN   \n",
       "3  10.242102 2010-08-01 01:30:00           NaN           NaN           NaN   \n",
       "4  10.151757 2010-08-01 02:00:00           NaN           NaN           NaN   \n",
       "\n",
       "   ACCESS_Ta_10  ACCESS_Ta_11  ACCESS_Ta_12  ACCESS_Ta_20  ACCESS_Ta_21  \\\n",
       "0           NaN           NaN           NaN           NaN           NaN   \n",
       "1           NaN           NaN           NaN           NaN           NaN   \n",
       "2           NaN           NaN           NaN           NaN           NaN   \n",
       "3           NaN           NaN           NaN           NaN           NaN   \n",
       "4           NaN           NaN           NaN           NaN           NaN   \n",
       "\n",
       "   ACCESS_Ta_22   BIOS2_Ta  \n",
       "0           NaN  12.453583  \n",
       "1           NaN  12.323608  \n",
       "2           NaN  12.196259  \n",
       "3           NaN  12.071503  \n",
       "4           NaN  11.949158  "
      ]
     },
     "execution_count": 3,
     "metadata": {},
     "output_type": "execute_result"
    }
   ],
   "source": [
    "df.head()"
   ]
  },
  {
   "cell_type": "code",
   "execution_count": 4,
   "metadata": {},
   "outputs": [
    {
     "name": "stdout",
     "output_type": "stream",
     "text": [
      "<class 'pandas.core.frame.DataFrame'>\n",
      "Int64Index: 91552 entries, 0 to 91551\n",
      "Data columns (total 12 columns):\n",
      "Ta              86456 non-null float64\n",
      "DateTime        91552 non-null datetime64[ns]\n",
      "ACCESS_Ta_00    80989 non-null float64\n",
      "ACCESS_Ta_01    80989 non-null float64\n",
      "ACCESS_Ta_02    80989 non-null float64\n",
      "ACCESS_Ta_10    80989 non-null float64\n",
      "ACCESS_Ta_11    80989 non-null float64\n",
      "ACCESS_Ta_12    80989 non-null float64\n",
      "ACCESS_Ta_20    80989 non-null float64\n",
      "ACCESS_Ta_21    80989 non-null float64\n",
      "ACCESS_Ta_22    80989 non-null float64\n",
      "BIOS2_Ta        62785 non-null float64\n",
      "dtypes: datetime64[ns](1), float64(11)\n",
      "memory usage: 9.1 MB\n"
     ]
    }
   ],
   "source": [
    "df.info()"
   ]
  },
  {
   "cell_type": "code",
   "execution_count": 5,
   "metadata": {},
   "outputs": [
    {
     "name": "stdout",
     "output_type": "stream",
     "text": [
      "2013-01-01 00:00:00 2013-01-07 23:59:59\n"
     ]
    }
   ],
   "source": [
    "begindate = time_config['begin_date']\n",
    "enddate = time_config['end_date']\n",
    "\n",
    "print(begindate, enddate)"
   ]
  },
  {
   "cell_type": "code",
   "execution_count": 6,
   "metadata": {},
   "outputs": [],
   "source": [
    "dftrain = df[(df['DateTime']<begindate) & (df['DateTime']>='2011-01-01 00:00:00')]\n",
    "dffuture = df[(df['DateTime']>=begindate) & (df['DateTime']<enddate)]"
   ]
  },
  {
   "cell_type": "code",
   "execution_count": 7,
   "metadata": {},
   "outputs": [
    {
     "name": "stdout",
     "output_type": "stream",
     "text": [
      "<class 'pandas.core.frame.DataFrame'>\n",
      "Int64Index: 35088 entries, 7344 to 42431\n",
      "Data columns (total 12 columns):\n",
      "Ta              35076 non-null float64\n",
      "DateTime        35088 non-null datetime64[ns]\n",
      "ACCESS_Ta_00    32356 non-null float64\n",
      "ACCESS_Ta_01    32356 non-null float64\n",
      "ACCESS_Ta_02    32356 non-null float64\n",
      "ACCESS_Ta_10    32356 non-null float64\n",
      "ACCESS_Ta_11    32356 non-null float64\n",
      "ACCESS_Ta_12    32356 non-null float64\n",
      "ACCESS_Ta_20    32356 non-null float64\n",
      "ACCESS_Ta_21    32356 non-null float64\n",
      "ACCESS_Ta_22    32356 non-null float64\n",
      "BIOS2_Ta        35088 non-null float64\n",
      "dtypes: datetime64[ns](1), float64(11)\n",
      "memory usage: 3.5 MB\n"
     ]
    }
   ],
   "source": [
    "dftrain.info()"
   ]
  },
  {
   "cell_type": "code",
   "execution_count": 8,
   "metadata": {},
   "outputs": [],
   "source": [
    "dfprophet = pd.DataFrame({'ds':dftrain[var_config['tvar']], 'y':dftrain[var_config['yvar']]})"
   ]
  },
  {
   "cell_type": "code",
   "execution_count": 9,
   "metadata": {},
   "outputs": [
    {
     "name": "stderr",
     "output_type": "stream",
     "text": [
      "C:\\Users\\22372102\\AppData\\Local\\Continuum\\anaconda3\\lib\\site-packages\\fbprophet\\forecaster.py:880: FutureWarning: Series.nonzero() is deprecated and will be removed in a future version.Use Series.to_numpy().nonzero() instead\n",
      "  min_dt = dt.iloc[dt.nonzero()[0]].min()\n",
      "C:\\Users\\22372102\\AppData\\Local\\Continuum\\anaconda3\\lib\\site-packages\\pystan\\misc.py:399: FutureWarning: Conversion of the second argument of issubdtype from `float` to `np.floating` is deprecated. In future, it will be treated as `np.float64 == np.dtype(float).type`.\n",
      "  elif np.issubdtype(np.asarray(v).dtype, float):\n"
     ]
    },
    {
     "data": {
      "text/plain": [
       "<fbprophet.forecaster.Prophet at 0x21b91339748>"
      ]
     },
     "execution_count": 9,
     "metadata": {},
     "output_type": "execute_result"
    }
   ],
   "source": [
    "m = fbprophet.Prophet(yearly_seasonality=True)\n",
    "m.fit(dfprophet)"
   ]
  },
  {
   "cell_type": "code",
   "execution_count": 10,
   "metadata": {},
   "outputs": [
    {
     "data": {
      "text/html": [
       "<div>\n",
       "<style scoped>\n",
       "    .dataframe tbody tr th:only-of-type {\n",
       "        vertical-align: middle;\n",
       "    }\n",
       "\n",
       "    .dataframe tbody tr th {\n",
       "        vertical-align: top;\n",
       "    }\n",
       "\n",
       "    .dataframe thead th {\n",
       "        text-align: right;\n",
       "    }\n",
       "</style>\n",
       "<table border=\"1\" class=\"dataframe\">\n",
       "  <thead>\n",
       "    <tr style=\"text-align: right;\">\n",
       "      <th></th>\n",
       "      <th>ds</th>\n",
       "    </tr>\n",
       "  </thead>\n",
       "  <tbody>\n",
       "    <tr>\n",
       "      <th>42763</th>\n",
       "      <td>2013-01-07 21:30:00</td>\n",
       "    </tr>\n",
       "    <tr>\n",
       "      <th>42764</th>\n",
       "      <td>2013-01-07 22:00:00</td>\n",
       "    </tr>\n",
       "    <tr>\n",
       "      <th>42765</th>\n",
       "      <td>2013-01-07 22:30:00</td>\n",
       "    </tr>\n",
       "    <tr>\n",
       "      <th>42766</th>\n",
       "      <td>2013-01-07 23:00:00</td>\n",
       "    </tr>\n",
       "    <tr>\n",
       "      <th>42767</th>\n",
       "      <td>2013-01-07 23:30:00</td>\n",
       "    </tr>\n",
       "  </tbody>\n",
       "</table>\n",
       "</div>"
      ],
      "text/plain": [
       "                       ds\n",
       "42763 2013-01-07 21:30:00\n",
       "42764 2013-01-07 22:00:00\n",
       "42765 2013-01-07 22:30:00\n",
       "42766 2013-01-07 23:00:00\n",
       "42767 2013-01-07 23:30:00"
      ]
     },
     "execution_count": 10,
     "metadata": {},
     "output_type": "execute_result"
    }
   ],
   "source": [
    "future = pd.DataFrame({'ds':dffuture[var_config['tvar']]})\n",
    "future.tail()"
   ]
  },
  {
   "cell_type": "code",
   "execution_count": 11,
   "metadata": {},
   "outputs": [],
   "source": [
    "forecast = m.predict(future)\n",
    "predicted = forecast[['ds', 'yhat', 'yhat_lower', 'yhat_upper']]"
   ]
  },
  {
   "cell_type": "code",
   "execution_count": 12,
   "metadata": {},
   "outputs": [],
   "source": [
    "#fig1 = m.plot(forecast)"
   ]
  },
  {
   "cell_type": "code",
   "execution_count": 13,
   "metadata": {},
   "outputs": [
    {
     "data": {
      "text/html": [
       "<div>\n",
       "<style scoped>\n",
       "    .dataframe tbody tr th:only-of-type {\n",
       "        vertical-align: middle;\n",
       "    }\n",
       "\n",
       "    .dataframe tbody tr th {\n",
       "        vertical-align: top;\n",
       "    }\n",
       "\n",
       "    .dataframe thead th {\n",
       "        text-align: right;\n",
       "    }\n",
       "</style>\n",
       "<table border=\"1\" class=\"dataframe\">\n",
       "  <thead>\n",
       "    <tr style=\"text-align: right;\">\n",
       "      <th></th>\n",
       "      <th>ds</th>\n",
       "      <th>yhat</th>\n",
       "      <th>yhat_lower</th>\n",
       "      <th>yhat_upper</th>\n",
       "    </tr>\n",
       "  </thead>\n",
       "  <tbody>\n",
       "    <tr>\n",
       "      <th>0</th>\n",
       "      <td>2013-01-01 00:00:00</td>\n",
       "      <td>21.553820</td>\n",
       "      <td>16.258473</td>\n",
       "      <td>26.782573</td>\n",
       "    </tr>\n",
       "    <tr>\n",
       "      <th>1</th>\n",
       "      <td>2013-01-01 00:30:00</td>\n",
       "      <td>21.167989</td>\n",
       "      <td>15.917128</td>\n",
       "      <td>26.250863</td>\n",
       "    </tr>\n",
       "    <tr>\n",
       "      <th>2</th>\n",
       "      <td>2013-01-01 01:00:00</td>\n",
       "      <td>20.803247</td>\n",
       "      <td>15.200262</td>\n",
       "      <td>26.168094</td>\n",
       "    </tr>\n",
       "    <tr>\n",
       "      <th>3</th>\n",
       "      <td>2013-01-01 01:30:00</td>\n",
       "      <td>20.463844</td>\n",
       "      <td>14.903469</td>\n",
       "      <td>25.730338</td>\n",
       "    </tr>\n",
       "    <tr>\n",
       "      <th>4</th>\n",
       "      <td>2013-01-01 02:00:00</td>\n",
       "      <td>20.146198</td>\n",
       "      <td>15.045010</td>\n",
       "      <td>25.577634</td>\n",
       "    </tr>\n",
       "  </tbody>\n",
       "</table>\n",
       "</div>"
      ],
      "text/plain": [
       "                   ds       yhat  yhat_lower  yhat_upper\n",
       "0 2013-01-01 00:00:00  21.553820   16.258473   26.782573\n",
       "1 2013-01-01 00:30:00  21.167989   15.917128   26.250863\n",
       "2 2013-01-01 01:00:00  20.803247   15.200262   26.168094\n",
       "3 2013-01-01 01:30:00  20.463844   14.903469   25.730338\n",
       "4 2013-01-01 02:00:00  20.146198   15.045010   25.577634"
      ]
     },
     "execution_count": 13,
     "metadata": {},
     "output_type": "execute_result"
    }
   ],
   "source": [
    "predicted.head()"
   ]
  },
  {
   "cell_type": "code",
   "execution_count": 14,
   "metadata": {},
   "outputs": [
    {
     "data": {
      "text/html": [
       "<div>\n",
       "<style scoped>\n",
       "    .dataframe tbody tr th:only-of-type {\n",
       "        vertical-align: middle;\n",
       "    }\n",
       "\n",
       "    .dataframe tbody tr th {\n",
       "        vertical-align: top;\n",
       "    }\n",
       "\n",
       "    .dataframe thead th {\n",
       "        text-align: right;\n",
       "    }\n",
       "</style>\n",
       "<table border=\"1\" class=\"dataframe\">\n",
       "  <thead>\n",
       "    <tr style=\"text-align: right;\">\n",
       "      <th></th>\n",
       "      <th>Ta</th>\n",
       "      <th>DateTime</th>\n",
       "      <th>ACCESS_Ta_00</th>\n",
       "      <th>ACCESS_Ta_01</th>\n",
       "      <th>ACCESS_Ta_02</th>\n",
       "      <th>ACCESS_Ta_10</th>\n",
       "      <th>ACCESS_Ta_11</th>\n",
       "      <th>ACCESS_Ta_12</th>\n",
       "      <th>ACCESS_Ta_20</th>\n",
       "      <th>ACCESS_Ta_21</th>\n",
       "      <th>ACCESS_Ta_22</th>\n",
       "      <th>BIOS2_Ta</th>\n",
       "    </tr>\n",
       "  </thead>\n",
       "  <tbody>\n",
       "    <tr>\n",
       "      <th>42432</th>\n",
       "      <td>22.37896</td>\n",
       "      <td>2013-01-01 00:00:00</td>\n",
       "      <td>21.818756</td>\n",
       "      <td>22.029694</td>\n",
       "      <td>22.084381</td>\n",
       "      <td>21.435944</td>\n",
       "      <td>21.560944</td>\n",
       "      <td>21.623444</td>\n",
       "      <td>21.037506</td>\n",
       "      <td>21.146881</td>\n",
       "      <td>21.185944</td>\n",
       "      <td>17.898865</td>\n",
       "    </tr>\n",
       "    <tr>\n",
       "      <th>42433</th>\n",
       "      <td>20.58474</td>\n",
       "      <td>2013-01-01 00:30:00</td>\n",
       "      <td>20.943756</td>\n",
       "      <td>21.193756</td>\n",
       "      <td>21.178131</td>\n",
       "      <td>20.600006</td>\n",
       "      <td>20.709381</td>\n",
       "      <td>20.709381</td>\n",
       "      <td>20.225006</td>\n",
       "      <td>20.318756</td>\n",
       "      <td>20.271881</td>\n",
       "      <td>17.440918</td>\n",
       "    </tr>\n",
       "    <tr>\n",
       "      <th>42434</th>\n",
       "      <td>18.69939</td>\n",
       "      <td>2013-01-01 01:00:00</td>\n",
       "      <td>20.287506</td>\n",
       "      <td>20.545319</td>\n",
       "      <td>20.576569</td>\n",
       "      <td>20.060944</td>\n",
       "      <td>20.217194</td>\n",
       "      <td>20.232819</td>\n",
       "      <td>19.756256</td>\n",
       "      <td>19.881256</td>\n",
       "      <td>19.865631</td>\n",
       "      <td>17.000885</td>\n",
       "    </tr>\n",
       "    <tr>\n",
       "      <th>42435</th>\n",
       "      <td>18.60999</td>\n",
       "      <td>2013-01-01 01:30:00</td>\n",
       "      <td>19.631256</td>\n",
       "      <td>19.896881</td>\n",
       "      <td>19.975006</td>\n",
       "      <td>19.521881</td>\n",
       "      <td>19.725006</td>\n",
       "      <td>19.756256</td>\n",
       "      <td>19.287506</td>\n",
       "      <td>19.443756</td>\n",
       "      <td>19.459381</td>\n",
       "      <td>16.582977</td>\n",
       "    </tr>\n",
       "    <tr>\n",
       "      <th>42436</th>\n",
       "      <td>18.44123</td>\n",
       "      <td>2013-01-01 02:00:00</td>\n",
       "      <td>18.998444</td>\n",
       "      <td>19.334381</td>\n",
       "      <td>19.498444</td>\n",
       "      <td>18.810944</td>\n",
       "      <td>19.053131</td>\n",
       "      <td>19.146881</td>\n",
       "      <td>18.545319</td>\n",
       "      <td>18.732819</td>\n",
       "      <td>18.764069</td>\n",
       "      <td>16.181274</td>\n",
       "    </tr>\n",
       "  </tbody>\n",
       "</table>\n",
       "</div>"
      ],
      "text/plain": [
       "             Ta            DateTime  ACCESS_Ta_00  ACCESS_Ta_01  ACCESS_Ta_02  \\\n",
       "42432  22.37896 2013-01-01 00:00:00     21.818756     22.029694     22.084381   \n",
       "42433  20.58474 2013-01-01 00:30:00     20.943756     21.193756     21.178131   \n",
       "42434  18.69939 2013-01-01 01:00:00     20.287506     20.545319     20.576569   \n",
       "42435  18.60999 2013-01-01 01:30:00     19.631256     19.896881     19.975006   \n",
       "42436  18.44123 2013-01-01 02:00:00     18.998444     19.334381     19.498444   \n",
       "\n",
       "       ACCESS_Ta_10  ACCESS_Ta_11  ACCESS_Ta_12  ACCESS_Ta_20  ACCESS_Ta_21  \\\n",
       "42432     21.435944     21.560944     21.623444     21.037506     21.146881   \n",
       "42433     20.600006     20.709381     20.709381     20.225006     20.318756   \n",
       "42434     20.060944     20.217194     20.232819     19.756256     19.881256   \n",
       "42435     19.521881     19.725006     19.756256     19.287506     19.443756   \n",
       "42436     18.810944     19.053131     19.146881     18.545319     18.732819   \n",
       "\n",
       "       ACCESS_Ta_22   BIOS2_Ta  \n",
       "42432     21.185944  17.898865  \n",
       "42433     20.271881  17.440918  \n",
       "42434     19.865631  17.000885  \n",
       "42435     19.459381  16.582977  \n",
       "42436     18.764069  16.181274  "
      ]
     },
     "execution_count": 14,
     "metadata": {},
     "output_type": "execute_result"
    }
   ],
   "source": [
    "dffuture.head()"
   ]
  },
  {
   "cell_type": "code",
   "execution_count": 15,
   "metadata": {},
   "outputs": [],
   "source": [
    "ypredicted = predicted['yhat']\n",
    "yexpected = dffuture[var_config['yvar']]"
   ]
  },
  {
   "cell_type": "code",
   "execution_count": 16,
   "metadata": {},
   "outputs": [],
   "source": [
    "import matplotlib.pyplot as plt\n",
    "%matplotlib inline"
   ]
  },
  {
   "cell_type": "code",
   "execution_count": 17,
   "metadata": {},
   "outputs": [
    {
     "data": {
      "text/plain": [
       "[<matplotlib.lines.Line2D at 0x21baf57e0f0>]"
      ]
     },
     "execution_count": 17,
     "metadata": {},
     "output_type": "execute_result"
    },
    {
     "data": {
      "image/png": "[encoded data removed]",
      "text/plain": [
       "<Figure size 432x288 with 1 Axes>"
      ]
     },
     "metadata": {},
     "output_type": "display_data"
    }
   ],
   "source": [
    "plt.plot(ypredicted, yexpected, '.')"
   ]
  }
 ],
 "metadata": {
  "kernelspec": {
   "display_name": "Python 3",
   "language": "python",
   "name": "python3"
  },
  "language_info": {
   "codemirror_mode": {
    "name": "ipython",
    "version": 3
   },
   "file_extension": ".py",
   "mimetype": "text/x-python",
   "name": "python",
   "nbconvert_exporter": "python",
   "pygments_lexer": "ipython3",
   "version": "3.6.4"
  }
 },
 "nbformat": 4,
 "nbformat_minor": 2
}
