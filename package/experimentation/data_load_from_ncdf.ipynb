{
 "cells": [
  {
   "cell_type": "code",
   "execution_count": 11,
   "metadata": {},
   "outputs": [],
   "source": [
    "import pandas as pd\n",
    "import sys\n",
    "\n",
    "sys.path.insert(0, '/Users/22372102/Desktop/Imputation/Package/src/imputation/')\n",
    "import nc_read"
   ]
  },
  {
   "cell_type": "code",
   "execution_count": 12,
   "metadata": {},
   "outputs": [],
   "source": [
    " fn = '/Users/22372102/Desktop/Imputation/Package/data_in/Calperum_ACCESS.nc'\n",
    "ds = nc_read.nc_read_series(fn, checktimestep=True, fixtimestepmethod=\"\")"
   ]
  },
  {
   "cell_type": "code",
   "execution_count": 15,
   "metadata": {},
   "outputs": [
    {
     "data": {
      "text/plain": [
       "<nc_read.DataStructure at 0x235f98ef0f0>"
      ]
     },
     "execution_count": 15,
     "metadata": {},
     "output_type": "execute_result"
    }
   ],
   "source": [
    "ds"
   ]
  },
  {
   "cell_type": "code",
   "execution_count": 16,
   "metadata": {},
   "outputs": [
    {
     "data": {
      "text/plain": [
       "dict"
      ]
     },
     "execution_count": 16,
     "metadata": {},
     "output_type": "execute_result"
    }
   ],
   "source": [
    "type(ds.series)"
   ]
  },
  {
   "cell_type": "code",
   "execution_count": 17,
   "metadata": {},
   "outputs": [
    {
     "data": {
      "text/plain": [
       "dict_keys(['time', 'Day', 'Ddd', 'Hdh', 'Hour', 'Minute', 'Month', 'Second', 'Year', 'xlDateTime', 'Ah_00', 'Ah_01', 'Ah_02', 'Ah_10', 'Ah_11', 'Ah_12', 'Ah_20', 'Ah_21', 'Ah_22', 'Fa_00', 'Fa_01', 'Fa_02', 'Fa_10', 'Fa_11', 'Fa_12', 'Fa_20', 'Fa_21', 'Fa_22', 'Fe_00', 'Fe_01', 'Fe_02', 'Fe_10', 'Fe_11', 'Fe_12', 'Fe_20', 'Fe_21', 'Fe_22', 'Fg_00', 'Fg_01', 'Fg_02', 'Fg_10', 'Fg_11', 'Fg_12', 'Fg_20', 'Fg_21', 'Fg_22', 'Fh_00', 'Fh_01', 'Fh_02', 'Fh_10', 'Fh_11', 'Fh_12', 'Fh_20', 'Fh_21', 'Fh_22', 'Fld_00', 'Fld_01', 'Fld_02', 'Fld_10', 'Fld_11', 'Fld_12', 'Fld_20', 'Fld_21', 'Fld_22', 'Flu_00', 'Flu_01', 'Flu_02', 'Flu_10', 'Flu_11', 'Flu_12', 'Flu_20', 'Flu_21', 'Flu_22', 'Fn_00', 'Fn_01', 'Fn_02', 'Fn_10', 'Fn_11', 'Fn_12', 'Fn_20', 'Fn_21', 'Fn_22', 'Fn_lw_00', 'Fn_lw_01', 'Fn_lw_02', 'Fn_lw_10', 'Fn_lw_11', 'Fn_lw_12', 'Fn_lw_20', 'Fn_lw_21', 'Fn_lw_22', 'Fn_sw_00', 'Fn_sw_01', 'Fn_sw_02', 'Fn_sw_10', 'Fn_sw_11', 'Fn_sw_12', 'Fn_sw_20', 'Fn_sw_21', 'Fn_sw_22', 'Fsd_00', 'Fsd_01', 'Fsd_02', 'Fsd_10', 'Fsd_11', 'Fsd_12', 'Fsd_20', 'Fsd_21', 'Fsd_22', 'Fsd_syn', 'Fsu_00', 'Fsu_01', 'Fsu_02', 'Fsu_10', 'Fsu_11', 'Fsu_12', 'Fsu_20', 'Fsu_21', 'Fsu_22', 'Habl_00', 'Habl_01', 'Habl_02', 'Habl_10', 'Habl_11', 'Habl_12', 'Habl_20', 'Habl_21', 'Habl_22', 'Hr_UTC', 'Precip_00', 'Precip_01', 'Precip_02', 'Precip_10', 'Precip_11', 'Precip_12', 'Precip_20', 'Precip_21', 'Precip_22', 'RH_00', 'RH_01', 'RH_02', 'RH_10', 'RH_11', 'RH_12', 'RH_20', 'RH_21', 'RH_22', 'Sws_00', 'Sws_01', 'Sws_02', 'Sws_10', 'Sws_11', 'Sws_12', 'Sws_20', 'Sws_21', 'Sws_22', 'Ta_00', 'Ta_01', 'Ta_02', 'Ta_10', 'Ta_11', 'Ta_12', 'Ta_20', 'Ta_21', 'Ta_22', 'Ts_00', 'Ts_01', 'Ts_02', 'Ts_10', 'Ts_11', 'Ts_12', 'Ts_20', 'Ts_21', 'Ts_22', 'Wd_00', 'Wd_01', 'Wd_02', 'Wd_10', 'Wd_11', 'Wd_12', 'Wd_20', 'Wd_21', 'Wd_22', 'Ws_00', 'Ws_01', 'Ws_02', 'Ws_10', 'Ws_11', 'Ws_12', 'Ws_20', 'Ws_21', 'Ws_22', 'ps_00', 'ps_01', 'ps_02', 'ps_10', 'ps_11', 'ps_12', 'ps_20', 'ps_21', 'ps_22', 'q_00', 'q_01', 'q_02', 'q_10', 'q_11', 'q_12', 'q_20', 'q_21', 'q_22', 'solar_altitude', 'u_00', 'u_01', 'u_02', 'u_10', 'u_11', 'u_12', 'u_20', 'u_21', 'u_22', 'ustar_00', 'ustar_01', 'ustar_02', 'ustar_10', 'ustar_11', 'ustar_12', 'ustar_20', 'ustar_21', 'ustar_22', 'v_00', 'v_01', 'v_02', 'v_10', 'v_11', 'v_12', 'v_20', 'v_21', 'v_22', 'DateTime'])"
      ]
     },
     "execution_count": 17,
     "metadata": {},
     "output_type": "execute_result"
    }
   ],
   "source": [
    "ds.series.keys()"
   ]
  },
  {
   "cell_type": "code",
   "execution_count": 18,
   "metadata": {},
   "outputs": [
    {
     "data": {
      "text/plain": [
       "dict_keys(['Data', 'Flag', 'Attr'])"
      ]
     },
     "execution_count": 18,
     "metadata": {},
     "output_type": "execute_result"
    }
   ],
   "source": [
    "ds.series['Ah_00'].keys()"
   ]
  },
  {
   "cell_type": "code",
   "execution_count": null,
   "metadata": {},
   "outputs": [],
   "source": [
    "ds.series['Ah_00']['Data']"
   ]
  },
  {
   "cell_type": "code",
   "execution_count": null,
   "metadata": {},
   "outputs": [],
   "source": []
  }
 ],
 "metadata": {
  "kernelspec": {
   "display_name": "Python 3",
   "language": "python",
   "name": "python3"
  },
  "language_info": {
   "codemirror_mode": {
    "name": "ipython",
    "version": 3
   },
   "file_extension": ".py",
   "mimetype": "text/x-python",
   "name": "python",
   "nbconvert_exporter": "python",
   "pygments_lexer": "ipython3",
   "version": "3.6.4"
  }
 },
 "nbformat": 4,
 "nbformat_minor": 2
}
