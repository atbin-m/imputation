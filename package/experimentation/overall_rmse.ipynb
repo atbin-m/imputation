{
 "cells": [
  {
   "cell_type": "code",
   "execution_count": 1,
   "metadata": {},
   "outputs": [],
   "source": [
    "import pandas as pd\n",
    "import matplotlib.pyplot as plt\n",
    "import datetime\n",
    "import sys\n",
    "sys.path.insert(0, '/home/atbin/workd/imputation/package/src/imputation/configs/')\n",
    "sys.path.insert(0, '/home/atbin/workd/imputation/package/src/imputation/')\n",
    "import utils\n",
    "import numpy as np\n",
    "import flux_config as conf\n",
    "\n",
    "begin_date, end_date = conf.timestamps['begin_date'], conf.timestamps['end_date']\n",
    "\n",
    "begin_date = datetime.datetime.strptime(begin_date, \"%Y-%m-%d %H:%M:%S\")\n",
    "end_date = datetime.datetime.strptime(end_date, \"%Y-%m-%d %H:%M:%S\")"
   ]
  },
  {
   "cell_type": "code",
   "execution_count": 13,
   "metadata": {},
   "outputs": [],
   "source": [
    "df = pd.read_csv('../data_out/Calperum_L3_imputed.csv', parse_dates=['DateTime'])\n",
    "\n",
    "df = df.loc[(df['DateTime']<=end_date) & (df['DateTime']>=begin_date)]"
   ]
  },
  {
   "cell_type": "code",
   "execution_count": 14,
   "metadata": {},
   "outputs": [
    {
     "name": "stdout",
     "output_type": "stream",
     "text": [
      "<class 'pandas.core.frame.DataFrame'>\n",
      "Int64Index: 17520 entries, 42432 to 59951\n",
      "Data columns (total 23 columns):\n",
      "Ah                               17166 non-null float64\n",
      "DateTime                         17520 non-null datetime64[ns]\n",
      "ACCESS_Ah_00                     17520 non-null float64\n",
      "ACCESS_Ah_01                     17520 non-null float64\n",
      "ACCESS_Ah_02                     17520 non-null float64\n",
      "ACCESS_Ah_10                     17520 non-null float64\n",
      "ACCESS_Ah_11                     17520 non-null float64\n",
      "ACCESS_Ah_12                     17520 non-null float64\n",
      "ACCESS_Ah_20                     17520 non-null float64\n",
      "ACCESS_Ah_21                     17520 non-null float64\n",
      "ACCESS_Ah_22                     17520 non-null float64\n",
      "BIOS2_Ah                         17520 non-null float64\n",
      "day                              17520 non-null int64\n",
      "month                            17520 non-null int64\n",
      "week                             17520 non-null int64\n",
      "hour                             17520 non-null int64\n",
      "minutes                          17520 non-null int64\n",
      "dayofyear                        17520 non-null int64\n",
      "Ah_predicted_Classical Linear    17520 non-null float64\n",
      "Ah_imputed_Classical Linear      17520 non-null float64\n",
      "Ah_Calperum                      17166 non-null float64\n",
      "Ah_predicted_Random Forest       17520 non-null float64\n",
      "Ah_imputed_Random Forest         17520 non-null float64\n",
      "dtypes: datetime64[ns](1), float64(16), int64(6)\n",
      "memory usage: 3.2 MB\n"
     ]
    }
   ],
   "source": [
    "df.info()"
   ]
  },
  {
   "cell_type": "code",
   "execution_count": 15,
   "metadata": {},
   "outputs": [
    {
     "name": "stdout",
     "output_type": "stream",
     "text": [
      "RMSE: 1.583, R^2: 0.551, MBE: -0.336\n"
     ]
    }
   ],
   "source": [
    "ytest_not_nan = df['Ah_Calperum'].values[~df['Ah_Calperum'].isna()]\n",
    "ytest_predicted_not_nan = df['Ah_predicted_Classical Linear'][~df['Ah_Calperum'].isna()]\n",
    "\n",
    "rmse, r2, mbe = utils.diagnostic_stats(ytest_not_nan, ytest_predicted_not_nan)\n",
    "std = ytest_predicted_not_nan.std()\n",
    "corr = np.corrcoef(ytest_not_nan, ytest_predicted_not_nan)[0,1]"
   ]
  },
  {
   "cell_type": "code",
   "execution_count": 16,
   "metadata": {},
   "outputs": [
    {
     "name": "stdout",
     "output_type": "stream",
     "text": [
      "2.1374303177999305 0.7425291486902518\n"
     ]
    }
   ],
   "source": [
    "print(std, corr)"
   ]
  },
  {
   "cell_type": "code",
   "execution_count": 17,
   "metadata": {},
   "outputs": [],
   "source": [
    "def taylor_diagram(self):\n",
    "    summary_df = self._read_summary_file()\n",
    "\n",
    "    ttest_min_set = summary_df['Test_begin'].unique()\n",
    "\n",
    "    for t in ttest_min_set:\n",
    "        a_summary_df = summary_df[summary_df['Test_begin']==t]\n",
    "        self._make_save_taylor_diagram(a_summary_df, t)        \n",
    "\n",
    "def _make_save_taylor_diagram(self, a_summary_df, ttest_min):\n",
    "\n",
    "    sample = a_summary_df[['std', 'Corr.', 'Solver']].values\n",
    "    refstd = 0.75*sample[:,0].min()\n",
    "    srange = (0, 1.5*sample[:,0].astype(float).max()/refstd)\n",
    "\n",
    "    ttest_min = pd.to_datetime(str(ttest_min)) \n",
    "    ttest_min =  ttest_min.strftime(\"%Y-%m-%d\")\n",
    "\n",
    "    title = self.primary_st + '_' +  ttest_min\n",
    "    fn = '../../plot/' + title\n",
    "\n",
    "    plot_utils.taylor_diagram(sample,  refstd, srange, title)    \n",
    "\n",
    "    if self.conf.result['save_plots'] == True:\n",
    "        plt.savefig(fn + '.jpeg')\n",
    "        plt.close()\n",
    "\n",
    "    pass\n"
   ]
  },
  {
   "cell_type": "code",
   "execution_count": 18,
   "metadata": {},
   "outputs": [],
   "source": [
    "df = pd.read_csv('../data_out/Calperum_L3__summary_stats.csv', parse_dates=['Test_begin', 'Test_end'])\n"
   ]
  },
  {
   "cell_type": "code",
   "execution_count": 19,
   "metadata": {},
   "outputs": [
    {
     "data": {
      "text/html": [
       "<div>\n",
       "<style scoped>\n",
       "    .dataframe tbody tr th:only-of-type {\n",
       "        vertical-align: middle;\n",
       "    }\n",
       "\n",
       "    .dataframe tbody tr th {\n",
       "        vertical-align: top;\n",
       "    }\n",
       "\n",
       "    .dataframe thead th {\n",
       "        text-align: right;\n",
       "    }\n",
       "</style>\n",
       "<table border=\"1\" class=\"dataframe\">\n",
       "  <thead>\n",
       "    <tr style=\"text-align: right;\">\n",
       "      <th></th>\n",
       "      <th>Best_params</th>\n",
       "      <th>Corr.</th>\n",
       "      <th>MBE</th>\n",
       "      <th>R2</th>\n",
       "      <th>RMSE</th>\n",
       "      <th>Solver</th>\n",
       "      <th>Test_begin</th>\n",
       "      <th>Test_end</th>\n",
       "      <th>std</th>\n",
       "    </tr>\n",
       "  </thead>\n",
       "  <tbody>\n",
       "    <tr>\n",
       "      <th>0</th>\n",
       "      <td>{'fit_intercept': True, 'normalize': True}</td>\n",
       "      <td>0.822465</td>\n",
       "      <td>0.218771</td>\n",
       "      <td>0.676449</td>\n",
       "      <td>1.435748</td>\n",
       "      <td>Classical Linear</td>\n",
       "      <td>2013-01-01</td>\n",
       "      <td>2013-04-10</td>\n",
       "      <td>2.415209</td>\n",
       "    </tr>\n",
       "    <tr>\n",
       "      <th>1</th>\n",
       "      <td>{'max_depth': 5, 'n_estimators': 500}</td>\n",
       "      <td>0.774517</td>\n",
       "      <td>0.054970</td>\n",
       "      <td>0.599876</td>\n",
       "      <td>1.580009</td>\n",
       "      <td>Random Forest</td>\n",
       "      <td>2013-01-01</td>\n",
       "      <td>2013-04-10</td>\n",
       "      <td>2.360851</td>\n",
       "    </tr>\n",
       "    <tr>\n",
       "      <th>2</th>\n",
       "      <td>{'fit_intercept': True, 'normalize': True}</td>\n",
       "      <td>0.857045</td>\n",
       "      <td>0.180523</td>\n",
       "      <td>0.734526</td>\n",
       "      <td>0.980899</td>\n",
       "      <td>Classical Linear</td>\n",
       "      <td>2013-04-11</td>\n",
       "      <td>2013-07-19</td>\n",
       "      <td>1.366481</td>\n",
       "    </tr>\n",
       "    <tr>\n",
       "      <th>3</th>\n",
       "      <td>{'max_depth': 5, 'n_estimators': 1000}</td>\n",
       "      <td>0.771122</td>\n",
       "      <td>0.700023</td>\n",
       "      <td>0.594629</td>\n",
       "      <td>1.382125</td>\n",
       "      <td>Random Forest</td>\n",
       "      <td>2013-04-11</td>\n",
       "      <td>2013-07-19</td>\n",
       "      <td>1.160102</td>\n",
       "    </tr>\n",
       "    <tr>\n",
       "      <th>4</th>\n",
       "      <td>{'max_depth': 5, 'n_estimators': 500}</td>\n",
       "      <td>0.816733</td>\n",
       "      <td>-0.284962</td>\n",
       "      <td>0.667052</td>\n",
       "      <td>1.207553</td>\n",
       "      <td>Random Forest</td>\n",
       "      <td>2013-07-20</td>\n",
       "      <td>2013-12-31</td>\n",
       "      <td>1.469360</td>\n",
       "    </tr>\n",
       "    <tr>\n",
       "      <th>5</th>\n",
       "      <td>{'fit_intercept': True, 'normalize': True}</td>\n",
       "      <td>0.715475</td>\n",
       "      <td>-0.987536</td>\n",
       "      <td>0.511905</td>\n",
       "      <td>1.924651</td>\n",
       "      <td>Classical Linear</td>\n",
       "      <td>2013-07-20</td>\n",
       "      <td>2013-12-31</td>\n",
       "      <td>2.307671</td>\n",
       "    </tr>\n",
       "  </tbody>\n",
       "</table>\n",
       "</div>"
      ],
      "text/plain": [
       "                                  Best_params     Corr.       MBE        R2  \\\n",
       "0  {'fit_intercept': True, 'normalize': True}  0.822465  0.218771  0.676449   \n",
       "1       {'max_depth': 5, 'n_estimators': 500}  0.774517  0.054970  0.599876   \n",
       "2  {'fit_intercept': True, 'normalize': True}  0.857045  0.180523  0.734526   \n",
       "3      {'max_depth': 5, 'n_estimators': 1000}  0.771122  0.700023  0.594629   \n",
       "4       {'max_depth': 5, 'n_estimators': 500}  0.816733 -0.284962  0.667052   \n",
       "5  {'fit_intercept': True, 'normalize': True}  0.715475 -0.987536  0.511905   \n",
       "\n",
       "       RMSE            Solver Test_begin   Test_end       std  \n",
       "0  1.435748  Classical Linear 2013-01-01 2013-04-10  2.415209  \n",
       "1  1.580009     Random Forest 2013-01-01 2013-04-10  2.360851  \n",
       "2  0.980899  Classical Linear 2013-04-11 2013-07-19  1.366481  \n",
       "3  1.382125     Random Forest 2013-04-11 2013-07-19  1.160102  \n",
       "4  1.207553     Random Forest 2013-07-20 2013-12-31  1.469360  \n",
       "5  1.924651  Classical Linear 2013-07-20 2013-12-31  2.307671  "
      ]
     },
     "execution_count": 19,
     "metadata": {},
     "output_type": "execute_result"
    }
   ],
   "source": [
    "df"
   ]
  },
  {
   "cell_type": "code",
   "execution_count": null,
   "metadata": {},
   "outputs": [],
   "source": []
  }
 ],
 "metadata": {
  "kernelspec": {
   "display_name": "Python 3",
   "language": "python",
   "name": "python3"
  },
  "language_info": {
   "codemirror_mode": {
    "name": "ipython",
    "version": 3
   },
   "file_extension": ".py",
   "mimetype": "text/x-python",
   "name": "python",
   "nbconvert_exporter": "python",
   "pygments_lexer": "ipython3",
   "version": "3.7.1"
  }
 },
 "nbformat": 4,
 "nbformat_minor": 2
}
