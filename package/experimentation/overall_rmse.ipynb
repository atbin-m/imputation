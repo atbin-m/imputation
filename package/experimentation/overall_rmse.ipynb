{
 "cells": [
  {
   "cell_type": "code",
   "execution_count": 24,
   "metadata": {},
   "outputs": [],
   "source": [
    "import pandas as pd\n",
    "import matplotlib.pyplot as plt\n",
    "import datetime\n",
    "import sys\n",
    "sys.path.insert(0, '/home/atbin/workd/imputation/package/src/imputation/configs/')\n",
    "sys.path.insert(0, '/home/atbin/workd/imputation/package/src/imputation/')\n",
    "import utils\n",
    "import numpy as np\n",
    "import flux_config as conf\n",
    "\n",
    "begin_date, end_date = conf.timestamps['begin_date'], conf.timestamps['end_date']\n",
    "\n",
    "begin_date = datetime.datetime.strptime(begin_date, \"%Y-%m-%d %H:%M:%S\")\n",
    "end_date = datetime.datetime.strptime(end_date, \"%Y-%m-%d %H:%M:%S\")"
   ]
  },
  {
   "cell_type": "code",
   "execution_count": 25,
   "metadata": {},
   "outputs": [],
   "source": [
    "df = pd.read_csv('../data_out/Calperum_L3_imputed.csv', parse_dates=['DateTime'])\n",
    "\n",
    "df = df.loc[(df['DateTime']<=end_date) & (df['DateTime']>=begin_date)]"
   ]
  },
  {
   "cell_type": "code",
   "execution_count": 26,
   "metadata": {},
   "outputs": [
    {
     "name": "stdout",
     "output_type": "stream",
     "text": [
      "<class 'pandas.core.frame.DataFrame'>\n",
      "Int64Index: 17520 entries, 42432 to 59951\n",
      "Data columns (total 21 columns):\n",
      "Ah                               17166 non-null float64\n",
      "DateTime                         17520 non-null datetime64[ns]\n",
      "ACCESS_Ah_00                     17520 non-null float64\n",
      "ACCESS_Ah_01                     17520 non-null float64\n",
      "ACCESS_Ah_02                     17520 non-null float64\n",
      "ACCESS_Ah_10                     17520 non-null float64\n",
      "ACCESS_Ah_11                     17520 non-null float64\n",
      "ACCESS_Ah_12                     17520 non-null float64\n",
      "ACCESS_Ah_20                     17520 non-null float64\n",
      "ACCESS_Ah_21                     17520 non-null float64\n",
      "ACCESS_Ah_22                     17520 non-null float64\n",
      "BIOS2_Ah                         17520 non-null float64\n",
      "day                              17520 non-null int64\n",
      "month                            17520 non-null int64\n",
      "week                             17520 non-null int64\n",
      "hour                             17520 non-null int64\n",
      "minutes                          17520 non-null int64\n",
      "dayofyear                        17520 non-null int64\n",
      "Ah_predicted_Classical Linear    17520 non-null float64\n",
      "Ah_imputed_Classical Linear      17520 non-null float64\n",
      "Ah_Calperum                      17166 non-null float64\n",
      "dtypes: datetime64[ns](1), float64(14), int64(6)\n",
      "memory usage: 2.9 MB\n"
     ]
    }
   ],
   "source": [
    "df.info()"
   ]
  },
  {
   "cell_type": "code",
   "execution_count": 27,
   "metadata": {},
   "outputs": [
    {
     "name": "stdout",
     "output_type": "stream",
     "text": [
      "RMSE: 1.191, R^2: 0.738, MBE: -0.299\n"
     ]
    }
   ],
   "source": [
    "ytest_not_nan = df['Ah_Calperum'].values[~df['Ah_Calperum'].isna()]\n",
    "ytest_predicted_not_nan = df['Ah_predicted_Classical Linear'][~df['Ah_Calperum'].isna()]\n",
    "\n",
    "rmse, r2, mbe = utils.diagnostic_stats(ytest_not_nan, ytest_predicted_not_nan)\n",
    "std = ytest_predicted_not_nan.std()\n",
    "corr = np.corrcoef(ytest_not_nan, ytest_predicted_not_nan)[0,1]"
   ]
  },
  {
   "cell_type": "code",
   "execution_count": 29,
   "metadata": {},
   "outputs": [
    {
     "name": "stdout",
     "output_type": "stream",
     "text": [
      "2.168164175668284 0.8590153827299365\n"
     ]
    }
   ],
   "source": [
    "print(std, corr)"
   ]
  },
  {
   "cell_type": "code",
   "execution_count": null,
   "metadata": {},
   "outputs": [],
   "source": [
    "def taylor_diagram(self):\n",
    "    summary_df = self._read_summary_file()\n",
    "\n",
    "    ttest_min_set = summary_df['Test_begin'].unique()\n",
    "\n",
    "    for t in ttest_min_set:\n",
    "        a_summary_df = summary_df[summary_df['Test_begin']==t]\n",
    "        self._make_save_taylor_diagram(a_summary_df, t)        \n",
    "\n",
    "def _make_save_taylor_diagram(self, a_summary_df, ttest_min):\n",
    "\n",
    "    sample = a_summary_df[['std', 'Corr.', 'Solver']].values\n",
    "    refstd = 0.75*sample[:,0].min()\n",
    "    srange = (0, 1.5*sample[:,0].astype(float).max()/refstd)\n",
    "\n",
    "    ttest_min = pd.to_datetime(str(ttest_min)) \n",
    "    ttest_min =  ttest_min.strftime(\"%Y-%m-%d\")\n",
    "\n",
    "    title = self.primary_st + '_' +  ttest_min\n",
    "    fn = '../../plot/' + title\n",
    "\n",
    "    plot_utils.taylor_diagram(sample,  refstd, srange, title)    \n",
    "\n",
    "    if self.conf.result['save_plots'] == True:\n",
    "        plt.savefig(fn + '.jpeg')\n",
    "        plt.close()\n",
    "\n",
    "    pass\n"
   ]
  }
 ],
 "metadata": {
  "kernelspec": {
   "display_name": "Python 3",
   "language": "python",
   "name": "python3"
  },
  "language_info": {
   "codemirror_mode": {
    "name": "ipython",
    "version": 3
   },
   "file_extension": ".py",
   "mimetype": "text/x-python",
   "name": "python",
   "nbconvert_exporter": "python",
   "pygments_lexer": "ipython3",
   "version": "3.7.1"
  }
 },
 "nbformat": 4,
 "nbformat_minor": 2
}
